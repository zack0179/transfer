{
 "cells": [
  {
   "cell_type": "markdown",
   "metadata": {},
   "source": [
    "# transversity"
   ]
  },
  {
   "cell_type": "code",
   "execution_count": 1,
   "metadata": {},
   "outputs": [],
   "source": [
    "import sys,os\n",
    "os.chdir('../../')\n",
    "import itertools as it\n",
    "import numpy as np\n",
    "import pandas as pd\n",
    "from scipy.special import beta\n",
    "from scipy.integrate import quad\n",
    "import pylab as py\n",
    "from  matplotlib import rc\n",
    "from matplotlib.colors import LogNorm\n",
    "rc('font',**{'family':'sans-serif','sans-serif':['Helvetica']})\n",
    "rc('text',usetex=True)\n",
    "import matplotlib\n",
    "matplotlib.rcParams['text.latex.preamble']=[r\"\\usepackage{amsmath}\"]\n",
    "%matplotlib inline\n",
    "from ipywidgets import interact, interactive, fixed, interact_manual\n",
    "import ipywidgets as widgets\n",
    "from tools.tools import save,load,lprint,load_config\n",
    "from tools.bar import BAR\n",
    "from resman import RESMAN\n",
    "import nest"
   ]
  },
  {
   "cell_type": "markdown",
   "metadata": {},
   "source": [
    "## setup"
   ]
  },
  {
   "cell_type": "code",
   "execution_count": 2,
   "metadata": {},
   "outputs": [
    {
     "name": "stdout",
     "output_type": "stream",
     "text": [
      "loading sidis data sets 3013"
     ]
    }
   ],
   "source": [
    "conf=load_config('inputs/transversity/transversity-0.py')\n",
    "resman=RESMAN(conf);\n",
    "parman=resman.conf['parman']"
   ]
  },
  {
   "cell_type": "markdown",
   "metadata": {},
   "source": [
    "## data vs theory"
   ]
  },
  {
   "cell_type": "code",
   "execution_count": 3,
   "metadata": {},
   "outputs": [],
   "source": [
    "resman.get_residuals(parman.par);"
   ]
  },
  {
   "cell_type": "code",
   "execution_count": 4,
   "metadata": {},
   "outputs": [
    {
     "data": {
      "text/html": [
       "<div>\n",
       "<style>\n",
       "    .dataframe thead tr:only-child th {\n",
       "        text-align: right;\n",
       "    }\n",
       "\n",
       "    .dataframe thead th {\n",
       "        text-align: left;\n",
       "    }\n",
       "\n",
       "    .dataframe tbody tr th {\n",
       "        vertical-align: top;\n",
       "    }\n",
       "</style>\n",
       "<table border=\"1\" class=\"dataframe\">\n",
       "  <thead>\n",
       "    <tr style=\"text-align: right;\">\n",
       "      <th></th>\n",
       "      <th>chi2</th>\n",
       "      <th>col</th>\n",
       "      <th>dep</th>\n",
       "      <th>had</th>\n",
       "      <th>npts</th>\n",
       "      <th>tar</th>\n",
       "    </tr>\n",
       "  </thead>\n",
       "  <tbody>\n",
       "    <tr>\n",
       "      <th>13</th>\n",
       "      <td>0.978160</td>\n",
       "      <td>COMPASS</td>\n",
       "      <td>pt</td>\n",
       "      <td>pi-</td>\n",
       "      <td>6</td>\n",
       "      <td>proton</td>\n",
       "    </tr>\n",
       "    <tr>\n",
       "      <th>7</th>\n",
       "      <td>1.081803</td>\n",
       "      <td>HERMES</td>\n",
       "      <td>z</td>\n",
       "      <td>pi-</td>\n",
       "      <td>6</td>\n",
       "      <td>proton</td>\n",
       "    </tr>\n",
       "    <tr>\n",
       "      <th>6</th>\n",
       "      <td>1.508767</td>\n",
       "      <td>HERMES</td>\n",
       "      <td>pt</td>\n",
       "      <td>pi-</td>\n",
       "      <td>5</td>\n",
       "      <td>proton</td>\n",
       "    </tr>\n",
       "    <tr>\n",
       "      <th>2</th>\n",
       "      <td>1.961596</td>\n",
       "      <td>COMPASS</td>\n",
       "      <td>z</td>\n",
       "      <td>pi+</td>\n",
       "      <td>6</td>\n",
       "      <td>deuteron</td>\n",
       "    </tr>\n",
       "    <tr>\n",
       "      <th>0</th>\n",
       "      <td>2.422923</td>\n",
       "      <td>COMPASS</td>\n",
       "      <td>x</td>\n",
       "      <td>pi+</td>\n",
       "      <td>6</td>\n",
       "      <td>deuteron</td>\n",
       "    </tr>\n",
       "    <tr>\n",
       "      <th>10</th>\n",
       "      <td>2.598195</td>\n",
       "      <td>HERMES</td>\n",
       "      <td>pt</td>\n",
       "      <td>pi+</td>\n",
       "      <td>5</td>\n",
       "      <td>proton</td>\n",
       "    </tr>\n",
       "    <tr>\n",
       "      <th>11</th>\n",
       "      <td>2.647528</td>\n",
       "      <td>COMPASS</td>\n",
       "      <td>pt</td>\n",
       "      <td>pi+</td>\n",
       "      <td>6</td>\n",
       "      <td>proton</td>\n",
       "    </tr>\n",
       "    <tr>\n",
       "      <th>8</th>\n",
       "      <td>2.813636</td>\n",
       "      <td>COMPASS</td>\n",
       "      <td>z</td>\n",
       "      <td>pi+</td>\n",
       "      <td>6</td>\n",
       "      <td>proton</td>\n",
       "    </tr>\n",
       "    <tr>\n",
       "      <th>3</th>\n",
       "      <td>3.206348</td>\n",
       "      <td>COMPASS</td>\n",
       "      <td>x</td>\n",
       "      <td>pi-</td>\n",
       "      <td>6</td>\n",
       "      <td>deuteron</td>\n",
       "    </tr>\n",
       "    <tr>\n",
       "      <th>16</th>\n",
       "      <td>3.231723</td>\n",
       "      <td>COMPASS</td>\n",
       "      <td>x</td>\n",
       "      <td>pi-</td>\n",
       "      <td>7</td>\n",
       "      <td>proton</td>\n",
       "    </tr>\n",
       "    <tr>\n",
       "      <th>14</th>\n",
       "      <td>3.296043</td>\n",
       "      <td>HERMES</td>\n",
       "      <td>z</td>\n",
       "      <td>pi+</td>\n",
       "      <td>6</td>\n",
       "      <td>proton</td>\n",
       "    </tr>\n",
       "    <tr>\n",
       "      <th>1</th>\n",
       "      <td>4.110875</td>\n",
       "      <td>COMPASS</td>\n",
       "      <td>pT</td>\n",
       "      <td>pi+</td>\n",
       "      <td>6</td>\n",
       "      <td>deuteron</td>\n",
       "    </tr>\n",
       "    <tr>\n",
       "      <th>17</th>\n",
       "      <td>5.199377</td>\n",
       "      <td>COMPASS</td>\n",
       "      <td>z</td>\n",
       "      <td>pi-</td>\n",
       "      <td>6</td>\n",
       "      <td>proton</td>\n",
       "    </tr>\n",
       "    <tr>\n",
       "      <th>4</th>\n",
       "      <td>5.820169</td>\n",
       "      <td>COMPASS</td>\n",
       "      <td>pT</td>\n",
       "      <td>pi-</td>\n",
       "      <td>6</td>\n",
       "      <td>deuteron</td>\n",
       "    </tr>\n",
       "    <tr>\n",
       "      <th>5</th>\n",
       "      <td>5.864428</td>\n",
       "      <td>COMPASS</td>\n",
       "      <td>z</td>\n",
       "      <td>pi-</td>\n",
       "      <td>6</td>\n",
       "      <td>deuteron</td>\n",
       "    </tr>\n",
       "    <tr>\n",
       "      <th>15</th>\n",
       "      <td>6.977323</td>\n",
       "      <td>HERMES</td>\n",
       "      <td>x</td>\n",
       "      <td>pi-</td>\n",
       "      <td>5</td>\n",
       "      <td>proton</td>\n",
       "    </tr>\n",
       "    <tr>\n",
       "      <th>12</th>\n",
       "      <td>7.144634</td>\n",
       "      <td>HERMES</td>\n",
       "      <td>x</td>\n",
       "      <td>pi+</td>\n",
       "      <td>5</td>\n",
       "      <td>proton</td>\n",
       "    </tr>\n",
       "    <tr>\n",
       "      <th>9</th>\n",
       "      <td>8.438382</td>\n",
       "      <td>COMPASS</td>\n",
       "      <td>x</td>\n",
       "      <td>pi+</td>\n",
       "      <td>7</td>\n",
       "      <td>proton</td>\n",
       "    </tr>\n",
       "  </tbody>\n",
       "</table>\n",
       "</div>"
      ],
      "text/plain": [
       "        chi2      col dep  had  npts       tar\n",
       "13  0.978160  COMPASS  pt  pi-     6    proton\n",
       "7   1.081803   HERMES   z  pi-     6    proton\n",
       "6   1.508767   HERMES  pt  pi-     5    proton\n",
       "2   1.961596  COMPASS   z  pi+     6  deuteron\n",
       "0   2.422923  COMPASS   x  pi+     6  deuteron\n",
       "10  2.598195   HERMES  pt  pi+     5    proton\n",
       "11  2.647528  COMPASS  pt  pi+     6    proton\n",
       "8   2.813636  COMPASS   z  pi+     6    proton\n",
       "3   3.206348  COMPASS   x  pi-     6  deuteron\n",
       "16  3.231723  COMPASS   x  pi-     7    proton\n",
       "14  3.296043   HERMES   z  pi+     6    proton\n",
       "1   4.110875  COMPASS  pT  pi+     6  deuteron\n",
       "17  5.199377  COMPASS   z  pi-     6    proton\n",
       "4   5.820169  COMPASS  pT  pi-     6  deuteron\n",
       "5   5.864428  COMPASS   z  pi-     6  deuteron\n",
       "15  6.977323   HERMES   x  pi-     5    proton\n",
       "12  7.144634   HERMES   x  pi+     5    proton\n",
       "9   8.438382  COMPASS   x  pi+     7    proton"
      ]
     },
     "execution_count": 4,
     "metadata": {},
     "output_type": "execute_result"
    }
   ],
   "source": [
    "D={}\n",
    "for k in ['had','tar','dep','col','chi2','npts']: D[k]=[]\n",
    "for k in conf['datasets']['sidis']['xlsx']:\n",
    "    D['tar'].append(resman.sidisres.tabs[k]['target'][0])\n",
    "    D['dep'].append(resman.sidisres.tabs[k]['dependence'][0])\n",
    "    D['col'].append(resman.sidisres.tabs[k]['col'][0].upper().strip())\n",
    "    D['had'].append(resman.sidisres.tabs[k]['hadron'][0])\n",
    "    D['npts'].append(resman.sidisres.tabs[k]['residuals'].size)\n",
    "    D['chi2'].append(np.sum(resman.sidisres.tabs[k]['residuals']**2))\n",
    "D=pd.DataFrame(D)\n",
    "D.sort_values(by=['chi2'])"
   ]
  },
  {
   "cell_type": "code",
   "execution_count": 5,
   "metadata": {},
   "outputs": [
    {
     "name": "stdout",
     "output_type": "stream",
     "text": [
      "N= 106\n",
      "chi2= 69.3019109463\n"
     ]
    }
   ],
   "source": [
    "print 'N=',np.sum(D.npts)\n",
    "print 'chi2=',np.sum(D.chi2)"
   ]
  },
  {
   "cell_type": "markdown",
   "metadata": {},
   "source": [
    "## AUT plot"
   ]
  },
  {
   "cell_type": "code",
   "execution_count": 6,
   "metadata": {
    "collapsed": true
   },
   "outputs": [],
   "source": [
    "def get_key(K,tar,had,col,tabs,dep):\n",
    "    kk=None\n",
    "    for k in K:\n",
    "        d=tabs[k]\n",
    "        #print '-->',d['target'].values[0],d['hadron'].values[0],d['col'].values[0].upper()\n",
    "        if tar==d['target'][0] \\\n",
    "            and had==d['hadron'][0] \\\n",
    "            and dep==d['dependence'][0] \\\n",
    "            and col==d['col'][0].upper().strip(): kk=k\n",
    "    return kk\n",
    "\n",
    "tabs=resman.sidisres.tabs\n",
    "def plot(idx,dep,tar,had,col,legend=False):\n",
    "    #print tar,had,col\n",
    "    k=get_key(tabs.keys(),tar,had,col,tabs,dep)\n",
    "    d1=resman.sidisres.tabs[k]\n",
    "    ax=py.subplot(nrows,ncols,idx)\n",
    "    dep=d1['dependence'][0]\n",
    "    #obs=d['obs'].values[0]\n",
    "    tar=d1['target'][0]\n",
    "    had=d1['hadron'][0]\n",
    "    if dep=='pt': dep='pT'\n",
    "    sign=1\n",
    "    if col=='COMPASS': sign=-1\n",
    "    shift=0\n",
    "    if '-' in had:shift=0.005\n",
    "    if '-' in had: e=ax.errorbar(d1[dep]+shift,sign*d1['value'],d1['alpha'],fmt='kv')\n",
    "    if '+' in had: e=ax.errorbar(d1[dep]+shift,sign*d1['value'],d1['alpha'],fmt='k^')\n",
    "    #b1=ax.fill_between(d1[dep],sign*(d1['thy']-d1['dthy']),sign*(d1['thy']+d1['dthy']),color='Yellow',alpha=0.5)\n",
    "    l1,=ax.plot(d1[dep],sign*d1['thy'],'k--')\n",
    "    if dep=='x': ax.set_xlabel(r'$\\boldsymbol{x}$',size=20)\n",
    "    if dep=='z': ax.set_xlabel(r'$\\boldsymbol{z}$',size=20)\n",
    "    if dep=='pT': ax.set_xlabel(r'$\\boldsymbol{p_T}$',size=20)\n",
    "    ax.xaxis.set_label_coords(0.95, -0.02)\n",
    "    if dep=='x':\n",
    "        ax.set_xlim(0,0.3)\n",
    "        ax.set_xticks([0.1,0.2])\n",
    "    if dep=='z':\n",
    "        ax.set_xlim(0.2,0.65)\n",
    "        ax.set_xticks([0.3,0.4,0.5])\n",
    "    if dep=='pT':\n",
    "        ax.set_xlim(0.1,0.9)\n",
    "        ax.set_xticks([0.2,0.4,0.6])\n",
    "\n",
    "    #if dep=='pT':ax.set_xlim(0.2,0.65)\n",
    "    #ax.tick_params(axis='both', which='major', labelsize=16)\n",
    "    #ax.tick_params(axis='both', which='major', labelsize=20)\n",
    "    #ax.set_ylabel(obs)\n",
    "    #ax.set_title('%s %s %s'%(tar,had.replace('+','').replace('-',''),col))\n",
    "    #ax.set_xlim(0,0.3)\n",
    "    #ax.set_ylim(-.1,.1)\n",
    "    #ax.set_xticklabels([])\n",
    "    ax.text(0.1,0.1,col,transform=ax.transAxes,size=10)\n",
    "    if legend: return ax,l1,e\n",
    "    else: return ax\n"
   ]
  },
  {
   "cell_type": "code",
   "execution_count": 8,
   "metadata": {},
   "outputs": [
    {
     "data": {
      "image/png": "[encoded data removed]",
      "text/plain": [
       "<matplotlib.figure.Figure at 0x7f3d249f6950>"
      ]
     },
     "metadata": {},
     "output_type": "display_data"
    }
   ],
   "source": [
    "nrows,ncols=6,3\n",
    "py.figure(figsize=(ncols*3,nrows*2))\n",
    "\n",
    "ax=plot(1,'x','proton','pi+','HERMES')\n",
    "ax=plot(1,'x','proton','pi-','HERMES')\n",
    "ax.set_ylabel(r'$A_{UT}^{C}(p,\\pi)$',size=20)\n",
    "ax=plot(2,'z','proton','pi+','HERMES')\n",
    "ax=plot(2,'z','proton','pi-','HERMES')\n",
    "ax=plot(3,'pt','proton','pi+','HERMES')\n",
    "ax=plot(3,'pt','proton','pi-','HERMES')\n",
    "\n",
    "ax=plot(4,'x','proton','pi+','COMPASS')\n",
    "ax=plot(4,'x','proton','pi-','COMPASS')\n",
    "ax.set_ylabel(r'$A_{UT}^{C}(p,\\pi)$',size=20)\n",
    "ax=plot(5,'z','proton','pi+','COMPASS')\n",
    "ax=plot(5,'z','proton','pi-','COMPASS')\n",
    "ax=plot(6,'pt','proton','pi+','COMPASS')\n",
    "ax=plot(6,'pt','proton','pi-','COMPASS')\n",
    "\n",
    "ax=plot(7,'x','deuteron','pi+','COMPASS')\n",
    "ax=plot(7,'x','deuteron','pi-','COMPASS')\n",
    "ax.set_ylabel(r'$A_{UT}^{C}(d,\\pi)$',size=20)\n",
    "ax=plot(8,'z','deuteron','pi+','COMPASS')\n",
    "ax=plot(8,'z','deuteron','pi-','COMPASS')\n",
    "ax=plot(9,'pT','deuteron','pi+','COMPASS')\n",
    "ax=plot(9,'pT','deuteron','pi-','COMPASS')\n",
    "\n",
    "# ax=plot(10,'x','proton','k+','HERMES')\n",
    "# ax=plot(10,'x','proton','k-','HERMES')\n",
    "# ax.set_ylabel(r'$A_{UT}^{C}(p,K)$',size=20)\n",
    "# ax=plot(11,'z','proton','k+','HERMES')\n",
    "# ax=plot(11,'z','proton','k-','HERMES')\n",
    "# ax=plot(12,'pt','proton','k+','HERMES')\n",
    "# ax=plot(12,'pt','proton','k-','HERMES')\n",
    "\n",
    "# ax=plot(13,'x','proton','k+','COMPASS')\n",
    "# ax=plot(13,'x','proton','k-','COMPASS')\n",
    "# ax.set_ylabel(r'$A_{UT}^{C}(p,K)$',size=20)\n",
    "# ax=plot(14,'z','proton','k+','COMPASS')\n",
    "# ax=plot(14,'z','proton','k-','COMPASS')\n",
    "# ax=plot(15,'pt','proton','k+','COMPASS')\n",
    "# ax=plot(15,'pt','proton','k-','COMPASS')\n",
    "\n",
    "\n",
    "# ax=plot(16,'x','deuteron','k+','COMPASS')\n",
    "# ax=plot(16,'x','deuteron','k-','COMPASS')\n",
    "# ax.set_ylabel(r'$A_{UT}^{C}(d,K)$',size=20)\n",
    "# ax,b1,ep=plot(17,'z','deuteron','k+','COMPASS',legend=True)\n",
    "# ax,b1,em=plot(17,'z','deuteron','k-','COMPASS',legend=True)\n",
    "# ax=plot(18,'pT','deuteron','k+','COMPASS')\n",
    "# ax=plot(18,'pT','deuteron','k-','COMPASS')\n",
    "# ax.legend([b1,ep,em],[r'$\\rm SIDIS$',r'$(\\pi^+,K^+)$',r'$(\\pi^-,K^-)$']\\\n",
    "#           ,loc='upper center', bbox_to_anchor=(0.5, -0.3)\\\n",
    "#           ,fancybox=True, shadow=False, ncol=4,fontsize=17)\n",
    "\n",
    "py.subplots_adjust(wspace=0.3, hspace=0.2,left=0.11, bottom=0.1, right=0.95, top=0.95)\n",
    "#py.savefig('gallery/dvt.pdf')"
   ]
  },
  {
   "cell_type": "markdown",
   "metadata": {},
   "source": [
    "## PDFs and FFs"
   ]
  },
  {
   "cell_type": "code",
   "execution_count": 9,
   "metadata": {
    "collapsed": true
   },
   "outputs": [],
   "source": [
    "def calc(func,msg):\n",
    "    f =func()\n",
    "    f=np.einsum('if->fi',f)\n",
    "    return {'f':f}"
   ]
  },
  {
   "cell_type": "markdown",
   "metadata": {},
   "source": [
    "## Transversity"
   ]
  },
  {
   "cell_type": "code",
   "execution_count": 10,
   "metadata": {},
   "outputs": [],
   "source": [
    "X1=10**np.linspace(-3,-1)\n",
    "X2=np.linspace(0.101,0.999)\n",
    "X=np.append(X1,X2)\n",
    "h1=calc(lambda : [resman.conf['transversity'].get_C(x,1) for x in X],'calc h')"
   ]
  },
  {
   "cell_type": "code",
   "execution_count": 11,
   "metadata": {},
   "outputs": [],
   "source": [
    "Z1=10**np.linspace(-3,-1)\n",
    "Z2=np.linspace(0.101,0.999)\n",
    "Z=np.append(Z1,Z2)\n",
    "Hpi1=calc(lambda : [resman.conf['collins'].get_C(z,1,'pi+') for z in Z],'calc H(pi+)')"
   ]
  },
  {
   "cell_type": "code",
   "execution_count": 12,
   "metadata": {},
   "outputs": [],
   "source": [
    "Z1=10**np.linspace(-3,-1)\n",
    "Z2=np.linspace(0.101,0.999)\n",
    "Z=np.append(Z1,Z2)\n",
    "Hk1=calc(lambda : [resman.conf['collins'].get_C(z,1,'k+') for z in Z],'calc H(k+)')"
   ]
  },
  {
   "cell_type": "code",
   "execution_count": 13,
   "metadata": {
    "collapsed": true
   },
   "outputs": [],
   "source": [
    "def get_kinematics():\n",
    "    tabs=resman.sidisres.tabs\n",
    "    X,Z,Q2,pT=[],[],[],[]\n",
    "    for k in tabs:X=np.append(tabs[k]['x'],X)\n",
    "    for k in tabs:Z=np.append(tabs[k]['z'],Z)\n",
    "    for k in tabs:Q2=np.append(tabs[k]['Q2'],Q2)\n",
    "    for k in tabs:pT=np.append(tabs[k]['pT'],pT)\n",
    "    return {'X':X,'Z':Z,'Q2':Q2,'pT':pT}\n",
    "kin=get_kinematics()"
   ]
  },
  {
   "cell_type": "code",
   "execution_count": 14,
   "metadata": {
    "scrolled": false
   },
   "outputs": [
    {
     "data": {
      "image/png": "[encoded data removed]",
      "text/plain": [
       "<matplotlib.figure.Figure at 0x7f3d24bb6190>"
      ]
     },
     "metadata": {},
     "output_type": "display_data"
    }
   ],
   "source": [
    "nrows,ncols=3,3\n",
    "py.figure(figsize=(ncols*4,nrows*2.5))\n",
    "\n",
    "def plot(idx,flav,legend=False,ylims=None):\n",
    "    ax=py.subplot(nrows,ncols,idx)\n",
    "    #band1=ax.fill_between(X,(h1['f'][flav]-h1['df'][flav]),(h1['f'][flav]+h1['df'][flav]),color='Yellow',alpha=0.5)\n",
    "    line1,=ax.plot(X,h1['f'][flav],'k--')\n",
    "    #band2=ax.fill_between(X,(h2['f'][flav]-h2['df'][flav]),(h2['f'][flav]+h2['df'][flav]),color='r',alpha=0.5)\n",
    "    #line2,=ax.plot(X,h2['f'][flav],'r-')\n",
    "    if ylims!=None: ax.set_ylim(ylims[0],ylims[1])\n",
    "    ax.set_xlabel(r'$\\boldsymbol{x}$',size=30)\n",
    "    ax.xaxis.set_label_coords(0.95, -0.02)\n",
    "    ax.tick_params(axis='both', which='major', labelsize=16)\n",
    "    ax.set_xticks([0,.2,.4,.6,.8])\n",
    "    xmin=np.amin(kin['X'])\n",
    "    xmax=np.amax(kin['X'])\n",
    "    ymin, ymax = ax.get_ylim()\n",
    "    dy=0.1*(ymax-ymin)\n",
    "    ax.plot([xmin,xmax],[ymin+dy,ymin+dy],'g-',lw=5)\n",
    "    return ax\n",
    " \n",
    "def plotpi(idx,flav,ylims=None):\n",
    "    ax=py.subplot(nrows,ncols,idx)\n",
    "    #band1=ax.fill_between(Z,(Hpi1['f'][flav]-Hpi1['df'][flav]),(Hpi1['f'][flav]+Hpi1['df'][flav]),color='Yellow',alpha=0.5)\n",
    "    line1,=ax.plot(Z,Hpi1['f'][flav],'k--')\n",
    "    #band2=ax.fill_between(Z,(Hpi2['f'][flav]-Hpi2['df'][flav]),(Hpi2['f'][flav]+Hpi2['df'][flav]),color='r',alpha=0.5)\n",
    "    #line2,=ax.plot(Z,Hpi2['f'][flav],'r-')\n",
    "    if ylims!=None: ax.set_ylim(ylims[0],ylims[1])\n",
    "    ax.set_xlabel(r'$\\boldsymbol{z}$',size=30)\n",
    "    ax.xaxis.set_label_coords(0.95, -0.02)\n",
    "    ax.tick_params(axis='both', which='major', labelsize=16)\n",
    "    ax.set_xticks([0,.2,.4,.6,.8])\n",
    "    zmin=np.amin(kin['Z'])\n",
    "    zmax=np.amax(kin['Z'])\n",
    "    ymin, ymax = ax.get_ylim()\n",
    "    dy=0.1*(ymax-ymin)\n",
    "    line,=ax.plot([zmin,zmax],[ymin+dy,ymin+dy],'g-',lw=5)\n",
    "    return ax,line1,line\n",
    "\n",
    "def plotk(idx,flav,ylims=None):\n",
    "    ax=py.subplot(nrows,ncols,idx)\n",
    "    #band1=ax.fill_between(Z,(Hk1['f'][flav]-Hk1['df'][flav]),(Hk1['f'][flav]+Hk1['df'][flav]),color='Yellow',alpha=0.5)\n",
    "    line1,=ax.plot(Z,Hk1['f'][flav],'k--')\n",
    "    #band2=ax.fill_between(Z,(Hk2['f'][flav]-Hk2['df'][flav]),(Hk2['f'][flav]+Hk2['df'][flav]),color='r',alpha=0.5)\n",
    "    #line2,=ax.plot(Z,Hk2['f'][flav],'r-')\n",
    "    if ylims!=None: ax.set_ylim(ylims[0],ylims[1])\n",
    "    ax.set_xlabel(r'$\\boldsymbol{z}$',size=30)\n",
    "    ax.xaxis.set_label_coords(0.95, -0.02)\n",
    "    ax.tick_params(axis='both', which='major', labelsize=16)\n",
    "    ax.set_xticks([0,.2,.4,.6,.8])\n",
    "    zmin=np.amin(kin['Z'])\n",
    "    zmax=np.amax(kin['Z'])\n",
    "    ymin, ymax = ax.get_ylim()\n",
    "    dy=0.1*(ymax-ymin)\n",
    "    line,=ax.plot([zmin,zmax],[ymin+dy,ymin+dy],'g-',lw=5)\n",
    "    return ax\n",
    "\n",
    "ax=plot(1,1)\n",
    "ax.set_ylabel(r'$\\boldsymbol{h_1^q(x)}$',size=20)\n",
    "ax.text(0.8,0.1,r'$\\boldsymbol{u}$',size=40,transform=ax.transAxes)\n",
    "\n",
    "ax=plot(2,3)\n",
    "ax.text(0.8,0.1,r'$\\boldsymbol{d}$',size=40,transform=ax.transAxes)\n",
    "\n",
    "ax=plot(3,5)\n",
    "ax.text(0.8,0.1,r'$\\boldsymbol{s}$',size=40,transform=ax.transAxes)\n",
    "\n",
    "ax,b1,l=plotpi(4,1,[0,0.5])\n",
    "ax.set_ylabel(r'$\\boldsymbol{H_1^{\\perp~\\pi/q}(x)}$',size=20)\n",
    "ax.text(0.8,0.1,r'$\\boldsymbol{u}$',size=40,transform=ax.transAxes)\n",
    "\n",
    "ax,b1,l=plotpi(5,3,[-3,3])\n",
    "ax.legend([b1,l],[r'$\\rm SIDIS$',r'$\\rm SIDIS+Lattice$',r'$\\rm SIDIS~coverage$']\\\n",
    "    ,fontsize=20,frameon=False,loc=1,bbox_to_anchor=(2.2, 1))\n",
    "ax.text(0.8,0.1,r'$\\boldsymbol{d}$',size=40,transform=ax.transAxes)\n",
    "\n",
    "ax=plotk(7,1,[-0.01,0.5])\n",
    "ax.set_ylabel(r'$\\boldsymbol{H_1^{\\perp~K/q}(x)}$',size=20)\n",
    "ax.text(0.8,0.7,r'$\\boldsymbol{u}$',size=40,transform=ax.transAxes)\n",
    "\n",
    "ax=plotk(8,3,[-0.1,0.1])\n",
    "ax.text(0.4,0.7,r'$\\boldsymbol{d}$',size=40,transform=ax.transAxes)\n",
    "\n",
    "ax=plotk(9,6,[-1,1])\n",
    "ax.text(0.8,0.7,r'$\\boldsymbol{\\bar{s}}$',size=40,transform=ax.transAxes)\n",
    "\n",
    "py.subplots_adjust(wspace=0.2, hspace=0.3,left=0.1, bottom=0.1, right=0.95, top=0.95)\n",
    "#py.tight_layout()\n",
    "#py.savefig('gallery/transversity-collins.pdf')"
   ]
  },
  {
   "cell_type": "code",
   "execution_count": null,
   "metadata": {
    "collapsed": true
   },
   "outputs": [],
   "source": []
  },
  {
   "cell_type": "code",
   "execution_count": null,
   "metadata": {
    "collapsed": true
   },
   "outputs": [],
   "source": []
  },
  {
   "cell_type": "code",
   "execution_count": null,
   "metadata": {
    "collapsed": true
   },
   "outputs": [],
   "source": []
  }
 ],
 "metadata": {
  "kernelspec": {
   "display_name": "Python 2",
   "language": "python",
   "name": "python2"
  },
  "language_info": {
   "codemirror_mode": {
    "name": "ipython",
    "version": 2
   },
   "file_extension": ".py",
   "mimetype": "text/x-python",
   "name": "python",
   "nbconvert_exporter": "python",
   "pygments_lexer": "ipython2",
   "version": "2.7.13"
  }
 },
 "nbformat": 4,
 "nbformat_minor": 2
}
