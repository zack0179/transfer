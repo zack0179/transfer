{
 "cells": [
  {
   "cell_type": "markdown",
   "metadata": {},
   "source": [
    "# how to combine runs"
   ]
  },
  {
   "cell_type": "code",
   "execution_count": 1,
   "metadata": {
    "collapsed": true
   },
   "outputs": [],
   "source": [
    "import sys,os\n",
    "os.chdir('../../')\n",
    "import itertools as it\n",
    "import numpy as np\n",
    "import pandas as pd\n",
    "from scipy.special import beta\n",
    "from scipy.integrate import quad\n",
    "import pylab as py\n",
    "from  matplotlib import rc\n",
    "from matplotlib.colors import LogNorm\n",
    "rc('font',**{'family':'sans-serif','sans-serif':['Helvetica']})\n",
    "rc('text',usetex=True)\n",
    "import matplotlib\n",
    "matplotlib.rcParams['text.latex.preamble']=[r\"\\usepackage{amsmath}\"]\n",
    "%matplotlib inline\n",
    "from ipywidgets import interact, interactive, fixed, interact_manual\n",
    "import ipywidgets as widgets\n",
    "from tools.tools import save,load,lprint,load_config\n",
    "from tools.bar import BAR\n",
    "from resman import RESMAN\n",
    "import nest"
   ]
  },
  {
   "cell_type": "markdown",
   "metadata": {},
   "source": [
    "## setup"
   ]
  },
  {
   "cell_type": "code",
   "execution_count": 2,
   "metadata": {
    "collapsed": true
   },
   "outputs": [],
   "source": [
    "path='outputs/transversity/transversity-0/'"
   ]
  },
  {
   "cell_type": "code",
   "execution_count": 3,
   "metadata": {},
   "outputs": [
    {
     "name": "stdout",
     "output_type": "stream",
     "text": [
      "loading sidis data sets 3013"
     ]
    }
   ],
   "source": [
    "conf=load_config('%s/transversity-0.py'%path)\n",
    "resman=RESMAN(conf);\n",
    "parman=resman.conf['parman']"
   ]
  },
  {
   "cell_type": "code",
   "execution_count": 4,
   "metadata": {
    "collapsed": true
   },
   "outputs": [],
   "source": [
    "NEST=[]\n",
    "for f in os.listdir(path):\n",
    "    if 'nest' in f:\n",
    "        fname='%s/%s'%(path,f)\n",
    "        NEST.append(load(fname))"
   ]
  },
  {
   "cell_type": "code",
   "execution_count": 5,
   "metadata": {},
   "outputs": [
    {
     "data": {
      "text/plain": [
       "['active nll', 'samples', 'logz', 'l', 'weights', 'active p', 'x']"
      ]
     },
     "execution_count": 5,
     "metadata": {},
     "output_type": "execute_result"
    }
   ],
   "source": [
    "NEST[0].keys()"
   ]
  },
  {
   "cell_type": "code",
   "execution_count": 36,
   "metadata": {},
   "outputs": [
    {
     "name": "stdout",
     "output_type": "stream",
     "text": [
      "48028\n",
      "48028\n",
      "0.000127667867741\n"
     ]
    }
   ],
   "source": [
    "samples=[] \n",
    "likelihoods=[]\n",
    "n=0\n",
    "for nest in NEST:\n",
    "    for p in nest['samples']: samples.append(p)\n",
    "    likelihoods.extend(nest['l'])\n",
    "    n+=len(nest['active nll'])\n",
    "samples=np.array(samples)\n",
    "likelihoods=np.array(likelihoods)\n",
    "I=np.argsort(likelihoods)[::-1]\n",
    "x=np.array([((n-1.)/n)**i for i in range(len(likelihoods)+1)])\n",
    "dx=(0.5*(x[:-1]-x[1:]))[::-1]\n",
    "x=x[::-1]\n",
    "likelihoods=likelihoods[I]\n",
    "samples=samples[I]\n",
    "weights=np.array([likelihoods[i]*dx[i] for i in range(dx.size)])\n",
    "weights/=np.sum(weights)\n",
    "likelihoods=np.array([likelihoods[i] for i in range(weights.size) if weights[i]>1e-11])\n",
    "weights=np.array([weights[i] for i in range(weights.size) if weights[i]>1e-11])\n",
    "weights/=np.sum(weights)\n",
    "samples=np.array([samples[i] for i in range(len(weights)) if weights[i]>1e-11])\n",
    "print likelihoods.size\n",
    "print weights.size\n",
    "print np.amax(weights)"
   ]
  },
  {
   "cell_type": "code",
   "execution_count": null,
   "metadata": {
    "collapsed": true
   },
   "outputs": [],
   "source": []
  }
 ],
 "metadata": {
  "kernelspec": {
   "display_name": "Python 2",
   "language": "python",
   "name": "python2"
  },
  "language_info": {
   "codemirror_mode": {
    "name": "ipython",
    "version": 2
   },
   "file_extension": ".py",
   "mimetype": "text/x-python",
   "name": "python",
   "nbconvert_exporter": "python",
   "pygments_lexer": "ipython2",
   "version": "2.7.13"
  }
 },
 "nbformat": 4,
 "nbformat_minor": 2
}
