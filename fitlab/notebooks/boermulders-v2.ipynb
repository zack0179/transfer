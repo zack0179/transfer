{
 "cells": [
  {
   "cell_type": "code",
   "execution_count": 1,
   "metadata": {
    "collapsed": true
   },
   "outputs": [],
   "source": [
    "import sys\n",
    "import os\n",
    "os.chdir('../')\n",
    "\n",
    "import itertools as it\n",
    "import numpy as np\n",
    "import pandas as pd\n",
    "import pylab as py\n",
    "import matplotlib.pyplot as plt\n",
    "from  matplotlib import rc\n",
    "from matplotlib.colors import LogNorm\n",
    "%matplotlib inline\n",
    "\n",
    "from tools.tools import save,load,lprint,load_config\n",
    "from tools.bar import BAR"
   ]
  },
  {
   "cell_type": "code",
   "execution_count": 2,
   "metadata": {
    "collapsed": true
   },
   "outputs": [],
   "source": [
    "from fitlab.resman import RESMAN\n",
    "from fitlab.parman import PARMAN"
   ]
  },
  {
   "cell_type": "code",
   "execution_count": 3,
   "metadata": {},
   "outputs": [
    {
     "name": "stdout",
     "output_type": "stream",
     "text": [
      "inputs/boermulders.py\r\n"
     ]
    }
   ],
   "source": [
    "!ls inputs/boermulders.py"
   ]
  },
  {
   "cell_type": "code",
   "execution_count": 4,
   "metadata": {},
   "outputs": [
    {
     "name": "stdout",
     "output_type": "stream",
     "text": [
      "loading sidis data sets 5023"
     ]
    }
   ],
   "source": [
    "conf=load_config('inputs/boermulders.py')\n",
    "conf['resman']=RESMAN(conf)\n",
    "conf['resman'].get_residuals(conf['parman'].par);"
   ]
  },
  {
   "cell_type": "code",
   "execution_count": 5,
   "metadata": {
    "collapsed": true
   },
   "outputs": [],
   "source": [
    "def get_binned_axis(dataframe, axis):\n",
    "    return np.unique(dataframe[axis])\n",
    "\n",
    "def create_rounded_variables(dataframe):\n",
    "    dataframe['rounded_x'] = np.round(dataframe['x'], 2)\n",
    "    dataframe['rounded_q2'] = np.round(dataframe['Q2'], 2)\n",
    "    dataframe['rounded_y'] = np.round(dataframe['y'], 2)\n",
    "    dataframe['rounded_z'] = np.round(dataframe['z'], 2)\n",
    "    dataframe['rounded_pt'] = np.round(dataframe['pT'], 2)\n",
    "    \n",
    "def append_string_axis(dataframe):\n",
    "    dataframe['axis'] = dataframe['axis'].astype('str')"
   ]
  },
  {
   "cell_type": "code",
   "execution_count": 6,
   "metadata": {
    "collapsed": true
   },
   "outputs": [],
   "source": [
    "datasets = {}\n",
    "\n",
    "for index, data in conf['resman'].sidisres.tabs.iteritems():\n",
    "    datasets[index] = pd.DataFrame(data) \n",
    "    create_rounded_variables(datasets[index])\n",
    "    append_string_axis(datasets[index])"
   ]
  },
  {
   "cell_type": "code",
   "execution_count": 7,
   "metadata": {
    "collapsed": true
   },
   "outputs": [],
   "source": [
    "def get_subset(data, cuts):\n",
    "    data_subset = data.query(cuts)\n",
    "    return data_subset\n",
    "\n",
    "def get_axis(data, axis): \n",
    "    return data.loc[data.axis == axis]"
   ]
  },
  {
   "cell_type": "code",
   "execution_count": 8,
   "metadata": {},
   "outputs": [
    {
     "data": {
      "text/plain": [
       "[5024, 5019, 5020, 5023]"
      ]
     },
     "execution_count": 8,
     "metadata": {},
     "output_type": "execute_result"
    }
   ],
   "source": [
    "datasets.keys()"
   ]
  },
  {
   "cell_type": "code",
   "execution_count": 9,
   "metadata": {},
   "outputs": [
    {
     "data": {
      "text/plain": [
       "array([ 0.1 ,  0.19])"
      ]
     },
     "execution_count": 9,
     "metadata": {},
     "output_type": "execute_result"
    }
   ],
   "source": [
    "get_binned_axis(datasets[5020], 'rounded_x')"
   ]
  },
  {
   "cell_type": "code",
   "execution_count": 10,
   "metadata": {
    "collapsed": true
   },
   "outputs": [],
   "source": [
    "def plot(data): \n",
    "        \n",
    "    data_sub_x = get_axis(data, 'x')\n",
    "    data_sub_z = get_axis(data, 'z')\n",
    "    data_sub_pt = get_axis(data, 'pt')\n",
    "    \n",
    "    # we need to split sometimes \n",
    "    data_sub_x['group_index'] = data_sub_x.i-np.mean(data_sub_x.i)\n",
    "    data_sub_z['group_index'] = data_sub_z.i-np.mean(data_sub_z.i)\n",
    "    data_sub_pt['group_index'] = data_sub_pt.i-np.mean(data_sub_pt.i)\n",
    "\n",
    "    data_lower_x = data_sub_x.query('group_index < 0')\n",
    "    data_upper_x = data_sub_x.query('group_index > 0')\n",
    "    data_lower_z = data_sub_z.query('group_index < 0')\n",
    "    data_upper_z = data_sub_z.query('group_index > 0')\n",
    "    data_lower_pt = data_sub_pt.query('group_index < 0')\n",
    "    data_upper_pt = data_sub_pt.query('group_index > 0')    \n",
    "    \n",
    "    # options \n",
    "    plt.figure(figsize=(16,6))\n",
    "    plt.rc('font', size=16)\n",
    "    \n",
    "    plt.subplot(1, 3, 1)\n",
    "    plt.errorbar(x=data_lower_x['x'], y=data_lower_x.value, yerr=data_lower_x.alpha, \n",
    "                 marker='o', linestyle='', color='red')\n",
    "    plt.plot(data_lower_x['x'], data_lower_x.thy, linestyle='-', color='red')\n",
    "    \n",
    "    plt.errorbar(x=data_upper_x['x'], y=data_upper_x.value, yerr=data_upper_x.alpha, \n",
    "                 marker='o', linestyle='', color='blue')    \n",
    "    plt.plot(data_upper_x['x'], data_upper_x.thy, linestyle='-', color='blue')\n",
    "\n",
    "    plt.axhline(0.0, linestyle='--', color='black', alpha=0.4)\n",
    "    plt.xlabel('$x_{Bjorken}$')\n",
    "    plt.ylim([-0.12, 0.12])\n",
    "    \n",
    "    plt.subplot(1, 3, 2)\n",
    "    plt.errorbar(x=data_lower_z['z'], y=data_lower_z.value, yerr=data_lower_z.alpha, \n",
    "                 marker='o', linestyle='', color='red')\n",
    "    plt.plot(data_lower_z['z'], data_lower_z.thy, linestyle='-', color='red')\n",
    "    \n",
    "    plt.errorbar(x=data_upper_z['z'], y=data_upper_z.value, yerr=data_upper_z.alpha, \n",
    "                 marker='o', linestyle='', color='blue')    \n",
    "    plt.plot(data_upper_z['z'], data_upper_z.thy, linestyle='-', color='blue')\n",
    "\n",
    "    plt.axhline(0.0, linestyle='--', color='black', alpha=0.4)\n",
    "    plt.xlabel('$z_{h}$')\n",
    "    plt.ylim([-0.12, 0.12])\n",
    "\n",
    "\n",
    "    plt.subplot(1, 3, 3)\n",
    "    plt.errorbar(x=data_lower_pt['pT'], y=data_lower_pt.value, yerr=data_lower_pt.alpha, \n",
    "                 marker='o', linestyle='', color='red')\n",
    "    plt.plot(data_lower_pt['pT'], data_lower_pt.thy, linestyle='-', color='red')\n",
    "    \n",
    "    plt.errorbar(x=data_upper_pt['pT'], y=data_upper_pt.value, yerr=data_upper_pt.alpha, \n",
    "                 marker='o', linestyle='', color='blue')    \n",
    "    plt.plot(data_upper_pt['pT'], data_upper_pt.thy, linestyle='-', color='blue')\n",
    "\n",
    "    plt.axhline(0.0, linestyle='--', color='black', alpha=0.4)\n",
    "    plt.xlabel('$P_{T}$')\n",
    "    plt.ylim([-0.12, 0.12])\n",
    "\n",
    "\n",
    "    plt.tight_layout()"
   ]
  },
  {
   "cell_type": "code",
   "execution_count": 11,
   "metadata": {},
   "outputs": [
    {
     "data": {
      "image/png": "[encoded data removed]",
      "text/plain": [
       "<matplotlib.figure.Figure at 0x113917390>"
      ]
     },
     "metadata": {},
     "output_type": "display_data"
    },
    {
     "data": {
      "image/png": "[encoded data removed]",
      "text/plain": [
       "<matplotlib.figure.Figure at 0x113b5b790>"
      ]
     },
     "metadata": {},
     "output_type": "display_data"
    },
    {
     "data": {
      "image/png": "[encoded data removed]",
      "text/plain": [
       "<matplotlib.figure.Figure at 0x111626350>"
      ]
     },
     "metadata": {},
     "output_type": "display_data"
    },
    {
     "data": {
      "image/png": "[encoded data removed]",
      "text/plain": [
       "<matplotlib.figure.Figure at 0x114142890>"
      ]
     },
     "metadata": {},
     "output_type": "display_data"
    }
   ],
   "source": [
    "for index, data in datasets.iteritems():\n",
    "    plot(data)\n",
    "    \n",
    "    figure_title = 'summary_plot_%d.pdf' % index\n",
    "    plt.savefig(figure_title)"
   ]
  },
  {
   "cell_type": "code",
   "execution_count": 12,
   "metadata": {
    "collapsed": true
   },
   "outputs": [],
   "source": [
    "data_sub_x = get_axis(datasets[5019], 'x')"
   ]
  },
  {
   "cell_type": "code",
   "execution_count": null,
   "metadata": {
    "collapsed": true
   },
   "outputs": [],
   "source": []
  },
  {
   "cell_type": "code",
   "execution_count": 13,
   "metadata": {},
   "outputs": [
    {
     "data": {
      "text/html": [
       "<div>\n",
       "<style>\n",
       "    .dataframe thead tr:only-child th {\n",
       "        text-align: right;\n",
       "    }\n",
       "\n",
       "    .dataframe thead th {\n",
       "        text-align: left;\n",
       "    }\n",
       "\n",
       "    .dataframe tbody tr th {\n",
       "        vertical-align: top;\n",
       "    }\n",
       "</style>\n",
       "<table border=\"1\" class=\"dataframe\">\n",
       "  <thead>\n",
       "    <tr style=\"text-align: right;\">\n",
       "      <th></th>\n",
       "      <th>Ebeam</th>\n",
       "      <th>N</th>\n",
       "      <th>Q2</th>\n",
       "      <th>Shift</th>\n",
       "      <th>alpha</th>\n",
       "      <th>axis</th>\n",
       "      <th>col</th>\n",
       "      <th>hadron</th>\n",
       "      <th>i</th>\n",
       "      <th>obs</th>\n",
       "      <th>...</th>\n",
       "      <th>thy</th>\n",
       "      <th>value</th>\n",
       "      <th>x</th>\n",
       "      <th>y</th>\n",
       "      <th>z</th>\n",
       "      <th>rounded_x</th>\n",
       "      <th>rounded_q2</th>\n",
       "      <th>rounded_y</th>\n",
       "      <th>rounded_z</th>\n",
       "      <th>rounded_pt</th>\n",
       "    </tr>\n",
       "  </thead>\n",
       "  <tbody>\n",
       "    <tr>\n",
       "      <th>0</th>\n",
       "      <td>27.6</td>\n",
       "      <td>1.0</td>\n",
       "      <td>1.399031</td>\n",
       "      <td>0.0</td>\n",
       "      <td>0.015556</td>\n",
       "      <td>x</td>\n",
       "      <td>HERMES</td>\n",
       "      <td>pi-</td>\n",
       "      <td>0</td>\n",
       "      <td>AUUcos2</td>\n",
       "      <td>...</td>\n",
       "      <td>0.002222</td>\n",
       "      <td>0.01800</td>\n",
       "      <td>0.035</td>\n",
       "      <td>0.772</td>\n",
       "      <td>0.667</td>\n",
       "      <td>0.04</td>\n",
       "      <td>1.40</td>\n",
       "      <td>0.77</td>\n",
       "      <td>0.67</td>\n",
       "      <td>0.80</td>\n",
       "    </tr>\n",
       "    <tr>\n",
       "      <th>1</th>\n",
       "      <td>27.6</td>\n",
       "      <td>1.0</td>\n",
       "      <td>2.358366</td>\n",
       "      <td>0.0</td>\n",
       "      <td>0.010779</td>\n",
       "      <td>x</td>\n",
       "      <td>HERMES</td>\n",
       "      <td>pi-</td>\n",
       "      <td>1</td>\n",
       "      <td>AUUcos2</td>\n",
       "      <td>...</td>\n",
       "      <td>0.005141</td>\n",
       "      <td>0.03600</td>\n",
       "      <td>0.059</td>\n",
       "      <td>0.772</td>\n",
       "      <td>0.667</td>\n",
       "      <td>0.06</td>\n",
       "      <td>2.36</td>\n",
       "      <td>0.77</td>\n",
       "      <td>0.67</td>\n",
       "      <td>0.80</td>\n",
       "    </tr>\n",
       "    <tr>\n",
       "      <th>2</th>\n",
       "      <td>27.6</td>\n",
       "      <td>1.0</td>\n",
       "      <td>4.197092</td>\n",
       "      <td>0.0</td>\n",
       "      <td>0.011092</td>\n",
       "      <td>x</td>\n",
       "      <td>HERMES</td>\n",
       "      <td>pi-</td>\n",
       "      <td>2</td>\n",
       "      <td>AUUcos2</td>\n",
       "      <td>...</td>\n",
       "      <td>0.012337</td>\n",
       "      <td>0.01700</td>\n",
       "      <td>0.105</td>\n",
       "      <td>0.772</td>\n",
       "      <td>0.667</td>\n",
       "      <td>0.10</td>\n",
       "      <td>4.20</td>\n",
       "      <td>0.77</td>\n",
       "      <td>0.67</td>\n",
       "      <td>0.80</td>\n",
       "    </tr>\n",
       "    <tr>\n",
       "      <th>3</th>\n",
       "      <td>27.6</td>\n",
       "      <td>1.0</td>\n",
       "      <td>7.674683</td>\n",
       "      <td>0.0</td>\n",
       "      <td>0.022472</td>\n",
       "      <td>x</td>\n",
       "      <td>HERMES</td>\n",
       "      <td>pi-</td>\n",
       "      <td>3</td>\n",
       "      <td>AUUcos2</td>\n",
       "      <td>...</td>\n",
       "      <td>0.025156</td>\n",
       "      <td>-0.00036</td>\n",
       "      <td>0.192</td>\n",
       "      <td>0.772</td>\n",
       "      <td>0.667</td>\n",
       "      <td>0.19</td>\n",
       "      <td>7.67</td>\n",
       "      <td>0.77</td>\n",
       "      <td>0.67</td>\n",
       "      <td>0.80</td>\n",
       "    </tr>\n",
       "    <tr>\n",
       "      <th>18</th>\n",
       "      <td>27.6</td>\n",
       "      <td>1.0</td>\n",
       "      <td>2.010006</td>\n",
       "      <td>0.0</td>\n",
       "      <td>0.014039</td>\n",
       "      <td>x</td>\n",
       "      <td>HERMES</td>\n",
       "      <td>pi-</td>\n",
       "      <td>18</td>\n",
       "      <td>AUUcos2</td>\n",
       "      <td>...</td>\n",
       "      <td>0.007526</td>\n",
       "      <td>0.05400</td>\n",
       "      <td>0.060</td>\n",
       "      <td>0.647</td>\n",
       "      <td>0.546</td>\n",
       "      <td>0.06</td>\n",
       "      <td>2.01</td>\n",
       "      <td>0.65</td>\n",
       "      <td>0.55</td>\n",
       "      <td>0.59</td>\n",
       "    </tr>\n",
       "    <tr>\n",
       "      <th>19</th>\n",
       "      <td>27.6</td>\n",
       "      <td>1.0</td>\n",
       "      <td>3.517511</td>\n",
       "      <td>0.0</td>\n",
       "      <td>0.011510</td>\n",
       "      <td>x</td>\n",
       "      <td>HERMES</td>\n",
       "      <td>pi-</td>\n",
       "      <td>19</td>\n",
       "      <td>AUUcos2</td>\n",
       "      <td>...</td>\n",
       "      <td>0.016211</td>\n",
       "      <td>0.03700</td>\n",
       "      <td>0.105</td>\n",
       "      <td>0.647</td>\n",
       "      <td>0.546</td>\n",
       "      <td>0.10</td>\n",
       "      <td>3.52</td>\n",
       "      <td>0.65</td>\n",
       "      <td>0.55</td>\n",
       "      <td>0.59</td>\n",
       "    </tr>\n",
       "    <tr>\n",
       "      <th>20</th>\n",
       "      <td>27.6</td>\n",
       "      <td>1.0</td>\n",
       "      <td>6.465521</td>\n",
       "      <td>0.0</td>\n",
       "      <td>0.009791</td>\n",
       "      <td>x</td>\n",
       "      <td>HERMES</td>\n",
       "      <td>pi-</td>\n",
       "      <td>20</td>\n",
       "      <td>AUUcos2</td>\n",
       "      <td>...</td>\n",
       "      <td>0.030520</td>\n",
       "      <td>0.03900</td>\n",
       "      <td>0.193</td>\n",
       "      <td>0.647</td>\n",
       "      <td>0.546</td>\n",
       "      <td>0.19</td>\n",
       "      <td>6.47</td>\n",
       "      <td>0.65</td>\n",
       "      <td>0.55</td>\n",
       "      <td>0.59</td>\n",
       "    </tr>\n",
       "  </tbody>\n",
       "</table>\n",
       "<p>7 rows × 27 columns</p>\n",
       "</div>"
      ],
      "text/plain": [
       "    Ebeam    N        Q2  Shift     alpha axis     col hadron   i      obs  \\\n",
       "0    27.6  1.0  1.399031    0.0  0.015556    x  HERMES    pi-   0  AUUcos2   \n",
       "1    27.6  1.0  2.358366    0.0  0.010779    x  HERMES    pi-   1  AUUcos2   \n",
       "2    27.6  1.0  4.197092    0.0  0.011092    x  HERMES    pi-   2  AUUcos2   \n",
       "3    27.6  1.0  7.674683    0.0  0.022472    x  HERMES    pi-   3  AUUcos2   \n",
       "18   27.6  1.0  2.010006    0.0  0.014039    x  HERMES    pi-  18  AUUcos2   \n",
       "19   27.6  1.0  3.517511    0.0  0.011510    x  HERMES    pi-  19  AUUcos2   \n",
       "20   27.6  1.0  6.465521    0.0  0.009791    x  HERMES    pi-  20  AUUcos2   \n",
       "\n",
       "       ...           thy    value      x      y      z  rounded_x rounded_q2  \\\n",
       "0      ...      0.002222  0.01800  0.035  0.772  0.667       0.04       1.40   \n",
       "1      ...      0.005141  0.03600  0.059  0.772  0.667       0.06       2.36   \n",
       "2      ...      0.012337  0.01700  0.105  0.772  0.667       0.10       4.20   \n",
       "3      ...      0.025156 -0.00036  0.192  0.772  0.667       0.19       7.67   \n",
       "18     ...      0.007526  0.05400  0.060  0.647  0.546       0.06       2.01   \n",
       "19     ...      0.016211  0.03700  0.105  0.647  0.546       0.10       3.52   \n",
       "20     ...      0.030520  0.03900  0.193  0.647  0.546       0.19       6.47   \n",
       "\n",
       "    rounded_y  rounded_z  rounded_pt  \n",
       "0        0.77       0.67        0.80  \n",
       "1        0.77       0.67        0.80  \n",
       "2        0.77       0.67        0.80  \n",
       "3        0.77       0.67        0.80  \n",
       "18       0.65       0.55        0.59  \n",
       "19       0.65       0.55        0.59  \n",
       "20       0.65       0.55        0.59  \n",
       "\n",
       "[7 rows x 27 columns]"
      ]
     },
     "execution_count": 13,
     "metadata": {},
     "output_type": "execute_result"
    }
   ],
   "source": [
    "data_sub_x"
   ]
  },
  {
   "cell_type": "code",
   "execution_count": null,
   "metadata": {},
   "outputs": [],
   "source": []
  }
 ],
 "metadata": {
  "kernelspec": {
   "display_name": "Python 2",
   "language": "python",
   "name": "python2"
  },
  "language_info": {
   "codemirror_mode": {
    "name": "ipython",
    "version": 2
   },
   "file_extension": ".py",
   "mimetype": "text/x-python",
   "name": "python",
   "nbconvert_exporter": "python",
   "pygments_lexer": "ipython2",
   "version": "2.7.13"
  }
 },
 "nbformat": 4,
 "nbformat_minor": 2
}
