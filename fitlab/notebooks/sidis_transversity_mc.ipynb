{
 "cells": [
  {
   "cell_type": "markdown",
   "metadata": {},
   "source": [
    "# JAM FITTER"
   ]
  },
  {
   "cell_type": "code",
   "execution_count": 1,
   "metadata": {},
   "outputs": [],
   "source": [
    "import copy \n",
    "import numpy as np\n",
    "import os\n",
    "import pandas as pd\n",
    "import pylab as py\n",
    "import sys\n",
    "\n",
    "from fitlab.mcsamp import MCSAMP\n",
    "from fitlab.resman import RESMAN\n",
    "from tools.config import load_config, conf\n",
    "from tools.tools import load, save, checkdir\n",
    "\n",
    "def lprint(msg):\n",
    "    sys.stdout.write('\\r')\n",
    "    sys.stdout.write('%s' %msg)\n",
    "    sys.stdout.flush()\n",
    "\n",
    "%matplotlib inline"
   ]
  },
  {
   "cell_type": "markdown",
   "metadata": {},
   "source": [
    "## setup path to store the results "
   ]
  },
  {
   "cell_type": "code",
   "execution_count": 2,
   "metadata": {},
   "outputs": [],
   "source": [
    "path2results = 'sidis_transversity_pass1'\n",
    "checkdir(path2results)"
   ]
  },
  {
   "cell_type": "markdown",
   "metadata": {},
   "source": [
    "## data sets "
   ]
  },
  {
   "cell_type": "code",
   "execution_count": 3,
   "metadata": {},
   "outputs": [],
   "source": [
    "conf['datasets'] = {}"
   ]
  },
  {
   "cell_type": "markdown",
   "metadata": {},
   "source": [
    "## SIDIS Collins Asymmetry"
   ]
  },
  {
   "cell_type": "code",
   "execution_count": 4,
   "metadata": {},
   "outputs": [],
   "source": [
    "conf['datasets']['sidis']={}\n",
    "conf['datasets']['sidis']['filters']={0:{'idx':None,'filter':None}}\n",
    "conf['datasets']['sidis']['filters'][0]['idx']=[4001,4000,4002,4004,4003,4005,3027,3025,3010]\n",
    "conf['datasets']['sidis']['filters'][0]['idx'].extend([3012,3005,3013,3026,3000,3003,3016,3004,3018])\n",
    "conf['datasets']['sidis']['filters'][0]['filter']=\"z<0.6 and Q2>1.69 and pT>0.2 and pT<0.9\"\n",
    "conf['datasets']['sidis']['xlsx']={}\n",
    "conf[\"datasets\"][\"sidis\"][\"xlsx\"][4001]=\"sidis/expdata/4001.xlsx\"  #  compass  deuteron  pi+   pT\n",
    "conf[\"datasets\"][\"sidis\"][\"xlsx\"][4000]=\"sidis/expdata/4000.xlsx\"  #  compass  deuteron  pi+    x\n",
    "conf[\"datasets\"][\"sidis\"][\"xlsx\"][4002]=\"sidis/expdata/4002.xlsx\"  #  compass  deuteron  pi+    z\n",
    "conf[\"datasets\"][\"sidis\"][\"xlsx\"][4004]=\"sidis/expdata/4004.xlsx\"  #  compass  deuteron  pi-   pT\n",
    "conf[\"datasets\"][\"sidis\"][\"xlsx\"][4003]=\"sidis/expdata/4003.xlsx\"  #  compass  deuteron  pi-    x\n",
    "conf[\"datasets\"][\"sidis\"][\"xlsx\"][4005]=\"sidis/expdata/4005.xlsx\"  #  compass  deuteron  pi-    z\n",
    "conf[\"datasets\"][\"sidis\"][\"xlsx\"][3027]=\"sidis/expdata/3027.xlsx\"  #  compass    proton  pi+   pt\n",
    "conf[\"datasets\"][\"sidis\"][\"xlsx\"][3025]=\"sidis/expdata/3025.xlsx\"  #  compass    proton  pi+    x\n",
    "conf[\"datasets\"][\"sidis\"][\"xlsx\"][3010]=\"sidis/expdata/3010.xlsx\"  #  compass    proton  pi+    z\n",
    "conf[\"datasets\"][\"sidis\"][\"xlsx\"][3012]=\"sidis/expdata/3012.xlsx\"  #  compass    proton  pi-   pt\n",
    "conf[\"datasets\"][\"sidis\"][\"xlsx\"][3005]=\"sidis/expdata/3005.xlsx\"  #  compass    proton  pi-    x\n",
    "conf[\"datasets\"][\"sidis\"][\"xlsx\"][3013]=\"sidis/expdata/3013.xlsx\"  #  compass    proton  pi-    z\n",
    "conf[\"datasets\"][\"sidis\"][\"xlsx\"][3026]=\"sidis/expdata/3026.xlsx\"  #   HERMES    proton  pi+   pt\n",
    "conf[\"datasets\"][\"sidis\"][\"xlsx\"][3000]=\"sidis/expdata/3000.xlsx\"  #   HERMES    proton  pi+    x\n",
    "conf[\"datasets\"][\"sidis\"][\"xlsx\"][3003]=\"sidis/expdata/3003.xlsx\"  #   HERMES    proton  pi+    z\n",
    "conf[\"datasets\"][\"sidis\"][\"xlsx\"][3016]=\"sidis/expdata/3016.xlsx\"  #   HERMES    proton  pi-   pt\n",
    "conf[\"datasets\"][\"sidis\"][\"xlsx\"][3004]=\"sidis/expdata/3004.xlsx\"  #   HERMES    proton  pi-    x\n",
    "conf[\"datasets\"][\"sidis\"][\"xlsx\"][3018]=\"sidis/expdata/3018.xlsx\"  #   HERMES    proton  pi-    z\n",
    "conf['datasets']['sidis']['norm']={}\n",
    "for k in conf['datasets']['sidis']['xlsx']: \n",
    "    conf['datasets']['sidis']['norm'][k]={'value':1,'fixed':True,'min':0,'max':1} "
   ]
  },
  {
   "cell_type": "markdown",
   "metadata": {},
   "source": [
    "## parameters"
   ]
  },
  {
   "cell_type": "code",
   "execution_count": 5,
   "metadata": {},
   "outputs": [],
   "source": [
    "conf['params'] = {}\n",
    "conf['shape'] = 1"
   ]
  },
  {
   "cell_type": "markdown",
   "metadata": {},
   "source": [
    "### TMD PDF/FF parameters (from upol analysis)"
   ]
  },
  {
   "cell_type": "code",
   "execution_count": 6,
   "metadata": {},
   "outputs": [],
   "source": [
    "conf['params'] = {}\n",
    "conf['params']['pdf'] = {}\n",
    "conf['params']['pdf']['widths0 valence']  = {'value':5.89294556274006398056e-01,'fixed':True,'min':0,'max':1}\n",
    "conf['params']['pdf']['widths0 sea']      = {'value':6.33443286558464269120e-01,'fixed':True,'min':0,'max':1}\n",
    "conf['params']['ff'] = {}\n",
    "conf['params']['ff']['widths0 pi+ fav']   = {'value':1.15920500644793311729e-01,'fixed':True,'min':0,'max':1}\n",
    "conf['params']['ff']['widths0 pi+ unfav'] = {'value':1.39782079427820671302e-01,'fixed':True,'min':0,'max':1}"
   ]
  },
  {
   "cell_type": "markdown",
   "metadata": {},
   "source": [
    "### TMD Transversity parameters"
   ]
  },
  {
   "cell_type": "code",
   "execution_count": 7,
   "metadata": {},
   "outputs": [],
   "source": [
    "conf['params']['transversity'] = {}\n",
    "conf['params']['transversity']['widths0 valence'] = {'value':0.5,'fixed':False,'min':1e-5,'max':2}\n",
    "conf['params']['transversity']['widths0 sea']     = {'value':0.5,'fixed':False,'min':1e-5,'max':2}\n",
    "conf['params']['transversity']['u N']  = {'value':1,'fixed':False,'min':-10,'max':10}\n",
    "conf['params']['transversity']['u a']  = {'value':-0.5,'fixed':False,'min':-1 ,'max':10}\n",
    "conf['params']['transversity']['u b']  = {'value': 3.0,'fixed':False,'min': 1,'max':10}\n",
    "conf['params']['transversity']['d N']  = {'value': 1.0,'fixed':False,'min':-20,'max':20}\n",
    "conf['params']['transversity']['d a']  = {'value':-0.5,'fixed':False,'min':-1,'max':5}\n",
    "conf['params']['transversity']['d b']  = {'value': 3.0,'fixed':False,'min':1e-5,'max':20}\n",
    "conf['params']['transversity']['s N']  = {'value': 0.0,'fixed':True,'min':-10,'max':10}\n",
    "conf['params']['transversity']['s a']  = {'value':-0.5,'fixed':True,'min':-1,'max':5}\n",
    "conf['params']['transversity']['s b']  = {'value': 3.0,'fixed':True,'min':1e-5,'max':10}\n",
    "conf['params']['transversity']['u c']  = {'value': 0.0,'fixed':True,'min':-10,'max':10}\n",
    "conf['params']['transversity']['d c']  = {'value': 0.0,'fixed':True,'min':-10,'max':10}\n",
    "conf['params']['transversity']['s c']  = {'value': 0.0,'fixed':True,'min':-10,'max':10}\n",
    "conf['params']['transversity']['u d']  = {'value': 0.0,'fixed':True,'min':-10,'max':10}\n",
    "conf['params']['transversity']['d d']  = {'value': 0.0,'fixed':True,'min':-10,'max':10}\n",
    "conf['params']['transversity']['s d']  = {'value': 0.0,'fixed':True,'min':-10,'max':10}"
   ]
  },
  {
   "cell_type": "markdown",
   "metadata": {},
   "source": [
    "### TMD Collins parameters"
   ]
  },
  {
   "cell_type": "code",
   "execution_count": 8,
   "metadata": {},
   "outputs": [],
   "source": [
    "conf['params']['collins'] = {}\n",
    "conf['params']['collins']['widths0 pi+ fav']     = {'value':0.07249,'fixed':True,'min':1e-5,'max':1}\n",
    "conf['params']['collins']['widths0 pi+ unfav']   = {'value':0.10606,'fixed':True,'min':1e-5,'max':2}\n",
    "conf['params']['collins']['pi+ u N 1']  = {'value': 1.05988,'fixed':True,'min':0,'max':20}\n",
    "conf['params']['collins']['pi+ u a 1']  = {'value':-1.56637,'fixed':True,'min':-1,'max':5}\n",
    "conf['params']['collins']['pi+ u b 1']  = {'value': 4.76009 ,'fixed':True,'min':1e-5,'max':10}\n",
    "conf['params']['collins']['pi+ d N 1']  = {'value':-6.64443,'fixed':True,'min':-20,'max':0}\n",
    "conf['params']['collins']['pi+ d a 1']  = {'value': 3.45852,'fixed':True,'min':-1,'max':5}\n",
    "conf['params']['collins']['pi+ d b 1']  = {'value': 3.11503 ,'fixed':True,'min':1e-5,'max':10}\n",
    "conf['params']['collins']['pi+ u c 1']  = {'value': 0.0,'fixed':True,'min':-10,'max':10}\n",
    "conf['params']['collins']['pi+ d c 1']  = {'value': 0.0,'fixed':True,'min':-10,'max':10}\n",
    "conf['params']['collins']['pi+ u d 1']  = {'value': 0.0,'fixed':True,'min':-10,'max':10}\n",
    "conf['params']['collins']['pi+ d d 1']  = {'value': 0.0,'fixed':True,'min':-10,'max':10}\n",
    "\n",
    "conf['params']['collins']['pi+ u N 2']  = {'value': 8.64876,'fixed':True,'min':0,'max':20}\n",
    "conf['params']['collins']['pi+ u a 2']  = {'value': 4.31424,'fixed':True,'min':-1,'max':5}\n",
    "conf['params']['collins']['pi+ u b 2']  = {'value': 3.59918,'fixed':True,'min':1e-5,'max':10}\n",
    "conf['params']['collins']['pi+ d N 2']  = {'value': 0.0,'fixed':True,'min':-20,'max':0}\n",
    "conf['params']['collins']['pi+ d a 2']  = {'value': 0.0,'fixed':True,'min':-1,'max':5}\n",
    "conf['params']['collins']['pi+ d b 2']  = {'value': 0.0,'fixed':True,'min':1e-5,'max':10}\n",
    "conf['params']['collins']['pi+ u c 2']  = {'value': 0.0,'fixed':True,'min':-10,'max':10}\n",
    "conf['params']['collins']['pi+ d c 2']  = {'value': 0.0,'fixed':True,'min':-10,'max':10}\n",
    "conf['params']['collins']['pi+ u d 2']  = {'value': 0.0,'fixed':True,'min':-10,'max':10}\n",
    "conf['params']['collins']['pi+ d d 2']  = {'value': 0.0,'fixed':True,'min':-10,'max':10}"
   ]
  },
  {
   "cell_type": "markdown",
   "metadata": {
    "collapsed": true
   },
   "source": [
    "## Nested Sampling"
   ]
  },
  {
   "cell_type": "markdown",
   "metadata": {},
   "source": [
    "### initialize fitpack libraries"
   ]
  },
  {
   "cell_type": "code",
   "execution_count": 9,
   "metadata": {},
   "outputs": [
    {
     "name": "stdout",
     "output_type": "stream",
     "text": [
      "loading sidis data sets 3013\n",
      "multiprocess setup: ncpus=1 / observable\n"
     ]
    }
   ],
   "source": [
    "conf['ncpus'] = 1\n",
    "conf['resman'] = RESMAN()\n",
    "mcsamp = MCSAMP()"
   ]
  },
  {
   "cell_type": "markdown",
   "metadata": {
    "collapsed": true
   },
   "source": [
    "### start multiple NS runs\n",
    "- the code will start n independent runs specified by size"
   ]
  },
  {
   "cell_type": "code",
   "execution_count": 10,
   "metadata": {
    "scrolled": false
   },
   "outputs": [
    {
     "name": "stdout",
     "output_type": "stream",
     "text": [
      "iter=2322  logz=9.762 rel-err=9.837e-11  t-elapsed=4.635e+02  dchi2min=-1.518e+01 dchi2max=-1.518e+011"
     ]
    }
   ],
   "source": [
    "conf['size']   = 8\n",
    "conf['factor'] = 4 \n",
    "mcsamp.run(path2results, \n",
    "           factor=conf['factor'], \n",
    "           size=conf['size'])"
   ]
  },
  {
   "cell_type": "markdown",
   "metadata": {},
   "source": [
    "### combine multiple runs into one big run"
   ]
  },
  {
   "cell_type": "code",
   "execution_count": 11,
   "metadata": {
    "scrolled": false
   },
   "outputs": [
    {
     "name": "stdout",
     "output_type": "stream",
     "text": [
      "runs max likelihoods\n",
      "-7.51987130297362\n",
      "-7.5079108160602885\n",
      "-7.499958596767769\n",
      "-7.582201281603616\n",
      "-7.588002276998992\n",
      "-7.564255551902221\n",
      "-7.5910065892806955\n",
      "-7.585538220764391\n",
      "sample  size= 17614\n",
      "sample2 size= 1730\n"
     ]
    }
   ],
   "source": [
    "MC = mcsamp.get_MC_samples(path2results + '/mcdata')"
   ]
  },
  {
   "cell_type": "markdown",
   "metadata": {},
   "source": [
    "### distribution of parameters"
   ]
  },
  {
   "cell_type": "code",
   "execution_count": 12,
   "metadata": {},
   "outputs": [
    {
     "name": "stdout",
     "output_type": "stream",
     "text": [
      "     widths0 valence =    0.67257 +/-    0.11547\n",
      "         widths0 sea =    1.10042 +/-    0.48205\n",
      "                 u N =    6.64306 +/-    1.74249\n",
      "                 u a =    0.65974 +/-    0.10086\n",
      "                 u b =    4.20382 +/-    0.84874\n",
      "                 d N =  -13.55021 +/-    3.33783\n",
      "                 d a =    0.54535 +/-    0.09403\n",
      "                 d b =    3.41458 +/-    0.73228\n"
     ]
    },
    {
     "data": {
      "image/png": "[encoded data removed]",
      "text/plain": [
       "<Figure size 648x1440 with 8 Axes>"
      ]
     },
     "metadata": {},
     "output_type": "display_data"
    }
   ],
   "source": [
    "samples=MC['samples']\n",
    "samples2=MC['samples2']\n",
    "weights=MC['weights']\n",
    "weights2=MC['weights2']\n",
    "order=MC['order']\n",
    "runs=MC['runs']\n",
    "\n",
    "nrows,ncols=10,3\n",
    "fig = py.figure(figsize=(ncols*3,nrows*2))\n",
    "\n",
    "def get_idx(key,tag):\n",
    "    for i in range(len(order)):\n",
    "        if order[i][1]==key and order[i][2]==tag:\n",
    "            return i\n",
    "\n",
    "global cnt\n",
    "cnt=0\n",
    "def plot(tags):\n",
    "    global cnt\n",
    "    for i in range(1,len(tags)):\n",
    "        cnt+=1\n",
    "        if tags[i]==None: continue\n",
    "        idx=get_idx(tags[0],tags[i])\n",
    "        ax=py.subplot(nrows,ncols,cnt)\n",
    "        vmin=np.amin(samples2.T[idx])\n",
    "        vmax=np.amax(samples2.T[idx])\n",
    "        R=None#(vmin,vmax)\n",
    "        for k in runs:\n",
    "            ax.hist(runs[k]['samples'].T[idx],weights=runs[k]['weights'],bins=50,normed=True,range=R)\n",
    "        ax.hist(samples.T[idx],weights=weights,bins=50,color='k',normed=True,range=R)\n",
    "        ax.hist(samples2.T[idx],weights=weights2,bins=50,color='r',histtype='step',normed=True,range=R)\n",
    "        ax.set_title(tags[i])\n",
    "        mean=np.einsum('i,i',samples2.T[idx],weights2)\n",
    "        std=np.einsum('i,i',(samples2.T[idx]-mean)**2,weights2)**0.5\n",
    "        print '%20s = %10.5f +/- %10.5f'%(tags[i],mean,std)\n",
    "        #ax.set_xlim(vmin,vmax)\n",
    "    py.tight_layout()\n",
    "\n",
    "plot(['transversity','widths0 valence','widths0 sea',None])\n",
    "plot(['transversity','u N','u a','u b'])\n",
    "plot(['transversity','d N','d a','d b'])\n",
    "#plot(['collins','widths0 pi+ fav','widths0 pi+ unfav',None])\n",
    "#plot(['collins','pi+ u N 1','pi+ u a 1','pi+ u b 1'])\n",
    "#plot(['collins','pi+ d N 1','pi+ d a 1','pi+ d b 1'])"
   ]
  },
  {
   "cell_type": "markdown",
   "metadata": {},
   "source": [
    "## data vs theory"
   ]
  },
  {
   "cell_type": "code",
   "execution_count": 13,
   "metadata": {},
   "outputs": [
    {
     "name": "stdout",
     "output_type": "stream",
     "text": [
      "1730/1730"
     ]
    }
   ],
   "source": [
    "data={'weights':MC['weights2']}\n",
    "cnt=0\n",
    "for s in MC['samples2']:\n",
    "    cnt+=1    \n",
    "    lprint('%d/%d'%(cnt,len(MC['samples2'])))  \n",
    "    conf['resman'].get_residuals(s);\n",
    "    for k in conf['resman'].sidisres.tabs:\n",
    "        if k  not in data: data[k]=[]\n",
    "        thy=conf['resman'].sidisres.tabs[k]['thy']    \n",
    "        norm=conf['datasets']['sidis']['norm'][k]['value']\n",
    "        shift=conf['resman'].sidisres.tabs[k]['shift']        \n",
    "        data[k].append(shift+thy/norm)\n",
    "save(data,'%s/%s'%(path2results,'sidis.dat'))   "
   ]
  },
  {
   "cell_type": "markdown",
   "metadata": {
    "collapsed": true
   },
   "source": [
    "### compute averages and collect results"
   ]
  },
  {
   "cell_type": "code",
   "execution_count": 14,
   "metadata": {},
   "outputs": [],
   "source": [
    "data=load('%s/%s'%(path2results,'sidis.dat'))   \n",
    "for k in data: data[k]=np.array(data[k])\n",
    "thy,dthy={},{}\n",
    "for k in data:\n",
    "    if k=='weights': continue\n",
    "    thy[k]=np.einsum('i,ik->k',data['weights'],data[k])\n",
    "    dthy[k]=np.einsum('i,ik->k',data['weights'],(data[k]-thy[k])**2)**0.5\n",
    "for k in thy: \n",
    "    conf['resman'].sidisres.tabs[k]['thy']=copy.copy(thy[k])\n",
    "    conf['resman'].sidisres.tabs[k]['dthy']=copy.copy(dthy[k])"
   ]
  },
  {
   "cell_type": "code",
   "execution_count": 15,
   "metadata": {},
   "outputs": [
    {
     "name": "stdout",
     "output_type": "stream",
     "text": [
      "sidis\n"
     ]
    }
   ],
   "source": [
    "report=conf['resman'].gen_report(verb=0,level=1)\n",
    "delimiters=[]\n",
    "for i in range(len(report)): \n",
    "    if 'reaction:' in report[i]: delimiters.append(i) \n",
    "\n",
    "data={}\n",
    "nlines=len(report)\n",
    "for i in range(len(delimiters)):\n",
    "    ini=delimiters[i]\n",
    "    if i==len(delimiters)-1: fin=len(report)\n",
    "    else: fin=delimiters[i+1]\n",
    "    reaction=report[ini].replace('reaction:','').strip()\n",
    "    data[reaction]={'raw data':report[ini:fin]}\n",
    "    \n",
    "for k in data:\n",
    "    print k\n",
    "    block=data[k]['raw data']\n",
    "    isep=[i for i in range(len(block)) if '--------' in block[i]][0]\n",
    "    data[k]['summary']=[block[i] for i in range(isep)]\n",
    "    data[k]['tables']=[block[i] for i in range(isep+1,len(block))]\n",
    "\n",
    "    tabs={}\n",
    "    for l in data[k]['tables']:\n",
    "        info=l.split(',')\n",
    "        col=[s for s in info if 'col' in s][0].split('=')[1].strip()\n",
    "        if col not in tabs: tabs[col]={}\n",
    "        info=[[ss.strip() for ss in s.split('=')] for s in info if 'col' not in info  if s.strip()!='']\n",
    "        \n",
    "        for s in info:\n",
    "            if s[0] not in tabs[col]: tabs[col][s[0]]=[]\n",
    "        \n",
    "        for s in info:\n",
    "            try:\n",
    "                value=float(s[1])\n",
    "            except:\n",
    "                value=s[1]\n",
    "            tabs[col][s[0]].append(value)        \n",
    "\n",
    "    data[k]['tabs']=tabs\n",
    "save(data,'%s/%s'%(path2results,'data_and_thy.dat'))  "
   ]
  },
  {
   "cell_type": "code",
   "execution_count": 16,
   "metadata": {},
   "outputs": [
    {
     "name": "stdout",
     "output_type": "stream",
     "text": [
      "\n",
      "reaction: sidis\n",
      "    idx        tar        had        col        obs  npts       chi2      rchi2      nchi2\n",
      "   4000   deuteron        pi+    compass AUTcollins     6       6.31       0.00       0.00\n",
      "   4001   deuteron        pi+    compass AUTcollins     6       6.65       0.00       0.00\n",
      "   4002   deuteron        pi+    compass AUTcollins     6       6.30       0.00       0.00\n",
      "   4003   deuteron        pi-    compass AUTcollins     6       8.20       0.00       0.00\n",
      "   4004   deuteron        pi-    compass AUTcollins     6       7.49       0.00       0.00\n",
      "   4005   deuteron        pi-    compass AUTcollins     6       3.68       0.00       0.00\n",
      "   3016     proton        pi-     HERMES AUTcollins     5       7.67       0.00       0.00\n",
      "   3018     proton        pi-     HERMES AUTcollins     6       3.55       0.00       0.00\n",
      "   3010     proton        pi+    compass AUTcollins     6       7.64       0.00       0.00\n",
      "   3025     proton        pi+    compass AUTcollins     7       5.86       0.00       0.00\n",
      "   3026     proton        pi+     HERMES AUTcollins     5       1.30       0.00       0.00\n",
      "   3027     proton        pi+    compass AUTcollins     6       1.68       0.00       0.00\n",
      "   3000     proton        pi+     HERMES AUTcollins     5       5.23       0.00       0.00\n",
      "   3012     proton        pi-    compass AUTcollins     6       4.69       0.00       0.00\n",
      "   3003     proton        pi+     HERMES AUTcollins     6       7.63       0.00       0.00\n",
      "   3004     proton        pi-     HERMES AUTcollins     5       8.24       0.00       0.00\n",
      "   3005     proton        pi-    compass AUTcollins     7       4.71       0.00       0.00\n",
      "   3013     proton        pi-    compass AUTcollins     6      13.02       0.00       0.00\n"
     ]
    }
   ],
   "source": [
    "def summary():\n",
    "    for k in data:\n",
    "        print \"\"\n",
    "        for l in data[k]['summary']: print l\n",
    "summary()"
   ]
  },
  {
   "cell_type": "markdown",
   "metadata": {},
   "source": [
    "### plot data and theory"
   ]
  },
  {
   "cell_type": "code",
   "execution_count": 17,
   "metadata": {},
   "outputs": [
    {
     "data": {
      "image/png": "[encoded data removed]",
      "text/plain": [
       "<Figure size 648x648 with 9 Axes>"
      ]
     },
     "metadata": {},
     "output_type": "display_data"
    }
   ],
   "source": [
    "data=load('%s/%s'%(path2results,'data_and_thy.dat'))\n",
    "\n",
    "nrows,ncols=3,3\n",
    "fig = py.figure(figsize=(ncols*3,nrows*3))\n",
    "\n",
    "\n",
    "tab=pd.DataFrame(data['sidis']['tabs']['HERMES']).query('tar==\"proton\"')\n",
    "cnt=0\n",
    "for dep in ['x','z','pT']:\n",
    "    cnt+=1\n",
    "    if dep=='pT': _dep='pt'\n",
    "    else: _dep=dep\n",
    "    ax=py.subplot(nrows,ncols,cnt)\n",
    "    _tab=tab.query('dep==\"%s\"'%_dep)\n",
    "    pip=_tab.query('had==\"pi+\"')\n",
    "    pim=_tab.query('had==\"pi-\"')\n",
    "    ax.errorbar(pip[dep],-pip['exp'],yerr=pip['alpha'],fmt='r.')\n",
    "    ax.errorbar(pim[dep],-pim['exp'],yerr=pim['alpha'],fmt='b.')\n",
    "    ax.plot(pip[dep],-pip['thy'],color='r',alpha=0.5)\n",
    "    ax.plot(pim[dep],-pim['thy'],color='b',alpha=0.5)\n",
    "    ax.fill_between(pip[dep],-(pip['thy']-pip['dthy']),-(pip['thy']+pip['dthy']),color='r',alpha=0.5)\n",
    "    ax.fill_between(pim[dep],-(pim['thy']-pim['dthy']),-(pim['thy']+pim['dthy']),color='b',alpha=0.5)\n",
    "    ax.set_xlabel(r'$%s$'%dep,size=20); ax.set_ylabel(r'$A$',size=20)\n",
    "    ax.set_title('HERMES p')\n",
    "\n",
    "    \n",
    "tab=pd.DataFrame(data['sidis']['tabs']['compass']).query('tar==\"proton\"')\n",
    "for dep in ['x','z','pT']:\n",
    "    cnt+=1\n",
    "    if dep=='pT': _dep='pt'\n",
    "    else: _dep=dep\n",
    "    ax=py.subplot(nrows,ncols,cnt)\n",
    "    _tab=tab.query('dep==\"%s\"'%_dep)\n",
    "    pip=_tab.query('had==\"pi+\"')\n",
    "    pim=_tab.query('had==\"pi-\"')\n",
    "    ax.errorbar(pip[dep],-pip['exp'],yerr=pip['alpha'],fmt='r.')\n",
    "    ax.errorbar(pim[dep],-pim['exp'],yerr=pim['alpha'],fmt='b.')\n",
    "    ax.plot(pip[dep],-pip['thy'],color='r',alpha=0.5)\n",
    "    ax.plot(pim[dep],-pim['thy'],color='b',alpha=0.5)\n",
    "    ax.fill_between(pip[dep],-(pip['thy']-pip['dthy']),-(pip['thy']+pip['dthy']),color='r',alpha=0.5)\n",
    "    ax.fill_between(pim[dep],-(pim['thy']-pim['dthy']),-(pim['thy']+pim['dthy']),color='b',alpha=0.5)\n",
    "    ax.set_xlabel(r'$%s$'%dep,size=20); ax.set_ylabel(r'$A$',size=20)\n",
    "    ax.set_title('COMPASS p')\n",
    "\n",
    "tab=pd.DataFrame(data['sidis']['tabs']['compass']).query('tar==\"deuteron\"')\n",
    "for dep in ['x','z','pT']:\n",
    "    cnt+=1\n",
    "    if dep=='pT': _dep='pT'\n",
    "    else: _dep=dep\n",
    "    ax=py.subplot(nrows,ncols,cnt)\n",
    "    _tab=tab.query('dep==\"%s\"'%_dep)\n",
    "    pip=_tab.query('had==\"pi+\"')\n",
    "    pim=_tab.query('had==\"pi-\"')\n",
    "    ax.errorbar(pip[dep],-pip['exp'],yerr=pip['alpha'],fmt='r.')\n",
    "    ax.errorbar(pim[dep],-pim['exp'],yerr=pim['alpha'],fmt='b.')\n",
    "    ax.plot(pip[dep],-pip['thy'],color='r',alpha=0.5)\n",
    "    ax.plot(pim[dep],-pim['thy'],color='b',alpha=0.5)\n",
    "    ax.fill_between(pip[dep],-(pip['thy']-pip['dthy']),-(pip['thy']+pip['dthy']),color='r',alpha=0.5)\n",
    "    ax.fill_between(pim[dep],-(pim['thy']-pim['dthy']),-(pim['thy']+pim['dthy']),color='b',alpha=0.5)\n",
    "    ax.set_xlabel(r'$%s$'%dep,size=20); ax.set_ylabel(r'$A$',size=20)\n",
    "    ax.set_title('COMPASS d')\n",
    "\n",
    "\n",
    "py.tight_layout()"
   ]
  },
  {
   "cell_type": "markdown",
   "metadata": {},
   "source": [
    "## PDFs and FFs"
   ]
  },
  {
   "cell_type": "code",
   "execution_count": 18,
   "metadata": {},
   "outputs": [],
   "source": [
    "def calc(func):\n",
    "    RAW=[]\n",
    "    cnt=0\n",
    "    for s in MC['samples2']:\n",
    "        cnt+=1    \n",
    "        lprint('%d/%d'%(cnt,len(MC['samples2'])))  \n",
    "        conf['parman'].set_new_params(s);    \n",
    "        RAW.append(func())\n",
    "    RAW=np.array(RAW)\n",
    "    f =np.einsum('k,kif->if',MC['weights2'],RAW)\n",
    "    df=np.einsum('k,kif->if',MC['weights2'],(RAW-f)**2)**0.5\n",
    "    f=np.einsum('if->fi',f)\n",
    "    df=np.einsum('if->fi',df)\n",
    "    return {'f':f,'df':df}"
   ]
  },
  {
   "cell_type": "code",
   "execution_count": 19,
   "metadata": {},
   "outputs": [
    {
     "name": "stdout",
     "output_type": "stream",
     "text": [
      "1730/1730"
     ]
    }
   ],
   "source": [
    "X1=10**np.linspace(-3,-1)\n",
    "X2=np.linspace(0.101,0.999)\n",
    "X=np.append(X1,X2)\n",
    "h=calc(lambda : [conf['transversity'].get_C(x,1) for x in X])"
   ]
  },
  {
   "cell_type": "code",
   "execution_count": 20,
   "metadata": {},
   "outputs": [
    {
     "name": "stdout",
     "output_type": "stream",
     "text": [
      "1730/1730"
     ]
    }
   ],
   "source": [
    "Z1=10**np.linspace(-3,-1)\n",
    "Z2=np.linspace(0.101,0.999)\n",
    "Z=np.append(Z1,Z2)\n",
    "Hpi=calc(lambda : [conf['collins'].get_C(z,1,'pi+') for z in Z])"
   ]
  },
  {
   "cell_type": "code",
   "execution_count": 21,
   "metadata": {},
   "outputs": [
    {
     "data": {
      "image/png": "[encoded data removed]",
      "text/plain": [
       "<Figure size 360x360 with 1 Axes>"
      ]
     },
     "metadata": {},
     "output_type": "display_data"
    }
   ],
   "source": [
    "nrows,ncols=1,1\n",
    "py.figure(figsize=(ncols*5,nrows*5))\n",
    "ax=py.subplot(nrows,ncols,1)\n",
    "ax.fill_between(X,(h['f'][1]-h['df'][1]),(h['f'][1]+h['df'][1]),color='r',alpha=0.5)\n",
    "ax.plot(X,h['f'][1],'r')\n",
    "ax.fill_between(X,(h['f'][3]-h['df'][3]),(h['f'][3]+h['df'][3]),color='b',alpha=0.5)\n",
    "ax.plot(X,h['f'][3],'b')\n",
    "ax.set_ylabel(r'$h$',size=20)\n",
    "ax.set_xlabel(r'$x$',size=20)\n",
    "ax.set_ylim(-3,1.5)\n",
    "ax.set_xlim(0,1)\n",
    "\n",
    "#ax=py.subplot(nrows,ncols,2)\n",
    "#ax.fill_between(Z,Z*(Hpi['f'][1]-Hpi['df'][1]),Z*(Hpi['f'][1]+Hpi['df'][1]),color='r',alpha=0.5)\n",
    "#ax.fill_between(Z,Z*(Hpi['f'][3]-Hpi['df'][3]),Z*(Hpi['f'][3]+Hpi['df'][3]),color='b',alpha=0.5)\n",
    "#ax.plot(Z,Z*Hpi['f'][1],'r')\n",
    "#ax.plot(Z,Z*Hpi['f'][3],'b')\n",
    "\n",
    "#ax.set_ylabel(r'$H$',size=20)\n",
    "#ax.set_xlabel(r'$x$',size=20)\n",
    "#ax.set_ylim(-0.5,0.5)\n",
    "\n",
    "py.tight_layout()"
   ]
  },
  {
   "cell_type": "code",
   "execution_count": null,
   "metadata": {},
   "outputs": [],
   "source": []
  }
 ],
 "metadata": {
  "kernelspec": {
   "display_name": "Python 2",
   "language": "python",
   "name": "python2"
  },
  "language_info": {
   "codemirror_mode": {
    "name": "ipython",
    "version": 2
   },
   "file_extension": ".py",
   "mimetype": "text/x-python",
   "name": "python",
   "nbconvert_exporter": "python",
   "pygments_lexer": "ipython2",
   "version": "2.7.12"
  }
 },
 "nbformat": 4,
 "nbformat_minor": 2
}
