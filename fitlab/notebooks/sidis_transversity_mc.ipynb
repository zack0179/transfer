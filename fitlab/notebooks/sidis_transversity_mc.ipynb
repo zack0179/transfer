{
 "cells": [
  {
   "cell_type": "markdown",
   "metadata": {},
   "source": [
    "# JAM FITTER"
   ]
  },
  {
   "cell_type": "code",
   "execution_count": 1,
   "metadata": {},
   "outputs": [],
   "source": [
    "import copy \n",
    "import numpy as np\n",
    "import os\n",
    "import pandas as pd\n",
    "import pylab as py\n",
    "import sys\n",
    "\n",
    "from fitlab.mcsamp import MCSAMP\n",
    "from fitlab.resman import RESMAN\n",
    "from tools.config import load_config, conf\n",
    "from tools.tools import load, save, checkdir\n",
    "\n",
    "%matplotlib inline"
   ]
  },
  {
   "cell_type": "code",
   "execution_count": 2,
   "metadata": {},
   "outputs": [],
   "source": [
    "def lprint(msg):\n",
    "    sys.stdout.write('\\r')\n",
    "    sys.stdout.write('%s' %msg)\n",
    "    sys.stdout.flush()"
   ]
  },
  {
   "cell_type": "markdown",
   "metadata": {},
   "source": [
    "### Runtime Options\n",
    "Here I am specifying what type of run to do."
   ]
  },
  {
   "cell_type": "code",
   "execution_count": 3,
   "metadata": {},
   "outputs": [],
   "source": [
    "FIT_SIA = True "
   ]
  },
  {
   "cell_type": "markdown",
   "metadata": {},
   "source": [
    "## setup path to store the results "
   ]
  },
  {
   "cell_type": "code",
   "execution_count": 4,
   "metadata": {},
   "outputs": [],
   "source": [
    "path2results = 'sidis_transversity_with_sia_debug'\n",
    "checkdir(path2results)"
   ]
  },
  {
   "cell_type": "markdown",
   "metadata": {},
   "source": [
    "## data sets "
   ]
  },
  {
   "cell_type": "code",
   "execution_count": 5,
   "metadata": {},
   "outputs": [],
   "source": [
    "conf['datasets'] = {}"
   ]
  },
  {
   "cell_type": "markdown",
   "metadata": {},
   "source": [
    "## SIDIS Collins Asymmetry"
   ]
  },
  {
   "cell_type": "code",
   "execution_count": 6,
   "metadata": {},
   "outputs": [],
   "source": [
    "def load_sidis():\n",
    "    conf['datasets']['sidis']={}\n",
    "    conf['datasets']['sidis']['filters']={0:{'idx':None,'filter':None}}\n",
    "    conf['datasets']['sidis']['filters'][0]['idx']=[4001,4000,4002,4004,4003,4005,3027,3025,3010]\n",
    "    conf['datasets']['sidis']['filters'][0]['idx'].extend([3012,3005,3013,3026,3000,3003,3016,3004,3018])\n",
    "    conf['datasets']['sidis']['filters'][0]['filter']=\"z<0.6 and Q2>1.69 and pT>0.2 and pT<0.9\"\n",
    "\n",
    "    conf['datasets']['sidis']['xlsx']={}\n",
    "    for dataset_index in conf['datasets']['sidis']['filters'][0]['idx']:\n",
    "        conf[\"datasets\"][\"sidis\"][\"xlsx\"][dataset_index] = 'sidis/expdata/%d.xlsx' % dataset_index     \n",
    "\n",
    "    conf['datasets']['sidis']['norm']={}\n",
    "    for k in conf['datasets']['sidis']['xlsx']: \n",
    "        conf['datasets']['sidis']['norm'][k]={'value':1,'fixed':True,'min':0,'max':1} "
   ]
  },
  {
   "cell_type": "code",
   "execution_count": 7,
   "metadata": {},
   "outputs": [],
   "source": [
    "def load_sia():\n",
    "    conf['datasets']['sia']={}\n",
    "    conf['datasets']['sia']['filters']={0:{'idx':None,'filter':None}}\n",
    "    conf['datasets']['sia']['filters'][0]['idx']=[1000,1001,1002,1003,1004,1005,2008,2009]\n",
    "    conf['datasets']['sia']['filters'][0]['filter']=\"Q2>1.69\"\n",
    "    \n",
    "    conf['datasets']['sia']['xlsx']={}\n",
    "    for dataset_index in conf['datasets']['sia']['filters'][0]['idx']:\n",
    "        conf[\"datasets\"][\"sia\"][\"xlsx\"][dataset_index] = 'sia/expdata/%d.xlsx' % dataset_index  \n",
    "\n",
    "    conf['datasets']['sia']['norm']={}\n",
    "    for k in conf['datasets']['sia']['xlsx']: \n",
    "        conf['datasets']['sia']['norm'][k]={'value':1,'fixed':True,'min':0,'max':1} "
   ]
  },
  {
   "cell_type": "code",
   "execution_count": 8,
   "metadata": {},
   "outputs": [],
   "source": [
    "load_sidis()\n",
    "\n",
    "if FIT_SIA:\n",
    "    load_sia()"
   ]
  },
  {
   "cell_type": "markdown",
   "metadata": {},
   "source": [
    "## parameters"
   ]
  },
  {
   "cell_type": "code",
   "execution_count": 9,
   "metadata": {},
   "outputs": [],
   "source": [
    "conf['params'] = {}\n",
    "conf['shape'] = 1"
   ]
  },
  {
   "cell_type": "markdown",
   "metadata": {},
   "source": [
    "### TMD PDF/FF parameters (from upol analysis)"
   ]
  },
  {
   "cell_type": "code",
   "execution_count": 10,
   "metadata": {},
   "outputs": [],
   "source": [
    "conf['params'] = {}\n",
    "conf['params']['pdf'] = {}\n",
    "conf['params']['pdf']['widths0 valence']  = {'value':5.89294556274006398056e-01,'fixed':True,'min':0,'max':1}\n",
    "conf['params']['pdf']['widths0 sea']      = {'value':6.33443286558464269120e-01,'fixed':True,'min':0,'max':1}\n",
    "\n",
    "conf['params']['ff'] = {}\n",
    "conf['params']['ff']['widths0 pi+ fav']   = {'value':1.15920500644793311729e-01,'fixed':True,'min':0,'max':1}\n",
    "conf['params']['ff']['widths0 pi+ unfav'] = {'value':1.39782079427820671302e-01,'fixed':True,'min':0,'max':1}"
   ]
  },
  {
   "cell_type": "markdown",
   "metadata": {},
   "source": [
    "### TMD Transversity parameters"
   ]
  },
  {
   "cell_type": "code",
   "execution_count": 11,
   "metadata": {},
   "outputs": [],
   "source": [
    "conf['params']['transversity'] = {}\n",
    "conf['params']['transversity']['widths0 valence'] = {'value':0.5,'fixed':False,'min':1e-5,'max':2}\n",
    "conf['params']['transversity']['widths0 sea']     = {'value':0.0,'fixed':True,'min':1e-5,'max':2}\n",
    "conf['params']['transversity']['u N']  = {'value':1,'fixed':False,'min':-10,'max':10}\n",
    "conf['params']['transversity']['u a']  = {'value':-0.5,'fixed':False,'min':-1 ,'max':10}\n",
    "conf['params']['transversity']['u b']  = {'value': 3.0,'fixed':False,'min': 1,'max':10}\n",
    "conf['params']['transversity']['d N']  = {'value': 1.0,'fixed':False,'min':-20,'max':20}\n",
    "conf['params']['transversity']['d a']  = {'value':-0.5,'fixed':False,'min':-1,'max':5}\n",
    "conf['params']['transversity']['d b']  = {'value': 3.0,'fixed':False,'min':1e-5,'max':20}\n",
    "conf['params']['transversity']['s N']  = {'value': 0.0,'fixed':True,'min':-10,'max':10}\n",
    "conf['params']['transversity']['s a']  = {'value':-0.5,'fixed':True,'min':-1,'max':5}\n",
    "conf['params']['transversity']['s b']  = {'value': 3.0,'fixed':True,'min':1e-5,'max':10}\n",
    "conf['params']['transversity']['u c']  = {'value': 0.0,'fixed':True,'min':-10,'max':10}\n",
    "conf['params']['transversity']['d c']  = {'value': 0.0,'fixed':True,'min':-10,'max':10}\n",
    "conf['params']['transversity']['s c']  = {'value': 0.0,'fixed':True,'min':-10,'max':10}\n",
    "conf['params']['transversity']['u d']  = {'value': 0.0,'fixed':True,'min':-10,'max':10}\n",
    "conf['params']['transversity']['d d']  = {'value': 0.0,'fixed':True,'min':-10,'max':10}\n",
    "conf['params']['transversity']['s d']  = {'value': 0.0,'fixed':True,'min':-10,'max':10}"
   ]
  },
  {
   "cell_type": "markdown",
   "metadata": {},
   "source": [
    "### TMD Collins parameters"
   ]
  },
  {
   "cell_type": "code",
   "execution_count": 12,
   "metadata": {},
   "outputs": [],
   "source": [
    "def configure_collins_fixed():\n",
    "    conf['params']['collins'] = {}\n",
    "    conf['params']['collins']['widths0 pi+ fav']     = {'value':0.07249,'fixed':True,'min':1e-5,'max':1}\n",
    "    conf['params']['collins']['widths0 pi+ unfav']   = {'value':0.10606,'fixed':True,'min':1e-5,'max':2}\n",
    "    conf['params']['collins']['pi+ u N 1']  = {'value': 1.05988,'fixed':True,'min':0,'max':20}\n",
    "    conf['params']['collins']['pi+ u a 1']  = {'value':-1.56637,'fixed':True,'min':-1,'max':5}\n",
    "    conf['params']['collins']['pi+ u b 1']  = {'value': 4.76009 ,'fixed':True,'min':1e-5,'max':10}\n",
    "    conf['params']['collins']['pi+ d N 1']  = {'value':-6.64443,'fixed':True,'min':-20,'max':0}\n",
    "    conf['params']['collins']['pi+ d a 1']  = {'value': 3.45852,'fixed':True,'min':-1,'max':5}\n",
    "    conf['params']['collins']['pi+ d b 1']  = {'value': 3.11503 ,'fixed':True,'min':1e-5,'max':10}\n",
    "    conf['params']['collins']['pi+ u c 1']  = {'value': 0.0,'fixed':True,'min':-10,'max':10}\n",
    "    conf['params']['collins']['pi+ d c 1']  = {'value': 0.0,'fixed':True,'min':-10,'max':10}\n",
    "    conf['params']['collins']['pi+ u d 1']  = {'value': 0.0,'fixed':True,'min':-10,'max':10}\n",
    "    conf['params']['collins']['pi+ d d 1']  = {'value': 0.0,'fixed':True,'min':-10,'max':10}\n",
    "\n",
    "    conf['params']['collins']['pi+ u N 2']  = {'value': 8.64876,'fixed':True,'min':0,'max':20}\n",
    "    conf['params']['collins']['pi+ u a 2']  = {'value': 4.31424,'fixed':True,'min':-1,'max':5}\n",
    "    conf['params']['collins']['pi+ u b 2']  = {'value': 3.59918,'fixed':True,'min':1e-5,'max':10}\n",
    "    conf['params']['collins']['pi+ d N 2']  = {'value': 0.0,'fixed':True,'min':-20,'max':0}\n",
    "    conf['params']['collins']['pi+ d a 2']  = {'value': 0.0,'fixed':True,'min':-1,'max':5}\n",
    "    conf['params']['collins']['pi+ d b 2']  = {'value': 0.0,'fixed':True,'min':1e-5,'max':10}\n",
    "    conf['params']['collins']['pi+ u c 2']  = {'value': 0.0,'fixed':True,'min':-10,'max':10}\n",
    "    conf['params']['collins']['pi+ d c 2']  = {'value': 0.0,'fixed':True,'min':-10,'max':10}\n",
    "    conf['params']['collins']['pi+ u d 2']  = {'value': 0.0,'fixed':True,'min':-10,'max':10}\n",
    "    conf['params']['collins']['pi+ d d 2']  = {'value': 0.0,'fixed':True,'min':-10,'max':10}"
   ]
  },
  {
   "cell_type": "code",
   "execution_count": 13,
   "metadata": {},
   "outputs": [],
   "source": [
    "def configure_collins_free():\n",
    "    conf['params']['collins']={}\n",
    "    conf['params']['collins']['widths0 pi+ fav']     = {'value':7.47958632885192820083e-02,'fixed':False,'min':0.05,'max':0.10}\n",
    "    conf['params']['collins']['widths0 pi+ unfav']   = {'value':0.059763576917398841815e+00,'fixed':False,'min':0.05,'max':0.136784756168045196212}\n",
    "    conf['params']['collins']['pi+ u N 1']  = {'value': 4.49239476315589936206e+00,'fixed':False,'min':0,'max':3}\n",
    "    conf['params']['collins']['pi+ u a 1']  = {'value':-8.28098465048009213518e-01,'fixed':False,'min':-1.9,'max':0}\n",
    "    conf['params']['collins']['pi+ u b 1']  = {'value': 6.60780815284983358282e+00,'fixed':False,'min':2,'max':6}\n",
    "    conf['params']['collins']['pi+ d N 1']  = {'value':-4.14852904854067539020e+00,'fixed':False,'min':-12,'max':0.0}\n",
    "    conf['params']['collins']['pi+ d a 1']  = {'value': 1.00000000000000000000e+00,'fixed':False,'min': 0,'max':7.0}\n",
    "    conf['params']['collins']['pi+ d b 1']  = {'value': 2.37348461151638101541e+00,'fixed':False,'min':2.5,'max':4.0}\n",
    "\n",
    "    conf['params']['collins']['pi+ u c 1']  = {'value': 0.0,'fixed':True,'min':-10,'max':10}\n",
    "    conf['params']['collins']['pi+ d c 1']  = {'value': 0.0,'fixed':True,'min':-10,'max':10}\n",
    "    conf['params']['collins']['pi+ u d 1']  = {'value': 0.0,'fixed':True,'min':-10,'max':10}\n",
    "    conf['params']['collins']['pi+ d d 1']  = {'value': 0.0,'fixed':True,'min':-10,'max':10}\n",
    "\n",
    "    conf['params']['collins']['pi+ u N 2']  = {'value': 6.11150078306284516572e+00,'fixed':False,'min':0,'max':15}\n",
    "    conf['params']['collins']['pi+ u a 2']  = {'value': 4.71508421683099232524e+00,'fixed':False,'min':1,'max':8.0}\n",
    "    conf['params']['collins']['pi+ u b 2']  = {'value': 2.75387728005980081392e+00,'fixed':False,'min':0,'max':5}\n",
    "\n",
    "    conf['params']['collins']['pi+ d N 2']  = {'value': 0.0,'fixed':True,'min':-20,'max':0}\n",
    "    conf['params']['collins']['pi+ d a 2']  = {'value': 0.0,'fixed':True,'min':-1,'max':5}\n",
    "    conf['params']['collins']['pi+ d b 2']  = {'value': 0.0,'fixed':True,'min':1e-5,'max':10}\n",
    "    conf['params']['collins']['pi+ u c 2']  = {'value': 0.0,'fixed':True,'min':-10,'max':10}\n",
    "    conf['params']['collins']['pi+ d c 2']  = {'value': 0.0,'fixed':True,'min':-10,'max':10}\n",
    "    conf['params']['collins']['pi+ u d 2']  = {'value': 0.0,'fixed':True,'min':-10,'max':10}\n",
    "    conf['params']['collins']['pi+ d d 2']  = {'value': 0.0,'fixed':True,'min':-10,'max':10}"
   ]
  },
  {
   "cell_type": "code",
   "execution_count": 14,
   "metadata": {},
   "outputs": [],
   "source": [
    "if FIT_SIA:\n",
    "    configure_collins_free()\n",
    "else:\n",
    "    configure_collins_fixed()"
   ]
  },
  {
   "cell_type": "markdown",
   "metadata": {
    "collapsed": true
   },
   "source": [
    "## Nested Sampling"
   ]
  },
  {
   "cell_type": "markdown",
   "metadata": {},
   "source": [
    "### initialize fitpack libraries"
   ]
  },
  {
   "cell_type": "code",
   "execution_count": 15,
   "metadata": {},
   "outputs": [
    {
     "name": "stdout",
     "output_type": "stream",
     "text": [
      "loading sidis data sets 3013\n",
      "multiprocess setup: ncpus=1 / observable\n",
      "loading sia data sets 2009\n",
      "multiprocess setup: ncpus=1 / observable\n"
     ]
    }
   ],
   "source": [
    "conf['ncpus'] = 1\n",
    "conf['resman'] = RESMAN()\n",
    "mcsamp = MCSAMP()"
   ]
  },
  {
   "cell_type": "markdown",
   "metadata": {
    "collapsed": true
   },
   "source": [
    "### start multiple NS runs\n",
    "- the code will start n independent runs specified by size"
   ]
  },
  {
   "cell_type": "code",
   "execution_count": 16,
   "metadata": {
    "scrolled": false
   },
   "outputs": [
    {
     "name": "stdout",
     "output_type": "stream",
     "text": [
      "iter=1176  logz=-30.077 rel-err=2.792e-02  t-elapsed=4.036e+04  dchi2min=-2.262e+01 dchi2max=7.430e+01"
     ]
    },
    {
     "name": "stderr",
     "output_type": "stream",
     "text": [
      "Traceback (most recent call last):\n",
      "Process Process-3:\n",
      "Process Process-2:\n",
      "Process Process-8:\n",
      "Process Process-1:\n",
      "Process Process-4:\n",
      "Process Process-6:\n",
      "Process Process-7:\n",
      "Process Process-5:\n",
      "Traceback (most recent call last):\n",
      "Traceback (most recent call last):\n",
      "  File \"/usr/lib/python2.7/multiprocessing/process.py\", line 258, in _bootstrap\n",
      "  File \"/usr/lib/python2.7/multiprocessing/process.py\", line 258, in _bootstrap\n",
      "Traceback (most recent call last):\n",
      "Traceback (most recent call last):\n",
      "Traceback (most recent call last):\n",
      "Traceback (most recent call last):\n",
      "Traceback (most recent call last):\n",
      "  File \"/usr/lib/python2.7/multiprocessing/process.py\", line 258, in _bootstrap\n",
      "  File \"/usr/lib/python2.7/multiprocessing/process.py\", line 258, in _bootstrap\n",
      "  File \"/usr/lib/python2.7/multiprocessing/process.py\", line 258, in _bootstrap\n",
      "    self.run()\n",
      "    self.run()\n",
      "  File \"/usr/lib/python2.7/multiprocessing/process.py\", line 258, in _bootstrap\n",
      "  File \"/usr/lib/python2.7/multiprocessing/process.py\", line 258, in _bootstrap\n",
      "    self.run()\n",
      "    self.run()\n",
      "  File \"/usr/lib/python2.7/multiprocessing/process.py\", line 258, in _bootstrap\n",
      "  File \"/usr/lib/python2.7/multiprocessing/process.py\", line 114, in run\n",
      "  File \"/usr/lib/python2.7/multiprocessing/process.py\", line 114, in run\n",
      "    self.run()\n",
      "    self.run()\n",
      "    self.run()\n",
      "  File \"/usr/lib/python2.7/multiprocessing/process.py\", line 114, in run\n",
      "    self._target(*self._args, **self._kwargs)\n",
      "  File \"/usr/lib/python2.7/multiprocessing/process.py\", line 114, in run\n",
      "  File \"/usr/lib/python2.7/multiprocessing/process.py\", line 114, in run\n",
      "    self._target(*self._args, **self._kwargs)\n",
      "    self._target(*self._args, **self._kwargs)\n",
      "    self.run()\n",
      "    self._target(*self._args, **self._kwargs)\n",
      "  File \"/usr/lib/python2.7/multiprocessing/process.py\", line 114, in run\n",
      "  File \"/usr/lib/python2.7/multiprocessing/process.py\", line 114, in run\n",
      "  File \"/home/dmriser/repos/fitpack/fitlab/mcsamp.py\", line 83, in single_run\n",
      "  File \"/home/dmriser/repos/fitpack/fitlab/mcsamp.py\", line 83, in single_run\n",
      "  File \"/home/dmriser/repos/fitpack/fitlab/mcsamp.py\", line 83, in single_run\n",
      "  File \"/home/dmriser/repos/fitpack/fitlab/mcsamp.py\", line 83, in single_run\n",
      "    self._target(*self._args, **self._kwargs)\n",
      "    self._target(*self._args, **self._kwargs)\n",
      "    self._target(*self._args, **self._kwargs)\n",
      "  File \"/home/dmriser/repos/fitpack/fitlab/mcsamp.py\", line 83, in single_run\n",
      "  File \"/usr/lib/python2.7/multiprocessing/process.py\", line 114, in run\n",
      "  File \"/home/dmriser/repos/fitpack/fitlab/mcsamp.py\", line 83, in single_run\n",
      "    results=nest.NEST().run()\n",
      "    results=nest.NEST().run()\n",
      "    results=nest.NEST().run()\n",
      "    results=nest.NEST().run()\n",
      "  File \"/home/dmriser/repos/fitpack/fitlab/mcsamp.py\", line 83, in single_run\n",
      "    results=nest.NEST().run()\n",
      "  File \"/home/dmriser/repos/fitpack/fitlab/nest.py\", line 406, in run\n",
      "    results=nest.NEST().run()\n",
      "    self._target(*self._args, **self._kwargs)\n",
      "    results=nest.NEST().run()\n",
      "  File \"/home/dmriser/repos/fitpack/fitlab/nest.py\", line 406, in run\n",
      "  File \"/home/dmriser/repos/fitpack/fitlab/mcsamp.py\", line 83, in single_run\n",
      "  File \"/home/dmriser/repos/fitpack/fitlab/nest.py\", line 406, in run\n",
      "  File \"/home/dmriser/repos/fitpack/fitlab/nest.py\", line 406, in run\n",
      "    self.next(t2-t1)\n",
      "    self.next(t2-t1)\n",
      "  File \"/home/dmriser/repos/fitpack/fitlab/nest.py\", line 406, in run\n",
      "    self.next(t2-t1)\n",
      "    results=nest.NEST().run()\n",
      "  File \"/home/dmriser/repos/fitpack/fitlab/nest.py\", line 406, in run\n",
      "    self.next(t2-t1)\n",
      "  File \"/home/dmriser/repos/fitpack/fitlab/nest.py\", line 361, in next\n",
      "  File \"/home/dmriser/repos/fitpack/fitlab/nest.py\", line 406, in run\n",
      "  File \"/home/dmriser/repos/fitpack/fitlab/nest.py\", line 406, in run\n",
      "    self.next(t2-t1)\n",
      "  File \"/home/dmriser/repos/fitpack/fitlab/nest.py\", line 361, in next\n",
      "  File \"/home/dmriser/repos/fitpack/fitlab/nest.py\", line 361, in next\n",
      "    self.next(t2-t1)\n",
      "    self.gen_sample()\n",
      "    self.next(t2-t1)\n",
      "    self.gen_sample()\n",
      "  File \"/home/dmriser/repos/fitpack/fitlab/nest.py\", line 361, in next\n",
      "  File \"/home/dmriser/repos/fitpack/fitlab/nest.py\", line 361, in next\n",
      "  File \"/home/dmriser/repos/fitpack/fitlab/nest.py\", line 361, in next\n",
      "    self.gen_sample()\n",
      "  File \"/home/dmriser/repos/fitpack/fitlab/nest.py\", line 336, in gen_sample\n",
      "    self.gen_sample()\n",
      "  File \"/home/dmriser/repos/fitpack/fitlab/nest.py\", line 336, in gen_sample\n",
      "    self.next(t2-t1)\n",
      "  File \"/home/dmriser/repos/fitpack/fitlab/nest.py\", line 336, in gen_sample\n",
      "    _p,_nll=self.gen_par_cov(nll,p)\n",
      "    _p,_nll=self.gen_par_cov(nll,p)\n",
      "    self.gen_sample()\n",
      "  File \"/home/dmriser/repos/fitpack/fitlab/nest.py\", line 361, in next\n",
      "  File \"/home/dmriser/repos/fitpack/fitlab/nest.py\", line 361, in next\n",
      "  File \"/home/dmriser/repos/fitpack/fitlab/nest.py\", line 312, in gen_par_cov\n",
      "    self.gen_sample()\n",
      "    self.gen_sample()\n",
      "  File \"/home/dmriser/repos/fitpack/fitlab/nest.py\", line 336, in gen_sample\n",
      "  File \"/home/dmriser/repos/fitpack/fitlab/nest.py\", line 312, in gen_par_cov\n",
      "    _nll = self.get_nll(p)\n",
      "    self.gen_sample()\n",
      "    _p,_nll=self.gen_par_cov(nll,p)\n",
      "  File \"/home/dmriser/repos/fitpack/fitlab/nest.py\", line 336, in gen_sample\n",
      "  File \"/home/dmriser/repos/fitpack/fitlab/nest.py\", line 336, in gen_sample\n",
      "  File \"/home/dmriser/repos/fitpack/fitlab/nest.py\", line 336, in gen_sample\n",
      "  File \"/home/dmriser/repos/fitpack/fitlab/mcsamp.py\", line 23, in nll\n",
      "    _p,_nll=self.gen_par_cov(nll,p)\n",
      "  File \"/home/dmriser/repos/fitpack/fitlab/nest.py\", line 312, in gen_par_cov\n",
      "    _p,_nll=self.gen_par_cov(nll,p)\n",
      "  File \"/home/dmriser/repos/fitpack/fitlab/nest.py\", line 336, in gen_sample\n",
      "    res=self.get_residuals(par)\n",
      "  File \"/home/dmriser/repos/fitpack/fitlab/nest.py\", line 312, in gen_par_cov\n",
      "  File \"/home/dmriser/repos/fitpack/fitlab/nest.py\", line 312, in gen_par_cov\n",
      "    _nll = self.get_nll(p)\n",
      "  File \"/home/dmriser/repos/fitpack/fitlab/nest.py\", line 312, in gen_par_cov\n",
      "    _p,_nll=self.gen_par_cov(nll,p)\n",
      "    _p,_nll=self.gen_par_cov(nll,p)\n",
      "    _p,_nll=self.gen_par_cov(nll,p)\n",
      "    _nll = self.get_nll(p)\n",
      "    _nll = self.get_nll(p)\n",
      "  File \"/home/dmriser/repos/fitpack/fitlab/nest.py\", line 312, in gen_par_cov\n",
      "    _nll = self.get_nll(p)\n",
      "  File \"/home/dmriser/repos/fitpack/fitlab/mcsamp.py\", line 23, in nll\n",
      "  File \"/home/dmriser/repos/fitpack/fitlab/mcsamp.py\", line 23, in nll\n",
      "  File \"/home/dmriser/repos/fitpack/fitlab/mcsamp.py\", line 23, in nll\n",
      "  File \"/home/dmriser/repos/fitpack/fitlab/nest.py\", line 312, in gen_par_cov\n",
      "    _nll = self.get_nll(p)\n",
      "    res=self.get_residuals(par)\n",
      "  File \"/home/dmriser/repos/fitpack/fitlab/mcsamp.py\", line 14, in get_residuals\n",
      "  File \"/home/dmriser/repos/fitpack/fitlab/mcsamp.py\", line 23, in nll\n",
      "    res=self.get_residuals(par)\n",
      "    _nll = self.get_nll(p)\n",
      "    res=self.get_residuals(par)\n",
      "  File \"/home/dmriser/repos/fitpack/fitlab/mcsamp.py\", line 14, in get_residuals\n",
      "  File \"/home/dmriser/repos/fitpack/fitlab/mcsamp.py\", line 14, in get_residuals\n",
      "    _nll = self.get_nll(p)\n",
      "  File \"/home/dmriser/repos/fitpack/fitlab/mcsamp.py\", line 14, in get_residuals\n",
      "  File \"/home/dmriser/repos/fitpack/fitlab/mcsamp.py\", line 23, in nll\n",
      "  File \"/home/dmriser/repos/fitpack/fitlab/mcsamp.py\", line 23, in nll\n",
      "    res,rres,nres=conf['resman'].get_residuals(par)\n",
      "    res,rres,nres=conf['resman'].get_residuals(par)\n",
      "  File \"/home/dmriser/repos/fitpack/fitlab/mcsamp.py\", line 23, in nll\n",
      "    res=self.get_residuals(par)\n",
      "  File \"/home/dmriser/repos/fitpack/tools/residuals.py\", line 178, in get_residuals\n",
      "    res=self.get_residuals(par)\n",
      "    res,rres,nres=conf['resman'].get_residuals(par)\n",
      "  File \"/home/dmriser/repos/fitpack/fitlab/resman.py\", line 110, in get_residuals\n",
      "  File \"/home/dmriser/repos/fitpack/fitlab/resman.py\", line 110, in get_residuals\n",
      "  File \"/home/dmriser/repos/fitpack/fitlab/mcsamp.py\", line 14, in get_residuals\n",
      "    res=self.get_residuals(par)\n",
      "    res,rres,nres=conf['resman'].get_residuals(par)\n",
      "    if 'sia'     in conf['datasets']: res,rres,nres=self._get_residuals(self.siares.get_residuals,res,rres,nres)\n",
      "  File \"/home/dmriser/repos/fitpack/fitlab/mcsamp.py\", line 14, in get_residuals\n",
      "    res,rres,nres=conf['resman'].get_residuals(par)\n",
      "  File \"/home/dmriser/repos/fitpack/fitlab/resman.py\", line 110, in get_residuals\n"
     ]
    },
    {
     "name": "stderr",
     "output_type": "stream",
     "text": [
      "  File \"/home/dmriser/repos/fitpack/fitlab/resman.py\", line 100, in _get_residuals\n",
      "    res,rres,nres=conf['resman'].get_residuals(par)\n",
      "    _res,_rres,_nres=func()\n",
      "  File \"/home/dmriser/repos/fitpack/fitlab/resman.py\", line 110, in get_residuals\n",
      "    if 'sia'     in conf['datasets']: res,rres,nres=self._get_residuals(self.siares.get_residuals,res,rres,nres)\n",
      "  File \"/home/dmriser/repos/fitpack/fitlab/resman.py\", line 110, in get_residuals\n",
      "    if 'sia'     in conf['datasets']: res,rres,nres=self._get_residuals(self.siares.get_residuals,res,rres,nres)\n",
      "  File \"/home/dmriser/repos/fitpack/fitlab/resman.py\", line 100, in _get_residuals\n",
      "  File \"/home/dmriser/repos/fitpack/tools/residuals.py\", line 178, in get_residuals\n",
      "    if 'sia'     in conf['datasets']: res,rres,nres=self._get_residuals(self.siares.get_residuals,res,rres,nres)\n",
      "    _res,_rres,_nres=func()\n",
      "  File \"/home/dmriser/repos/fitpack/fitlab/resman.py\", line 100, in _get_residuals\n",
      "    self.get_theory()\n",
      "  File \"/home/dmriser/repos/fitpack/fitlab/resman.py\", line 100, in _get_residuals\n",
      "    _res,_rres,_nres=func()\n",
      "  File \"/home/dmriser/repos/fitpack/tools/residuals.py\", line 178, in get_residuals\n",
      "  File \"/home/dmriser/repos/fitpack/tools/residuals.py\", line 164, in get_theory\n",
      "    _res,_rres,_nres=func()\n",
      "    output=self.mproc.run()\n",
      "    self.get_theory()\n",
      "  File \"/home/dmriser/repos/fitpack/tools/residuals.py\", line 178, in get_residuals\n",
      "  File \"/home/dmriser/repos/fitpack/tools/multiproc.py\", line 38, in run\n",
      "  File \"/home/dmriser/repos/fitpack/tools/residuals.py\", line 164, in get_theory\n",
      "    self.get_theory()\n",
      "    output=self.mproc.run()\n",
      "    self.get_theory()\n",
      "  File \"/home/dmriser/repos/fitpack/tools/residuals.py\", line 164, in get_theory\n",
      "    return self.singlecore()\n",
      "  File \"/home/dmriser/repos/fitpack/fitlab/resman.py\", line 110, in get_residuals\n",
      "  File \"/home/dmriser/repos/fitpack/fitlab/mcsamp.py\", line 14, in get_residuals\n",
      "    res=self.get_residuals(par)\n",
      "  File \"/home/dmriser/repos/fitpack/tools/residuals.py\", line 164, in get_theory\n",
      "    output=self.mproc.run()\n",
      "    if 'sia'     in conf['datasets']: res,rres,nres=self._get_residuals(self.siares.get_residuals,res,rres,nres)\n",
      "    res,rres,nres=conf['resman'].get_residuals(par)\n",
      "  File \"/home/dmriser/repos/fitpack/tools/multiproc.py\", line 38, in run\n",
      "  File \"/home/dmriser/repos/fitpack/fitlab/resman.py\", line 110, in get_residuals\n",
      "  File \"/home/dmriser/repos/fitpack/tools/multiproc.py\", line 38, in run\n",
      "    return self.singlecore()\n",
      "  File \"/home/dmriser/repos/fitpack/fitlab/resman.py\", line 100, in _get_residuals\n",
      "    return self.singlecore()\n",
      "  File \"/home/dmriser/repos/fitpack/tools/multiproc.py\", line 24, in singlecore\n",
      "  File \"/home/dmriser/repos/fitpack/tools/multiproc.py\", line 24, in singlecore\n",
      "    _res,_rres,_nres=func()\n",
      "    return [self.func(entry) for entry in self.data]\n",
      "  File \"/home/dmriser/repos/fitpack/tools/residuals.py\", line 178, in get_residuals\n",
      "    return [self.func(entry) for entry in self.data]\n",
      "  File \"/home/dmriser/repos/fitpack/obslib/sia/residuals.py\", line 60, in _get_theory\n",
      "    self.get_theory()\n",
      "  File \"/home/dmriser/repos/fitpack/obslib/sia/residuals.py\", line 61, in _get_theory\n",
      "  File \"/home/dmriser/repos/fitpack/tools/residuals.py\", line 164, in get_theory\n",
      "    output=self.mproc.run()\n",
      "  File \"/home/dmriser/repos/fitpack/tools/multiproc.py\", line 38, in run\n",
      "    ZLcol=self.stfuncs.ZX(2,z1,z2,Q2,pT,h1+'+',h2+'+') + self.stfuncs.ZX(2,z1,z2,Q2,pT,h1+'-',h2+'-')\n",
      "    return self.singlecore()\n",
      "    ZUcol=self.stfuncs.ZX(2,z1,z2,Q2,pT,h1+'+',h2+'-') + self.stfuncs.ZX(2,z1,z2,Q2,pT,h1+'-',h2+'+')\n",
      "  File \"/home/dmriser/repos/fitpack/obslib/sia/stfuncs.py\", line 76, in ZX\n",
      "  File \"/home/dmriser/repos/fitpack/tools/multiproc.py\", line 24, in singlecore\n",
      "  File \"/home/dmriser/repos/fitpack/obslib/sia/stfuncs.py\", line 76, in ZX\n",
      "    if 'sia'     in conf['datasets']: res,rres,nres=self._get_residuals(self.siares.get_residuals,res,rres,nres)\n",
      "  File \"/home/dmriser/repos/fitpack/tools/multiproc.py\", line 24, in singlecore\n",
      "  File \"/home/dmriser/repos/fitpack/fitlab/mcsamp.py\", line 14, in get_residuals\n",
      "    D1=conf[k1].get_C(z1,Q2,hadron1)\n",
      "    C=self.get_collinear(z,hadron)#*ff\n",
      "    return [self.func(entry) for entry in self.data]\n",
      "  File \"/home/dmriser/repos/fitpack/qcdlib/tmdlib.py\", line 270, in get_C\n",
      "    return [self.func(entry) for entry in self.data]\n",
      "  File \"/home/dmriser/repos/fitpack/obslib/sia/residuals.py\", line 71, in _get_theory\n",
      "    ZUcol=self.stfuncs.ZX(2,z1,z2,Q2,pT,h1+'+',h2+'-') + self.stfuncs.ZX(2,z1,z2,Q2,pT,h1+'-',h2+'+')\n",
      "    res,rres,nres=conf['resman'].get_residuals(par)\n",
      "  File \"/home/dmriser/repos/fitpack/obslib/sia/residuals.py\", line 61, in _get_theory\n",
      "  File \"/home/dmriser/repos/fitpack/fitlab/resman.py\", line 100, in _get_residuals\n",
      "  File \"/home/dmriser/repos/fitpack/fitlab/resman.py\", line 110, in get_residuals\n",
      "    ZLcol=self.stfuncs.ZX(2,z1,z2,Q2,pT,h1+'+',h2+'+') + self.stfuncs.ZX(2,z1,z2,Q2,pT,h1+'-',h2+'-')\n",
      "  File \"/home/dmriser/repos/fitpack/qcdlib/tmdlib.py\", line 85, in get_collinear\n",
      "  File \"/home/dmriser/repos/fitpack/obslib/sia/stfuncs.py\", line 77, in ZX\n",
      "    if 'sia'     in conf['datasets']: res,rres,nres=self._get_residuals(self.siares.get_residuals,res,rres,nres)\n",
      "    N[i]=self.get_shape(x,self.shape1[hadron][i])\n",
      "    D1=conf[k1].get_C(z1,Q2,hadron1)\n",
      "  File \"/home/dmriser/repos/fitpack/obslib/sia/stfuncs.py\", line 77, in ZX\n",
      "    _res,_rres,_nres=func()\n",
      "  File \"/home/dmriser/repos/fitpack/qcdlib/tmdlib.py\", line 270, in get_C\n",
      "    output=self.mproc.run()\n",
      "  File \"/home/dmriser/repos/fitpack/qcdlib/tmdlib.py\", line 58, in get_shape\n",
      "  File \"/home/dmriser/repos/fitpack/fitlab/resman.py\", line 100, in _get_residuals\n",
      "  File \"/home/dmriser/repos/fitpack/qcdlib/tmdlib.py\", line 58, in get_shape\n",
      "    N[i]+=self.get_shape(x,self.shape2[hadron][i])\n",
      "    C=self.get_collinear(z,hadron)#*ff\n",
      "    if 'sia'     in conf['datasets']: res,rres,nres=self._get_residuals(self.siares.get_residuals,res,rres,nres)\n",
      "    return  p[0]*x**p[1]*(1-x)**p[2]*(1+p[3]*x+p[4]*x**2)\n",
      "  File \"/home/dmriser/repos/fitpack/tools/multiproc.py\", line 38, in run\n",
      "    _res,_rres,_nres=func()\n",
      "  File \"/home/dmriser/repos/fitpack/qcdlib/tmdlib.py\", line 87, in get_collinear\n",
      "    D2=self.get_cc(conf[k2].get_C(z2,Q2,hadron2))\n",
      "    return self.singlecore()\n",
      "KeyboardInterrupt\n",
      "    D2=self.get_cc(conf[k2].get_C(z2,Q2,hadron2))\n",
      "  File \"/home/dmriser/repos/fitpack/tools/residuals.py\", line 178, in get_residuals\n",
      "  File \"/home/dmriser/repos/fitpack/tools/multiproc.py\", line 24, in singlecore\n",
      "  File \"/home/dmriser/repos/fitpack/qcdlib/tmdlib.py\", line 270, in get_C\n",
      "  File \"/home/dmriser/repos/fitpack/tools/residuals.py\", line 178, in get_residuals\n",
      "  File \"/home/dmriser/repos/fitpack/qcdlib/tmdlib.py\", line 270, in get_C\n",
      "    self.get_theory()\n",
      "    C=self.get_collinear(z,hadron)#*ff\n",
      "  File \"/home/dmriser/repos/fitpack/fitlab/resman.py\", line 100, in _get_residuals\n",
      "    self.get_theory()\n",
      "  File \"/home/dmriser/repos/fitpack/qcdlib/tmdlib.py\", line 85, in get_collinear\n",
      "  File \"/home/dmriser/repos/fitpack/tools/residuals.py\", line 164, in get_theory\n",
      "  File \"/home/dmriser/repos/fitpack/tools/residuals.py\", line 164, in get_theory\n",
      "    return  p[0]*x**p[1]*(1-x)**p[2]*(1+p[3]*x+p[4]*x**2)\n",
      "    return [self.func(entry) for entry in self.data]\n",
      "KeyboardInterrupt\n",
      "    output=self.mproc.run()\n",
      "  File \"/home/dmriser/repos/fitpack/obslib/sia/residuals.py\", line 60, in _get_theory\n",
      "    ZUcol=self.stfuncs.ZX(2,z1,z2,Q2,pT,h1+'+',h2+'-') + self.stfuncs.ZX(2,z1,z2,Q2,pT,h1+'-',h2+'+')\n",
      "    _res,_rres,_nres=func()\n",
      "    C=self.get_collinear(z,hadron)#*ff\n",
      "    output=self.mproc.run()\n",
      "  File \"/home/dmriser/repos/fitpack/tools/residuals.py\", line 178, in get_residuals\n",
      "  File \"/home/dmriser/repos/fitpack/tools/multiproc.py\", line 38, in run\n",
      "    return [self.func(entry) for entry in self.data]\n",
      "    N[i]+=self.get_shape(x,self.shape2[hadron][i])\n",
      "  File \"/home/dmriser/repos/fitpack/qcdlib/tmdlib.py\", line 85, in get_collinear\n",
      "  File \"/home/dmriser/repos/fitpack/obslib/sia/stfuncs.py\", line 76, in ZX\n",
      "    N[i]=self.get_shape(x,self.shape1[hadron][i])\n",
      "  File \"/home/dmriser/repos/fitpack/tools/multiproc.py\", line 38, in run\n",
      "    N[i]=self.get_shape(x,self.shape1[hadron][i])\n",
      "    return self.singlecore()\n",
      "  File \"/home/dmriser/repos/fitpack/qcdlib/tmdlib.py\", line 58, in get_shape\n"
     ]
    },
    {
     "name": "stderr",
     "output_type": "stream",
     "text": [
      "  File \"/home/dmriser/repos/fitpack/qcdlib/tmdlib.py\", line 58, in get_shape\n",
      "    D1=conf[k1].get_C(z1,Q2,hadron1)\n",
      "  File \"/home/dmriser/repos/fitpack/tools/multiproc.py\", line 24, in singlecore\n",
      "    return self.singlecore()\n",
      "    return  p[0]*x**p[1]*(1-x)**p[2]*(1+p[3]*x+p[4]*x**2)\n",
      "  File \"/home/dmriser/repos/fitpack/qcdlib/tmdlib.py\", line 270, in get_C\n",
      "    return [self.func(entry) for entry in self.data]\n",
      "    self.get_theory()\n",
      "KeyboardInterrupt\n",
      "    return  p[0]*x**p[1]*(1-x)**p[2]*(1+p[3]*x+p[4]*x**2)\n",
      "  File \"/home/dmriser/repos/fitpack/tools/multiproc.py\", line 24, in singlecore\n",
      "  File \"/home/dmriser/repos/fitpack/obslib/sia/residuals.py\", line 48, in _get_theory\n",
      "    C=self.get_collinear(z,hadron)#*ff\n",
      "  File \"/home/dmriser/repos/fitpack/tools/residuals.py\", line 164, in get_theory\n",
      "KeyboardInterrupt\n",
      "  File \"/home/dmriser/repos/fitpack/qcdlib/tmdlib.py\", line 87, in get_collinear\n",
      "    ZLcol=self.stfuncs.ZX(2,z1,z2,Q2,pT,h1+'+',h2+'+') + self.stfuncs.ZX(2,z1,z2,Q2,pT,h1+'-',h2+'-')\n",
      "    output=self.mproc.run()\n",
      "  File \"/home/dmriser/repos/fitpack/obslib/sia/stfuncs.py\", line 77, in ZX\n",
      "    D2=self.get_cc(conf[k2].get_C(z2,Q2,hadron2))\n",
      "  File \"/home/dmriser/repos/fitpack/tools/multiproc.py\", line 38, in run\n",
      "  File \"/home/dmriser/repos/fitpack/qcdlib/tmdlib.py\", line 270, in get_C\n",
      "  File \"/home/dmriser/repos/fitpack/qcdlib/tmdlib.py\", line 54, in get_shape\n",
      "    return self.singlecore()\n",
      "    def get_shape(self,x,p):\n",
      "    C=self.get_collinear(z,hadron)#*ff\n",
      "  File \"/home/dmriser/repos/fitpack/tools/multiproc.py\", line 24, in singlecore\n",
      "  File \"/home/dmriser/repos/fitpack/qcdlib/tmdlib.py\", line 87, in get_collinear\n",
      "KeyboardInterrupt\n",
      "    return [self.func(entry) for entry in self.data]\n",
      "    N[i]+=self.get_shape(x,self.shape2[hadron][i])\n",
      "  File \"/home/dmriser/repos/fitpack/obslib/sia/residuals.py\", line 61, in _get_theory\n",
      "  File \"/home/dmriser/repos/fitpack/obslib/sia/residuals.py\", line 72, in _get_theory\n",
      "    ZLcol=self.stfuncs.ZX(2,z1,z2,Q2,pT,h1+'+',h2+'+') + self.stfuncs.ZX(2,z1,z2,Q2,pT,h1+'-',h2+'-')\n",
      "  File \"/home/dmriser/repos/fitpack/qcdlib/tmdlib.py\", line 58, in get_shape\n",
      "  File \"/home/dmriser/repos/fitpack/obslib/sia/stfuncs.py\", line 77, in ZX\n",
      "    D2=self.get_cc(conf[k2].get_C(z2,Q2,hadron2))\n",
      "    return  p[0]*x**p[1]*(1-x)**p[2]*(1+p[3]*x+p[4]*x**2)\n",
      "KeyboardInterrupt\n",
      "    C=self.get_collinear(z,hadron)#*ff\n",
      "  File \"/home/dmriser/repos/fitpack/qcdlib/tmdlib.py\", line 270, in get_C\n",
      "    return  p[0]*x**p[1]*(1-x)**p[2]*(1+p[3]*x+p[4]*x**2)\n",
      "    C=self.get_collinear(z,hadron)#*ff\n",
      "    ZLcol=self.stfuncs.ZX(2,z1,z2,Q2,pT,h1+'+',h2+'+') + self.stfuncs.ZX(2,z1,z2,Q2,pT,h1+'-',h2+'-')\n",
      "  File \"/home/dmriser/repos/fitpack/qcdlib/tmdlib.py\", line 85, in get_collinear\n",
      "  File \"/home/dmriser/repos/fitpack/obslib/sia/stfuncs.py\", line 77, in ZX\n",
      "    N[i]=self.get_shape(x,self.shape1[hadron][i])\n",
      "    D2=self.get_cc(conf[k2].get_C(z2,Q2,hadron2))\n",
      "  File \"/home/dmriser/repos/fitpack/qcdlib/tmdlib.py\", line 58, in get_shape\n",
      "  File \"/home/dmriser/repos/fitpack/qcdlib/tmdlib.py\", line 270, in get_C\n",
      "KeyboardInterrupt\n",
      "  File \"/home/dmriser/repos/fitpack/qcdlib/tmdlib.py\", line 87, in get_collinear\n",
      "    N[i]+=self.get_shape(x,self.shape2[hadron][i])\n",
      "  File \"/home/dmriser/repos/fitpack/qcdlib/tmdlib.py\", line 54, in get_shape\n",
      "    def get_shape(self,x,p):\n",
      "KeyboardInterrupt\n"
     ]
    },
    {
     "ename": "KeyboardInterrupt",
     "evalue": "",
     "output_type": "error",
     "traceback": [
      "\u001b[0;31m---------------------------------------------------------------------------\u001b[0m",
      "\u001b[0;31mKeyboardInterrupt\u001b[0m                         Traceback (most recent call last)",
      "\u001b[0;32m<ipython-input-16-5cc68f39fede>\u001b[0m in \u001b[0;36m<module>\u001b[0;34m()\u001b[0m\n\u001b[1;32m      3\u001b[0m mcsamp.run(path2results, \n\u001b[1;32m      4\u001b[0m            \u001b[0mfactor\u001b[0m\u001b[0;34m=\u001b[0m\u001b[0mconf\u001b[0m\u001b[0;34m[\u001b[0m\u001b[0;34m'factor'\u001b[0m\u001b[0;34m]\u001b[0m\u001b[0;34m,\u001b[0m\u001b[0;34m\u001b[0m\u001b[0m\n\u001b[0;32m----> 5\u001b[0;31m            size=conf['size'])\n\u001b[0m",
      "\u001b[0;32m/home/dmriser/repos/fitpack/fitlab/mcsamp.pyc\u001b[0m in \u001b[0;36mrun\u001b[0;34m(self, path, size, factor)\u001b[0m\n\u001b[1;32m    107\u001b[0m     \u001b[0mP\u001b[0m \u001b[0;34m=\u001b[0m \u001b[0;34m[\u001b[0m\u001b[0mProcess\u001b[0m\u001b[0;34m(\u001b[0m\u001b[0mtarget\u001b[0m\u001b[0;34m=\u001b[0m\u001b[0mself\u001b[0m\u001b[0;34m.\u001b[0m\u001b[0msingle_run\u001b[0m\u001b[0;34m,\u001b[0m \u001b[0margs\u001b[0m\u001b[0;34m=\u001b[0m\u001b[0;34m(\u001b[0m\u001b[0;34m'%s/%i.dat'\u001b[0m\u001b[0;34m%\u001b[0m\u001b[0;34m(\u001b[0m\u001b[0moutputdir\u001b[0m\u001b[0;34m,\u001b[0m\u001b[0mi\u001b[0m\u001b[0;34m)\u001b[0m\u001b[0;34m,\u001b[0m\u001b[0mfactor\u001b[0m\u001b[0;34m,\u001b[0m\u001b[0;34m)\u001b[0m\u001b[0;34m)\u001b[0m \u001b[0;32mfor\u001b[0m \u001b[0mi\u001b[0m  \u001b[0;32min\u001b[0m \u001b[0mnruns\u001b[0m\u001b[0;34m]\u001b[0m\u001b[0;34m\u001b[0m\u001b[0m\n\u001b[1;32m    108\u001b[0m     \u001b[0;32mfor\u001b[0m \u001b[0mp\u001b[0m \u001b[0;32min\u001b[0m \u001b[0mP\u001b[0m\u001b[0;34m:\u001b[0m \u001b[0mp\u001b[0m\u001b[0;34m.\u001b[0m\u001b[0mstart\u001b[0m\u001b[0;34m(\u001b[0m\u001b[0;34m)\u001b[0m\u001b[0;34m\u001b[0m\u001b[0m\n\u001b[0;32m--> 109\u001b[0;31m     \u001b[0;32mfor\u001b[0m \u001b[0mp\u001b[0m \u001b[0;32min\u001b[0m \u001b[0mP\u001b[0m\u001b[0;34m:\u001b[0m \u001b[0mp\u001b[0m\u001b[0;34m.\u001b[0m\u001b[0mjoin\u001b[0m\u001b[0;34m(\u001b[0m\u001b[0;34m)\u001b[0m\u001b[0;34m\u001b[0m\u001b[0m\n\u001b[0m\u001b[1;32m    110\u001b[0m \u001b[0;34m\u001b[0m\u001b[0m\n\u001b[1;32m    111\u001b[0m   \u001b[0;32mdef\u001b[0m \u001b[0mget_MC_samples\u001b[0m\u001b[0;34m(\u001b[0m\u001b[0mself\u001b[0m\u001b[0;34m,\u001b[0m\u001b[0mmcpath\u001b[0m\u001b[0;34m)\u001b[0m\u001b[0;34m:\u001b[0m\u001b[0;34m\u001b[0m\u001b[0m\n",
      "\u001b[0;32m/usr/lib/python2.7/multiprocessing/process.py\u001b[0m in \u001b[0;36mjoin\u001b[0;34m(self, timeout)\u001b[0m\n\u001b[1;32m    143\u001b[0m         \u001b[0;32massert\u001b[0m \u001b[0mself\u001b[0m\u001b[0;34m.\u001b[0m\u001b[0m_parent_pid\u001b[0m \u001b[0;34m==\u001b[0m \u001b[0mos\u001b[0m\u001b[0;34m.\u001b[0m\u001b[0mgetpid\u001b[0m\u001b[0;34m(\u001b[0m\u001b[0;34m)\u001b[0m\u001b[0;34m,\u001b[0m \u001b[0;34m'can only join a child process'\u001b[0m\u001b[0;34m\u001b[0m\u001b[0m\n\u001b[1;32m    144\u001b[0m         \u001b[0;32massert\u001b[0m \u001b[0mself\u001b[0m\u001b[0;34m.\u001b[0m\u001b[0m_popen\u001b[0m \u001b[0;32mis\u001b[0m \u001b[0;32mnot\u001b[0m \u001b[0mNone\u001b[0m\u001b[0;34m,\u001b[0m \u001b[0;34m'can only join a started process'\u001b[0m\u001b[0;34m\u001b[0m\u001b[0m\n\u001b[0;32m--> 145\u001b[0;31m         \u001b[0mres\u001b[0m \u001b[0;34m=\u001b[0m \u001b[0mself\u001b[0m\u001b[0;34m.\u001b[0m\u001b[0m_popen\u001b[0m\u001b[0;34m.\u001b[0m\u001b[0mwait\u001b[0m\u001b[0;34m(\u001b[0m\u001b[0mtimeout\u001b[0m\u001b[0;34m)\u001b[0m\u001b[0;34m\u001b[0m\u001b[0m\n\u001b[0m\u001b[1;32m    146\u001b[0m         \u001b[0;32mif\u001b[0m \u001b[0mres\u001b[0m \u001b[0;32mis\u001b[0m \u001b[0;32mnot\u001b[0m \u001b[0mNone\u001b[0m\u001b[0;34m:\u001b[0m\u001b[0;34m\u001b[0m\u001b[0m\n\u001b[1;32m    147\u001b[0m             \u001b[0m_current_process\u001b[0m\u001b[0;34m.\u001b[0m\u001b[0m_children\u001b[0m\u001b[0;34m.\u001b[0m\u001b[0mdiscard\u001b[0m\u001b[0;34m(\u001b[0m\u001b[0mself\u001b[0m\u001b[0;34m)\u001b[0m\u001b[0;34m\u001b[0m\u001b[0m\n",
      "\u001b[0;32m/usr/lib/python2.7/multiprocessing/forking.py\u001b[0m in \u001b[0;36mwait\u001b[0;34m(self, timeout)\u001b[0m\n\u001b[1;32m    152\u001b[0m         \u001b[0;32mdef\u001b[0m \u001b[0mwait\u001b[0m\u001b[0;34m(\u001b[0m\u001b[0mself\u001b[0m\u001b[0;34m,\u001b[0m \u001b[0mtimeout\u001b[0m\u001b[0;34m=\u001b[0m\u001b[0mNone\u001b[0m\u001b[0;34m)\u001b[0m\u001b[0;34m:\u001b[0m\u001b[0;34m\u001b[0m\u001b[0m\n\u001b[1;32m    153\u001b[0m             \u001b[0;32mif\u001b[0m \u001b[0mtimeout\u001b[0m \u001b[0;32mis\u001b[0m \u001b[0mNone\u001b[0m\u001b[0;34m:\u001b[0m\u001b[0;34m\u001b[0m\u001b[0m\n\u001b[0;32m--> 154\u001b[0;31m                 \u001b[0;32mreturn\u001b[0m \u001b[0mself\u001b[0m\u001b[0;34m.\u001b[0m\u001b[0mpoll\u001b[0m\u001b[0;34m(\u001b[0m\u001b[0;36m0\u001b[0m\u001b[0;34m)\u001b[0m\u001b[0;34m\u001b[0m\u001b[0m\n\u001b[0m\u001b[1;32m    155\u001b[0m             \u001b[0mdeadline\u001b[0m \u001b[0;34m=\u001b[0m \u001b[0mtime\u001b[0m\u001b[0;34m.\u001b[0m\u001b[0mtime\u001b[0m\u001b[0;34m(\u001b[0m\u001b[0;34m)\u001b[0m \u001b[0;34m+\u001b[0m \u001b[0mtimeout\u001b[0m\u001b[0;34m\u001b[0m\u001b[0m\n\u001b[1;32m    156\u001b[0m             \u001b[0mdelay\u001b[0m \u001b[0;34m=\u001b[0m \u001b[0;36m0.0005\u001b[0m\u001b[0;34m\u001b[0m\u001b[0m\n",
      "\u001b[0;32m/usr/lib/python2.7/multiprocessing/forking.py\u001b[0m in \u001b[0;36mpoll\u001b[0;34m(self, flag)\u001b[0m\n\u001b[1;32m    133\u001b[0m                 \u001b[0;32mwhile\u001b[0m \u001b[0mTrue\u001b[0m\u001b[0;34m:\u001b[0m\u001b[0;34m\u001b[0m\u001b[0m\n\u001b[1;32m    134\u001b[0m                     \u001b[0;32mtry\u001b[0m\u001b[0;34m:\u001b[0m\u001b[0;34m\u001b[0m\u001b[0m\n\u001b[0;32m--> 135\u001b[0;31m                         \u001b[0mpid\u001b[0m\u001b[0;34m,\u001b[0m \u001b[0msts\u001b[0m \u001b[0;34m=\u001b[0m \u001b[0mos\u001b[0m\u001b[0;34m.\u001b[0m\u001b[0mwaitpid\u001b[0m\u001b[0;34m(\u001b[0m\u001b[0mself\u001b[0m\u001b[0;34m.\u001b[0m\u001b[0mpid\u001b[0m\u001b[0;34m,\u001b[0m \u001b[0mflag\u001b[0m\u001b[0;34m)\u001b[0m\u001b[0;34m\u001b[0m\u001b[0m\n\u001b[0m\u001b[1;32m    136\u001b[0m                     \u001b[0;32mexcept\u001b[0m \u001b[0mos\u001b[0m\u001b[0;34m.\u001b[0m\u001b[0merror\u001b[0m \u001b[0;32mas\u001b[0m \u001b[0me\u001b[0m\u001b[0;34m:\u001b[0m\u001b[0;34m\u001b[0m\u001b[0m\n\u001b[1;32m    137\u001b[0m                         \u001b[0;32mif\u001b[0m \u001b[0me\u001b[0m\u001b[0;34m.\u001b[0m\u001b[0merrno\u001b[0m \u001b[0;34m==\u001b[0m \u001b[0merrno\u001b[0m\u001b[0;34m.\u001b[0m\u001b[0mEINTR\u001b[0m\u001b[0;34m:\u001b[0m\u001b[0;34m\u001b[0m\u001b[0m\n",
      "\u001b[0;31mKeyboardInterrupt\u001b[0m: "
     ]
    }
   ],
   "source": [
    "conf['size']   = 8\n",
    "conf['factor'] = 4 \n",
    "mcsamp.run(path2results, \n",
    "           factor=conf['factor'], \n",
    "           size=conf['size'])"
   ]
  },
  {
   "cell_type": "markdown",
   "metadata": {},
   "source": [
    "### combine multiple runs into one big run"
   ]
  },
  {
   "cell_type": "code",
   "execution_count": null,
   "metadata": {
    "scrolled": false
   },
   "outputs": [],
   "source": [
    "MC = mcsamp.get_MC_samples(path2results + '/mcdata')"
   ]
  },
  {
   "cell_type": "markdown",
   "metadata": {},
   "source": [
    "### distribution of parameters"
   ]
  },
  {
   "cell_type": "code",
   "execution_count": null,
   "metadata": {},
   "outputs": [],
   "source": [
    "samples  = MC['samples']\n",
    "samples2 = MC['samples2']\n",
    "weights  = MC['weights']\n",
    "weights2 = MC['weights2']\n",
    "order    = MC['order']\n",
    "runs     = MC['runs']\n",
    "\n",
    "nrows, ncols = 10, 3\n",
    "fig = py.figure(figsize=(ncols*3,nrows*2))\n",
    "\n",
    "def get_idx(key,tag):\n",
    "    for i in range(len(order)):\n",
    "        if order[i][1]==key and order[i][2]==tag:\n",
    "            return i\n",
    "\n",
    "global cnt\n",
    "cnt=0\n",
    "def plot(tags):\n",
    "    global cnt\n",
    "    for i in range(1,len(tags)):\n",
    "        cnt+=1\n",
    "        if tags[i]==None: continue\n",
    "        idx=get_idx(tags[0],tags[i])\n",
    "        ax=py.subplot(nrows,ncols,cnt)\n",
    "        vmin=np.amin(samples2.T[idx])\n",
    "        vmax=np.amax(samples2.T[idx])\n",
    "        R=None#(vmin,vmax)\n",
    "        for k in runs:\n",
    "            ax.hist(runs[k]['samples'].T[idx],weights=runs[k]['weights'],bins=50,normed=True,range=R)\n",
    "        ax.hist(samples.T[idx],weights=weights,bins=50,color='k',normed=True,range=R)\n",
    "        ax.hist(samples2.T[idx],weights=weights2,bins=50,color='r',histtype='step',normed=True,range=R)\n",
    "        ax.set_title(tags[i])\n",
    "        mean=np.einsum('i,i',samples2.T[idx],weights2)\n",
    "        std=np.einsum('i,i',(samples2.T[idx]-mean)**2,weights2)**0.5\n",
    "        print '%20s = %10.5f +/- %10.5f'%(tags[i],mean,std)\n",
    "        #ax.set_xlim(vmin,vmax)\n",
    "    py.tight_layout()\n",
    "\n",
    "plot(['transversity','widths0 valence','widths0 sea',None])\n",
    "plot(['transversity','u N','u a','u b'])\n",
    "plot(['transversity','d N','d a','d b'])\n",
    "#plot(['collins','widths0 pi+ fav','widths0 pi+ unfav',None])\n",
    "#plot(['collins','pi+ u N 1','pi+ u a 1','pi+ u b 1'])\n",
    "#plot(['collins','pi+ d N 1','pi+ d a 1','pi+ d b 1'])"
   ]
  },
  {
   "cell_type": "markdown",
   "metadata": {},
   "source": [
    "## data vs theory"
   ]
  },
  {
   "cell_type": "code",
   "execution_count": null,
   "metadata": {},
   "outputs": [],
   "source": [
    "data={'weights':MC['weights2']}\n",
    "cnt=0\n",
    "for s in MC['samples2']:\n",
    "    cnt+=1    \n",
    "    lprint('%d/%d'%(cnt,len(MC['samples2'])))  \n",
    "    conf['resman'].get_residuals(s);\n",
    "    for k in conf['resman'].sidisres.tabs:\n",
    "        if k  not in data: data[k]=[]\n",
    "        thy=conf['resman'].sidisres.tabs[k]['thy']    \n",
    "        norm=conf['datasets']['sidis']['norm'][k]['value']\n",
    "        shift=conf['resman'].sidisres.tabs[k]['shift']        \n",
    "        data[k].append(shift+thy/norm)\n",
    "save(data,'%s/%s'%(path2results,'sidis.dat'))   "
   ]
  },
  {
   "cell_type": "markdown",
   "metadata": {
    "collapsed": true
   },
   "source": [
    "### compute averages and collect results"
   ]
  },
  {
   "cell_type": "code",
   "execution_count": null,
   "metadata": {},
   "outputs": [],
   "source": [
    "data=load('%s/%s'%(path2results,'sidis.dat'))   \n",
    "for k in data: data[k]=np.array(data[k])\n",
    "thy,dthy={},{}\n",
    "for k in data:\n",
    "    if k=='weights': continue\n",
    "    thy[k]=np.einsum('i,ik->k',data['weights'],data[k])\n",
    "    dthy[k]=np.einsum('i,ik->k',data['weights'],(data[k]-thy[k])**2)**0.5\n",
    "for k in thy: \n",
    "    conf['resman'].sidisres.tabs[k]['thy']=copy.copy(thy[k])\n",
    "    conf['resman'].sidisres.tabs[k]['dthy']=copy.copy(dthy[k])"
   ]
  },
  {
   "cell_type": "code",
   "execution_count": null,
   "metadata": {},
   "outputs": [],
   "source": [
    "report=conf['resman'].gen_report(verb=0,level=1)\n",
    "delimiters=[]\n",
    "for i in range(len(report)): \n",
    "    if 'reaction:' in report[i]: delimiters.append(i) \n",
    "\n",
    "data={}\n",
    "nlines=len(report)\n",
    "for i in range(len(delimiters)):\n",
    "    ini=delimiters[i]\n",
    "    if i==len(delimiters)-1: fin=len(report)\n",
    "    else: fin=delimiters[i+1]\n",
    "    reaction=report[ini].replace('reaction:','').strip()\n",
    "    data[reaction]={'raw data':report[ini:fin]}\n",
    "    \n",
    "for k in data:\n",
    "    print k\n",
    "    block=data[k]['raw data']\n",
    "    isep=[i for i in range(len(block)) if '--------' in block[i]][0]\n",
    "    data[k]['summary']=[block[i] for i in range(isep)]\n",
    "    data[k]['tables']=[block[i] for i in range(isep+1,len(block))]\n",
    "\n",
    "    tabs={}\n",
    "    for l in data[k]['tables']:\n",
    "        info=l.split(',')\n",
    "        col=[s for s in info if 'col' in s][0].split('=')[1].strip()\n",
    "        if col not in tabs: tabs[col]={}\n",
    "        info=[[ss.strip() for ss in s.split('=')] for s in info if 'col' not in info  if s.strip()!='']\n",
    "        \n",
    "        for s in info:\n",
    "            if s[0] not in tabs[col]: tabs[col][s[0]]=[]\n",
    "        \n",
    "        for s in info:\n",
    "            try:\n",
    "                value=float(s[1])\n",
    "            except:\n",
    "                value=s[1]\n",
    "            tabs[col][s[0]].append(value)        \n",
    "\n",
    "    data[k]['tabs']=tabs\n",
    "save(data,'%s/%s'%(path2results,'data_and_thy.dat'))  "
   ]
  },
  {
   "cell_type": "code",
   "execution_count": null,
   "metadata": {},
   "outputs": [],
   "source": [
    "def summary():\n",
    "    for k in data:\n",
    "        print \"\"\n",
    "        for l in data[k]['summary']: print l\n",
    "summary()"
   ]
  },
  {
   "cell_type": "markdown",
   "metadata": {},
   "source": [
    "### plot data and theory"
   ]
  },
  {
   "cell_type": "code",
   "execution_count": null,
   "metadata": {},
   "outputs": [],
   "source": [
    "data=load('%s/%s'%(path2results,'data_and_thy.dat'))\n",
    "\n",
    "nrows,ncols=3,3\n",
    "fig = py.figure(figsize=(ncols*3,nrows*3))\n",
    "\n",
    "\n",
    "tab=pd.DataFrame(data['sidis']['tabs']['HERMES']).query('tar==\"proton\"')\n",
    "cnt=0\n",
    "for dep in ['x','z','pT']:\n",
    "    cnt+=1\n",
    "    if dep=='pT': _dep='pt'\n",
    "    else: _dep=dep\n",
    "    ax=py.subplot(nrows,ncols,cnt)\n",
    "    _tab=tab.query('dep==\"%s\"'%_dep)\n",
    "    pip=_tab.query('had==\"pi+\"')\n",
    "    pim=_tab.query('had==\"pi-\"')\n",
    "    ax.errorbar(pip[dep],-pip['exp'],yerr=pip['alpha'],fmt='r.')\n",
    "    ax.errorbar(pim[dep],-pim['exp'],yerr=pim['alpha'],fmt='b.')\n",
    "    ax.plot(pip[dep],-pip['thy'],color='r',alpha=0.5)\n",
    "    ax.plot(pim[dep],-pim['thy'],color='b',alpha=0.5)\n",
    "    ax.fill_between(pip[dep],-(pip['thy']-pip['dthy']),-(pip['thy']+pip['dthy']),color='r',alpha=0.5)\n",
    "    ax.fill_between(pim[dep],-(pim['thy']-pim['dthy']),-(pim['thy']+pim['dthy']),color='b',alpha=0.5)\n",
    "    ax.set_xlabel(r'$%s$'%dep,size=20); ax.set_ylabel(r'$A$',size=20)\n",
    "    ax.set_title('HERMES p')\n",
    "\n",
    "    \n",
    "tab=pd.DataFrame(data['sidis']['tabs']['compass']).query('tar==\"proton\"')\n",
    "for dep in ['x','z','pT']:\n",
    "    cnt+=1\n",
    "    if dep=='pT': _dep='pt'\n",
    "    else: _dep=dep\n",
    "    ax=py.subplot(nrows,ncols,cnt)\n",
    "    _tab=tab.query('dep==\"%s\"'%_dep)\n",
    "    pip=_tab.query('had==\"pi+\"')\n",
    "    pim=_tab.query('had==\"pi-\"')\n",
    "    ax.errorbar(pip[dep],-pip['exp'],yerr=pip['alpha'],fmt='r.')\n",
    "    ax.errorbar(pim[dep],-pim['exp'],yerr=pim['alpha'],fmt='b.')\n",
    "    ax.plot(pip[dep],-pip['thy'],color='r',alpha=0.5)\n",
    "    ax.plot(pim[dep],-pim['thy'],color='b',alpha=0.5)\n",
    "    ax.fill_between(pip[dep],-(pip['thy']-pip['dthy']),-(pip['thy']+pip['dthy']),color='r',alpha=0.5)\n",
    "    ax.fill_between(pim[dep],-(pim['thy']-pim['dthy']),-(pim['thy']+pim['dthy']),color='b',alpha=0.5)\n",
    "    ax.set_xlabel(r'$%s$'%dep,size=20); ax.set_ylabel(r'$A$',size=20)\n",
    "    ax.set_title('COMPASS p')\n",
    "\n",
    "tab=pd.DataFrame(data['sidis']['tabs']['compass']).query('tar==\"deuteron\"')\n",
    "for dep in ['x','z','pT']:\n",
    "    cnt+=1\n",
    "    if dep=='pT': _dep='pT'\n",
    "    else: _dep=dep\n",
    "    ax=py.subplot(nrows,ncols,cnt)\n",
    "    _tab=tab.query('dep==\"%s\"'%_dep)\n",
    "    pip=_tab.query('had==\"pi+\"')\n",
    "    pim=_tab.query('had==\"pi-\"')\n",
    "    ax.errorbar(pip[dep],-pip['exp'],yerr=pip['alpha'],fmt='r.')\n",
    "    ax.errorbar(pim[dep],-pim['exp'],yerr=pim['alpha'],fmt='b.')\n",
    "    ax.plot(pip[dep],-pip['thy'],color='r',alpha=0.5)\n",
    "    ax.plot(pim[dep],-pim['thy'],color='b',alpha=0.5)\n",
    "    ax.fill_between(pip[dep],-(pip['thy']-pip['dthy']),-(pip['thy']+pip['dthy']),color='r',alpha=0.5)\n",
    "    ax.fill_between(pim[dep],-(pim['thy']-pim['dthy']),-(pim['thy']+pim['dthy']),color='b',alpha=0.5)\n",
    "    ax.set_xlabel(r'$%s$'%dep,size=20); ax.set_ylabel(r'$A$',size=20)\n",
    "    ax.set_title('COMPASS d')\n",
    "\n",
    "\n",
    "py.tight_layout()"
   ]
  },
  {
   "cell_type": "markdown",
   "metadata": {},
   "source": [
    "## PDFs and FFs"
   ]
  },
  {
   "cell_type": "code",
   "execution_count": null,
   "metadata": {},
   "outputs": [],
   "source": [
    "def calc(func):\n",
    "    RAW=[]\n",
    "    cnt=0\n",
    "    for s in MC['samples2']:\n",
    "        cnt+=1    \n",
    "        lprint('%d/%d'%(cnt,len(MC['samples2'])))  \n",
    "        conf['parman'].set_new_params(s);    \n",
    "        RAW.append(func())\n",
    "    RAW=np.array(RAW)\n",
    "    f =np.einsum('k,kif->if',MC['weights2'],RAW)\n",
    "    df=np.einsum('k,kif->if',MC['weights2'],(RAW-f)**2)**0.5\n",
    "    f=np.einsum('if->fi',f)\n",
    "    df=np.einsum('if->fi',df)\n",
    "    return {'f':f,'df':df}"
   ]
  },
  {
   "cell_type": "code",
   "execution_count": null,
   "metadata": {},
   "outputs": [],
   "source": [
    "X1=10**np.linspace(-3,-1)\n",
    "X2=np.linspace(0.101,0.999)\n",
    "X=np.append(X1,X2)\n",
    "h=calc(lambda : [conf['transversity'].get_C(x,1) for x in X])"
   ]
  },
  {
   "cell_type": "code",
   "execution_count": null,
   "metadata": {},
   "outputs": [],
   "source": [
    "Z1=10**np.linspace(-3,-1)\n",
    "Z2=np.linspace(0.101,0.999)\n",
    "Z=np.append(Z1,Z2)\n",
    "Hpi=calc(lambda : [conf['collins'].get_C(z,1,'pi+') for z in Z])"
   ]
  },
  {
   "cell_type": "code",
   "execution_count": null,
   "metadata": {},
   "outputs": [],
   "source": [
    "nrows,ncols=1,1\n",
    "py.figure(figsize=(ncols*5,nrows*5))\n",
    "ax=py.subplot(nrows,ncols,1)\n",
    "ax.fill_between(X,(h['f'][1]-h['df'][1]),(h['f'][1]+h['df'][1]),color='r',alpha=0.5)\n",
    "ax.plot(X,h['f'][1],'r')\n",
    "ax.fill_between(X,(h['f'][3]-h['df'][3]),(h['f'][3]+h['df'][3]),color='b',alpha=0.5)\n",
    "ax.plot(X,h['f'][3],'b')\n",
    "ax.set_ylabel(r'$h$',size=20)\n",
    "ax.set_xlabel(r'$x$',size=20)\n",
    "ax.set_ylim(-3,1.5)\n",
    "ax.set_xlim(0,1)\n",
    "\n",
    "#ax=py.subplot(nrows,ncols,2)\n",
    "#ax.fill_between(Z,Z*(Hpi['f'][1]-Hpi['df'][1]),Z*(Hpi['f'][1]+Hpi['df'][1]),color='r',alpha=0.5)\n",
    "#ax.fill_between(Z,Z*(Hpi['f'][3]-Hpi['df'][3]),Z*(Hpi['f'][3]+Hpi['df'][3]),color='b',alpha=0.5)\n",
    "#ax.plot(Z,Z*Hpi['f'][1],'r')\n",
    "#ax.plot(Z,Z*Hpi['f'][3],'b')\n",
    "\n",
    "#ax.set_ylabel(r'$H$',size=20)\n",
    "#ax.set_xlabel(r'$x$',size=20)\n",
    "#ax.set_ylim(-0.5,0.5)\n",
    "\n",
    "py.tight_layout()"
   ]
  },
  {
   "cell_type": "code",
   "execution_count": null,
   "metadata": {},
   "outputs": [],
   "source": []
  }
 ],
 "metadata": {
  "kernelspec": {
   "display_name": "Python 2",
   "language": "python",
   "name": "python2"
  },
  "language_info": {
   "codemirror_mode": {
    "name": "ipython",
    "version": 2
   },
   "file_extension": ".py",
   "mimetype": "text/x-python",
   "name": "python",
   "nbconvert_exporter": "python",
   "pygments_lexer": "ipython2",
   "version": "2.7.12"
  }
 },
 "nbformat": 4,
 "nbformat_minor": 2
}
