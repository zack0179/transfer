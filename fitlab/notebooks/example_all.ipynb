{
 "cells": [
  {
   "cell_type": "markdown",
   "metadata": {},
   "source": [
    "# ALL Analysis"
   ]
  },
  {
   "cell_type": "code",
   "execution_count": 1,
   "metadata": {
    "collapsed": true
   },
   "outputs": [],
   "source": [
    "import sys\n",
    "import os;os.chdir('../')\n",
    "import itertools as it\n",
    "import numpy as np\n",
    "import pandas as pd\n",
    "import pylab as py\n",
    "from  matplotlib import rc\n",
    "from matplotlib.colors import LogNorm\n",
    "%matplotlib inline\n",
    "from tools.tools import save,load,lprint,load_config\n",
    "from tools.bar import BAR\n",
    "from fitlab.resman import RESMAN\n",
    "from fitlab.parman import PARMAN\n",
    "rc('font',**{'family':'sans-serif','sans-serif':['Helvetica']})\n",
    "rc('text',usetex=True)"
   ]
  },
  {
   "cell_type": "code",
   "execution_count": 2,
   "metadata": {},
   "outputs": [
    {
     "name": "stdout",
     "output_type": "stream",
     "text": [
      "loading sidis data sets 9001"
     ]
    }
   ],
   "source": [
    "conf=load_config('inputs/all.py')\n",
    "conf['resman']=RESMAN(conf)\n",
    "conf['resman'].get_residuals(conf['parman'].par);"
   ]
  },
  {
   "cell_type": "markdown",
   "metadata": {},
   "source": [
    "## Data vs Theory"
   ]
  },
  {
   "cell_type": "code",
   "execution_count": 3,
   "metadata": {},
   "outputs": [
    {
     "data": {
      "text/plain": [
       "Index([      u'Ebeam',           u'N',          u'Q2',       u'Shift',\n",
       "                u'W2',       u'alpha',        u'axis',         u'col',\n",
       "        u'dependence',          u'dy',      u'hadron',         u'obs',\n",
       "                u'pT', u'r-residuals',   u'residuals',       u'shift',\n",
       "            u'stat_u',       u'sys_u',      u'target',         u'thy',\n",
       "             u'value',           u'x',           u'y',          u'yh',\n",
       "                u'yp',           u'z'],\n",
       "      dtype='object')"
      ]
     },
     "execution_count": 3,
     "metadata": {},
     "output_type": "execute_result"
    }
   ],
   "source": [
    "ALL=pd.concat([pd.DataFrame(conf['resman'].sidisres.tabs[idx]) \\\n",
    "              for idx in conf['resman'].sidisres.tabs.keys()])\n",
    "\n",
    "ALL.columns"
   ]
  },
  {
   "cell_type": "raw",
   "metadata": {},
   "source": [
    "res.columns"
   ]
  },
  {
   "cell_type": "markdown",
   "metadata": {},
   "source": [
    "## ALL asymmetry "
   ]
  },
  {
   "cell_type": "code",
   "execution_count": 4,
   "metadata": {},
   "outputs": [
    {
     "data": {
      "image/png": "[encoded data removed]",
      "text/plain": [
       "<matplotlib.figure.Figure at 0x1143c1950>"
      ]
     },
     "metadata": {},
     "output_type": "display_data"
    }
   ],
   "source": [
    "def plot(ax,axis,col,tar):\n",
    "    if axis=='pT':\n",
    "        data_pip=ALL.query('dependence==\"%s\" and target==\"%s\" and hadron==\"%s\" and col==\"%s\" '%(axis,tar,'pi+',col))\n",
    "        data_pim=ALL.query('dependence==\"%s\" and target==\"%s\" and hadron==\"%s\" and col==\"%s\" '%(axis,tar,'pi-',col))\n",
    "    else:\n",
    "        data_pip=ALL.query('dependence==\"%s\" and target==\"%s\" and hadron==\"%s\" and col==\"%s\" '%(axis,tar,'pi+',col))\n",
    "        data_pim=ALL.query('dependence==\"%s\" and target==\"%s\" and hadron==\"%s\" and col==\"%s\" '%(axis,tar,'pi-',col))\n",
    "    \n",
    "    \n",
    "    ax.errorbar(data_pip[axis],data_pip['value'],yerr=data_pip['alpha'],fmt='k.',label=r'$\\pi^+$')\n",
    "    ax.errorbar(data_pim[axis],data_pim['value'],yerr=data_pim['alpha'],fmt='ko', mfc='white',label=r'$\\pi^-$',markersize=4)\n",
    "\n",
    "    ax.plot(data_pip[axis].values,data_pip['thy'].values,'r-')\n",
    "    ax.plot(data_pim[axis].values,data_pim['thy'].values,'b-')\n",
    "\n",
    "    if tar=='proton': star='p'\n",
    "    if tar=='deuteron': star='d'\n",
    " \n",
    "    ax.set_title(r'${\\rm target}=%s$'%(star))\n",
    "    ax.set_xlabel(r'$%s$'%axis)\n",
    "    #if axis=='x': ax.set_ylim(-0.05,0.05)\n",
    "\n",
    "nrows,ncols=3,3\n",
    "py.figure(figsize=(ncols*3,nrows*2))\n",
    "\n",
    "cnt=0\n",
    "for col in ['clas']:\n",
    "    if col=='clas': targets=['proton']\n",
    "    for tar in targets:\n",
    "        for axis  in ['pT']:\n",
    "            cnt+=1\n",
    "            ax=py.subplot(nrows,ncols,cnt)\n",
    "            plot(ax,axis,col,tar)\n",
    "            if cnt==1: ax.legend()\n",
    "py.tight_layout()"
   ]
  },
  {
   "cell_type": "markdown",
   "metadata": {},
   "source": [
    "## G_1(x)"
   ]
  },
  {
   "cell_type": "code",
   "execution_count": 5,
   "metadata": {},
   "outputs": [
    {
     "data": {
      "image/png": "[encoded data removed]",
      "text/plain": [
       "<matplotlib.figure.Figure at 0x1143c4050>"
      ]
     },
     "metadata": {},
     "output_type": "display_data"
    }
   ],
   "source": [
    "def plot(ax,iflav):\n",
    "    X=10**np.linspace(-4,-1)\n",
    "    X=np.append(X,np.linspace(0.1,1))\n",
    "    Q2=1\n",
    "    F=[conf['ppdf'].get_C(x,Q2,target='p')[iflav] for x in X]\n",
    "    ax.plot(X,F)\n",
    "\n",
    "    ymin,ymax=ax.get_ylim()\n",
    "    if   iflav==1: ax.set_ylim(0,1);ymin,ymax=ax.get_ylim()\n",
    "    elif iflav==3: ax.set_ylim(-1,0);ymin,ymax=ax.get_ylim()\n",
    "    xmin=np.amin(ALL.x.values)\n",
    "    xmax=np.amax(ALL.x.values)\n",
    "    dy=ymax-ymin\n",
    "    ax.plot([xmin,xmax],[ymin+dy*0.1,ymin+dy*0.1],'g-')\n",
    "    ax.set_ylim(ymin,ymax)\n",
    "    ax.semilogx()\n",
    "    \n",
    "    if iflav==1: ax.set_title(r'${\\rm flav=u}$',size=20)\n",
    "    if iflav==3: ax.set_title(r'${\\rm flav=d}$',size=20)\n",
    "    if iflav==5: ax.set_title(r'${\\rm flav=s}$',size=20)\n",
    "    if iflav==2: ax.set_title(r'${\\rm flav=\\bar{u}}$',size=20)\n",
    "    if iflav==4: ax.set_title(r'${\\rm flav=\\bar{d}}$',size=20)\n",
    "    if iflav==6: ax.set_title(r'${\\rm flav=\\bar{s}}$',size=20)\n",
    "    ax.set_xlabel(r'$x$',size=20)\n",
    "    \n",
    "nrows,ncols=2,3\n",
    "py.figure(figsize=(ncols*3,nrows*3))\n",
    "cnt=0\n",
    "for iflav in [1,3,5,2,4,6]:\n",
    "    cnt+=1\n",
    "    ax=py.subplot(nrows,ncols,cnt)\n",
    "    plot(ax,iflav)\n",
    "py.tight_layout()"
   ]
  },
  {
   "cell_type": "code",
   "execution_count": null,
   "metadata": {
    "collapsed": true
   },
   "outputs": [],
   "source": []
  }
 ],
 "metadata": {
  "anaconda-cloud": {},
  "kernelspec": {
   "display_name": "Python 2",
   "language": "python",
   "name": "python2"
  },
  "language_info": {
   "codemirror_mode": {
    "name": "ipython",
    "version": 2
   },
   "file_extension": ".py",
   "mimetype": "text/x-python",
   "name": "python",
   "nbconvert_exporter": "python",
   "pygments_lexer": "ipython2",
   "version": "2.7.14"
  }
 },
 "nbformat": 4,
 "nbformat_minor": 2
}
