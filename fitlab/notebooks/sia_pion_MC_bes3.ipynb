{
 "cells": [
  {
   "cell_type": "markdown",
   "metadata": {},
   "source": [
    "# About \n",
    "This notebook is used to fit the Collins fragmentation function using SIA data from BESIII only.  The results will be compared with a similar extraction from SIDIS, as well as SIA (Belle, BaBaR)."
   ]
  },
  {
   "cell_type": "code",
   "execution_count": 1,
   "metadata": {},
   "outputs": [],
   "source": [
    "# Use this cell instead when running in jupyter.jlab.org\n",
    "\n",
    "# import sys,os\n",
    "# sys.path.insert(0, \"/group/JAM/webfitter/tmd/fitpack\")\n",
    "# os.environ['FITPACK']=\"/group/JAM/webfitter/tmd/fitpack\"\n",
    "# from fitlab.resman import RESMAN"
   ]
  },
  {
   "cell_type": "code",
   "execution_count": 2,
   "metadata": {},
   "outputs": [],
   "source": [
    "import sys,os\n",
    "from fitlab.resman import RESMAN\n",
    "from fitlab.mcsamp import MCSAMP\n",
    "from tools.config import load_config,conf\n",
    "from tools.tools import load, save,checkdir\n",
    "import pylab as py\n",
    "import numpy as np\n",
    "import pandas as pd\n",
    "import copy\n",
    "\n",
    "import matplotlib.pyplot as plt\n",
    "\n",
    "def lprint(msg):\n",
    "    sys.stdout.write('\\r')\n",
    "    sys.stdout.write('%s' %msg)\n",
    "    sys.stdout.flush()\n",
    "%matplotlib inline"
   ]
  },
  {
   "cell_type": "markdown",
   "metadata": {},
   "source": [
    "### Setup path to store the results "
   ]
  },
  {
   "cell_type": "code",
   "execution_count": 3,
   "metadata": {},
   "outputs": [],
   "source": [
    "path2results='sia_pion_bes3_pass1'\n",
    "checkdir(path2results)"
   ]
  },
  {
   "cell_type": "markdown",
   "metadata": {},
   "source": [
    "## SIA Datasets \n",
    "In this notebook only BESIII data is being fit.  Please see the following publication for details.\n",
    "https://arxiv.org/abs/1507.06824"
   ]
  },
  {
   "cell_type": "code",
   "execution_count": 4,
   "metadata": {},
   "outputs": [],
   "source": [
    "conf['datasets']={}\n",
    "conf['datasets']['sia']={}\n",
    "conf['datasets']['sia']['filters']={0:{'idx':None,'filter':None}}\n",
    "conf['datasets']['sia']['filters'][0]['idx']=[3000,3001,3002,3003]\n",
    "conf['datasets']['sia']['filters'][0]['filter']=\"Q2>1.69\"\n",
    "conf['datasets']['sia']['xlsx']={}\n",
    "conf[\"datasets\"][\"sia\"][\"xlsx\"][3000]=\"sia/expdata/3000.xlsx\"  \n",
    "conf[\"datasets\"][\"sia\"][\"xlsx\"][3001]=\"sia/expdata/3001.xlsx\"  \n",
    "conf[\"datasets\"][\"sia\"][\"xlsx\"][3002]=\"sia/expdata/3002.xlsx\"  \n",
    "conf[\"datasets\"][\"sia\"][\"xlsx\"][3003]=\"sia/expdata/3003.xlsx\"  \n",
    "\n",
    "conf['datasets']['sia']['norm']={}\n",
    "for k in conf['datasets']['sia']['xlsx']: \n",
    "    conf['datasets']['sia']['norm'][k]={'value':1,'fixed':True,'min':0,'max':1} "
   ]
  },
  {
   "cell_type": "markdown",
   "metadata": {},
   "source": [
    "## parameters"
   ]
  },
  {
   "cell_type": "code",
   "execution_count": 5,
   "metadata": {},
   "outputs": [],
   "source": [
    "conf['params']={}\n",
    "conf['shape']=1"
   ]
  },
  {
   "cell_type": "markdown",
   "metadata": {},
   "source": [
    "### TMD PDF/FF parameters (from upol analysis)"
   ]
  },
  {
   "cell_type": "code",
   "execution_count": 6,
   "metadata": {},
   "outputs": [],
   "source": [
    "conf['params']={}\n",
    "conf['params']['pdf']={}\n",
    "conf['params']['pdf']['widths0 valence']  = {'value':5.2414e-01,'fixed':True,'min':0,'max':1}\n",
    "conf['params']['pdf']['widths0 sea']      = {'value':5.8465e-01,'fixed':True,'min':0,'max':1}\n",
    "conf['params']['ff']={}\n",
    "conf['params']['ff']['widths0 pi+ fav']   = {'value':1.2405e-01,'fixed':True,'min':0,'max':1}\n",
    "conf['params']['ff']['widths0 pi+ unfav'] = {'value':1.4373e-01,'fixed':True,'min':0,'max':1}"
   ]
  },
  {
   "cell_type": "markdown",
   "metadata": {},
   "source": [
    "### TMD Collins parameters"
   ]
  },
  {
   "cell_type": "code",
   "execution_count": 7,
   "metadata": {},
   "outputs": [],
   "source": [
    "conf['params']['collins']={}\n",
    "conf['params']['collins']['widths0 pi+ fav']     = {'value':7.47958632885192820083e-02,'fixed':False,'min':0.05,'max':0.10}\n",
    "conf['params']['collins']['widths0 pi+ unfav']   = {'value':0.059763576917398841815e+00,'fixed':False,'min':0.05,'max':0.136784756168045196212}\n",
    "conf['params']['collins']['pi+ u N 1']  = {'value': 4.49239476315589936206e+00,'fixed':False,'min':0,'max':3}\n",
    "conf['params']['collins']['pi+ u a 1']  = {'value':-8.28098465048009213518e-01,'fixed':False,'min':-1.9,'max':0}\n",
    "conf['params']['collins']['pi+ u b 1']  = {'value': 6.60780815284983358282e+00,'fixed':False,'min':2,'max':6}\n",
    "\n",
    "conf['params']['collins']['pi+ d N 1']  = {'value':-4.14852904854067539020e+00,'fixed':False,'min':-12,'max':0.0}\n",
    "conf['params']['collins']['pi+ d a 1']  = {'value': 1.00000000000000000000e+00,'fixed':False,'min': 0,'max':7.0}\n",
    "conf['params']['collins']['pi+ d b 1']  = {'value': 2.37348461151638101541e+00,'fixed':False,'min':2.5,'max':4.0}\n",
    "\n",
    "conf['params']['collins']['pi+ u c 1']  = {'value': 0.0,'fixed':True,'min':-10,'max':10}\n",
    "conf['params']['collins']['pi+ d c 1']  = {'value': 0.0,'fixed':True,'min':-10,'max':10}\n",
    "conf['params']['collins']['pi+ u d 1']  = {'value': 0.0,'fixed':True,'min':-10,'max':10}\n",
    "conf['params']['collins']['pi+ d d 1']  = {'value': 0.0,'fixed':True,'min':-10,'max':10}\n",
    "\n",
    "conf['params']['collins']['pi+ u N 2']  = {'value': 0.0,'fixed':True,'min':0,'max':15}\n",
    "conf['params']['collins']['pi+ u a 2']  = {'value': 0.0,'fixed':True,'min':1,'max':8.0}\n",
    "conf['params']['collins']['pi+ u b 2']  = {'value': 0.0,'fixed':True,'min':0,'max':5}\n",
    "\n",
    "conf['params']['collins']['pi+ d N 2']  = {'value': 0.0,'fixed':True,'min':-20,'max':0}\n",
    "conf['params']['collins']['pi+ d a 2']  = {'value': 0.0,'fixed':True,'min':-1,'max':5}\n",
    "conf['params']['collins']['pi+ d b 2']  = {'value': 0.0,'fixed':True,'min':1e-5,'max':10}\n",
    "conf['params']['collins']['pi+ u c 2']  = {'value': 0.0,'fixed':True,'min':-10,'max':10}\n",
    "conf['params']['collins']['pi+ d c 2']  = {'value': 0.0,'fixed':True,'min':-10,'max':10}\n",
    "conf['params']['collins']['pi+ u d 2']  = {'value': 0.0,'fixed':True,'min':-10,'max':10}\n",
    "conf['params']['collins']['pi+ d d 2']  = {'value': 0.0,'fixed':True,'min':-10,'max':10}"
   ]
  },
  {
   "cell_type": "markdown",
   "metadata": {
    "collapsed": true
   },
   "source": [
    "## Nested Sampling"
   ]
  },
  {
   "cell_type": "markdown",
   "metadata": {},
   "source": [
    "### initialize fitpack libraries"
   ]
  },
  {
   "cell_type": "code",
   "execution_count": 8,
   "metadata": {},
   "outputs": [
    {
     "name": "stdout",
     "output_type": "stream",
     "text": [
      "loading sia data sets 3003\n",
      "multiprocess setup: ncpus=1 / observable\n"
     ]
    }
   ],
   "source": [
    "conf['ncpus']=1\n",
    "conf['resman'] = RESMAN()\n",
    "mcsamp=MCSAMP()"
   ]
  },
  {
   "cell_type": "markdown",
   "metadata": {
    "collapsed": true
   },
   "source": [
    "### start multiple NS runs\n",
    "- the code will start n independent runs specified by size"
   ]
  },
  {
   "cell_type": "code",
   "execution_count": 9,
   "metadata": {
    "scrolled": true
   },
   "outputs": [
    {
     "name": "stdout",
     "output_type": "stream",
     "text": [
      "iter=1949  logz=2.764 rel-err=9.790e-11  t-elapsed=2.637e+02  dchi2min=-1.425e+01 dchi2max=-1.425e+01"
     ]
    }
   ],
   "source": [
    "conf['size']=8\n",
    "conf['factor']=3 # play with the factor (3,4) and the tolerance (1.e-5,1.e-10)\n",
    "conf['tol']=1e-5\n",
    "mcsamp.run(path2results)"
   ]
  },
  {
   "cell_type": "markdown",
   "metadata": {},
   "source": [
    "### combine multiple runs into one big run"
   ]
  },
  {
   "cell_type": "code",
   "execution_count": 14,
   "metadata": {},
   "outputs": [
    {
     "name": "stdout",
     "output_type": "stream",
     "text": [
      "runs max likelihoods\n",
      "-8.478410157940608\n",
      "-8.294533915814498\n",
      "-7.123070462150441\n",
      "-8.351283597441412\n",
      "-8.685311601749792\n",
      "-8.75871880721638\n",
      "-6.900309184234821\n",
      "-8.030808494670115\n",
      "sample  size= 11774\n",
      "sample2 size= 1265\n"
     ]
    }
   ],
   "source": [
    "MC=mcsamp.get_MC_samples(path2results+'/mcdata')"
   ]
  },
  {
   "cell_type": "markdown",
   "metadata": {},
   "source": [
    "### Distribution of parameters\n",
    "From the Nested sampling routine we have a collection of sampled points in the parameter space $\\vec{\\theta}_i$.  All samples are contained in the list called `samples`.  The samples which contribute more than 0.1% of the total evidence $Z$ are kept in the list `samples2`.\n",
    "\n",
    "These samples are representative of the posterior distribution, \n",
    "$P(\\vec{\\theta}|d)$, where $d$ is the data used in the analysis.  They can be used to approximate the integrals \n",
    "\n",
    "$$E[f(\\theta)] = \\int f(\\theta) P(\\theta|d) d\\theta \\approx \\sum_{i=1}^{N} f(\\theta_i) w_i$$\n",
    "\n",
    "$$Var[f(\\theta)] = \\int (f(\\theta) - E[f(\\theta)])^2 P(\\theta|d) d\\theta \\approx \\sum_{i=1}^{N} (f(\\theta_i) - E[f(\\theta)])^2 w_i$$\n",
    "\n",
    "providing estimates and errors for our parameters and our observables.  Here $N$ is the number of samples in the list `samples2`.  The weights $w_i$ are associated with the contribution of each sample $\\theta_i$ to the total evidence $Z$, and they sum to 1."
   ]
  },
  {
   "cell_type": "code",
   "execution_count": 15,
   "metadata": {},
   "outputs": [
    {
     "data": {
      "text/plain": [
       "['9.dat', '11.dat', '14.dat', '8.dat', '13.dat', '10.dat', '15.dat', '12.dat']"
      ]
     },
     "execution_count": 15,
     "metadata": {},
     "output_type": "execute_result"
    }
   ],
   "source": [
    "os.listdir(path2results+'/mcdata')"
   ]
  },
  {
   "cell_type": "code",
   "execution_count": 16,
   "metadata": {},
   "outputs": [
    {
     "name": "stdout",
     "output_type": "stream",
     "text": [
      "     widths0 pi+ fav =    0.07612 +/-    0.00983\n",
      "   widths0 pi+ unfav =    0.08874 +/-    0.01749\n",
      "           pi+ u N 1 =    1.41920 +/-    0.47770\n",
      "           pi+ u a 1 =   -1.02895 +/-    0.27670\n",
      "           pi+ u b 1 =    3.42251 +/-    0.51951\n",
      "           pi+ d N 1 =   -8.36651 +/-    1.99583\n",
      "           pi+ d a 1 =    3.70085 +/-    0.90738\n",
      "           pi+ d b 1 =    2.80712 +/-    0.17792\n"
     ]
    },
    {
     "data": {
      "image/png": "[encoded data removed]",
      "text/plain": [
       "<Figure size 1152x1440 with 8 Axes>"
      ]
     },
     "metadata": {},
     "output_type": "display_data"
    }
   ],
   "source": [
    "samples=MC['samples']\n",
    "samples2=MC['samples2']\n",
    "weights=MC['weights']\n",
    "weights2=MC['weights2']\n",
    "order=MC['order']\n",
    "runs=MC['runs']\n",
    "\n",
    "nrows,ncols=10,4\n",
    "fig = py.figure(figsize=(ncols*4,nrows*2))\n",
    "\n",
    "def get_idx(key,tag):\n",
    "    for i in range(len(order)):\n",
    "        if order[i][1]==key and order[i][2]==tag:\n",
    "            return i\n",
    "\n",
    "global cnt\n",
    "cnt=0\n",
    "def plot(tags):\n",
    "    global cnt\n",
    "    for i in range(1,len(tags)):\n",
    "        cnt+=1\n",
    "        if tags[i]==None: continue\n",
    "        idx=get_idx(tags[0],tags[i])\n",
    "        ax=py.subplot(nrows,ncols,cnt)\n",
    "        vmin=np.amin(samples2.T[idx])\n",
    "        vmax=np.amax(samples2.T[idx])\n",
    "        R=None#(vmin,vmax)\n",
    "        for k in runs:\n",
    "            ax.hist(runs[k]['samples'].T[idx],weights=runs[k]['weights'],bins=50,normed=True,range=R)\n",
    "        ax.hist(samples.T[idx],weights=weights,bins=50,color='k',normed=True,range=R)\n",
    "        ax.hist(samples2.T[idx],weights=weights2,bins=50,color='r',histtype='step',normed=True,range=R)\n",
    "        ax.set_title(tags[i])\n",
    "        mean=np.einsum('i,i',samples2.T[idx],weights2)\n",
    "        std=np.einsum('i,i',(samples2.T[idx]-mean)**2,weights2)**0.5\n",
    "        print '%20s = %10.5f +/- %10.5f'%(tags[i],mean,std)\n",
    "        #ax.set_xlim(vmin,vmax)\n",
    "    py.tight_layout()\n",
    "\n",
    "plot(['collins','widths0 pi+ fav','widths0 pi+ unfav',None])\n",
    "plot(['collins','pi+ u N 1','pi+ u a 1','pi+ u b 1'])\n",
    "plot(['collins','pi+ d N 1','pi+ d a 1','pi+ d b 1'])\n",
    "#plot(['collins','pi+ u N 2','pi+ u a 2','pi+ u b 2'])\n",
    "plt.savefig('/home/dmriser/Pictures/collins-bes3-parameters.pdf',\n",
    "           bbox_inches='tight')"
   ]
  },
  {
   "cell_type": "markdown",
   "metadata": {},
   "source": [
    "## data vs theory"
   ]
  },
  {
   "cell_type": "code",
   "execution_count": 17,
   "metadata": {},
   "outputs": [
    {
     "name": "stdout",
     "output_type": "stream",
     "text": [
      "1265/1265"
     ]
    }
   ],
   "source": [
    "data={'weights':MC['weights2']}\n",
    "cnt=0\n",
    "for s in MC['samples2']:\n",
    "    cnt+=1    \n",
    "    lprint('%d/%d'%(cnt,len(MC['samples2'])))  \n",
    "    conf['resman'].get_residuals(s);\n",
    "    for k in conf['resman'].siares.tabs:\n",
    "        if k  not in data: data[k]=[]\n",
    "        thy=conf['resman'].siares.tabs[k]['thy']    \n",
    "        norm=conf['datasets']['sia']['norm'][k]['value']\n",
    "        shift=conf['resman'].siares.tabs[k]['shift']        \n",
    "        data[k].append(shift+thy/norm)\n",
    "save(data,'%s/%s'%(path2results,'sia.dat'))   "
   ]
  },
  {
   "cell_type": "markdown",
   "metadata": {
    "collapsed": true
   },
   "source": [
    "### compute averages and collect results"
   ]
  },
  {
   "cell_type": "code",
   "execution_count": 18,
   "metadata": {},
   "outputs": [],
   "source": [
    "data=load('%s/%s'%(path2results,'sia.dat'))   \n",
    "for k in data: data[k]=np.array(data[k])\n",
    "thy,dthy={},{}\n",
    "for k in data:\n",
    "    if k=='weights': continue\n",
    "    thy[k]=np.einsum('i,ik->k',data['weights'],data[k])\n",
    "    dthy[k]=np.einsum('i,ik->k',data['weights'],(data[k]-thy[k])**2)**0.5\n",
    "for k in thy: \n",
    "    conf['resman'].siares.tabs[k]['thy']=copy.copy(thy[k])\n",
    "    conf['resman'].siares.tabs[k]['dthy']=copy.copy(dthy[k])"
   ]
  },
  {
   "cell_type": "code",
   "execution_count": 19,
   "metadata": {},
   "outputs": [
    {
     "name": "stdout",
     "output_type": "stream",
     "text": [
      "sia\n"
     ]
    }
   ],
   "source": [
    "report=conf['resman'].gen_report(verb=0,level=1)\n",
    "delimiters=[]\n",
    "for i in range(len(report)): \n",
    "    if 'reaction:' in report[i]: \n",
    "        delimiters.append(i) \n",
    "\n",
    "data={}\n",
    "nlines=len(report)\n",
    "for i in range(len(delimiters)):\n",
    "    ini=delimiters[i]\n",
    "    if i==len(delimiters)-1: fin=len(report)\n",
    "    else: fin=delimiters[i+1]\n",
    "    reaction=report[ini].replace('reaction:','').strip()\n",
    "    data[reaction]={'raw data':report[ini:fin]}\n",
    "    \n",
    "for k in data:\n",
    "    print k\n",
    "    block=data[k]['raw data']\n",
    "    isep=[i for i in range(len(block)) if '--------' in block[i]][0]\n",
    "    data[k]['summary']=[block[i] for i in range(isep)]\n",
    "    data[k]['tables']=[block[i] for i in range(isep+1,len(block))]\n",
    "\n",
    "    tabs={}\n",
    "    for l in data[k]['tables']:\n",
    "        info=l.split(',')\n",
    "        col=[s for s in info if 'col' in s][0].split('=')[1].strip()\n",
    "        if col not in tabs: tabs[col]={}\n",
    "        info=[[ss.strip() for ss in s.split('=')] for s in info if 'col' not in info  if s.strip()!='']\n",
    "        \n",
    "        for s in info:\n",
    "            if s[0] not in tabs[col]: tabs[col][s[0]]=[]\n",
    "        \n",
    "        for s in info:\n",
    "            try:\n",
    "                value=float(s[1])\n",
    "            except:\n",
    "                value=s[1]\n",
    "            tabs[col][s[0]].append(value)        \n",
    "\n",
    "    data[k]['tabs']=tabs\n",
    "save(data,'%s/%s'%(path2results,'data_and_thy.dat'))"
   ]
  },
  {
   "cell_type": "code",
   "execution_count": 20,
   "metadata": {},
   "outputs": [
    {
     "name": "stdout",
     "output_type": "stream",
     "text": [
      "\n",
      "reaction: sia\n",
      "   3000     BESIII     6       4.10       0.00       0.00\n",
      "   3001     BESIII     6       2.60       0.00       0.00\n",
      "   3002     BESIII     5       4.31       0.00       0.00\n",
      "   3003     BESIII     5       1.83       0.00       0.00\n"
     ]
    }
   ],
   "source": [
    "def summary():\n",
    "    for k in data:\n",
    "        print \"\"\n",
    "        for l in data[k]['summary']: print l\n",
    "summary()"
   ]
  },
  {
   "cell_type": "markdown",
   "metadata": {},
   "source": [
    "### Plot data and theory"
   ]
  },
  {
   "cell_type": "code",
   "execution_count": 21,
   "metadata": {},
   "outputs": [
    {
     "data": {
      "text/plain": [
       "Index([          u'N',           u'Q',          u'Q2',     u'S2/1+C2',\n",
       "             u'Shift',       u'alpha',        u'axis',         u'col',\n",
       "              u'dthy',     u'hadron1',     u'hadron2',           u'i',\n",
       "               u'obs',          u'pT', u'r-residuals',   u'residuals',\n",
       "             u'shift',      u'stat_u',       u'sys_u',         u'thy',\n",
       "             u'value',          u'z1',          u'z2'],\n",
       "      dtype='object')"
      ]
     },
     "execution_count": 21,
     "metadata": {},
     "output_type": "execute_result"
    }
   ],
   "source": [
    "ALL=pd.concat([pd.DataFrame(conf['resman'].siares.tabs[idx]) \\\n",
    "              for idx in conf['resman'].siares.tabs.keys()])\n",
    "\n",
    "ALL.columns"
   ]
  },
  {
   "cell_type": "code",
   "execution_count": 22,
   "metadata": {},
   "outputs": [],
   "source": [
    "data = {}\n",
    "\n",
    "for key, value in conf['resman'].siares.tabs.iteritems():\n",
    "    data[key] = pd.DataFrame(value)"
   ]
  },
  {
   "cell_type": "code",
   "execution_count": 23,
   "metadata": {},
   "outputs": [],
   "source": [
    "# from the paper https://arxiv.org/pdf/1309.5278.pdf\n",
    "z1_bins = np.array([0.15, 0.2, 0.3, 0.4, 0.5, 0.7, 0.9])"
   ]
  },
  {
   "cell_type": "code",
   "execution_count": 24,
   "metadata": {},
   "outputs": [
    {
     "data": {
      "image/png": "[encoded data removed]",
      "text/plain": [
       "<Figure size 576x216 with 2 Axes>"
      ]
     },
     "metadata": {},
     "output_type": "display_data"
    }
   ],
   "source": [
    "plt.figure(figsize=(8,3))\n",
    "plt.subplot(1,2,1)\n",
    "plt.errorbar(data[3000].z1, \n",
    "             data[3000].value, \n",
    "             data[3000].alpha,\n",
    "            marker='o',\n",
    "            linestyle='',\n",
    "            color='red')\n",
    "plt.plot(data[3000].z1, data[3000].thy,\n",
    "        color='red')\n",
    "plt.fill_between(data[3000].z1, data[3000].thy-data[3000].dthy, \n",
    "                data[3000].thy+data[3000].dthy,\n",
    "                color='red', alpha=0.5, label='$A_{UL}$')\n",
    "\n",
    "plt.errorbar(data[3001].z1, \n",
    "             data[3001].value, \n",
    "             data[3001].alpha,\n",
    "            marker='o',\n",
    "            linestyle='',\n",
    "            color='blue')\n",
    "plt.fill_between(data[3001].z1, data[3001].thy-data[3001].dthy, \n",
    "                data[3001].thy+data[3001].dthy,\n",
    "                color='blue', alpha=0.5, label='$A_{UC}$')\n",
    "plt.plot(data[3001].z1, data[3001].thy,\n",
    "        color='blue')\n",
    "plt.xlabel('$z_1$')\n",
    "\n",
    "# the legend has theory labels and I dont like them.\n",
    "handles, labels = plt.gca().get_legend_handles_labels()\n",
    "good_handles = []\n",
    "good_labels = []\n",
    "for handle, label in zip(handles, labels):\n",
    "    if '$' in label:\n",
    "        good_handles.append(handle)\n",
    "        good_labels.append(label)            \n",
    "plt.legend(good_handles, good_labels, frameon=False, loc='topleft')\n",
    "\n",
    "plt.subplot(1,2,2)\n",
    "plt.errorbar(data[3002].pT, \n",
    "             data[3002].value, \n",
    "             data[3002].alpha,\n",
    "            marker='o',\n",
    "            linestyle='',\n",
    "            color='red')\n",
    "plt.plot(data[3002].pT, data[3002].thy,\n",
    "        color='red')\n",
    "plt.fill_between(data[3002].pT, data[3002].thy-data[3002].dthy, \n",
    "                data[3002].thy+data[3002].dthy,\n",
    "                color='red', alpha=0.5, label='$A_{UL}$')\n",
    "\n",
    "\n",
    "plt.errorbar(data[3003].pT, \n",
    "             data[3003].value, \n",
    "             data[3003].alpha,\n",
    "            marker='o',\n",
    "            linestyle='',\n",
    "            color='blue')\n",
    "plt.plot(data[3003].pT, data[3003].thy,\n",
    "        color='blue')\n",
    "plt.fill_between(data[3003].pT, data[3003].thy-data[3003].dthy, \n",
    "                data[3003].thy+data[3003].dthy,\n",
    "                color='blue', alpha=0.5, label='$A_{UC}$')\n",
    "#plt.legend(frameon=False)\n",
    "plt.xlabel('$P_T$')\n",
    "\n",
    " # the legend has theory labels and I dont like them.\n",
    "handles, labels = plt.gca().get_legend_handles_labels()\n",
    "good_handles = []\n",
    "good_labels = []\n",
    "for handle, label in zip(handles, labels):\n",
    "    if '$' in label:\n",
    "        good_handles.append(handle)\n",
    "        good_labels.append(label)\n",
    "            \n",
    "plt.legend(good_handles, good_labels, frameon=False, loc='topleft')\n",
    "plt.tight_layout()\n",
    "plt.savefig('/home/dmriser/Pictures/bes3-asym.pdf',\n",
    "           bbox_inches='tight')"
   ]
  },
  {
   "cell_type": "markdown",
   "metadata": {},
   "source": [
    "## PDFs and FFs"
   ]
  },
  {
   "cell_type": "code",
   "execution_count": 25,
   "metadata": {},
   "outputs": [],
   "source": [
    "def calc(func):\n",
    "    RAW=[]\n",
    "    cnt=0\n",
    "    for s in MC['samples2']:\n",
    "        cnt+=1    \n",
    "        lprint('%d/%d'%(cnt,len(MC['samples2'])))  \n",
    "        conf['parman'].set_new_params(s);    \n",
    "        RAW.append(func())\n",
    "    RAW=np.array(RAW)\n",
    "    f =np.einsum('k,kif->if',MC['weights2'],RAW)\n",
    "    df=np.einsum('k,kif->if',MC['weights2'],(RAW-f)**2)**0.5\n",
    "    f=np.einsum('if->fi',f)\n",
    "    df=np.einsum('if->fi',df)\n",
    "    return {'f':f,'df':df}"
   ]
  },
  {
   "cell_type": "code",
   "execution_count": 26,
   "metadata": {},
   "outputs": [
    {
     "name": "stdout",
     "output_type": "stream",
     "text": [
      "1265/1265"
     ]
    }
   ],
   "source": [
    "Z1=10**np.linspace(-4,-2)\n",
    "Z2=np.linspace(0.0101,0.999)\n",
    "Z=np.append(Z1,Z2)\n",
    "Hpi=calc(lambda : [conf['collins'].get_C(z,1,'pi+') for z in Z])"
   ]
  },
  {
   "cell_type": "code",
   "execution_count": 27,
   "metadata": {},
   "outputs": [
    {
     "data": {
      "image/png": "[encoded data removed]",
      "text/plain": [
       "<Figure size 720x360 with 1 Axes>"
      ]
     },
     "metadata": {},
     "output_type": "display_data"
    }
   ],
   "source": [
    "nrows,ncols=1,2\n",
    "py.figure(figsize=(ncols*5,nrows*5))\n",
    "ax=py.subplot(nrows,ncols,1)\n",
    "ax.fill_between(Z,Z*(Hpi['f'][1]-Hpi['df'][1]),Z*(Hpi['f'][1]+Hpi['df'][1]),color='r',alpha=0.5,label='favored')\n",
    "ax.fill_between(Z,Z*(Hpi['f'][3]-Hpi['df'][3]),Z*(Hpi['f'][3]+Hpi['df'][3]),color='b',alpha=0.5,label='unfavored')\n",
    "ax.plot(Z,Z*0,'black')\n",
    "ax.plot(Z,Z*Hpi['f'][1],'r')\n",
    "ax.plot(Z,Z*Hpi['f'][3],'b')\n",
    "ax.set_ylabel(r'$z H_1^{\\perp (1)}(z)$',size=20)\n",
    "ax.set_xlabel(r'$z$',size=20)\n",
    "ax.set_ylim(-0.2,1.0)\n",
    "ax.set_xlim(0.2,1.0)\n",
    "py.legend(frameon=False)\n",
    "py.tight_layout()\n",
    "py.savefig('/home/dmriser/Pictures/collins-bes3.pdf', bbox_inches='tight')"
   ]
  },
  {
   "cell_type": "code",
   "execution_count": null,
   "metadata": {},
   "outputs": [],
   "source": []
  }
 ],
 "metadata": {
  "anaconda-cloud": {},
  "kernelspec": {
   "display_name": "Python 2",
   "language": "python",
   "name": "python2"
  },
  "language_info": {
   "codemirror_mode": {
    "name": "ipython",
    "version": 2
   },
   "file_extension": ".py",
   "mimetype": "text/x-python",
   "name": "python",
   "nbconvert_exporter": "python",
   "pygments_lexer": "ipython2",
   "version": "2.7.12"
  }
 },
 "nbformat": 4,
 "nbformat_minor": 2
}
