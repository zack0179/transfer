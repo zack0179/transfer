{
 "cells": [
  {
   "cell_type": "markdown",
   "metadata": {},
   "source": [
    "# JAM FITTER"
   ]
  },
  {
   "cell_type": "code",
   "execution_count": 1,
   "metadata": {
    "collapsed": false
   },
   "outputs": [],
   "source": [
    "import sys,os\n",
    "from fitlab.resman import RESMAN\n",
    "from fitlab.mcsamp import MCSAMP\n",
    "from tools.config import load_config,conf\n",
    "from tools.tools import load, save,checkdir\n",
    "import pylab as py\n",
    "import numpy as np\n",
    "import pandas as pd\n",
    "import copy\n",
    "\n",
    "import matplotlib.pyplot as plt\n",
    "\n",
    "def lprint(msg):\n",
    "    sys.stdout.write('\\r')\n",
    "    sys.stdout.write('%s' %msg)\n",
    "    sys.stdout.flush()\n",
    "%matplotlib inline"
   ]
  },
  {
   "cell_type": "markdown",
   "metadata": {},
   "source": [
    "## setup path to store the results "
   ]
  },
  {
   "cell_type": "code",
   "execution_count": 2,
   "metadata": {
    "collapsed": true
   },
   "outputs": [],
   "source": [
    "path2results='sia_collins_pion'\n",
    "checkdir(path2results)"
   ]
  },
  {
   "cell_type": "markdown",
   "metadata": {},
   "source": [
    "## data sets "
   ]
  },
  {
   "cell_type": "code",
   "execution_count": 3,
   "metadata": {
    "collapsed": true
   },
   "outputs": [],
   "source": [
    "conf['datasets']={}"
   ]
  },
  {
   "cell_type": "markdown",
   "metadata": {},
   "source": [
    "## SIA"
   ]
  },
  {
   "cell_type": "code",
   "execution_count": 4,
   "metadata": {
    "collapsed": true
   },
   "outputs": [],
   "source": [
    "conf['datasets']['sia']={}\n",
    "conf['datasets']['sia']['filters']={0:{'idx':None,'filter':None}}\n",
    "conf['datasets']['sia']['filters'][0]['idx']=[1000,1001,1002,1003,1004,1005,2008,2009]\n",
    "conf['datasets']['sia']['filters'][0]['filter']=\"Q2>1.69\"\n",
    "conf['datasets']['sia']['xlsx']={}\n",
    "conf[\"datasets\"][\"sia\"][\"xlsx\"][1000]=\"sia/expdata/1000.xlsx\"  \n",
    "conf[\"datasets\"][\"sia\"][\"xlsx\"][1001]=\"sia/expdata/1001.xlsx\"  \n",
    "conf[\"datasets\"][\"sia\"][\"xlsx\"][1002]=\"sia/expdata/1002.xlsx\"  \n",
    "conf[\"datasets\"][\"sia\"][\"xlsx\"][1003]=\"sia/expdata/1003.xlsx\"  \n",
    "conf[\"datasets\"][\"sia\"][\"xlsx\"][1004]=\"sia/expdata/1004.xlsx\"  \n",
    "conf[\"datasets\"][\"sia\"][\"xlsx\"][1005]=\"sia/expdata/1005.xlsx\"  \n",
    "conf[\"datasets\"][\"sia\"][\"xlsx\"][2008]=\"sia/expdata/2008.xlsx\"  \n",
    "conf[\"datasets\"][\"sia\"][\"xlsx\"][2009]=\"sia/expdata/2009.xlsx\"\n",
    "conf['datasets']['sia']['norm']={}\n",
    "for k in conf['datasets']['sia']['xlsx']: \n",
    "    conf['datasets']['sia']['norm'][k]={'value':1,'fixed':True,'min':0,'max':1} "
   ]
  },
  {
   "cell_type": "markdown",
   "metadata": {},
   "source": [
    "## parameters"
   ]
  },
  {
   "cell_type": "code",
   "execution_count": 5,
   "metadata": {
    "collapsed": true
   },
   "outputs": [],
   "source": [
    "conf['params']={}\n",
    "conf['shape']=1"
   ]
  },
  {
   "cell_type": "markdown",
   "metadata": {},
   "source": [
    "### TMD PDF/FF parameters (from upol analysis)"
   ]
  },
  {
   "cell_type": "code",
   "execution_count": 6,
   "metadata": {
    "collapsed": true
   },
   "outputs": [],
   "source": [
    "conf['params']={}\n",
    "conf['params']['pdf']={}\n",
    "conf['params']['pdf']['widths0 valence']  = {'value':5.89294556274006398056e-01,'fixed':True,'min':0,'max':1}\n",
    "conf['params']['pdf']['widths0 sea']      = {'value':6.33443286558464269120e-01,'fixed':True,'min':0,'max':1}\n",
    "conf['params']['ff']={}\n",
    "conf['params']['ff']['widths0 pi+ fav']   = {'value':1.15151579728561548333e-01,'fixed':True,'min':0,'max':1}\n",
    "conf['params']['ff']['widths0 pi+ unfav'] = {'value':1.36784756168045196212e-01,'fixed':True,'min':0,'max':1}"
   ]
  },
  {
   "cell_type": "markdown",
   "metadata": {},
   "source": [
    "### TMD Collins parameters"
   ]
  },
  {
   "cell_type": "code",
   "execution_count": 7,
   "metadata": {
    "collapsed": true
   },
   "outputs": [],
   "source": [
    "conf['params']['collins']={}\n",
    "conf['params']['collins']['widths0 pi+ fav']     = {'value':7.47958632885192820083e-02,'fixed':False,'min':1e-5,'max':0.3}\n",
    "conf['params']['collins']['widths0 pi+ unfav']   = {'value':0.059763576917398841815e+00,'fixed':False,'min':1e-5,'max':0.4}\n",
    "conf['params']['collins']['pi+ u N 1']  = {'value': 4.49239476315589936206e+00,'fixed':False,'min':0,'max':6}\n",
    "conf['params']['collins']['pi+ u a 1']  = {'value':-8.28098465048009213518e-01,'fixed':False,'min':-1.9,'max':0}\n",
    "conf['params']['collins']['pi+ u b 1']  = {'value': 6.60780815284983358282e+00,'fixed':False,'min':1e-5,'max':10}\n",
    "\n",
    "conf['params']['collins']['pi+ d N 1']  = {'value':-4.14852904854067539020e+00,'fixed':False,'min':-10,'max':0}\n",
    "conf['params']['collins']['pi+ d a 1']  = {'value': 1.00000000000000000000e+00,'fixed':False,'min': 3.,'max':6.}\n",
    "conf['params']['collins']['pi+ d b 1']  = {'value': 2.37348461151638101541e+00,'fixed':False,'min':2.,'max':4.}\n",
    "\n",
    "conf['params']['collins']['pi+ u c 1']  = {'value': 0.0,'fixed':True,'min':-10,'max':10}\n",
    "conf['params']['collins']['pi+ d c 1']  = {'value': 0.0,'fixed':True,'min':-10,'max':10}\n",
    "conf['params']['collins']['pi+ u d 1']  = {'value': 0.0,'fixed':True,'min':-10,'max':10}\n",
    "conf['params']['collins']['pi+ d d 1']  = {'value': 0.0,'fixed':True,'min':-10,'max':10}\n",
    "\n",
    "conf['params']['collins']['pi+ u N 2']  = {'value': 6.11150078306284516572e+00,'fixed':False,'min':5,'max':10}\n",
    "conf['params']['collins']['pi+ u a 2']  = {'value': 4.71508421683099232524e+00,'fixed':False,'min':4,'max':6}\n",
    "conf['params']['collins']['pi+ u b 2']  = {'value': 2.75387728005980081392e+00,'fixed':False,'min':1,'max':10}\n",
    "\n",
    "conf['params']['collins']['pi+ d N 2']  = {'value': 0.0,'fixed':True,'min':-20,'max':0}\n",
    "conf['params']['collins']['pi+ d a 2']  = {'value': 0.0,'fixed':True,'min':-1,'max':5}\n",
    "conf['params']['collins']['pi+ d b 2']  = {'value': 0.0,'fixed':True,'min':1e-5,'max':10}\n",
    "conf['params']['collins']['pi+ u c 2']  = {'value': 0.0,'fixed':True,'min':-10,'max':10}\n",
    "conf['params']['collins']['pi+ d c 2']  = {'value': 0.0,'fixed':True,'min':-10,'max':10}\n",
    "conf['params']['collins']['pi+ u d 2']  = {'value': 0.0,'fixed':True,'min':-10,'max':10}\n",
    "conf['params']['collins']['pi+ d d 2']  = {'value': 0.0,'fixed':True,'min':-10,'max':10}"
   ]
  },
  {
   "cell_type": "markdown",
   "metadata": {
    "collapsed": true
   },
   "source": [
    "## Nested Sampling"
   ]
  },
  {
   "cell_type": "markdown",
   "metadata": {},
   "source": [
    "### initialize fitpack libraries"
   ]
  },
  {
   "cell_type": "code",
   "execution_count": 8,
   "metadata": {
    "collapsed": false
   },
   "outputs": [
    {
     "name": "stdout",
     "output_type": "stream",
     "text": [
      "loading sia data sets 2009\n",
      "multiprocess setup: ncpus=1 / observable\n"
     ]
    }
   ],
   "source": [
    "conf['ncpus']=1\n",
    "conf['resman'] = RESMAN()\n",
    "mcsamp=MCSAMP()"
   ]
  },
  {
   "cell_type": "markdown",
   "metadata": {
    "collapsed": true
   },
   "source": [
    "### start multiple NS runs\n",
    "- the code will start n independent runs specified by size"
   ]
  },
  {
   "cell_type": "code",
   "execution_count": 9,
   "metadata": {
    "collapsed": false,
    "scrolled": true
   },
   "outputs": [
    {
     "name": "stdout",
     "output_type": "stream",
     "text": [
      "getting initial active p: 16/44"
     ]
    },
    {
     "name": "stderr",
     "output_type": "stream",
     "text": [
      "Process Process-5:\n",
      "Process Process-6:\n",
      "Process Process-7:\n",
      "Traceback (most recent call last):\n",
      "Process Process-8:\n",
      "Traceback (most recent call last):\n",
      "Traceback (most recent call last):\n",
      "Process Process-4:\n",
      "  File \"//anaconda/lib/python2.7/multiprocessing/process.py\", line 258, in _bootstrap\n",
      "Process Process-9:\n",
      "Process Process-2:\n",
      "    self.run()\n",
      "  File \"//anaconda/lib/python2.7/multiprocessing/process.py\", line 114, in run\n",
      "  File \"//anaconda/lib/python2.7/multiprocessing/process.py\", line 258, in _bootstrap\n",
      "Process Process-1:\n",
      "    self._target(*self._args, **self._kwargs)\n",
      "Process Process-3:\n",
      "Process Process-10:\n",
      "Traceback (most recent call last):\n",
      "Traceback (most recent call last):\n",
      "Traceback (most recent call last):\n",
      "Traceback (most recent call last):\n",
      "    self.run()\n",
      "  File \"//anaconda/lib/python2.7/multiprocessing/process.py\", line 114, in run\n",
      "  File \"//anaconda/lib/python2.7/multiprocessing/process.py\", line 258, in _bootstrap\n",
      "Traceback (most recent call last):\n",
      "Traceback (most recent call last):\n",
      "  File \"//anaconda/lib/python2.7/multiprocessing/process.py\", line 258, in _bootstrap\n",
      "  File \"//anaconda/lib/python2.7/multiprocessing/process.py\", line 258, in _bootstrap\n",
      "Traceback (most recent call last):\n",
      "  File \"//anaconda/lib/python2.7/multiprocessing/process.py\", line 258, in _bootstrap\n",
      "    self.run()\n",
      "    self.run()\n",
      "  File \"//anaconda/lib/python2.7/multiprocessing/process.py\", line 114, in run\n",
      "  File \"//anaconda/lib/python2.7/multiprocessing/process.py\", line 258, in _bootstrap\n",
      "  File \"//anaconda/lib/python2.7/multiprocessing/process.py\", line 114, in run\n",
      "  File \"//anaconda/lib/python2.7/multiprocessing/process.py\", line 258, in _bootstrap\n",
      "    self._target(*self._args, **self._kwargs)\n",
      "    self.run()\n",
      "    self._target(*self._args, **self._kwargs)\n",
      "    self.run()\n",
      "  File \"//anaconda/lib/python2.7/multiprocessing/process.py\", line 258, in _bootstrap\n",
      "    self.run()\n",
      "    self.run()\n",
      "  File \"//anaconda/lib/python2.7/multiprocessing/process.py\", line 114, in run\n",
      "  File \"//anaconda/lib/python2.7/multiprocessing/process.py\", line 114, in run\n",
      "  File \"//anaconda/lib/python2.7/multiprocessing/process.py\", line 114, in run\n",
      "    self._target(*self._args, **self._kwargs)\n",
      "  File \"/Users/KML/Gaussian/fitpack/fitlab/mcsamp.py\", line 83, in single_run\n",
      "    self._target(*self._args, **self._kwargs)\n",
      "  File \"/Users/KML/Gaussian/fitpack/fitlab/mcsamp.py\", line 83, in single_run\n",
      "  File \"/Users/KML/Gaussian/fitpack/fitlab/mcsamp.py\", line 83, in single_run\n",
      "    results=nest.NEST().run()\n",
      "  File \"/Users/KML/Gaussian/fitpack/fitlab/nest.py\", line 200, in __init__\n",
      "  File \"//anaconda/lib/python2.7/multiprocessing/process.py\", line 114, in run\n",
      "  File \"//anaconda/lib/python2.7/multiprocessing/process.py\", line 258, in _bootstrap\n",
      "    results=nest.NEST().run()\n",
      "    self.set_active_sets(self.N)\n",
      "  File \"/Users/KML/Gaussian/fitpack/fitlab/nest.py\", line 354, in set_active_sets\n",
      "  File \"/Users/KML/Gaussian/fitpack/fitlab/nest.py\", line 200, in __init__\n",
      "    results=nest.NEST().run()\n",
      "    self._target(*self._args, **self._kwargs)\n",
      "    self.set_active_sets(self.N)\n",
      "  File \"/Users/KML/Gaussian/fitpack/fitlab/nest.py\", line 354, in set_active_sets\n",
      "    nll=self.get_nll(p)\n",
      "    self.run()\n",
      "  File \"/Users/KML/Gaussian/fitpack/fitlab/mcsamp.py\", line 83, in single_run\n",
      "    nll=self.get_nll(p)\n",
      "  File \"/Users/KML/Gaussian/fitpack/fitlab/mcsamp.py\", line 23, in nll\n",
      "  File \"/Users/KML/Gaussian/fitpack/fitlab/mcsamp.py\", line 83, in single_run\n",
      "    results=nest.NEST().run()\n",
      "    self._target(*self._args, **self._kwargs)\n",
      "  File \"/Users/KML/Gaussian/fitpack/fitlab/nest.py\", line 200, in __init__\n",
      "  File \"/Users/KML/Gaussian/fitpack/fitlab/mcsamp.py\", line 23, in nll\n",
      "  File \"/Users/KML/Gaussian/fitpack/fitlab/mcsamp.py\", line 83, in single_run\n",
      "    self.set_active_sets(self.N)\n",
      "    self.run()\n",
      "    results=nest.NEST().run()\n",
      "  File \"/Users/KML/Gaussian/fitpack/fitlab/mcsamp.py\", line 83, in single_run\n",
      "    self._target(*self._args, **self._kwargs)\n",
      "    results=nest.NEST().run()\n",
      "  File \"/Users/KML/Gaussian/fitpack/fitlab/nest.py\", line 200, in __init__\n",
      "    results=nest.NEST().run()\n",
      "  File \"//anaconda/lib/python2.7/multiprocessing/process.py\", line 114, in run\n",
      "  File \"/Users/KML/Gaussian/fitpack/fitlab/nest.py\", line 200, in __init__\n",
      "  File \"/Users/KML/Gaussian/fitpack/fitlab/mcsamp.py\", line 83, in single_run\n",
      "  File \"/Users/KML/Gaussian/fitpack/fitlab/nest.py\", line 354, in set_active_sets\n",
      "  File \"//anaconda/lib/python2.7/multiprocessing/process.py\", line 114, in run\n",
      "    self.set_active_sets(self.N)\n",
      "    results=nest.NEST().run()\n",
      "    self.set_active_sets(self.N)\n",
      "    self._target(*self._args, **self._kwargs)\n",
      "  File \"/Users/KML/Gaussian/fitpack/fitlab/nest.py\", line 200, in __init__\n",
      "  File \"/Users/KML/Gaussian/fitpack/fitlab/nest.py\", line 200, in __init__\n",
      "    self._target(*self._args, **self._kwargs)\n",
      "  File \"/Users/KML/Gaussian/fitpack/fitlab/nest.py\", line 354, in set_active_sets\n",
      "    self.set_active_sets(self.N)\n",
      "  File \"/Users/KML/Gaussian/fitpack/fitlab/nest.py\", line 200, in __init__\n",
      "    nll=self.get_nll(p)\n",
      "    res=self.get_residuals(par)\n",
      "    res=self.get_residuals(par)\n",
      "    self.set_active_sets(self.N)\n",
      "  File \"/Users/KML/Gaussian/fitpack/fitlab/mcsamp.py\", line 83, in single_run\n",
      "  File \"/Users/KML/Gaussian/fitpack/fitlab/nest.py\", line 354, in set_active_sets\n",
      "  File \"/Users/KML/Gaussian/fitpack/fitlab/mcsamp.py\", line 83, in single_run\n",
      "  File \"/Users/KML/Gaussian/fitpack/fitlab/mcsamp.py\", line 14, in get_residuals\n",
      "  File \"/Users/KML/Gaussian/fitpack/fitlab/nest.py\", line 354, in set_active_sets\n",
      "  File \"/Users/KML/Gaussian/fitpack/fitlab/nest.py\", line 354, in set_active_sets\n",
      "    nll=self.get_nll(p)\n",
      "  File \"/Users/KML/Gaussian/fitpack/fitlab/mcsamp.py\", line 14, in get_residuals\n",
      "  File \"/Users/KML/Gaussian/fitpack/fitlab/mcsamp.py\", line 23, in nll\n",
      "    self.set_active_sets(self.N)\n",
      "    results=nest.NEST().run()\n",
      "    nll=self.get_nll(p)\n",
      "  File \"/Users/KML/Gaussian/fitpack/fitlab/mcsamp.py\", line 23, in nll\n",
      "    results=nest.NEST().run()\n",
      "    res=self.get_residuals(par)\n",
      "    nll=self.get_nll(p)\n",
      "    nll=self.get_nll(p)\n",
      "    res,rres,nres=conf['resman'].get_residuals(par)\n",
      "  File \"/Users/KML/Gaussian/fitpack/fitlab/mcsamp.py\", line 14, in get_residuals\n",
      "  File \"/Users/KML/Gaussian/fitpack/fitlab/mcsamp.py\", line 23, in nll\n",
      "    res,rres,nres=conf['resman'].get_residuals(par)\n",
      "  File \"/Users/KML/Gaussian/fitpack/fitlab/nest.py\", line 200, in __init__\n",
      "  File \"/Users/KML/Gaussian/fitpack/fitlab/nest.py\", line 200, in __init__\n",
      "  File \"/Users/KML/Gaussian/fitpack/fitlab/nest.py\", line 354, in set_active_sets\n",
      "    res=self.get_residuals(par)\n",
      "    self.set_active_sets(self.N)\n",
      "  File \"/Users/KML/Gaussian/fitpack/fitlab/mcsamp.py\", line 23, in nll\n",
      "    res=self.get_residuals(par)\n",
      "  File \"/Users/KML/Gaussian/fitpack/fitlab/resman.py\", line 110, in get_residuals\n",
      "  File \"/Users/KML/Gaussian/fitpack/fitlab/mcsamp.py\", line 14, in get_residuals\n",
      "    res,rres,nres=conf['resman'].get_residuals(par)\n",
      "  File \"/Users/KML/Gaussian/fitpack/fitlab/mcsamp.py\", line 23, in nll\n",
      "    nll=self.get_nll(p)\n",
      "  File \"/Users/KML/Gaussian/fitpack/fitlab/mcsamp.py\", line 23, in nll\n",
      "  File \"/Users/KML/Gaussian/fitpack/fitlab/nest.py\", line 354, in set_active_sets\n",
      "    if 'sia'     in conf['datasets']: res,rres,nres=self._get_residuals(self.siares.get_residuals,res,rres,nres)\n",
      "    res=self.get_residuals(par)\n",
      "    res=self.get_residuals(par)\n",
      "    self.set_active_sets(self.N)\n",
      "    res,rres,nres=conf['resman'].get_residuals(par)\n",
      "    res=self.get_residuals(par)\n",
      "  File \"/Users/KML/Gaussian/fitpack/fitlab/resman.py\", line 110, in get_residuals\n",
      "  File \"/Users/KML/Gaussian/fitpack/fitlab/resman.py\", line 110, in get_residuals\n",
      "  File \"/Users/KML/Gaussian/fitpack/fitlab/mcsamp.py\", line 14, in get_residuals\n",
      "    nll=self.get_nll(p)\n",
      "    res,rres,nres=conf['resman'].get_residuals(par)\n",
      "  File \"/Users/KML/Gaussian/fitpack/fitlab/mcsamp.py\", line 14, in get_residuals\n",
      "  File \"/Users/KML/Gaussian/fitpack/fitlab/resman.py\", line 110, in get_residuals\n",
      "    if 'sia'     in conf['datasets']: res,rres,nres=self._get_residuals(self.siares.get_residuals,res,rres,nres)\n",
      "  File \"/Users/KML/Gaussian/fitpack/fitlab/resman.py\", line 100, in _get_residuals\n",
      "  File \"/Users/KML/Gaussian/fitpack/fitlab/mcsamp.py\", line 14, in get_residuals\n",
      "  File \"/Users/KML/Gaussian/fitpack/fitlab/nest.py\", line 354, in set_active_sets\n",
      "  File \"/Users/KML/Gaussian/fitpack/fitlab/mcsamp.py\", line 14, in get_residuals\n",
      "    if 'sia'     in conf['datasets']: res,rres,nres=self._get_residuals(self.siares.get_residuals,res,rres,nres)\n",
      "    _res,_rres,_nres=func()\n",
      "    if 'sia'     in conf['datasets']: res,rres,nres=self._get_residuals(self.siares.get_residuals,res,rres,nres)\n",
      "  File \"/Users/KML/Gaussian/fitpack/fitlab/mcsamp.py\", line 23, in nll\n",
      "  File \"/Users/KML/Gaussian/fitpack/fitlab/resman.py\", line 110, in get_residuals\n",
      "  File \"/Users/KML/Gaussian/fitpack/fitlab/resman.py\", line 100, in _get_residuals\n",
      "  File \"/Users/KML/Gaussian/fitpack/fitlab/resman.py\", line 100, in _get_residuals\n",
      "    res,rres,nres=conf['resman'].get_residuals(par)\n",
      "    nll=self.get_nll(p)\n",
      "    res,rres,nres=conf['resman'].get_residuals(par)\n",
      "  File \"/Users/KML/Gaussian/fitpack/tools/residuals.py\", line 178, in get_residuals\n",
      "    res,rres,nres=conf['resman'].get_residuals(par)\n",
      "    if 'sia'     in conf['datasets']: res,rres,nres=self._get_residuals(self.siares.get_residuals,res,rres,nres)\n",
      "  File \"/Users/KML/Gaussian/fitpack/fitlab/resman.py\", line 100, in _get_residuals\n",
      "    _res,_rres,_nres=func()\n",
      "  File \"/Users/KML/Gaussian/fitpack/fitlab/resman.py\", line 110, in get_residuals\n",
      "    res=self.get_residuals(par)\n",
      "  File \"/Users/KML/Gaussian/fitpack/fitlab/mcsamp.py\", line 14, in get_residuals\n",
      "    _res,_rres,_nres=func()\n",
      "  File \"/Users/KML/Gaussian/fitpack/fitlab/resman.py\", line 110, in get_residuals\n",
      "    self.get_theory()\n",
      "  File \"/Users/KML/Gaussian/fitpack/fitlab/mcsamp.py\", line 23, in nll\n",
      "  File \"/Users/KML/Gaussian/fitpack/fitlab/resman.py\", line 110, in get_residuals\n",
      "  File \"/Users/KML/Gaussian/fitpack/fitlab/resman.py\", line 100, in _get_residuals\n",
      "  File \"/Users/KML/Gaussian/fitpack/tools/residuals.py\", line 178, in get_residuals\n",
      "    if 'sia'     in conf['datasets']: res,rres,nres=self._get_residuals(self.siares.get_residuals,res,rres,nres)\n",
      "    if 'sia'     in conf['datasets']: res,rres,nres=self._get_residuals(self.siares.get_residuals,res,rres,nres)\n",
      "    if 'sia'     in conf['datasets']: res,rres,nres=self._get_residuals(self.siares.get_residuals,res,rres,nres)\n",
      "    res,rres,nres=conf['resman'].get_residuals(par)\n",
      "    res=self.get_residuals(par)\n",
      "  File \"/Users/KML/Gaussian/fitpack/fitlab/resman.py\", line 100, in _get_residuals\n",
      "  File \"/Users/KML/Gaussian/fitpack/fitlab/resman.py\", line 100, in _get_residuals\n",
      "  File \"/Users/KML/Gaussian/fitpack/fitlab/resman.py\", line 100, in _get_residuals\n",
      "  File \"/Users/KML/Gaussian/fitpack/tools/residuals.py\", line 178, in get_residuals\n",
      "    _res,_rres,_nres=func()\n",
      "    _res,_rres,_nres=func()\n",
      "  File \"/Users/KML/Gaussian/fitpack/tools/residuals.py\", line 164, in get_theory\n",
      "    _res,_rres,_nres=func()\n",
      "    _res,_rres,_nres=func()\n",
      "    self.get_theory()\n",
      "    _res,_rres,_nres=func()\n",
      "  File \"/Users/KML/Gaussian/fitpack/tools/residuals.py\", line 178, in get_residuals\n",
      "  File \"/Users/KML/Gaussian/fitpack/fitlab/resman.py\", line 110, in get_residuals\n",
      "  File \"/Users/KML/Gaussian/fitpack/fitlab/mcsamp.py\", line 14, in get_residuals\n",
      "  File \"/Users/KML/Gaussian/fitpack/tools/residuals.py\", line 178, in get_residuals\n",
      "    if 'sia'     in conf['datasets']: res,rres,nres=self._get_residuals(self.siares.get_residuals,res,rres,nres)\n",
      "  File \"/Users/KML/Gaussian/fitpack/tools/residuals.py\", line 178, in get_residuals\n",
      "    self.get_theory()\n",
      "  File \"/Users/KML/Gaussian/fitpack/tools/residuals.py\", line 178, in get_residuals\n",
      "    output=self.mproc.run()\n",
      "  File \"/Users/KML/Gaussian/fitpack/tools/residuals.py\", line 164, in get_theory\n",
      "    self.get_theory()\n",
      "  File \"/Users/KML/Gaussian/fitpack/tools/residuals.py\", line 178, in get_residuals\n",
      "    res,rres,nres=conf['resman'].get_residuals(par)\n",
      "    self.get_theory()\n",
      "    self.get_theory()\n",
      "  File \"/Users/KML/Gaussian/fitpack/tools/residuals.py\", line 164, in get_theory\n",
      "  File \"/Users/KML/Gaussian/fitpack/fitlab/resman.py\", line 100, in _get_residuals\n",
      "    self.get_theory()\n",
      "    self.get_theory()\n",
      "  File \"/Users/KML/Gaussian/fitpack/tools/residuals.py\", line 164, in get_theory\n",
      "  File \"/Users/KML/Gaussian/fitpack/fitlab/resman.py\", line 110, in get_residuals\n",
      "  File \"/Users/KML/Gaussian/fitpack/tools/multiproc.py\", line 38, in run\n",
      "  File \"/Users/KML/Gaussian/fitpack/tools/residuals.py\", line 164, in get_theory\n",
      "    output=self.mproc.run()\n",
      "  File \"/Users/KML/Gaussian/fitpack/tools/residuals.py\", line 164, in get_theory\n",
      "  File \"/Users/KML/Gaussian/fitpack/tools/residuals.py\", line 164, in get_theory\n",
      "    output=self.mproc.run()\n",
      "    _res,_rres,_nres=func()\n",
      "    output=self.mproc.run()\n",
      "  File \"/Users/KML/Gaussian/fitpack/tools/residuals.py\", line 178, in get_residuals\n",
      "  File \"/Users/KML/Gaussian/fitpack/tools/residuals.py\", line 164, in get_theory\n",
      "    output=self.mproc.run()\n",
      "    if 'sia'     in conf['datasets']: res,rres,nres=self._get_residuals(self.siares.get_residuals,res,rres,nres)\n",
      "  File \"/Users/KML/Gaussian/fitpack/tools/multiproc.py\", line 38, in run\n",
      "  File \"/Users/KML/Gaussian/fitpack/tools/multiproc.py\", line 38, in run\n",
      "    return self.singlecore()\n",
      "    output=self.mproc.run()\n",
      "  File \"/Users/KML/Gaussian/fitpack/tools/multiproc.py\", line 38, in run\n",
      "    return self.singlecore()\n",
      "    output=self.mproc.run()\n",
      "  File \"/Users/KML/Gaussian/fitpack/tools/multiproc.py\", line 38, in run\n",
      "  File \"/Users/KML/Gaussian/fitpack/fitlab/resman.py\", line 100, in _get_residuals\n",
      "  File \"/Users/KML/Gaussian/fitpack/tools/multiproc.py\", line 38, in run\n",
      "    self.get_theory()\n",
      "  File \"/Users/KML/Gaussian/fitpack/tools/multiproc.py\", line 24, in singlecore\n",
      "  File \"/Users/KML/Gaussian/fitpack/tools/residuals.py\", line 164, in get_theory\n",
      "    output=self.mproc.run()\n",
      "    return self.singlecore()\n",
      "  File \"/Users/KML/Gaussian/fitpack/tools/multiproc.py\", line 38, in run\n",
      "    return self.singlecore()\n",
      "    _res,_rres,_nres=func()\n",
      "  File \"/Users/KML/Gaussian/fitpack/tools/multiproc.py\", line 38, in run\n",
      "    output=self.mproc.run()\n",
      "  File \"/Users/KML/Gaussian/fitpack/tools/multiproc.py\", line 24, in singlecore\n",
      "  File \"/Users/KML/Gaussian/fitpack/tools/multiproc.py\", line 24, in singlecore\n",
      "  File \"/Users/KML/Gaussian/fitpack/tools/multiproc.py\", line 24, in singlecore\n",
      "    return [self.func(entry) for entry in self.data]\n",
      "    return [self.func(entry) for entry in self.data]\n",
      "  File \"/Users/KML/Gaussian/fitpack/obslib/sia/residuals.py\", line 60, in _get_theory\n",
      "    return [self.func(entry) for entry in self.data]\n",
      "    return self.singlecore()\n",
      "    return [self.func(entry) for entry in self.data]\n",
      "    return self.singlecore()\n",
      "    return self.singlecore()\n",
      "  File \"/Users/KML/Gaussian/fitpack/tools/residuals.py\", line 178, in get_residuals\n",
      "  File \"/Users/KML/Gaussian/fitpack/tools/multiproc.py\", line 38, in run\n",
      "    return self.singlecore()\n",
      "  File \"/Users/KML/Gaussian/fitpack/obslib/sia/residuals.py\", line 60, in _get_theory\n",
      "  File \"/Users/KML/Gaussian/fitpack/obslib/sia/residuals.py\", line 61, in _get_theory\n",
      "  File \"/Users/KML/Gaussian/fitpack/tools/multiproc.py\", line 24, in singlecore\n",
      "  File \"/Users/KML/Gaussian/fitpack/obslib/sia/residuals.py\", line 59, in _get_theory\n",
      "    self.get_theory()\n",
      "    return self.singlecore()\n",
      "  File \"/Users/KML/Gaussian/fitpack/tools/residuals.py\", line 164, in get_theory\n",
      "    ZUcol=self.stfuncs.ZX(2,z1,z2,Q2,pT,h1+'+',h2+'-') + self.stfuncs.ZX(2,z1,z2,Q2,pT,h1+'-',h2+'+')\n",
      "  File \"/Users/KML/Gaussian/fitpack/tools/multiproc.py\", line 24, in singlecore\n",
      "  File \"/Users/KML/Gaussian/fitpack/obslib/sia/stfuncs.py\", line 77, in ZX\n",
      "    ZLcol=self.stfuncs.ZX(2,z1,z2,Q2,pT,h1+'+',h2+'+') + self.stfuncs.ZX(2,z1,z2,Q2,pT,h1+'-',h2+'-')\n",
      "    return [self.func(entry) for entry in self.data]\n",
      "  File \"/Users/KML/Gaussian/fitpack/tools/multiproc.py\", line 24, in singlecore\n",
      "    ZUcol=self.stfuncs.ZX(2,z1,z2,Q2,pT,h1+'+',h2+'-') + self.stfuncs.ZX(2,z1,z2,Q2,pT,h1+'-',h2+'+')\n",
      "  File \"/Users/KML/Gaussian/fitpack/obslib/sia/stfuncs.py\", line 80, in ZX\n",
      "  File \"/Users/KML/Gaussian/fitpack/tools/multiproc.py\", line 24, in singlecore\n",
      "  File \"/Users/KML/Gaussian/fitpack/tools/multiproc.py\", line 24, in singlecore\n",
      "    return [self.func(entry) for entry in self.data]\n",
      "  File \"/Users/KML/Gaussian/fitpack/obslib/sia/residuals.py\", line 61, in _get_theory\n",
      "    ZLcol=self.stfuncs.ZX(2,z1,z2,Q2,pT,h1+'+',h2+'+') + self.stfuncs.ZX(2,z1,z2,Q2,pT,h1+'-',h2+'-')\n",
      "    return [self.func(entry) for entry in self.data]\n",
      "  File \"/Users/KML/Gaussian/fitpack/obslib/sia/stfuncs.py\", line 77, in ZX\n",
      "    ZLuu =self.stfuncs.ZX(1,z1,z2,Q2,pT,h1+'+',h2+'+') + self.stfuncs.ZX(1,z1,z2,Q2,pT,h1+'-',h2+'-')\n",
      "  File \"/Users/KML/Gaussian/fitpack/obslib/sia/residuals.py\", line 61, in _get_theory\n",
      "    D2=self.get_cc(conf[k2].get_C(z2,Q2,hadron2))\n",
      "    ZLcol=self.stfuncs.ZX(2,z1,z2,Q2,pT,h1+'+',h2+'+') + self.stfuncs.ZX(2,z1,z2,Q2,pT,h1+'-',h2+'-')\n",
      "    D2=self.get_cc(conf[k2].get_C(z2,Q2,hadron2))\n",
      "    output=self.mproc.run()\n",
      "    gauss=self.get_gauss(z1,z2,pT,k1,k2,Wq)\n",
      "  File \"/Users/KML/Gaussian/fitpack/qcdlib/tmdlib.py\", line 270, in get_C\n",
      "  File \"/Users/KML/Gaussian/fitpack/tools/multiproc.py\", line 38, in run\n",
      "  File \"/Users/KML/Gaussian/fitpack/obslib/sia/stfuncs.py\", line 69, in get_gauss\n",
      "    return [self.func(entry) for entry in self.data]\n",
      "  File \"/Users/KML/Gaussian/fitpack/obslib/sia/stfuncs.py\", line 77, in ZX\n",
      "  File \"/Users/KML/Gaussian/fitpack/obslib/sia/residuals.py\", line 60, in _get_theory\n",
      "    D2=self.get_cc(conf[k2].get_C(z2,Q2,hadron2))\n",
      "  File \"/Users/KML/Gaussian/fitpack/obslib/sia/stfuncs.py\", line 77, in ZX\n",
      "  File \"/Users/KML/Gaussian/fitpack/obslib/sia/stfuncs.py\", line 77, in ZX\n",
      "    return [self.func(entry) for entry in self.data]\n",
      "  File \"/Users/KML/Gaussian/fitpack/obslib/sia/residuals.py\", line 61, in _get_theory\n",
      "    else: return np.ones(11)\n",
      "    return self.singlecore()\n",
      "    C=self.get_collinear(z,hadron)#*ff\n",
      "  File \"//anaconda/lib/python2.7/site-packages/numpy/core/numeric.py\", line 192, in ones\n",
      "    ZUcol=self.stfuncs.ZX(2,z1,z2,Q2,pT,h1+'+',h2+'-') + self.stfuncs.ZX(2,z1,z2,Q2,pT,h1+'-',h2+'+')\n",
      "  File \"/Users/KML/Gaussian/fitpack/qcdlib/tmdlib.py\", line 270, in get_C\n",
      "    a = empty(shape, dtype, order)\n",
      "  File \"/Users/KML/Gaussian/fitpack/qcdlib/tmdlib.py\", line 270, in get_C\n",
      "    D2=self.get_cc(conf[k2].get_C(z2,Q2,hadron2))\n",
      "KeyboardInterrupt\n",
      "    ZLcol=self.stfuncs.ZX(2,z1,z2,Q2,pT,h1+'+',h2+'+') + self.stfuncs.ZX(2,z1,z2,Q2,pT,h1+'-',h2+'-')\n",
      "  File \"/Users/KML/Gaussian/fitpack/tools/multiproc.py\", line 24, in singlecore\n",
      "  File \"/Users/KML/Gaussian/fitpack/obslib/sia/stfuncs.py\", line 76, in ZX\n",
      "  File \"/Users/KML/Gaussian/fitpack/qcdlib/tmdlib.py\", line 86, in get_collinear\n",
      "    D1=conf[k1].get_C(z1,Q2,hadron1)\n",
      "    D2=self.get_cc(conf[k2].get_C(z2,Q2,hadron2))\n",
      "  File \"/Users/KML/Gaussian/fitpack/obslib/sia/stfuncs.py\", line 76, in ZX\n",
      "    C=self.get_collinear(z,hadron)#*ff\n",
      "  File \"/Users/KML/Gaussian/fitpack/obslib/sia/stfuncs.py\", line 51, in get_cc\n",
      "    C=self.get_collinear(z,hadron)#*ff\n",
      "  File \"/Users/KML/Gaussian/fitpack/obslib/sia/residuals.py\", line 72, in _get_theory\n",
      "    D1=conf[k1].get_C(z1,Q2,hadron1)\n",
      "  File \"/Users/KML/Gaussian/fitpack/qcdlib/tmdlib.py\", line 270, in get_C\n",
      "  File \"/Users/KML/Gaussian/fitpack/qcdlib/tmdlib.py\", line 85, in get_collinear\n",
      "    N[i]=self.get_shape(x,self.shape1[hadron][i])\n",
      "    return [self.func(entry) for entry in self.data]\n",
      "    if 'shape2' in self.__dict__:\n",
      "  File \"/Users/KML/Gaussian/fitpack/qcdlib/tmdlib.py\", line 270, in get_C\n",
      "KeyboardInterrupt\n",
      "  File \"/Users/KML/Gaussian/fitpack/qcdlib/tmdlib.py\", line 85, in get_collinear\n",
      "    N[i]=self.get_shape(x,self.shape1[hadron][i])\n",
      "    ZLcol=self.stfuncs.ZX(2,z1,z2,Q2,pT,h1+'+',h2+'+') + self.stfuncs.ZX(2,z1,z2,Q2,pT,h1+'-',h2+'-')\n",
      "  File \"/Users/KML/Gaussian/fitpack/qcdlib/tmdlib.py\", line 270, in get_C\n",
      "    C=self.get_collinear(z,hadron)#*ff\n",
      "KeyboardInterrupt\n",
      "  File \"/Users/KML/Gaussian/fitpack/qcdlib/tmdlib.py\", line 87, in get_collinear\n",
      "    C=self.get_collinear(z,hadron)#*ff\n",
      "    Acc[10]=A[9]\n",
      "  File \"/Users/KML/Gaussian/fitpack/qcdlib/tmdlib.py\", line 87, in get_collinear\n",
      "KeyboardInterrupt\n",
      "    C=self.get_collinear(z,hadron)#*ff\n",
      "  File \"/Users/KML/Gaussian/fitpack/obslib/sia/stfuncs.py\", line 76, in ZX\n",
      "KeyboardInterrupt\n",
      "    D1=conf[k1].get_C(z1,Q2,hadron1)\n",
      "  File \"/Users/KML/Gaussian/fitpack/obslib/sia/residuals.py\", line 60, in _get_theory\n",
      "    ZUcol=self.stfuncs.ZX(2,z1,z2,Q2,pT,h1+'+',h2+'-') + self.stfuncs.ZX(2,z1,z2,Q2,pT,h1+'-',h2+'+')\n",
      "  File \"/Users/KML/Gaussian/fitpack/qcdlib/tmdlib.py\", line 270, in get_C\n",
      "    N[i]+=self.get_shape(x,self.shape2[hadron][i])\n",
      "  File \"/Users/KML/Gaussian/fitpack/qcdlib/tmdlib.py\", line 58, in get_shape\n",
      "    N[i]+=self.get_shape(x,self.shape2[hadron][i])\n",
      "  File \"/Users/KML/Gaussian/fitpack/qcdlib/tmdlib.py\", line 85, in get_collinear\n",
      "  File \"/Users/KML/Gaussian/fitpack/qcdlib/tmdlib.py\", line 58, in get_shape\n",
      "    N[i]=self.get_shape(x,self.shape1[hadron][i])\n",
      "  File \"/Users/KML/Gaussian/fitpack/obslib/sia/stfuncs.py\", line 77, in ZX\n",
      "    C=self.get_collinear(z,hadron)#*ff\n",
      "    return  p[0]*x**p[1]*(1-x)**p[2]*(1+p[3]*x+p[4]*x**2)\n",
      "    D2=self.get_cc(conf[k2].get_C(z2,Q2,hadron2))\n",
      "  File \"/Users/KML/Gaussian/fitpack/qcdlib/tmdlib.py\", line 85, in get_collinear\n",
      "    return  p[0]*x**p[1]*(1-x)**p[2]*(1+p[3]*x+p[4]*x**2)\n",
      "  File \"/Users/KML/Gaussian/fitpack/qcdlib/tmdlib.py\", line 270, in get_C\n",
      "    N[i]=self.get_shape(x,self.shape1[hadron][i])\n",
      "KeyboardInterrupt\n",
      "  File \"/Users/KML/Gaussian/fitpack/qcdlib/tmdlib.py\", line 58, in get_shape\n",
      "    C=self.get_collinear(z,hadron)#*ff\n",
      "    return  p[0]*x**p[1]*(1-x)**p[2]*(1+p[3]*x+p[4]*x**2)\n",
      "KeyboardInterrupt\n",
      "KeyboardInterrupt\n",
      "KeyboardInterrupt\n",
      "  File \"/Users/KML/Gaussian/fitpack/qcdlib/tmdlib.py\", line 87, in get_collinear\n",
      "    N[i]+=self.get_shape(x,self.shape2[hadron][i])\n",
      "  File \"/Users/KML/Gaussian/fitpack/qcdlib/tmdlib.py\", line 58, in get_shape\n",
      "    return  p[0]*x**p[1]*(1-x)**p[2]*(1+p[3]*x+p[4]*x**2)\n",
      "KeyboardInterrupt\n"
     ]
    },
    {
     "ename": "KeyboardInterrupt",
     "evalue": "",
     "output_type": "error",
     "traceback": [
      "\u001b[0;31m---------------------------------------------------------------------------\u001b[0m",
      "\u001b[0;31mKeyboardInterrupt\u001b[0m                         Traceback (most recent call last)",
      "\u001b[0;32m<ipython-input-9-07e391b70a5f>\u001b[0m in \u001b[0;36m<module>\u001b[0;34m()\u001b[0m\n\u001b[1;32m      2\u001b[0m \u001b[0mconf\u001b[0m\u001b[0;34m[\u001b[0m\u001b[0;34m'factor'\u001b[0m\u001b[0;34m]\u001b[0m\u001b[0;34m=\u001b[0m\u001b[0;36m4\u001b[0m \u001b[0;31m# play with the factor (3,4) and the tolerance (1.e-5,1.e-10)\u001b[0m\u001b[0;34m\u001b[0m\u001b[0m\n\u001b[1;32m      3\u001b[0m \u001b[0mconf\u001b[0m\u001b[0;34m[\u001b[0m\u001b[0;34m'tol'\u001b[0m\u001b[0;34m]\u001b[0m\u001b[0;34m=\u001b[0m\u001b[0;36m1e-8\u001b[0m\u001b[0;34m\u001b[0m\u001b[0m\n\u001b[0;32m----> 4\u001b[0;31m \u001b[0mmcsamp\u001b[0m\u001b[0;34m.\u001b[0m\u001b[0mrun\u001b[0m\u001b[0;34m(\u001b[0m\u001b[0mpath2results\u001b[0m\u001b[0;34m)\u001b[0m\u001b[0;34m\u001b[0m\u001b[0m\n\u001b[0m",
      "\u001b[0;32m/Users/KML/Gaussian/fitpack/fitlab/mcsamp.pyc\u001b[0m in \u001b[0;36mrun\u001b[0;34m(self, path, size, factor)\u001b[0m\n\u001b[1;32m    107\u001b[0m     \u001b[0mP\u001b[0m \u001b[0;34m=\u001b[0m \u001b[0;34m[\u001b[0m\u001b[0mProcess\u001b[0m\u001b[0;34m(\u001b[0m\u001b[0mtarget\u001b[0m\u001b[0;34m=\u001b[0m\u001b[0mself\u001b[0m\u001b[0;34m.\u001b[0m\u001b[0msingle_run\u001b[0m\u001b[0;34m,\u001b[0m \u001b[0margs\u001b[0m\u001b[0;34m=\u001b[0m\u001b[0;34m(\u001b[0m\u001b[0;34m'%s/%i.dat'\u001b[0m\u001b[0;34m%\u001b[0m\u001b[0;34m(\u001b[0m\u001b[0moutputdir\u001b[0m\u001b[0;34m,\u001b[0m\u001b[0mi\u001b[0m\u001b[0;34m)\u001b[0m\u001b[0;34m,\u001b[0m\u001b[0mfactor\u001b[0m\u001b[0;34m,\u001b[0m\u001b[0;34m)\u001b[0m\u001b[0;34m)\u001b[0m \u001b[0;32mfor\u001b[0m \u001b[0mi\u001b[0m  \u001b[0;32min\u001b[0m \u001b[0mnruns\u001b[0m\u001b[0;34m]\u001b[0m\u001b[0;34m\u001b[0m\u001b[0m\n\u001b[1;32m    108\u001b[0m     \u001b[0;32mfor\u001b[0m \u001b[0mp\u001b[0m \u001b[0;32min\u001b[0m \u001b[0mP\u001b[0m\u001b[0;34m:\u001b[0m \u001b[0mp\u001b[0m\u001b[0;34m.\u001b[0m\u001b[0mstart\u001b[0m\u001b[0;34m(\u001b[0m\u001b[0;34m)\u001b[0m\u001b[0;34m\u001b[0m\u001b[0m\n\u001b[0;32m--> 109\u001b[0;31m     \u001b[0;32mfor\u001b[0m \u001b[0mp\u001b[0m \u001b[0;32min\u001b[0m \u001b[0mP\u001b[0m\u001b[0;34m:\u001b[0m \u001b[0mp\u001b[0m\u001b[0;34m.\u001b[0m\u001b[0mjoin\u001b[0m\u001b[0;34m(\u001b[0m\u001b[0;34m)\u001b[0m\u001b[0;34m\u001b[0m\u001b[0m\n\u001b[0m\u001b[1;32m    110\u001b[0m \u001b[0;34m\u001b[0m\u001b[0m\n\u001b[1;32m    111\u001b[0m   \u001b[0;32mdef\u001b[0m \u001b[0mget_MC_samples\u001b[0m\u001b[0;34m(\u001b[0m\u001b[0mself\u001b[0m\u001b[0;34m,\u001b[0m\u001b[0mmcpath\u001b[0m\u001b[0;34m)\u001b[0m\u001b[0;34m:\u001b[0m\u001b[0;34m\u001b[0m\u001b[0m\n",
      "\u001b[0;32m//anaconda/lib/python2.7/multiprocessing/process.pyc\u001b[0m in \u001b[0;36mjoin\u001b[0;34m(self, timeout)\u001b[0m\n\u001b[1;32m    143\u001b[0m         \u001b[0;32massert\u001b[0m \u001b[0mself\u001b[0m\u001b[0;34m.\u001b[0m\u001b[0m_parent_pid\u001b[0m \u001b[0;34m==\u001b[0m \u001b[0mos\u001b[0m\u001b[0;34m.\u001b[0m\u001b[0mgetpid\u001b[0m\u001b[0;34m(\u001b[0m\u001b[0;34m)\u001b[0m\u001b[0;34m,\u001b[0m \u001b[0;34m'can only join a child process'\u001b[0m\u001b[0;34m\u001b[0m\u001b[0m\n\u001b[1;32m    144\u001b[0m         \u001b[0;32massert\u001b[0m \u001b[0mself\u001b[0m\u001b[0;34m.\u001b[0m\u001b[0m_popen\u001b[0m \u001b[0;32mis\u001b[0m \u001b[0;32mnot\u001b[0m \u001b[0mNone\u001b[0m\u001b[0;34m,\u001b[0m \u001b[0;34m'can only join a started process'\u001b[0m\u001b[0;34m\u001b[0m\u001b[0m\n\u001b[0;32m--> 145\u001b[0;31m         \u001b[0mres\u001b[0m \u001b[0;34m=\u001b[0m \u001b[0mself\u001b[0m\u001b[0;34m.\u001b[0m\u001b[0m_popen\u001b[0m\u001b[0;34m.\u001b[0m\u001b[0mwait\u001b[0m\u001b[0;34m(\u001b[0m\u001b[0mtimeout\u001b[0m\u001b[0;34m)\u001b[0m\u001b[0;34m\u001b[0m\u001b[0m\n\u001b[0m\u001b[1;32m    146\u001b[0m         \u001b[0;32mif\u001b[0m \u001b[0mres\u001b[0m \u001b[0;32mis\u001b[0m \u001b[0;32mnot\u001b[0m \u001b[0mNone\u001b[0m\u001b[0;34m:\u001b[0m\u001b[0;34m\u001b[0m\u001b[0m\n\u001b[1;32m    147\u001b[0m             \u001b[0m_current_process\u001b[0m\u001b[0;34m.\u001b[0m\u001b[0m_children\u001b[0m\u001b[0;34m.\u001b[0m\u001b[0mdiscard\u001b[0m\u001b[0;34m(\u001b[0m\u001b[0mself\u001b[0m\u001b[0;34m)\u001b[0m\u001b[0;34m\u001b[0m\u001b[0m\n",
      "\u001b[0;32m//anaconda/lib/python2.7/multiprocessing/forking.pyc\u001b[0m in \u001b[0;36mwait\u001b[0;34m(self, timeout)\u001b[0m\n\u001b[1;32m    152\u001b[0m         \u001b[0;32mdef\u001b[0m \u001b[0mwait\u001b[0m\u001b[0;34m(\u001b[0m\u001b[0mself\u001b[0m\u001b[0;34m,\u001b[0m \u001b[0mtimeout\u001b[0m\u001b[0;34m=\u001b[0m\u001b[0mNone\u001b[0m\u001b[0;34m)\u001b[0m\u001b[0;34m:\u001b[0m\u001b[0;34m\u001b[0m\u001b[0m\n\u001b[1;32m    153\u001b[0m             \u001b[0;32mif\u001b[0m \u001b[0mtimeout\u001b[0m \u001b[0;32mis\u001b[0m \u001b[0mNone\u001b[0m\u001b[0;34m:\u001b[0m\u001b[0;34m\u001b[0m\u001b[0m\n\u001b[0;32m--> 154\u001b[0;31m                 \u001b[0;32mreturn\u001b[0m \u001b[0mself\u001b[0m\u001b[0;34m.\u001b[0m\u001b[0mpoll\u001b[0m\u001b[0;34m(\u001b[0m\u001b[0;36m0\u001b[0m\u001b[0;34m)\u001b[0m\u001b[0;34m\u001b[0m\u001b[0m\n\u001b[0m\u001b[1;32m    155\u001b[0m             \u001b[0mdeadline\u001b[0m \u001b[0;34m=\u001b[0m \u001b[0mtime\u001b[0m\u001b[0;34m.\u001b[0m\u001b[0mtime\u001b[0m\u001b[0;34m(\u001b[0m\u001b[0;34m)\u001b[0m \u001b[0;34m+\u001b[0m \u001b[0mtimeout\u001b[0m\u001b[0;34m\u001b[0m\u001b[0m\n\u001b[1;32m    156\u001b[0m             \u001b[0mdelay\u001b[0m \u001b[0;34m=\u001b[0m \u001b[0;36m0.0005\u001b[0m\u001b[0;34m\u001b[0m\u001b[0m\n",
      "\u001b[0;32m//anaconda/lib/python2.7/multiprocessing/forking.pyc\u001b[0m in \u001b[0;36mpoll\u001b[0;34m(self, flag)\u001b[0m\n\u001b[1;32m    133\u001b[0m                 \u001b[0;32mwhile\u001b[0m \u001b[0mTrue\u001b[0m\u001b[0;34m:\u001b[0m\u001b[0;34m\u001b[0m\u001b[0m\n\u001b[1;32m    134\u001b[0m                     \u001b[0;32mtry\u001b[0m\u001b[0;34m:\u001b[0m\u001b[0;34m\u001b[0m\u001b[0m\n\u001b[0;32m--> 135\u001b[0;31m                         \u001b[0mpid\u001b[0m\u001b[0;34m,\u001b[0m \u001b[0msts\u001b[0m \u001b[0;34m=\u001b[0m \u001b[0mos\u001b[0m\u001b[0;34m.\u001b[0m\u001b[0mwaitpid\u001b[0m\u001b[0;34m(\u001b[0m\u001b[0mself\u001b[0m\u001b[0;34m.\u001b[0m\u001b[0mpid\u001b[0m\u001b[0;34m,\u001b[0m \u001b[0mflag\u001b[0m\u001b[0;34m)\u001b[0m\u001b[0;34m\u001b[0m\u001b[0m\n\u001b[0m\u001b[1;32m    136\u001b[0m                     \u001b[0;32mexcept\u001b[0m \u001b[0mos\u001b[0m\u001b[0;34m.\u001b[0m\u001b[0merror\u001b[0m \u001b[0;32mas\u001b[0m \u001b[0me\u001b[0m\u001b[0;34m:\u001b[0m\u001b[0;34m\u001b[0m\u001b[0m\n\u001b[1;32m    137\u001b[0m                         \u001b[0;32mif\u001b[0m \u001b[0me\u001b[0m\u001b[0;34m.\u001b[0m\u001b[0merrno\u001b[0m \u001b[0;34m==\u001b[0m \u001b[0merrno\u001b[0m\u001b[0;34m.\u001b[0m\u001b[0mEINTR\u001b[0m\u001b[0;34m:\u001b[0m\u001b[0;34m\u001b[0m\u001b[0m\n",
      "\u001b[0;31mKeyboardInterrupt\u001b[0m: "
     ]
    }
   ],
   "source": [
    "conf['size']=10\n",
    "conf['factor']=4 # play with the factor (3,4) and the tolerance (1.e-5,1.e-10)\n",
    "conf['tol']=1e-8\n",
    "mcsamp.run(path2results)"
   ]
  },
  {
   "cell_type": "markdown",
   "metadata": {},
   "source": [
    "### combine multiple runs into one big run"
   ]
  },
  {
   "cell_type": "code",
   "execution_count": 10,
   "metadata": {
    "collapsed": false
   },
   "outputs": [
    {
     "name": "stdout",
     "output_type": "stream",
     "text": [
      "runs max likelihoods\n",
      "-19.3674187102\n",
      "-21.9148574662\n",
      "-22.3667948035\n",
      "-21.5912585808\n",
      "-22.220757098\n",
      "-22.2819734284\n",
      "-22.2851300905\n",
      "-19.7999488558\n",
      "-22.1681269447\n",
      "-22.3449285738\n",
      "sample  size= 54716\n",
      "sample2 size= 3052\n"
     ]
    }
   ],
   "source": [
    "MC=mcsamp.get_MC_samples(path2results+'/mcdata')"
   ]
  },
  {
   "cell_type": "markdown",
   "metadata": {},
   "source": [
    "### distribution of parameters"
   ]
  },
  {
   "cell_type": "code",
   "execution_count": 11,
   "metadata": {
    "collapsed": false
   },
   "outputs": [
    {
     "data": {
      "text/plain": [
       "['0.dat',\n",
       " '1.dat',\n",
       " '2.dat',\n",
       " '3.dat',\n",
       " '4.dat',\n",
       " '5.dat',\n",
       " '6.dat',\n",
       " '7.dat',\n",
       " '8.dat',\n",
       " '9.dat']"
      ]
     },
     "execution_count": 11,
     "metadata": {},
     "output_type": "execute_result"
    }
   ],
   "source": [
    "os.listdir(path2results+'/mcdata')"
   ]
  },
  {
   "cell_type": "code",
   "execution_count": 12,
   "metadata": {
    "collapsed": false
   },
   "outputs": [
    {
     "name": "stdout",
     "output_type": "stream",
     "text": [
      "     widths0 pi+ fav =    0.07364 +/-    0.00239\n",
      "   widths0 pi+ unfav =    0.10604 +/-    0.04766\n",
      "           pi+ u N 1 =    1.09706 +/-    0.43714\n",
      "           pi+ u a 1 =   -1.55435 +/-    0.17148\n",
      "           pi+ u b 1 =    4.62528 +/-    0.63858\n",
      "           pi+ d N 1 =   -7.62092 +/-    1.51367\n",
      "           pi+ d a 1 =    3.40019 +/-    0.35212\n",
      "           pi+ d b 1 =    3.24197 +/-    0.15501\n",
      "           pi+ u N 2 =    7.61010 +/-    1.30345\n",
      "           pi+ u a 2 =    4.80901 +/-    0.52538\n",
      "           pi+ u b 2 =    3.48140 +/-    0.19438\n"
     ]
    },
    {
     "data": {
      "image/png": "[encoded data removed]",
      "text/plain": [
       "<matplotlib.figure.Figure at 0x11a113550>"
      ]
     },
     "metadata": {},
     "output_type": "display_data"
    }
   ],
   "source": [
    "samples=MC['samples']\n",
    "samples2=MC['samples2']\n",
    "weights=MC['weights']\n",
    "weights2=MC['weights2']\n",
    "order=MC['order']\n",
    "runs=MC['runs']\n",
    "\n",
    "nrows,ncols=10,4\n",
    "fig = py.figure(figsize=(ncols*4,nrows*2))\n",
    "\n",
    "def get_idx(key,tag):\n",
    "    for i in range(len(order)):\n",
    "        if order[i][1]==key and order[i][2]==tag:\n",
    "            return i\n",
    "\n",
    "global cnt\n",
    "cnt=0\n",
    "def plot(tags):\n",
    "    global cnt\n",
    "    for i in range(1,len(tags)):\n",
    "        cnt+=1\n",
    "        if tags[i]==None: continue\n",
    "        idx=get_idx(tags[0],tags[i])\n",
    "        ax=py.subplot(nrows,ncols,cnt)\n",
    "        vmin=np.amin(samples2.T[idx])\n",
    "        vmax=np.amax(samples2.T[idx])\n",
    "        R=None#(vmin,vmax)\n",
    "        for k in runs:\n",
    "            ax.hist(runs[k]['samples'].T[idx],weights=runs[k]['weights'],bins=50,normed=True,range=R)\n",
    "        ax.hist(samples.T[idx],weights=weights,bins=50,color='k',normed=True,range=R)\n",
    "        ax.hist(samples2.T[idx],weights=weights2,bins=50,color='r',histtype='step',normed=True,range=R)\n",
    "        ax.set_title(tags[i])\n",
    "        mean=np.einsum('i,i',samples2.T[idx],weights2)\n",
    "        std=np.einsum('i,i',(samples2.T[idx]-mean)**2,weights2)**0.5\n",
    "        print '%20s = %10.5f +/- %10.5f'%(tags[i],mean,std)\n",
    "        #ax.set_xlim(vmin,vmax)\n",
    "    py.tight_layout()\n",
    "\n",
    "plot(['collins','widths0 pi+ fav','widths0 pi+ unfav',None])\n",
    "plot(['collins','pi+ u N 1','pi+ u a 1','pi+ u b 1'])\n",
    "plot(['collins','pi+ d N 1','pi+ d a 1','pi+ d b 1'])\n",
    "plot(['collins','pi+ u N 2','pi+ u a 2','pi+ u b 2'])"
   ]
  },
  {
   "cell_type": "markdown",
   "metadata": {},
   "source": [
    "## data vs theory"
   ]
  },
  {
   "cell_type": "code",
   "execution_count": 13,
   "metadata": {
    "collapsed": false
   },
   "outputs": [
    {
     "name": "stdout",
     "output_type": "stream",
     "text": [
      "3052/3052"
     ]
    }
   ],
   "source": [
    "data={'weights':MC['weights2']}\n",
    "cnt=0\n",
    "for s in MC['samples2']:\n",
    "    cnt+=1    \n",
    "    lprint('%d/%d'%(cnt,len(MC['samples2'])))  \n",
    "    conf['resman'].get_residuals(s);\n",
    "    for k in conf['resman'].siares.tabs:\n",
    "        if k  not in data: data[k]=[]\n",
    "        thy=conf['resman'].siares.tabs[k]['thy']    \n",
    "        norm=conf['datasets']['sia']['norm'][k]['value']\n",
    "        shift=conf['resman'].siares.tabs[k]['shift']        \n",
    "        data[k].append(shift+thy/norm)\n",
    "save(data,'%s/%s'%(path2results,'sia.dat'))   "
   ]
  },
  {
   "cell_type": "markdown",
   "metadata": {
    "collapsed": true
   },
   "source": [
    "### compute averages and collect results"
   ]
  },
  {
   "cell_type": "code",
   "execution_count": 14,
   "metadata": {
    "collapsed": true
   },
   "outputs": [],
   "source": [
    "data=load('%s/%s'%(path2results,'sia.dat'))   \n",
    "for k in data: data[k]=np.array(data[k])\n",
    "thy,dthy={},{}\n",
    "for k in data:\n",
    "    if k=='weights': continue\n",
    "    thy[k]=np.einsum('i,ik->k',data['weights'],data[k])\n",
    "    dthy[k]=np.einsum('i,ik->k',data['weights'],(data[k]-thy[k])**2)**0.5\n",
    "for k in thy: \n",
    "    conf['resman'].siares.tabs[k]['thy']=copy.copy(thy[k])\n",
    "    conf['resman'].siares.tabs[k]['dthy']=copy.copy(dthy[k])"
   ]
  },
  {
   "cell_type": "code",
   "execution_count": 15,
   "metadata": {
    "collapsed": false
   },
   "outputs": [
    {
     "name": "stdout",
     "output_type": "stream",
     "text": [
      "sia\n"
     ]
    }
   ],
   "source": [
    "report=conf['resman'].gen_report(verb=0,level=1)\n",
    "delimiters=[]\n",
    "for i in range(len(report)): \n",
    "    if 'reaction:' in report[i]: \n",
    "        delimiters.append(i) \n",
    "\n",
    "data={}\n",
    "nlines=len(report)\n",
    "for i in range(len(delimiters)):\n",
    "    ini=delimiters[i]\n",
    "    if i==len(delimiters)-1: fin=len(report)\n",
    "    else: fin=delimiters[i+1]\n",
    "    reaction=report[ini].replace('reaction:','').strip()\n",
    "    data[reaction]={'raw data':report[ini:fin]}\n",
    "    \n",
    "for k in data:\n",
    "    print k\n",
    "    block=data[k]['raw data']\n",
    "    isep=[i for i in range(len(block)) if '--------' in block[i]][0]\n",
    "    data[k]['summary']=[block[i] for i in range(isep)]\n",
    "    data[k]['tables']=[block[i] for i in range(isep+1,len(block))]\n",
    "\n",
    "    tabs={}\n",
    "    for l in data[k]['tables']:\n",
    "        info=l.split(',')\n",
    "        col=[s for s in info if 'col' in s][0].split('=')[1].strip()\n",
    "        if col not in tabs: tabs[col]={}\n",
    "        info=[[ss.strip() for ss in s.split('=')] for s in info if 'col' not in info  if s.strip()!='']\n",
    "        \n",
    "        for s in info:\n",
    "            if s[0] not in tabs[col]: tabs[col][s[0]]=[]\n",
    "        \n",
    "        for s in info:\n",
    "            try:\n",
    "                value=float(s[1])\n",
    "            except:\n",
    "                value=s[1]\n",
    "            tabs[col][s[0]].append(value)        \n",
    "\n",
    "    data[k]['tabs']=tabs\n",
    "save(data,'%s/%s'%(path2results,'data_and_thy.dat'))"
   ]
  },
  {
   "cell_type": "code",
   "execution_count": 16,
   "metadata": {
    "collapsed": false
   },
   "outputs": [
    {
     "name": "stdout",
     "output_type": "stream",
     "text": [
      "\n",
      "reaction: sia\n",
      "   1000      BaBaR     9      13.73       0.00       0.00\n",
      "   1001      BaBaR     9       8.43       0.00       0.00\n",
      "   1002      BaBaR    36       9.53       0.00       0.00\n",
      "   1003      BaBaR    36      29.65       0.00       0.00\n",
      "   1004      belle    16      13.58       0.00       0.00\n",
      "   1005      belle    16      13.98       0.00       0.00\n"
     ]
    }
   ],
   "source": [
    "def summary():\n",
    "    for k in data:\n",
    "        print \"\"\n",
    "        for l in data[k]['summary']: print l\n",
    "summary()"
   ]
  },
  {
   "cell_type": "markdown",
   "metadata": {},
   "source": [
    "### plot data and theory"
   ]
  },
  {
   "cell_type": "code",
   "execution_count": 17,
   "metadata": {
    "collapsed": false
   },
   "outputs": [
    {
     "data": {
      "text/plain": [
       "Index([          u'N',           u'Q',          u'Q2',     u'S2/1+C2',\n",
       "           u'S2/1-C2',       u'Shift',       u'alpha',         u'col',\n",
       "          u'dS2/1-C2',         u'dqT',        u'dthy',         u'dz1',\n",
       "               u'dz2',     u'hadron1',     u'hadron2',         u'obs',\n",
       "                u'pT',       u'pTmax',       u'pTmin',          u'qT',\n",
       "       u'r-residuals',   u'residuals',       u'shift',      u'stat_u',\n",
       "             u'sys_u',       u'syt_u',         u'thy',       u'value',\n",
       "                u'z1',       u'z1max',       u'z1min',          u'z2',\n",
       "             u'z2max',       u'z2min'],\n",
       "      dtype='object')"
      ]
     },
     "execution_count": 17,
     "metadata": {},
     "output_type": "execute_result"
    }
   ],
   "source": [
    "ALL=pd.concat([pd.DataFrame(conf['resman'].siares.tabs[idx]) \\\n",
    "              for idx in conf['resman'].siares.tabs.keys()])\n",
    "\n",
    "ALL.columns"
   ]
  },
  {
   "cell_type": "code",
   "execution_count": 18,
   "metadata": {
    "collapsed": false
   },
   "outputs": [
    {
     "name": "stdout",
     "output_type": "stream",
     "text": [
      "Collaboration: BaBaR, Observerable: AUC-0-PT, Points: 9\n",
      "Collaboration: BaBaR, Observerable: AUC-0-PT-INT, Points: 36\n",
      "Collaboration: BaBaR, Observerable: AUL-0-PT, Points: 9\n",
      "Collaboration: BaBaR, Observerable: AUL-0-PT-INT, Points: 36\n",
      "Collaboration: belle, Observerable: AUC-0-PT-INT, Points: 16\n",
      "Collaboration: belle, Observerable: AUL-0-PT-INT, Points: 16\n"
     ]
    }
   ],
   "source": [
    "data = {}\n",
    "collaborations = np.unique(ALL.col)\n",
    "\n",
    "for collab in collaborations:\n",
    "    data[collab] = {}\n",
    "    \n",
    "    data_subset = ALL[ALL.col == collab]\n",
    "    observables = np.unique(data_subset.obs)\n",
    "    \n",
    "    for observable in observables:        \n",
    "        data[collab][observable] = data_subset[data_subset.obs == observable]        \n",
    "        print('Collaboration: %s, Observerable: %s, Points: %d' % (collab, observable, len(data[collab][observable])))"
   ]
  },
  {
   "cell_type": "code",
   "execution_count": 19,
   "metadata": {
    "collapsed": true
   },
   "outputs": [],
   "source": [
    "# from the paper https://arxiv.org/pdf/1309.5278.pdf\n",
    "z1_bins = np.array([0.15, 0.2, 0.3, 0.4, 0.5, 0.7, 0.9])"
   ]
  },
  {
   "cell_type": "code",
   "execution_count": 20,
   "metadata": {
    "collapsed": true
   },
   "outputs": [],
   "source": [
    "def plot(data):\n",
    "\n",
    "    n_col = 3\n",
    "    n_row = len(z1_bins)/n_col + 1\n",
    "\n",
    "    plt.figure(figsize=(4 *n_col, 3 *n_row))\n",
    "\n",
    "    for index in range(len(z1_bins)-1):\n",
    "        data_auc = data['AUC-0-PT-INT'].query('z1 > %f and z1 < %f' % (z1_bins[index], z1_bins[index+1]))\n",
    "        data_aul = data['AUL-0-PT-INT'].query('z1 > %f and z1 < %f' % (z1_bins[index], z1_bins[index+1]))\n",
    "\n",
    "\n",
    "        plt.subplot(n_row, n_col, index+1)\n",
    "        plt.errorbar(data_auc.z2, data_auc.value, data_auc.alpha, \n",
    "                    marker='o', linestyle='', color='red', label='$A_{UC}$')\n",
    "        plt.plot(data_auc.z2, data_auc.thy, linestyle='-', color='red')\n",
    "        plt.fill_between(data_auc.z2, data_auc.thy-data_auc.dthy, data_auc.thy+data_auc.dthy,\n",
    "                         color='black', alpha=0.8)\n",
    "\n",
    "\n",
    "        plt.errorbar(data_aul.z2, data_aul.value, data_aul.alpha, \n",
    "                    marker='o', linestyle='', color='blue', label='$A_{UL}$')\n",
    "        plt.plot(data_aul.z2, data_aul.thy, linestyle='-', color='blue')\n",
    "        plt.fill_between(data_aul.z2, data_aul.thy-data_aul.dthy, data_aul.thy+data_aul.dthy, \n",
    "                         color='orange', alpha=0.8)\n",
    "        \n",
    "        plt.xlim([0.0, 1.0])\n",
    "        plt.xlabel('$Z_2$')\n",
    "        plt.title('$Z_1 \\in [%.1f, %.1f]$' % (z1_bins[index], z1_bins[index+1]))\n",
    "        \n",
    "        # the legend has theory labels and I dont like them.\n",
    "        if len(data_auc) > 0 and len(data_aul) > 0:\n",
    "            handles, labels = plt.gca().get_legend_handles_labels()\n",
    "            good_handles = []\n",
    "            good_labels = []\n",
    "            for handle, label in zip(handles, labels):\n",
    "                if 'thy' not in label:\n",
    "                    good_handles.append(handle)\n",
    "                    good_labels.append(label)\n",
    "            \n",
    "            plt.legend(good_handles, good_labels, frameon=False, loc='topleft')\n",
    "        \n",
    "    plt.tight_layout()"
   ]
  },
  {
   "cell_type": "code",
   "execution_count": 21,
   "metadata": {
    "collapsed": false,
    "scrolled": true
   },
   "outputs": [
    {
     "data": {
      "image/png": "[encoded data removed]",
      "text/plain": [
       "<matplotlib.figure.Figure at 0x11b182210>"
      ]
     },
     "metadata": {},
     "output_type": "display_data"
    }
   ],
   "source": [
    "plot(data['BaBaR'])"
   ]
  },
  {
   "cell_type": "code",
   "execution_count": 22,
   "metadata": {
    "collapsed": false
   },
   "outputs": [
    {
     "data": {
      "image/png": "[encoded data removed]",
      "text/plain": [
       "<matplotlib.figure.Figure at 0x120644310>"
      ]
     },
     "metadata": {},
     "output_type": "display_data"
    }
   ],
   "source": [
    "plot(data['belle'])"
   ]
  },
  {
   "cell_type": "markdown",
   "metadata": {},
   "source": [
    "## PDFs and FFs"
   ]
  },
  {
   "cell_type": "code",
   "execution_count": 23,
   "metadata": {
    "collapsed": true
   },
   "outputs": [],
   "source": [
    "def calc(func):\n",
    "    RAW=[]\n",
    "    cnt=0\n",
    "    for s in MC['samples2']:\n",
    "        cnt+=1    \n",
    "        lprint('%d/%d'%(cnt,len(MC['samples2'])))  \n",
    "        conf['parman'].set_new_params(s);    \n",
    "        RAW.append(func())\n",
    "    RAW=np.array(RAW)\n",
    "    f =np.einsum('k,kif->if',MC['weights2'],RAW)\n",
    "    df=np.einsum('k,kif->if',MC['weights2'],(RAW-f)**2)**0.5\n",
    "    f=np.einsum('if->fi',f)\n",
    "    df=np.einsum('if->fi',df)\n",
    "    return {'f':f,'df':df}"
   ]
  },
  {
   "cell_type": "code",
   "execution_count": 24,
   "metadata": {
    "collapsed": false
   },
   "outputs": [
    {
     "name": "stdout",
     "output_type": "stream",
     "text": [
      "3052/3052"
     ]
    }
   ],
   "source": [
    "Z1=10**np.linspace(-4,-2)\n",
    "Z2=np.linspace(0.0101,0.999)\n",
    "Z=np.append(Z1,Z2)\n",
    "Hpi=calc(lambda : [conf['collins'].get_C(z,1,'pi+') for z in Z])"
   ]
  },
  {
   "cell_type": "code",
   "execution_count": 30,
   "metadata": {
    "collapsed": false
   },
   "outputs": [
    {
     "data": {
      "image/png": "[encoded data removed]",
      "text/plain": [
       "<matplotlib.figure.Figure at 0x11cb56090>"
      ]
     },
     "metadata": {},
     "output_type": "display_data"
    }
   ],
   "source": [
    "nrows,ncols=1,2\n",
    "py.figure(figsize=(ncols*5,nrows*5))\n",
    "ax=py.subplot(nrows,ncols,1)\n",
    "ax.fill_between(Z,Z*(Hpi['f'][1]-Hpi['df'][1]),Z*(Hpi['f'][1]+Hpi['df'][1]),color='r',alpha=0.5)\n",
    "ax.fill_between(Z,Z*(Hpi['f'][3]-Hpi['df'][3]),Z*(Hpi['f'][3]+Hpi['df'][3]),color='b',alpha=0.5)\n",
    "ax.plot(Z,Z*0,'black')\n",
    "ax.plot(Z,Z*Hpi['f'][1],'r')\n",
    "ax.plot(Z,Z*Hpi['f'][3],'b')\n",
    "ax.set_ylabel(r'$z H_1^{\\perp (1)}(z)$',size=20)\n",
    "ax.set_xlabel(r'$z$',size=20)\n",
    "ax.set_ylim(-0.2,1.5)\n",
    "ax.set_xlim(0,1)\n",
    "\n",
    "\n",
    "py.tight_layout()"
   ]
  },
  {
   "cell_type": "code",
   "execution_count": null,
   "metadata": {
    "collapsed": true
   },
   "outputs": [],
   "source": []
  },
  {
   "cell_type": "code",
   "execution_count": null,
   "metadata": {
    "collapsed": true
   },
   "outputs": [],
   "source": []
  },
  {
   "cell_type": "code",
   "execution_count": null,
   "metadata": {
    "collapsed": true
   },
   "outputs": [],
   "source": []
  }
 ],
 "metadata": {
  "anaconda-cloud": {},
  "kernelspec": {
   "display_name": "Python [default]",
   "language": "python",
   "name": "python2"
  },
  "language_info": {
   "codemirror_mode": {
    "name": "ipython",
    "version": 2
   },
   "file_extension": ".py",
   "mimetype": "text/x-python",
   "name": "python",
   "nbconvert_exporter": "python",
   "pygments_lexer": "ipython2",
   "version": "2.7.12"
  }
 },
 "nbformat": 4,
 "nbformat_minor": 2
}
