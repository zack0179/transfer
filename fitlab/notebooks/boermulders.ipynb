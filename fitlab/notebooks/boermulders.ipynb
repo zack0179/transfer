{
 "cells": [
  {
   "cell_type": "code",
   "execution_count": 1,
   "metadata": {
    "collapsed": true
   },
   "outputs": [],
   "source": [
    "import sys\n",
    "import os\n",
    "os.chdir('../')\n",
    "\n",
    "import itertools as it\n",
    "import numpy as np\n",
    "import pandas as pd\n",
    "import pylab as py\n",
    "import matplotlib.pyplot as plt\n",
    "from  matplotlib import rc\n",
    "from matplotlib.colors import LogNorm\n",
    "%matplotlib inline\n",
    "\n",
    "from tools.tools import save,load,lprint,load_config\n",
    "from tools.bar import BAR"
   ]
  },
  {
   "cell_type": "code",
   "execution_count": 2,
   "metadata": {
    "collapsed": true
   },
   "outputs": [],
   "source": [
    "from fitlab.resman import RESMAN\n",
    "from fitlab.parman import PARMAN"
   ]
  },
  {
   "cell_type": "code",
   "execution_count": 13,
   "metadata": {},
   "outputs": [
    {
     "name": "stdout",
     "output_type": "stream",
     "text": [
      "total 264\r\n",
      "drwxr-xr-x  24 davidriser  staff   816B Sep 12 14:01 \u001b[1m\u001b[36m.\u001b[m\u001b[m\r\n",
      "drwxr-xr-x  22 davidriser  staff   748B Sep 12 09:30 \u001b[1m\u001b[36m..\u001b[m\u001b[m\r\n",
      "-rw-r--r--   1 davidriser  staff    72B Sep  6 09:44 .gitignore\r\n",
      "-rw-r--r--   1 davidriser  staff     0B Aug 14 19:39 __init__.py\r\n",
      "-rw-r--r--   1 davidriser  staff   114B Aug 23 11:09 __init__.pyc\r\n",
      "drwxr-xr-x   5 davidriser  staff   170B Sep 10 15:32 \u001b[1m\u001b[36mgallery\u001b[m\u001b[m\r\n",
      "drwxr-xr-x   8 davidriser  staff   272B Sep 12 10:59 \u001b[1m\u001b[36minputs\u001b[m\u001b[m\r\n",
      "-rwxr-xr-x   1 davidriser  staff   5.0K Sep 12 13:50 \u001b[31mmaxlike.py\u001b[m\u001b[m\r\n",
      "-rw-r--r--   1 davidriser  staff   5.8K Sep 12 13:50 maxlike.pyc\r\n",
      "-rwxr-xr-x   1 davidriser  staff   5.0K Sep 10 15:32 \u001b[31mmaxlike.py~\u001b[m\u001b[m\r\n",
      "-rwxr-xr-x   1 davidriser  staff   3.3K Sep 12 09:30 \u001b[31mmcsamp.py\u001b[m\u001b[m\r\n",
      "-rw-r--r--   1 davidriser  staff   4.9K Sep 12 09:31 mcsamp.pyc\r\n",
      "-rwxr-xr-x   1 davidriser  staff   7.1K Sep  7 13:37 \u001b[31mnest.py\u001b[m\u001b[m\r\n",
      "-rw-r--r--   1 davidriser  staff    11K Sep  7 14:13 nest.pyc\r\n",
      "drwxr-xr-x   9 davidriser  staff   306B Sep 12 13:46 \u001b[1m\u001b[36mnotebooks\u001b[m\u001b[m\r\n",
      "drwxr-xr-x   4 davidriser  staff   136B Sep 12 09:30 \u001b[1m\u001b[36moutputs\u001b[m\u001b[m\r\n",
      "-rwxr-xr-x   1 davidriser  staff    18K Sep 10 15:32 \u001b[31mparman.py\u001b[m\u001b[m\r\n",
      "-rw-r--r--   1 davidriser  staff    14K Sep 10 15:34 parman.pyc\r\n",
      "-rwxr-xr-x   1 davidriser  staff   5.0K Sep 12 13:47 \u001b[31mresman.py\u001b[m\u001b[m\r\n",
      "-rw-r--r--   1 davidriser  staff   6.5K Sep 12 14:01 resman.pyc\r\n",
      "-rwxr-xr-x   1 davidriser  staff   5.0K Sep 12 13:46 \u001b[31mresman.py~\u001b[m\u001b[m\r\n",
      "drwxr-xr-x   4 davidriser  staff   136B Aug 16 13:14 \u001b[1m\u001b[36mruns\u001b[m\u001b[m\r\n",
      "-rwxr-xr-x   1 davidriser  staff   766B Sep  7 13:37 \u001b[31mspeedtest.py\u001b[m\u001b[m\r\n",
      "-rw-r--r--   1 davidriser  staff   1.5K Sep  7 14:13 speedtest.pyc\r\n"
     ]
    }
   ],
   "source": [
    "!ls -lah "
   ]
  },
  {
   "cell_type": "code",
   "execution_count": 6,
   "metadata": {},
   "outputs": [
    {
     "ename": "KeyError",
     "evalue": "'k+ sb N'",
     "output_type": "error",
     "traceback": [
      "\u001b[0;31m---------------------------------------------------------------------------\u001b[0m",
      "\u001b[0;31mKeyError\u001b[0m                                  Traceback (most recent call last)",
      "\u001b[0;32m<ipython-input-6-7a88a42c4177>\u001b[0m in \u001b[0;36m<module>\u001b[0;34m()\u001b[0m\n\u001b[1;32m      1\u001b[0m \u001b[0mconf\u001b[0m\u001b[0;34m=\u001b[0m\u001b[0mload_config\u001b[0m\u001b[0;34m(\u001b[0m\u001b[0;34m'runs/boermulders/boermulders.py'\u001b[0m\u001b[0;34m)\u001b[0m\u001b[0;34m\u001b[0m\u001b[0m\n\u001b[0;32m----> 2\u001b[0;31m \u001b[0mconf\u001b[0m\u001b[0;34m[\u001b[0m\u001b[0;34m'resman'\u001b[0m\u001b[0;34m]\u001b[0m\u001b[0;34m=\u001b[0m\u001b[0mRESMAN\u001b[0m\u001b[0;34m(\u001b[0m\u001b[0mconf\u001b[0m\u001b[0;34m)\u001b[0m\u001b[0;34m\u001b[0m\u001b[0m\n\u001b[0m\u001b[1;32m      3\u001b[0m \u001b[0mconf\u001b[0m\u001b[0;34m[\u001b[0m\u001b[0;34m'resman'\u001b[0m\u001b[0;34m]\u001b[0m\u001b[0;34m.\u001b[0m\u001b[0mget_residuals\u001b[0m\u001b[0;34m(\u001b[0m\u001b[0mconf\u001b[0m\u001b[0;34m[\u001b[0m\u001b[0;34m'parman'\u001b[0m\u001b[0;34m]\u001b[0m\u001b[0;34m.\u001b[0m\u001b[0mpar\u001b[0m\u001b[0;34m)\u001b[0m\u001b[0;34m;\u001b[0m\u001b[0;34m\u001b[0m\u001b[0m\n",
      "\u001b[0;32m/Users/davidriser/Repos/Eva/fitpack/fitlab/resman.py\u001b[0m in \u001b[0;36m__init__\u001b[0;34m(self, conf)\u001b[0m\n\u001b[1;32m     35\u001b[0m     \u001b[0mconf\u001b[0m\u001b[0;34m[\u001b[0m\u001b[0;34m'aux'\u001b[0m\u001b[0;34m]\u001b[0m\u001b[0;34m=\u001b[0m\u001b[0mqcdlib\u001b[0m\u001b[0;34m.\u001b[0m\u001b[0maux\u001b[0m\u001b[0;34m.\u001b[0m\u001b[0mAUX\u001b[0m\u001b[0;34m(\u001b[0m\u001b[0;34m)\u001b[0m\u001b[0;34m\u001b[0m\u001b[0m\n\u001b[1;32m     36\u001b[0m     \u001b[0mself\u001b[0m\u001b[0;34m.\u001b[0m\u001b[0msetup_tmds\u001b[0m\u001b[0;34m(\u001b[0m\u001b[0;34m)\u001b[0m\u001b[0;34m\u001b[0m\u001b[0m\n\u001b[0;32m---> 37\u001b[0;31m     \u001b[0mconf\u001b[0m\u001b[0;34m[\u001b[0m\u001b[0;34m'parman'\u001b[0m\u001b[0;34m]\u001b[0m\u001b[0;34m=\u001b[0m\u001b[0mPARMAN\u001b[0m\u001b[0;34m(\u001b[0m\u001b[0mconf\u001b[0m\u001b[0;34m)\u001b[0m\u001b[0;34m\u001b[0m\u001b[0m\n\u001b[0m\u001b[1;32m     38\u001b[0m     \u001b[0mconf\u001b[0m\u001b[0;34m[\u001b[0m\u001b[0;34m'moments'\u001b[0m\u001b[0;34m]\u001b[0m\u001b[0;34m=\u001b[0m\u001b[0mobslib\u001b[0m\u001b[0;34m.\u001b[0m\u001b[0mmoments\u001b[0m\u001b[0;34m.\u001b[0m\u001b[0mmoments\u001b[0m\u001b[0;34m.\u001b[0m\u001b[0mMOMENTS\u001b[0m\u001b[0;34m(\u001b[0m\u001b[0mconf\u001b[0m\u001b[0;34m)\u001b[0m\u001b[0;34m\u001b[0m\u001b[0m\n\u001b[1;32m     39\u001b[0m     \u001b[0;32mif\u001b[0m \u001b[0;34m'sidis'\u001b[0m \u001b[0;32min\u001b[0m \u001b[0mconf\u001b[0m\u001b[0;34m[\u001b[0m\u001b[0;34m'datasets'\u001b[0m\u001b[0;34m]\u001b[0m\u001b[0;34m:\u001b[0m\u001b[0;34m\u001b[0m\u001b[0m\n",
      "\u001b[0;32m/Users/davidriser/Repos/Eva/fitpack/fitlab/parman.pyc\u001b[0m in \u001b[0;36m__init__\u001b[0;34m(self, conf)\u001b[0m\n\u001b[1;32m     28\u001b[0m     \u001b[0mself\u001b[0m\u001b[0;34m.\u001b[0m\u001b[0mconf\u001b[0m\u001b[0;34m=\u001b[0m\u001b[0mconf\u001b[0m\u001b[0;34m\u001b[0m\u001b[0m\n\u001b[1;32m     29\u001b[0m     \u001b[0mself\u001b[0m\u001b[0;34m.\u001b[0m\u001b[0mget_ordered_free_params\u001b[0m\u001b[0;34m(\u001b[0m\u001b[0;34m)\u001b[0m\u001b[0;34m\u001b[0m\u001b[0m\n\u001b[0;32m---> 30\u001b[0;31m     \u001b[0mself\u001b[0m\u001b[0;34m.\u001b[0m\u001b[0mset_new_params\u001b[0m\u001b[0;34m(\u001b[0m\u001b[0mself\u001b[0m\u001b[0;34m.\u001b[0m\u001b[0mpar\u001b[0m\u001b[0;34m,\u001b[0m\u001b[0minitial\u001b[0m\u001b[0;34m=\u001b[0m\u001b[0mTrue\u001b[0m\u001b[0;34m)\u001b[0m\u001b[0;34m\u001b[0m\u001b[0m\n\u001b[0m\u001b[1;32m     31\u001b[0m \u001b[0;34m\u001b[0m\u001b[0m\n\u001b[1;32m     32\u001b[0m   \u001b[0;32mdef\u001b[0m \u001b[0mget_ordered_free_params\u001b[0m\u001b[0;34m(\u001b[0m\u001b[0mself\u001b[0m\u001b[0;34m)\u001b[0m\u001b[0;34m:\u001b[0m\u001b[0;34m\u001b[0m\u001b[0m\n",
      "\u001b[0;32m/Users/davidriser/Repos/Eva/fitpack/fitlab/parman.pyc\u001b[0m in \u001b[0;36mset_new_params\u001b[0;34m(self, parnew, initial)\u001b[0m\n\u001b[1;32m     67\u001b[0m       \u001b[0;32mfor\u001b[0m \u001b[0mk\u001b[0m \u001b[0;32min\u001b[0m \u001b[0msemaphore\u001b[0m\u001b[0;34m:\u001b[0m \u001b[0msemaphore\u001b[0m\u001b[0;34m[\u001b[0m\u001b[0mk\u001b[0m\u001b[0;34m]\u001b[0m\u001b[0;34m=\u001b[0m\u001b[0;36m1\u001b[0m\u001b[0;34m\u001b[0m\u001b[0m\n\u001b[1;32m     68\u001b[0m \u001b[0;34m\u001b[0m\u001b[0m\n\u001b[0;32m---> 69\u001b[0;31m     \u001b[0mself\u001b[0m\u001b[0;34m.\u001b[0m\u001b[0mpropagate_params\u001b[0m\u001b[0;34m(\u001b[0m\u001b[0msemaphore\u001b[0m\u001b[0;34m)\u001b[0m\u001b[0;34m\u001b[0m\u001b[0m\n\u001b[0m\u001b[1;32m     70\u001b[0m \u001b[0;34m\u001b[0m\u001b[0m\n\u001b[1;32m     71\u001b[0m   \u001b[0;32mdef\u001b[0m \u001b[0mgen_report\u001b[0m\u001b[0;34m(\u001b[0m\u001b[0mself\u001b[0m\u001b[0;34m)\u001b[0m\u001b[0;34m:\u001b[0m\u001b[0;34m\u001b[0m\u001b[0m\n",
      "\u001b[0;32m/Users/davidriser/Repos/Eva/fitpack/fitlab/parman.pyc\u001b[0m in \u001b[0;36mpropagate_params\u001b[0;34m(self, semaphore)\u001b[0m\n\u001b[1;32m     92\u001b[0m     \u001b[0;32mif\u001b[0m \u001b[0;34m'sivers'\u001b[0m \u001b[0;32min\u001b[0m \u001b[0msemaphore\u001b[0m \u001b[0;32mand\u001b[0m \u001b[0msemaphore\u001b[0m\u001b[0;34m[\u001b[0m\u001b[0;34m'sivers'\u001b[0m\u001b[0;34m]\u001b[0m\u001b[0;34m==\u001b[0m\u001b[0;36m1\u001b[0m\u001b[0;34m:\u001b[0m  \u001b[0mself\u001b[0m\u001b[0;34m.\u001b[0m\u001b[0mset_sivers_params\u001b[0m\u001b[0;34m(\u001b[0m\u001b[0;34m)\u001b[0m\u001b[0;34m\u001b[0m\u001b[0m\n\u001b[1;32m     93\u001b[0m     \u001b[0;32mif\u001b[0m \u001b[0;34m'transversity'\u001b[0m \u001b[0;32min\u001b[0m \u001b[0msemaphore\u001b[0m \u001b[0;32mand\u001b[0m \u001b[0msemaphore\u001b[0m\u001b[0;34m[\u001b[0m\u001b[0;34m'transversity'\u001b[0m\u001b[0;34m]\u001b[0m\u001b[0;34m==\u001b[0m\u001b[0;36m1\u001b[0m\u001b[0;34m:\u001b[0m  \u001b[0mself\u001b[0m\u001b[0;34m.\u001b[0m\u001b[0mset_transversity_params\u001b[0m\u001b[0;34m(\u001b[0m\u001b[0;34m)\u001b[0m\u001b[0;34m\u001b[0m\u001b[0m\n\u001b[0;32m---> 94\u001b[0;31m     \u001b[0;32mif\u001b[0m \u001b[0;34m'collins'\u001b[0m \u001b[0;32min\u001b[0m \u001b[0msemaphore\u001b[0m \u001b[0;32mand\u001b[0m \u001b[0msemaphore\u001b[0m\u001b[0;34m[\u001b[0m\u001b[0;34m'collins'\u001b[0m\u001b[0;34m]\u001b[0m\u001b[0;34m==\u001b[0m\u001b[0;36m1\u001b[0m\u001b[0;34m:\u001b[0m  \u001b[0mself\u001b[0m\u001b[0;34m.\u001b[0m\u001b[0mset_collins_params\u001b[0m\u001b[0;34m(\u001b[0m\u001b[0;34m)\u001b[0m\u001b[0;34m\u001b[0m\u001b[0m\n\u001b[0m\u001b[1;32m     95\u001b[0m     \u001b[0;32mif\u001b[0m \u001b[0;34m'boermulders'\u001b[0m \u001b[0;32min\u001b[0m \u001b[0msemaphore\u001b[0m \u001b[0;32mand\u001b[0m \u001b[0msemaphore\u001b[0m\u001b[0;34m[\u001b[0m\u001b[0;34m'boermulders'\u001b[0m\u001b[0;34m]\u001b[0m\u001b[0;34m==\u001b[0m\u001b[0;36m1\u001b[0m\u001b[0;34m:\u001b[0m  \u001b[0mself\u001b[0m\u001b[0;34m.\u001b[0m\u001b[0mset_boermulders_params\u001b[0m\u001b[0;34m(\u001b[0m\u001b[0;34m)\u001b[0m\u001b[0;34m\u001b[0m\u001b[0m\n\u001b[1;32m     96\u001b[0m \u001b[0;34m\u001b[0m\u001b[0m\n",
      "\u001b[0;32m/Users/davidriser/Repos/Eva/fitpack/fitlab/parman.pyc\u001b[0m in \u001b[0;36mset_collins_params\u001b[0;34m(self)\u001b[0m\n\u001b[1;32m    278\u001b[0m     \u001b[0mself\u001b[0m\u001b[0;34m.\u001b[0m\u001b[0mconf\u001b[0m\u001b[0;34m[\u001b[0m\u001b[0;34m'collins'\u001b[0m\u001b[0;34m]\u001b[0m\u001b[0;34m.\u001b[0m\u001b[0mshape\u001b[0m\u001b[0;34m[\u001b[0m\u001b[0;34m'k+'\u001b[0m\u001b[0;34m]\u001b[0m\u001b[0;34m[\u001b[0m\u001b[0;36m5\u001b[0m\u001b[0;34m]\u001b[0m\u001b[0;34m[\u001b[0m\u001b[0;36m4\u001b[0m\u001b[0;34m]\u001b[0m\u001b[0;34m=\u001b[0m\u001b[0mself\u001b[0m\u001b[0;34m.\u001b[0m\u001b[0mconf\u001b[0m\u001b[0;34m[\u001b[0m\u001b[0;34m'params'\u001b[0m\u001b[0;34m]\u001b[0m\u001b[0;34m[\u001b[0m\u001b[0;34m'collins'\u001b[0m\u001b[0;34m]\u001b[0m\u001b[0;34m[\u001b[0m\u001b[0;34m'k+ d d'\u001b[0m\u001b[0;34m]\u001b[0m\u001b[0;34m[\u001b[0m\u001b[0;34m'value'\u001b[0m\u001b[0;34m]\u001b[0m\u001b[0;34m\u001b[0m\u001b[0m\n\u001b[1;32m    279\u001b[0m \u001b[0;34m\u001b[0m\u001b[0m\n\u001b[0;32m--> 280\u001b[0;31m     \u001b[0mself\u001b[0m\u001b[0;34m.\u001b[0m\u001b[0mconf\u001b[0m\u001b[0;34m[\u001b[0m\u001b[0;34m'collins'\u001b[0m\u001b[0;34m]\u001b[0m\u001b[0;34m.\u001b[0m\u001b[0mshape\u001b[0m\u001b[0;34m[\u001b[0m\u001b[0;34m'k+'\u001b[0m\u001b[0;34m]\u001b[0m\u001b[0;34m[\u001b[0m\u001b[0;36m6\u001b[0m\u001b[0;34m]\u001b[0m\u001b[0;34m[\u001b[0m\u001b[0;36m0\u001b[0m\u001b[0;34m]\u001b[0m\u001b[0;34m=\u001b[0m\u001b[0mself\u001b[0m\u001b[0;34m.\u001b[0m\u001b[0mconf\u001b[0m\u001b[0;34m[\u001b[0m\u001b[0;34m'params'\u001b[0m\u001b[0;34m]\u001b[0m\u001b[0;34m[\u001b[0m\u001b[0;34m'collins'\u001b[0m\u001b[0;34m]\u001b[0m\u001b[0;34m[\u001b[0m\u001b[0;34m'k+ sb N'\u001b[0m\u001b[0;34m]\u001b[0m\u001b[0;34m[\u001b[0m\u001b[0;34m'value'\u001b[0m\u001b[0;34m]\u001b[0m\u001b[0;34m\u001b[0m\u001b[0m\n\u001b[0m\u001b[1;32m    281\u001b[0m     \u001b[0mself\u001b[0m\u001b[0;34m.\u001b[0m\u001b[0mconf\u001b[0m\u001b[0;34m[\u001b[0m\u001b[0;34m'collins'\u001b[0m\u001b[0;34m]\u001b[0m\u001b[0;34m.\u001b[0m\u001b[0mshape\u001b[0m\u001b[0;34m[\u001b[0m\u001b[0;34m'k+'\u001b[0m\u001b[0;34m]\u001b[0m\u001b[0;34m[\u001b[0m\u001b[0;36m6\u001b[0m\u001b[0;34m]\u001b[0m\u001b[0;34m[\u001b[0m\u001b[0;36m1\u001b[0m\u001b[0;34m]\u001b[0m\u001b[0;34m=\u001b[0m\u001b[0mself\u001b[0m\u001b[0;34m.\u001b[0m\u001b[0mconf\u001b[0m\u001b[0;34m[\u001b[0m\u001b[0;34m'params'\u001b[0m\u001b[0;34m]\u001b[0m\u001b[0;34m[\u001b[0m\u001b[0;34m'collins'\u001b[0m\u001b[0;34m]\u001b[0m\u001b[0;34m[\u001b[0m\u001b[0;34m'k+ sb a'\u001b[0m\u001b[0;34m]\u001b[0m\u001b[0;34m[\u001b[0m\u001b[0;34m'value'\u001b[0m\u001b[0;34m]\u001b[0m\u001b[0;34m\u001b[0m\u001b[0m\n\u001b[1;32m    282\u001b[0m     \u001b[0mself\u001b[0m\u001b[0;34m.\u001b[0m\u001b[0mconf\u001b[0m\u001b[0;34m[\u001b[0m\u001b[0;34m'collins'\u001b[0m\u001b[0;34m]\u001b[0m\u001b[0;34m.\u001b[0m\u001b[0mshape\u001b[0m\u001b[0;34m[\u001b[0m\u001b[0;34m'k+'\u001b[0m\u001b[0;34m]\u001b[0m\u001b[0;34m[\u001b[0m\u001b[0;36m6\u001b[0m\u001b[0;34m]\u001b[0m\u001b[0;34m[\u001b[0m\u001b[0;36m2\u001b[0m\u001b[0;34m]\u001b[0m\u001b[0;34m=\u001b[0m\u001b[0mself\u001b[0m\u001b[0;34m.\u001b[0m\u001b[0mconf\u001b[0m\u001b[0;34m[\u001b[0m\u001b[0;34m'params'\u001b[0m\u001b[0;34m]\u001b[0m\u001b[0;34m[\u001b[0m\u001b[0;34m'collins'\u001b[0m\u001b[0;34m]\u001b[0m\u001b[0;34m[\u001b[0m\u001b[0;34m'k+ sb b'\u001b[0m\u001b[0;34m]\u001b[0m\u001b[0;34m[\u001b[0m\u001b[0;34m'value'\u001b[0m\u001b[0;34m]\u001b[0m\u001b[0;34m\u001b[0m\u001b[0m\n",
      "\u001b[0;31mKeyError\u001b[0m: 'k+ sb N'"
     ]
    }
   ],
   "source": [
    "conf=load_config('runs/boermulders/boermulders.py')\n",
    "conf['resman']=RESMAN(conf)\n",
    "conf['resman'].get_residuals(conf['parman'].par);"
   ]
  },
  {
   "cell_type": "code",
   "execution_count": 26,
   "metadata": {
    "collapsed": true
   },
   "outputs": [],
   "source": [
    "def get_binned_axis(dataframe, axis):\n",
    "    return np.unique(dataframe[axis])\n",
    "\n",
    "def create_rounded_variables(dataframe):\n",
    "    dataframe['rounded_z']  = np.round(dataframe['z'], 1)\n",
    "    dataframe['rounded_q2'] = np.round(dataframe['Q2'], 1)"
   ]
  },
  {
   "cell_type": "code",
   "execution_count": 9,
   "metadata": {
    "collapsed": true
   },
   "outputs": [],
   "source": [
    "datasets = {}\n",
    "\n",
    "for index, data in conf['resman'].sidisres.tabs.iteritems():\n",
    "    datasets[index] = pd.DataFrame(data) \n",
    "    create_rounded_variables(datasets[index])"
   ]
  },
  {
   "cell_type": "code",
   "execution_count": 10,
   "metadata": {},
   "outputs": [
    {
     "data": {
      "text/html": [
       "<div>\n",
       "<style>\n",
       "    .dataframe thead tr:only-child th {\n",
       "        text-align: right;\n",
       "    }\n",
       "\n",
       "    .dataframe thead th {\n",
       "        text-align: left;\n",
       "    }\n",
       "\n",
       "    .dataframe tbody tr th {\n",
       "        vertical-align: top;\n",
       "    }\n",
       "</style>\n",
       "<table border=\"1\" class=\"dataframe\">\n",
       "  <thead>\n",
       "    <tr style=\"text-align: right;\">\n",
       "      <th></th>\n",
       "      <th>Ebeam</th>\n",
       "      <th>N</th>\n",
       "      <th>Q2</th>\n",
       "      <th>Shift</th>\n",
       "      <th>alpha</th>\n",
       "      <th>col</th>\n",
       "      <th>hadron</th>\n",
       "      <th>i</th>\n",
       "      <th>obs</th>\n",
       "      <th>pT</th>\n",
       "      <th>...</th>\n",
       "      <th>stat_u</th>\n",
       "      <th>sys_u</th>\n",
       "      <th>target</th>\n",
       "      <th>thy</th>\n",
       "      <th>value</th>\n",
       "      <th>x</th>\n",
       "      <th>y</th>\n",
       "      <th>z</th>\n",
       "      <th>rounded_z</th>\n",
       "      <th>rounded_q2</th>\n",
       "    </tr>\n",
       "  </thead>\n",
       "  <tbody>\n",
       "    <tr>\n",
       "      <th>0</th>\n",
       "      <td>27.6</td>\n",
       "      <td>1.0</td>\n",
       "      <td>1.912767</td>\n",
       "      <td>0.0</td>\n",
       "      <td>0.177512</td>\n",
       "      <td>HERMES</td>\n",
       "      <td>k-</td>\n",
       "      <td>76</td>\n",
       "      <td>AUUcos2</td>\n",
       "      <td>0.27313</td>\n",
       "      <td>...</td>\n",
       "      <td>0.17723</td>\n",
       "      <td>0.01001</td>\n",
       "      <td>proton</td>\n",
       "      <td>-0.000667</td>\n",
       "      <td>-0.18545</td>\n",
       "      <td>0.05691</td>\n",
       "      <td>0.64913</td>\n",
       "      <td>0.27277</td>\n",
       "      <td>0.3</td>\n",
       "      <td>1.9</td>\n",
       "    </tr>\n",
       "    <tr>\n",
       "      <th>1</th>\n",
       "      <td>27.6</td>\n",
       "      <td>1.0</td>\n",
       "      <td>1.908372</td>\n",
       "      <td>0.0</td>\n",
       "      <td>0.099503</td>\n",
       "      <td>HERMES</td>\n",
       "      <td>k-</td>\n",
       "      <td>77</td>\n",
       "      <td>AUUcos2</td>\n",
       "      <td>0.41725</td>\n",
       "      <td>...</td>\n",
       "      <td>0.09851</td>\n",
       "      <td>0.01402</td>\n",
       "      <td>proton</td>\n",
       "      <td>-0.002253</td>\n",
       "      <td>-0.13131</td>\n",
       "      <td>0.05676</td>\n",
       "      <td>0.64935</td>\n",
       "      <td>0.27923</td>\n",
       "      <td>0.3</td>\n",
       "      <td>1.9</td>\n",
       "    </tr>\n",
       "    <tr>\n",
       "      <th>2</th>\n",
       "      <td>27.6</td>\n",
       "      <td>1.0</td>\n",
       "      <td>1.911200</td>\n",
       "      <td>0.0</td>\n",
       "      <td>0.135252</td>\n",
       "      <td>HERMES</td>\n",
       "      <td>k-</td>\n",
       "      <td>78</td>\n",
       "      <td>AUUcos2</td>\n",
       "      <td>0.57317</td>\n",
       "      <td>...</td>\n",
       "      <td>0.13436</td>\n",
       "      <td>0.01551</td>\n",
       "      <td>proton</td>\n",
       "      <td>-0.007321</td>\n",
       "      <td>0.06936</td>\n",
       "      <td>0.05664</td>\n",
       "      <td>0.65169</td>\n",
       "      <td>0.28734</td>\n",
       "      <td>0.3</td>\n",
       "      <td>1.9</td>\n",
       "    </tr>\n",
       "    <tr>\n",
       "      <th>3</th>\n",
       "      <td>27.6</td>\n",
       "      <td>1.0</td>\n",
       "      <td>1.911789</td>\n",
       "      <td>0.0</td>\n",
       "      <td>0.135386</td>\n",
       "      <td>HERMES</td>\n",
       "      <td>k-</td>\n",
       "      <td>80</td>\n",
       "      <td>AUUcos2</td>\n",
       "      <td>0.27715</td>\n",
       "      <td>...</td>\n",
       "      <td>0.13458</td>\n",
       "      <td>0.01475</td>\n",
       "      <td>proton</td>\n",
       "      <td>-0.001101</td>\n",
       "      <td>0.01208</td>\n",
       "      <td>0.05701</td>\n",
       "      <td>0.64766</td>\n",
       "      <td>0.34527</td>\n",
       "      <td>0.3</td>\n",
       "      <td>1.9</td>\n",
       "    </tr>\n",
       "    <tr>\n",
       "      <th>4</th>\n",
       "      <td>27.6</td>\n",
       "      <td>1.0</td>\n",
       "      <td>1.913151</td>\n",
       "      <td>0.0</td>\n",
       "      <td>0.092191</td>\n",
       "      <td>HERMES</td>\n",
       "      <td>k-</td>\n",
       "      <td>81</td>\n",
       "      <td>AUUcos2</td>\n",
       "      <td>0.42251</td>\n",
       "      <td>...</td>\n",
       "      <td>0.09129</td>\n",
       "      <td>0.01286</td>\n",
       "      <td>proton</td>\n",
       "      <td>-0.003439</td>\n",
       "      <td>-0.08762</td>\n",
       "      <td>0.05707</td>\n",
       "      <td>0.64744</td>\n",
       "      <td>0.34547</td>\n",
       "      <td>0.3</td>\n",
       "      <td>1.9</td>\n",
       "    </tr>\n",
       "  </tbody>\n",
       "</table>\n",
       "<p>5 rows × 23 columns</p>\n",
       "</div>"
      ],
      "text/plain": [
       "   Ebeam    N        Q2  Shift     alpha     col hadron   i      obs       pT  \\\n",
       "0   27.6  1.0  1.912767    0.0  0.177512  HERMES     k-  76  AUUcos2  0.27313   \n",
       "1   27.6  1.0  1.908372    0.0  0.099503  HERMES     k-  77  AUUcos2  0.41725   \n",
       "2   27.6  1.0  1.911200    0.0  0.135252  HERMES     k-  78  AUUcos2  0.57317   \n",
       "3   27.6  1.0  1.911789    0.0  0.135386  HERMES     k-  80  AUUcos2  0.27715   \n",
       "4   27.6  1.0  1.913151    0.0  0.092191  HERMES     k-  81  AUUcos2  0.42251   \n",
       "\n",
       "      ...       stat_u    sys_u  target       thy    value        x        y  \\\n",
       "0     ...      0.17723  0.01001  proton -0.000667 -0.18545  0.05691  0.64913   \n",
       "1     ...      0.09851  0.01402  proton -0.002253 -0.13131  0.05676  0.64935   \n",
       "2     ...      0.13436  0.01551  proton -0.007321  0.06936  0.05664  0.65169   \n",
       "3     ...      0.13458  0.01475  proton -0.001101  0.01208  0.05701  0.64766   \n",
       "4     ...      0.09129  0.01286  proton -0.003439 -0.08762  0.05707  0.64744   \n",
       "\n",
       "         z  rounded_z  rounded_q2  \n",
       "0  0.27277        0.3         1.9  \n",
       "1  0.27923        0.3         1.9  \n",
       "2  0.28734        0.3         1.9  \n",
       "3  0.34527        0.3         1.9  \n",
       "4  0.34547        0.3         1.9  \n",
       "\n",
       "[5 rows x 23 columns]"
      ]
     },
     "execution_count": 10,
     "metadata": {},
     "output_type": "execute_result"
    }
   ],
   "source": [
    "datasets[5000].head()"
   ]
  },
  {
   "cell_type": "code",
   "execution_count": 27,
   "metadata": {
    "collapsed": true
   },
   "outputs": [],
   "source": [
    "def plot_data_new(data):\n",
    "    \n",
    "    # get binned axes for plotting \n",
    "    bins_z = get_binned_axis(data, 'rounded_z')\n",
    "    bins_q2 = get_binned_axis(data, 'rounded_q2')\n",
    "\n",
    "    # setup canvas \n",
    "    cols = 3\n",
    "    rows = np.ceil(len(bins_q2)/cols)\n",
    "    plt.figure(figsize=(12,rows*6))\n",
    "    \n",
    "    for index in range(len(bins_q2)-1):\n",
    "        plt.subplot(rows*cols, cols, index+1)\n",
    "        \n",
    "        # setup cuts for picking the data of interst \n",
    "        cuts = {}\n",
    "        cuts['rounded_q2'] = ('rounded_q2 > %f and rounded_q2 < %f' % (bins_q2[index], bins_q2[index+1]))\n",
    "        \n",
    "        # get each z-bin of data and plot it \n",
    "        for index_z in range(len(bins_z)-1):\n",
    "            cuts['rounded_z'] = ('rounded_z > %f and rounded_z < %f' % (bins_z[index_z], bins_z[index_z+1]))\n",
    "            data_subset = data.query(cuts['rounded_q2'] + ' and ' + cuts['rounded_z'])\n",
    "        \n",
    "            print 'data_subset has entries = ', len(data_subset)\n",
    "            plt.errorbar(data_subset.pT, data_subset.value, data_subset.alpha)\n",
    "    \n",
    "    plt.tight_layout()"
   ]
  },
  {
   "cell_type": "code",
   "execution_count": 36,
   "metadata": {
    "collapsed": true
   },
   "outputs": [],
   "source": [
    "def plot_data(tab):\n",
    "    Q2=sorted(set(tab.rounded_q2))\n",
    "\n",
    "    ncols=4\n",
    "    nrows=len(Q2)/ncols\n",
    "    if len(Q2)%ncols!=0: nrows+=1\n",
    "    py.figure(figsize=(ncols*5,nrows*5))\n",
    "    for i in range(len(Q2)):\n",
    "        d1=tab.query('rounded_q2 == %f'%Q2[i])\n",
    "        \n",
    "        ax=py.subplot(nrows,ncols,i+1)\n",
    "        rz=sorted(set(d1.rounded_z))\n",
    "        rz=[[0.2, 0.3], \n",
    "            [0.301, 0.4], \n",
    "            [0.401, 0.5],\n",
    "            [0.501, 0.6]]\n",
    "        \n",
    "        cnt=0\n",
    "        for _rz in rz:\n",
    "            #d2=d1.query('rz==%f'%_rz)\n",
    "            d2=d1.query('rounded_z >%f and rounded_z <%f'%(_rz[0],_rz[1]))\n",
    "            I=np.argsort(d2.pT.values)\n",
    "            scale=4**cnt\n",
    "            cnt+=1\n",
    "\n",
    "            if len(d2.x.values) is not 0:\n",
    "                p=ax.errorbar(d2.pT,d2.value*scale,d2.alpha*scale,fmt='.',label='z=[%0.2f,%0.2f]'%(_rz[0],_rz[1]))\n",
    "#            p=ax.errorbar(d2.pT,d2.value*scale,d2.alpha*scale,fmt='.')\n",
    "                if len(d2.index)>1:\n",
    "                    ax.plot(d2.pT.values[I],d2.thy.values[I]*scale,color=p[0].get_color())\n",
    "                else:\n",
    "                    ax.plot(d2.pT.values[I],d2.thy.values[I]*scale,color=p[0].get_color(),marker='x')\n",
    "                    if i==0: ax.set_ylabel('M(HERMES)x4^i',size=20)\n",
    "                    ax.set_xlabel('$p_T$',size=20)\n",
    "                    ax.set_title('Q2=%0.2f  x=%0.2f'%(Q2[i],d2.x.values[0]),size=20)\n",
    "                #ax.set_ylim(0.01,20)\n",
    "#                ax.semilogy(nonposy='clip')\n",
    "                    ax.semilogy()\n",
    "\n",
    "\n",
    "#            msg='%s(%d)'%(d2.hadron.values[0],kk)\n",
    "#            ax.text(0.1,0.1,msg,size=20,transform=ax.transAxes)\n",
    "\n",
    "                ax.legend(loc='upper center', bbox_to_anchor=(0.5, -0.15), fancybox=True, shadow=True, ncol=2)"
   ]
  },
  {
   "cell_type": "code",
   "execution_count": 64,
   "metadata": {},
   "outputs": [
    {
     "data": {
      "image/png": "[encoded data removed]",
      "text/plain": [
       "<matplotlib.figure.Figure at 0x1280558d0>"
      ]
     },
     "metadata": {},
     "output_type": "display_data"
    }
   ],
   "source": [
    "plot_data(datasets[5008])"
   ]
  },
  {
   "cell_type": "code",
   "execution_count": 28,
   "metadata": {},
   "outputs": [
    {
     "name": "stdout",
     "output_type": "stream",
     "text": [
      "data_subset has entries =  0\n",
      "data_subset has entries =  0\n",
      "data_subset has entries =  0\n",
      "data_subset has entries =  0\n",
      "data_subset has entries =  0\n",
      "data_subset has entries =  0\n",
      "data_subset has entries =  0\n",
      "data_subset has entries =  0\n",
      "data_subset has entries =  0\n",
      "data_subset has entries =  0\n",
      "data_subset has entries =  0\n",
      "data_subset has entries =  0\n",
      "data_subset has entries =  0\n",
      "data_subset has entries =  0\n",
      "data_subset has entries =  0\n",
      "data_subset has entries =  0\n",
      "data_subset has entries =  0\n",
      "data_subset has entries =  0\n",
      "data_subset has entries =  0\n",
      "data_subset has entries =  0\n",
      "data_subset has entries =  0\n",
      "data_subset has entries =  0\n",
      "data_subset has entries =  0\n",
      "data_subset has entries =  0\n",
      "data_subset has entries =  0\n",
      "data_subset has entries =  0\n",
      "data_subset has entries =  0\n",
      "data_subset has entries =  0\n",
      "data_subset has entries =  0\n",
      "data_subset has entries =  0\n"
     ]
    },
    {
     "data": {
      "image/png": "[encoded data removed]",
      "text/plain": [
       "<matplotlib.figure.Figure at 0x10bfc4e50>"
      ]
     },
     "metadata": {},
     "output_type": "display_data"
    }
   ],
   "source": [
    "plot_data_new(datasets[5000])"
   ]
  },
  {
   "cell_type": "code",
   "execution_count": 33,
   "metadata": {},
   "outputs": [
    {
     "name": "stdout",
     "output_type": "stream",
     "text": [
      "[ 1.9  2.   2.1  2.3  2.8  3.5  3.6  3.7  3.8  4.2  5.1  5.2  6.4  6.5  9.3\n",
      "  9.4]\n",
      "[ 0.3  0.4  0.5]\n"
     ]
    }
   ],
   "source": [
    "print get_binned_axis(datasets[5000], 'rounded_q2')\n",
    "print get_binned_axis(datasets[5000], 'rounded_z')"
   ]
  },
  {
   "cell_type": "code",
   "execution_count": null,
   "metadata": {
    "collapsed": true
   },
   "outputs": [],
   "source": []
  }
 ],
 "metadata": {
  "kernelspec": {
   "display_name": "Python 2",
   "language": "python",
   "name": "python2"
  },
  "language_info": {
   "codemirror_mode": {
    "name": "ipython",
    "version": 2
   },
   "file_extension": ".py",
   "mimetype": "text/x-python",
   "name": "python",
   "nbconvert_exporter": "python",
   "pygments_lexer": "ipython2",
   "version": "2.7.13"
  }
 },
 "nbformat": 4,
 "nbformat_minor": 2
}
