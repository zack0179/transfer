{
 "cells": [
  {
   "cell_type": "markdown",
   "metadata": {},
   "source": [
    "# About \n",
    "This notebook analyzes Boer-Mulders from HERMES data.  The following options can be configured.\n",
    "- Include HERMES data or not \n",
    "- Run single fit or nested sampling\n",
    "- Fit Collins or use the SIA result"
   ]
  },
  {
   "cell_type": "code",
   "execution_count": 1,
   "metadata": {
    "collapsed": true
   },
   "outputs": [],
   "source": [
    "import copy \n",
    "import matplotlib.pyplot as plt \n",
    "import numpy as np\n",
    "import os\n",
    "import pandas as pd\n",
    "import pylab as py\n",
    "import sys\n",
    "\n",
    "from fitlab.mcsamp import MCSAMP\n",
    "from fitlab.maxlike import ML \n",
    "from fitlab.resman import RESMAN\n",
    "from tools.config import load_config, conf\n",
    "from tools.tools import load, save, checkdir\n",
    "\n",
    "%matplotlib inline"
   ]
  },
  {
   "cell_type": "code",
   "execution_count": 2,
   "metadata": {},
   "outputs": [
    {
     "name": "stdout",
     "output_type": "stream",
     "text": [
      "Your FITPACK environment is /Users/davidriser/repos/fitpack\n"
     ]
    }
   ],
   "source": [
    "if 'FITPACK' not in os.environ:\n",
    "    print('Please set environment variable FITPACK to the root directory for this repo.')\n",
    "else:\n",
    "    print('Your FITPACK environment is %s' % os.environ['FITPACK'])"
   ]
  },
  {
   "cell_type": "markdown",
   "metadata": {},
   "source": [
    "### Options Setup\n",
    "The following cell is used to specify options that will be used in the notebook execution."
   ]
  },
  {
   "cell_type": "code",
   "execution_count": 3,
   "metadata": {
    "collapsed": true
   },
   "outputs": [],
   "source": [
    "FIT_COLLINS  = False\n",
    "FIT_TYPE     = 'nested'\n",
    "path2results = 'sidis_boermulders_hermes'"
   ]
  },
  {
   "cell_type": "markdown",
   "metadata": {},
   "source": [
    "### Library Instantiation and Setup\n",
    "The following cells are used for setting up the datasets, parameters, and fitter.  The only changes necessary are to the fixed/free status of the parameters and their boundaries."
   ]
  },
  {
   "cell_type": "code",
   "execution_count": 4,
   "metadata": {
    "collapsed": true
   },
   "outputs": [],
   "source": [
    "checkdir(path2results)\n",
    "conf['datasets'] = {}"
   ]
  },
  {
   "cell_type": "code",
   "execution_count": 5,
   "metadata": {
    "collapsed": true
   },
   "outputs": [],
   "source": [
    "def setup_datasets(dataset_indices):\n",
    "    conf['datasets']['sidis']={}\n",
    "    conf['datasets']['sidis']['filters']={0:{'idx':None,'filter':None}}\n",
    "    conf['datasets']['sidis']['filters'][0]['filter']='z<0.6 and Q2>1.69 and pT>0.2 and pT<0.9'\n",
    "\n",
    "    conf['datasets']['sidis']['filters'][0]['idx'] = []\n",
    "    for index in dataset_indices:\n",
    "        conf['datasets']['sidis']['filters'][0]['idx'].append(index)\n",
    "\n",
    "    conf['datasets']['sidis']['xlsx']={}\n",
    "    for dataset_index in conf['datasets']['sidis']['filters'][0]['idx']:\n",
    "        conf[\"datasets\"][\"sidis\"][\"xlsx\"][dataset_index] = 'sidis/expdata/%d.xlsx' % dataset_index     \n",
    "\n",
    "    conf['datasets']['sidis']['norm']={}\n",
    "    for k in conf['datasets']['sidis']['xlsx']: \n",
    "        conf['datasets']['sidis']['norm'][k]={'value':1,'fixed':True,'min':0,'max':1} "
   ]
  },
  {
   "cell_type": "code",
   "execution_count": 6,
   "metadata": {},
   "outputs": [
    {
     "name": "stdout",
     "output_type": "stream",
     "text": [
      "('Loading... ', [5019, 5020, 5023, 5024])\n"
     ]
    }
   ],
   "source": [
    "# These datasets are the HERMES data.\n",
    "active_datasets = [5019, 5020, 5023, 5024]\n",
    "print('Loading... ', active_datasets)"
   ]
  },
  {
   "cell_type": "code",
   "execution_count": 7,
   "metadata": {
    "collapsed": true
   },
   "outputs": [],
   "source": [
    "setup_datasets(active_datasets)"
   ]
  },
  {
   "cell_type": "code",
   "execution_count": 8,
   "metadata": {
    "collapsed": true
   },
   "outputs": [],
   "source": [
    "conf['params'] = {}\n",
    "conf['shape']  = 1"
   ]
  },
  {
   "cell_type": "code",
   "execution_count": 9,
   "metadata": {
    "collapsed": true
   },
   "outputs": [],
   "source": [
    "def configure_collins_fixed():\n",
    "    conf['params']['collins'] = {}\n",
    "    conf['params']['collins']['widths0 pi+ fav']     = {'value':0.07249,'fixed':True,'min':1e-5,'max':1}\n",
    "    conf['params']['collins']['widths0 pi+ unfav']   = {'value':0.10606,'fixed':True,'min':1e-5,'max':2}\n",
    "    conf['params']['collins']['pi+ u N 1']  = {'value': 1.05988,'fixed':True,'min':0,'max':20}\n",
    "    conf['params']['collins']['pi+ u a 1']  = {'value':-1.56637,'fixed':True,'min':-1,'max':5}\n",
    "    conf['params']['collins']['pi+ u b 1']  = {'value': 4.76009 ,'fixed':True,'min':1e-5,'max':10}\n",
    "    conf['params']['collins']['pi+ d N 1']  = {'value':-6.64443,'fixed':True,'min':-20,'max':0}\n",
    "    conf['params']['collins']['pi+ d a 1']  = {'value': 3.45852,'fixed':True,'min':-1,'max':5}\n",
    "    conf['params']['collins']['pi+ d b 1']  = {'value': 3.11503 ,'fixed':True,'min':1e-5,'max':10}\n",
    "    conf['params']['collins']['pi+ u c 1']  = {'value': 0.0,'fixed':True,'min':-10,'max':10}\n",
    "    conf['params']['collins']['pi+ d c 1']  = {'value': 0.0,'fixed':True,'min':-10,'max':10}\n",
    "    conf['params']['collins']['pi+ u d 1']  = {'value': 0.0,'fixed':True,'min':-10,'max':10}\n",
    "    conf['params']['collins']['pi+ d d 1']  = {'value': 0.0,'fixed':True,'min':-10,'max':10}\n",
    "\n",
    "    conf['params']['collins']['pi+ u N 2']  = {'value': 8.64876,'fixed':True,'min':0,'max':20}\n",
    "    conf['params']['collins']['pi+ u a 2']  = {'value': 4.31424,'fixed':True,'min':-1,'max':5}\n",
    "    conf['params']['collins']['pi+ u b 2']  = {'value': 3.59918,'fixed':True,'min':1e-5,'max':10}\n",
    "    conf['params']['collins']['pi+ d N 2']  = {'value': 0.0,'fixed':True,'min':-20,'max':0}\n",
    "    conf['params']['collins']['pi+ d a 2']  = {'value': 0.0,'fixed':True,'min':-1,'max':5}\n",
    "    conf['params']['collins']['pi+ d b 2']  = {'value': 0.0,'fixed':True,'min':1e-5,'max':10}\n",
    "    conf['params']['collins']['pi+ u c 2']  = {'value': 0.0,'fixed':True,'min':-10,'max':10}\n",
    "    conf['params']['collins']['pi+ d c 2']  = {'value': 0.0,'fixed':True,'min':-10,'max':10}\n",
    "    conf['params']['collins']['pi+ u d 2']  = {'value': 0.0,'fixed':True,'min':-10,'max':10}\n",
    "    conf['params']['collins']['pi+ d d 2']  = {'value': 0.0,'fixed':True,'min':-10,'max':10}\n",
    "\n",
    "def configure_collins_free():\n",
    "    conf['params']['collins']={}\n",
    "    conf['params']['collins']['widths0 pi+ fav']     = {'value':7.47958632885192820083e-02,'fixed':False,'min':0.05,'max':0.10}\n",
    "    conf['params']['collins']['widths0 pi+ unfav']   = {'value':0.059763576917398841815e+00,'fixed':False,'min':0.05,'max':0.136784756168045196212}\n",
    "    conf['params']['collins']['pi+ u N 1']  = {'value': 4.49239476315589936206e+00,'fixed':False,'min':0,'max':3}\n",
    "    conf['params']['collins']['pi+ u a 1']  = {'value':-8.28098465048009213518e-01,'fixed':False,'min':-1.9,'max':0}\n",
    "    conf['params']['collins']['pi+ u b 1']  = {'value': 6.60780815284983358282e+00,'fixed':False,'min':2,'max':6}\n",
    "    conf['params']['collins']['pi+ d N 1']  = {'value':-4.14852904854067539020e+00,'fixed':False,'min':-12,'max':0.0}\n",
    "    conf['params']['collins']['pi+ d a 1']  = {'value': 1.00000000000000000000e+00,'fixed':False,'min': 0,'max':7.0}\n",
    "    conf['params']['collins']['pi+ d b 1']  = {'value': 2.37348461151638101541e+00,'fixed':False,'min':2.5,'max':4.0}\n",
    "\n",
    "    conf['params']['collins']['pi+ u c 1']  = {'value': 0.0,'fixed':True,'min':-10,'max':10}\n",
    "    conf['params']['collins']['pi+ d c 1']  = {'value': 0.0,'fixed':True,'min':-10,'max':10}\n",
    "    conf['params']['collins']['pi+ u d 1']  = {'value': 0.0,'fixed':True,'min':-10,'max':10}\n",
    "    conf['params']['collins']['pi+ d d 1']  = {'value': 0.0,'fixed':True,'min':-10,'max':10}\n",
    "\n",
    "    conf['params']['collins']['pi+ u N 2']  = {'value': 6.11150078306284516572e+00,'fixed':False,'min':0,'max':15}\n",
    "    conf['params']['collins']['pi+ u a 2']  = {'value': 4.71508421683099232524e+00,'fixed':False,'min':1,'max':8.0}\n",
    "    conf['params']['collins']['pi+ u b 2']  = {'value': 2.75387728005980081392e+00,'fixed':False,'min':0,'max':5}\n",
    "\n",
    "    conf['params']['collins']['pi+ d N 2']  = {'value': 0.0,'fixed':True,'min':-20,'max':0}\n",
    "    conf['params']['collins']['pi+ d a 2']  = {'value': 0.0,'fixed':True,'min':-1,'max':5}\n",
    "    conf['params']['collins']['pi+ d b 2']  = {'value': 0.0,'fixed':True,'min':1e-5,'max':10}\n",
    "    conf['params']['collins']['pi+ u c 2']  = {'value': 0.0,'fixed':True,'min':-10,'max':10}\n",
    "    conf['params']['collins']['pi+ d c 2']  = {'value': 0.0,'fixed':True,'min':-10,'max':10}\n",
    "    conf['params']['collins']['pi+ u d 2']  = {'value': 0.0,'fixed':True,'min':-10,'max':10}\n",
    "    conf['params']['collins']['pi+ d d 2']  = {'value': 0.0,'fixed':True,'min':-10,'max':10}"
   ]
  },
  {
   "cell_type": "code",
   "execution_count": 10,
   "metadata": {
    "collapsed": true
   },
   "outputs": [],
   "source": [
    "def configure_boermulders():\n",
    "    conf['params']['boermulders']={}\n",
    "    conf['params']['boermulders']['widths0 valence'] = {'value':2.99994257869736280497e-01,'fixed':False,'min':1e-5,'max':1}\n",
    "    conf['params']['boermulders']['widths0 sea']     = {'value':2.32794366294785171068e-01,'fixed':False,'min':1e-5,'max':1}\n",
    "\n",
    "    conf['params']['boermulders']['u N']  = {'value':5.42650693708019993267e+00,'fixed':False,'min':-10,'max':10}\n",
    "    conf['params']['boermulders']['u a']  = {'value':1.61391852452949091656e+00,'fixed':False,'min':-1,'max':5}\n",
    "    conf['params']['boermulders']['u b']  = {'value':1.13975971617359173038e+00,'fixed':False,'min':1e-5,'max':10}\n",
    "    conf['params']['boermulders']['d N']  = {'value':7.33483204762133667032e+00,'fixed':False,'min':-10,'max':10}\n",
    "    conf['params']['boermulders']['d a']  = {'value':1.96985180239880541819e-01,'fixed':False,'min':-1,'max':5}\n",
    "    conf['params']['boermulders']['d b']  = {'value':1.00000000000000008180e-01,'fixed':False,'min':1e-5,'max':10}\n",
    "    conf['params']['boermulders']['s N']  = {'value':1.00000000000000000000e+00,'fixed':False,'min':-10,'max':10}\n",
    "    conf['params']['boermulders']['s a']  = {'value':1.00000000000000008180e+00,'fixed':False,'min':-1,'max':5}\n",
    "    conf['params']['boermulders']['s b']  = {'value':1.00000000000000008180e+00,'fixed':False,'min':1e-5,'max':10}\n",
    "\n",
    "    conf['params']['boermulders']['u c']  = {'value':0.00000000000000000000e+00,'fixed':True,'min':-10,'max':10}\n",
    "    conf['params']['boermulders']['u d']  = {'value':0.00000000000000000000e+00,'fixed':True,'min':-10,'max':10}\n",
    "    conf['params']['boermulders']['d c']  = {'value':0.00000000000000000000e+00,'fixed':True,'min':-10,'max':10}\n",
    "    conf['params']['boermulders']['d d']  = {'value':0.00000000000000000000e+00,'fixed':True,'min':-10,'max':10}\n",
    "    conf['params']['boermulders']['s c']  = {'value':0.00000000000000000000e+00,'fixed':True,'min':-10,'max':10}\n",
    "    conf['params']['boermulders']['s d']  = {'value':0.00000000000000000000e+00,'fixed':True,'min':-10,'max':10}"
   ]
  },
  {
   "cell_type": "code",
   "execution_count": 11,
   "metadata": {
    "collapsed": true
   },
   "outputs": [],
   "source": [
    "configure_boermulders()\n",
    "\n",
    "if FIT_COLLINS:\n",
    "    configure_collins_free() \n",
    "else:\n",
    "    configure_collins_fixed() "
   ]
  },
  {
   "cell_type": "code",
   "execution_count": 12,
   "metadata": {
    "collapsed": true
   },
   "outputs": [],
   "source": [
    "def summarize_parameter_setup():\n",
    "    for function_name in conf['params'].keys():\n",
    "        print(function_name)\n",
    "        \n",
    "        for parameter in conf['params'][function_name]:\n",
    "            fixed_status = 'fixed' if conf['params'][function_name][parameter]['fixed'] else 'free'\n",
    "            print('{0:<24} {1:<8}'.format(parameter, fixed_status))"
   ]
  },
  {
   "cell_type": "code",
   "execution_count": 13,
   "metadata": {},
   "outputs": [
    {
     "name": "stdout",
     "output_type": "stream",
     "text": [
      "boermulders\n",
      "s N                      free    \n",
      "d c                      fixed   \n",
      "d b                      free    \n",
      "d a                      free    \n",
      "d N                      free    \n",
      "s b                      free    \n",
      "s c                      fixed   \n",
      "s d                      fixed   \n",
      "u N                      free    \n",
      "d d                      fixed   \n",
      "s a                      free    \n",
      "u d                      fixed   \n",
      "widths0 sea              free    \n",
      "u b                      free    \n",
      "u c                      fixed   \n",
      "widths0 valence          free    \n",
      "u a                      free    \n",
      "collins\n",
      "pi+ d N 2                fixed   \n",
      "pi+ d N 1                fixed   \n",
      "widths0 pi+ unfav        fixed   \n",
      "widths0 pi+ fav          fixed   \n",
      "pi+ d c 2                fixed   \n",
      "pi+ u a 2                fixed   \n",
      "pi+ u b 2                fixed   \n",
      "pi+ u b 1                fixed   \n",
      "pi+ u N 2                fixed   \n",
      "pi+ u N 1                fixed   \n",
      "pi+ u c 2                fixed   \n",
      "pi+ u c 1                fixed   \n",
      "pi+ u a 1                fixed   \n",
      "pi+ d c 1                fixed   \n",
      "pi+ d b 2                fixed   \n",
      "pi+ d b 1                fixed   \n",
      "pi+ d a 1                fixed   \n",
      "pi+ d a 2                fixed   \n",
      "pi+ u d 1                fixed   \n",
      "pi+ u d 2                fixed   \n",
      "pi+ d d 1                fixed   \n",
      "pi+ d d 2                fixed   \n"
     ]
    }
   ],
   "source": [
    "summarize_parameter_setup()"
   ]
  },
  {
   "cell_type": "code",
   "execution_count": 14,
   "metadata": {},
   "outputs": [
    {
     "name": "stdout",
     "output_type": "stream",
     "text": [
      "loading sidis data sets 5023\n",
      "multiprocess setup: ncpus=1 / observable\n"
     ]
    }
   ],
   "source": [
    "conf['ncpus']  = 1\n",
    "conf['resman'] = RESMAN()\n",
    "mcsamp         = MCSAMP()\n",
    "maxlike        = ML()"
   ]
  },
  {
   "cell_type": "markdown",
   "metadata": {},
   "source": [
    "### Start Running \n",
    "This cell will start the execution of the fitting."
   ]
  },
  {
   "cell_type": "code",
   "execution_count": 15,
   "metadata": {
    "scrolled": true
   },
   "outputs": [
    {
     "name": "stdout",
     "output_type": "stream",
     "text": [
      "iter=1106  logz=3.399 rel-err=9.733e-06  t-elapsed=6.963e+01  dchi2min=1.165e+01 dchi2max=1.165e+011"
     ]
    }
   ],
   "source": [
    "if FIT_TYPE is 'single':\n",
    "    maxlike.run_minimize(); \n",
    "\n",
    "elif FIT_TYPE is 'nested':\n",
    "    conf['size']   = 4\n",
    "    conf['factor'] = 3 \n",
    "    conf['tol'] = 1e-5\n",
    "    mcsamp.run(path2results)\n",
    "else:\n",
    "    print('Fit type not recognized %s' % FIT_TYPE)"
   ]
  },
  {
   "cell_type": "markdown",
   "metadata": {},
   "source": [
    "### To Do \n",
    "- Add plotting package for Boer-Mulders\n",
    "- Add plotting for CLAS data\n",
    "- Add plotting for HERMES data"
   ]
  },
  {
   "cell_type": "code",
   "execution_count": 16,
   "metadata": {},
   "outputs": [
    {
     "name": "stdout",
     "output_type": "stream",
     "text": [
      "runs max likelihoods\n",
      "8.800310354005394\n",
      "7.617933898115059\n",
      "5.827225808850834\n",
      "7.001733849300784\n",
      "sample  size= 4355\n",
      "sample2 size= 974\n"
     ]
    }
   ],
   "source": [
    "MC=mcsamp.get_MC_samples(path2results+'/mcdata')"
   ]
  },
  {
   "cell_type": "code",
   "execution_count": 17,
   "metadata": {},
   "outputs": [
    {
     "data": {
      "text/plain": [
       "['3.dat', '2.dat', '0.dat', '1.dat']"
      ]
     },
     "execution_count": 17,
     "metadata": {},
     "output_type": "execute_result"
    }
   ],
   "source": [
    "os.listdir(path2results+'/mcdata')"
   ]
  },
  {
   "cell_type": "code",
   "execution_count": 18,
   "metadata": {},
   "outputs": [
    {
     "name": "stdout",
     "output_type": "stream",
     "text": [
      "     widths0 valence =    0.59485 +/-    0.16894\n",
      "         widths0 sea =    0.49278 +/-    0.07774\n",
      "                 u N =   -6.01381 +/-    1.65566\n",
      "                 u a =    1.48921 +/-    0.33908\n",
      "                 u b =    5.12476 +/-    2.11432\n",
      "                 d N =   -2.66241 +/-    3.41446\n",
      "                 d a =    3.06968 +/-    0.96537\n",
      "                 d b =    5.29731 +/-    2.22239\n",
      "                 s N =    6.27148 +/-    1.69228\n",
      "                 s a =    1.57030 +/-    0.30289\n",
      "                 s b =    4.22450 +/-    2.19279\n"
     ]
    },
    {
     "data": {
      "image/png": "[encoded data removed]",
      "text/plain": [
       "<Figure size 1152x1440 with 11 Axes>"
      ]
     },
     "metadata": {},
     "output_type": "display_data"
    }
   ],
   "source": [
    "samples=MC['samples']\n",
    "samples2=MC['samples2']\n",
    "weights=MC['weights']\n",
    "weights2=MC['weights2']\n",
    "order=MC['order']\n",
    "runs=MC['runs']\n",
    "\n",
    "nrows,ncols=10,4\n",
    "fig = py.figure(figsize=(ncols*4,nrows*2))\n",
    "\n",
    "def get_idx(key,tag):\n",
    "    for i in range(len(order)):\n",
    "        if order[i][1]==key and order[i][2]==tag:\n",
    "            return i\n",
    "\n",
    "global cnt\n",
    "cnt=0\n",
    "def plot(tags):\n",
    "    global cnt\n",
    "    for i in range(1,len(tags)):\n",
    "        cnt+=1\n",
    "        if tags[i]==None: continue\n",
    "        idx=get_idx(tags[0],tags[i])\n",
    "        ax=py.subplot(nrows,ncols,cnt)\n",
    "        vmin=np.amin(samples2.T[idx])\n",
    "        vmax=np.amax(samples2.T[idx])\n",
    "        R=None#(vmin,vmax)\n",
    "        for k in runs:\n",
    "            ax.hist(runs[k]['samples'].T[idx],weights=runs[k]['weights'],bins=50,normed=True,range=R)\n",
    "        ax.hist(samples.T[idx],weights=weights,bins=50,color='k',normed=True,range=R)\n",
    "        ax.hist(samples2.T[idx],weights=weights2,bins=50,color='r',histtype='step',normed=True,range=R)\n",
    "        ax.set_title(tags[i])\n",
    "        mean=np.einsum('i,i',samples2.T[idx],weights2)\n",
    "        std=np.einsum('i,i',(samples2.T[idx]-mean)**2,weights2)**0.5\n",
    "        print '%20s = %10.5f +/- %10.5f'%(tags[i],mean,std)\n",
    "        #ax.set_xlim(vmin,vmax)\n",
    "    py.tight_layout()\n",
    "\n",
    "plot(['boermulders','widths0 valence','widths0 sea',None])\n",
    "plot(['boermulders','u N','u a','u b'])\n",
    "plot(['boermulders','d N','d a','d b'])\n",
    "plot(['boermulders','s N','s a','s b'])"
   ]
  },
  {
   "cell_type": "code",
   "execution_count": 19,
   "metadata": {
    "collapsed": true
   },
   "outputs": [],
   "source": [
    "def lprint(msg):\n",
    "    sys.stdout.write('\\r')\n",
    "    sys.stdout.write('%s' %msg)\n",
    "    sys.stdout.flush()"
   ]
  },
  {
   "cell_type": "code",
   "execution_count": 20,
   "metadata": {},
   "outputs": [
    {
     "name": "stdout",
     "output_type": "stream",
     "text": [
      "974/974"
     ]
    }
   ],
   "source": [
    "data={'weights':MC['weights2']}\n",
    "cnt=0\n",
    "for s in MC['samples2']:\n",
    "    cnt+=1    \n",
    "    lprint('%d/%d'%(cnt,len(MC['samples2'])))  \n",
    "    conf['resman'].get_residuals(s);\n",
    "    for k in conf['resman'].sidisres.tabs:\n",
    "        if k  not in data: data[k]=[]\n",
    "        thy=conf['resman'].sidisres.tabs[k]['thy']    \n",
    "        norm=conf['datasets']['sidis']['norm'][k]['value']\n",
    "        shift=conf['resman'].sidisres.tabs[k]['shift']        \n",
    "        data[k].append(shift+thy/norm)\n",
    "save(data,'%s/%s'%(path2results,'sidis.dat'))   "
   ]
  },
  {
   "cell_type": "code",
   "execution_count": 21,
   "metadata": {
    "collapsed": true
   },
   "outputs": [],
   "source": [
    "data=load('%s/%s'%(path2results,'sidis.dat'))   \n",
    "for k in data: data[k]=np.array(data[k])\n",
    "thy,dthy={},{}\n",
    "for k in data:\n",
    "    if k=='weights': continue\n",
    "    thy[k]=np.einsum('i,ik->k',data['weights'],data[k])\n",
    "    dthy[k]=np.einsum('i,ik->k',data['weights'],(data[k]-thy[k])**2)**0.5\n",
    "for k in thy: \n",
    "    conf['resman'].sidisres.tabs[k]['thy']=copy.copy(thy[k])\n",
    "    conf['resman'].sidisres.tabs[k]['dthy']=copy.copy(dthy[k])"
   ]
  },
  {
   "cell_type": "code",
   "execution_count": 22,
   "metadata": {},
   "outputs": [
    {
     "name": "stdout",
     "output_type": "stream",
     "text": [
      "sidis\n"
     ]
    }
   ],
   "source": [
    "report=conf['resman'].gen_report(verb=0,level=1)\n",
    "delimiters=[]\n",
    "for i in range(len(report)): \n",
    "    if 'reaction:' in report[i]: \n",
    "        delimiters.append(i) \n",
    "\n",
    "data={}\n",
    "nlines=len(report)\n",
    "for i in range(len(delimiters)):\n",
    "    ini=delimiters[i]\n",
    "    if i==len(delimiters)-1: fin=len(report)\n",
    "    else: fin=delimiters[i+1]\n",
    "    reaction=report[ini].replace('reaction:','').strip()\n",
    "    data[reaction]={'raw data':report[ini:fin]}\n",
    "    \n",
    "for k in data:\n",
    "    print k\n",
    "    block=data[k]['raw data']\n",
    "    isep=[i for i in range(len(block)) if '--------' in block[i]][0]\n",
    "    data[k]['summary']=[block[i] for i in range(isep)]\n",
    "    data[k]['tables']=[block[i] for i in range(isep+1,len(block))]\n",
    "\n",
    "    tabs={}\n",
    "    for l in data[k]['tables']:\n",
    "        info=l.split(',')\n",
    "        col=[s for s in info if 'col' in s][0].split('=')[1].strip()\n",
    "        if col not in tabs: tabs[col]={}\n",
    "        info=[[ss.strip() for ss in s.split('=')] for s in info if 'col' not in info  if s.strip()!='']\n",
    "        \n",
    "        for s in info:\n",
    "            if s[0] not in tabs[col]: tabs[col][s[0]]=[]\n",
    "        \n",
    "        for s in info:\n",
    "            try:\n",
    "                value=float(s[1])\n",
    "            except:\n",
    "                value=s[1]\n",
    "            tabs[col][s[0]].append(value)        \n",
    "\n",
    "    data[k]['tabs']=tabs\n",
    "save(data,'%s/%s'%(path2results,'data_and_thy.dat'))"
   ]
  },
  {
   "cell_type": "code",
   "execution_count": 23,
   "metadata": {},
   "outputs": [
    {
     "name": "stdout",
     "output_type": "stream",
     "text": [
      "\n",
      "reaction: sidis\n",
      "    idx        tar        had        col        obs  npts       chi2      rchi2      nchi2\n",
      "   5024   deuteron        pi+     HERMES    AUUcos2     9       8.33       0.00       0.00\n",
      "   5019     proton        pi-     HERMES    AUUcos2     4       7.32       0.00       0.00\n",
      "   5020     proton        pi+     HERMES    AUUcos2     9      24.14       0.00       0.00\n",
      "   5023   deuteron        pi-     HERMES    AUUcos2     4       9.74       0.00       0.00\n"
     ]
    }
   ],
   "source": [
    "def summary():\n",
    "    for k in data:\n",
    "        print \"\"\n",
    "        for l in data[k]['summary']: print l\n",
    "summary()"
   ]
  },
  {
   "cell_type": "code",
   "execution_count": 24,
   "metadata": {
    "collapsed": true
   },
   "outputs": [],
   "source": [
    "data = {}\n",
    "\n",
    "for key, value in conf['resman'].sidisres.tabs.iteritems():\n",
    "    data[key] = pd.DataFrame(value)"
   ]
  },
  {
   "cell_type": "code",
   "execution_count": 25,
   "metadata": {
    "collapsed": true
   },
   "outputs": [],
   "source": [
    "all_data = pd.concat(data.values())"
   ]
  },
  {
   "cell_type": "markdown",
   "metadata": {},
   "source": [
    "### Plot Data vs. Theory"
   ]
  },
  {
   "cell_type": "code",
   "execution_count": 27,
   "metadata": {},
   "outputs": [
    {
     "data": {
      "image/png": "[encoded data removed]",
      "text/plain": [
       "<Figure size 864x576 with 16 Axes>"
      ]
     },
     "metadata": {},
     "output_type": "display_data"
    }
   ],
   "source": [
    "def plot(data,ax,axis,tar,had):\n",
    "    data=data.query('axis==\"%s\" and target==\"%s\" and hadron==\"%s\" '%(axis,tar,had))\n",
    "    if axis=='pt': axis='pT'\n",
    "    ax.errorbar(data[axis],data['value'],yerr=data['alpha'],fmt='k.')\n",
    "    ax.plot(data[axis],data.thy,'r-')\n",
    "    ax.fill_between(data[axis], data.thy-data.dthy, data.thy+data.dthy, color='red', alpha=0.5)\n",
    "    if tar=='proton': star='p'\n",
    "    if tar=='deuteron': star='d'\n",
    "    if had=='pi+': shad=r'\\pi^+'\n",
    "    if had=='pi-': shad=r'\\pi^-'\n",
    "    ax.set_title(r'${\\rm target}=%s~~{\\rm had}=%s$'%(star,shad))\n",
    "    ax.set_xlabel(r'$%s$'%axis)\n",
    "    if axis=='x': ax.set_ylim(-0.05,0.05)\n",
    "\n",
    "nrows,ncols=4,4\n",
    "py.figure(figsize=(ncols*3,nrows*2))\n",
    "\n",
    "cnt=0\n",
    "for tar in ['proton','deuteron']:\n",
    "    for had in ['pi+','pi-']:\n",
    "        for axis  in ['x','y','z','pt']:\n",
    "            cnt+=1\n",
    "            ax=py.subplot(nrows,ncols,cnt)\n",
    "            plot(all_data,ax,axis,tar,had)\n",
    "py.tight_layout()\n",
    "#plt.savefig('/home/dmriser/Pictures/boermulders-hermes-obs.pdf', bbox_inches='tight')"
   ]
  },
  {
   "cell_type": "code",
   "execution_count": 28,
   "metadata": {
    "collapsed": true
   },
   "outputs": [],
   "source": [
    "def calc(func):\n",
    "    RAW=[]\n",
    "    cnt=0\n",
    "    for s in MC['samples2']:\n",
    "        cnt+=1    \n",
    "        lprint('%d/%d'%(cnt,len(MC['samples2'])))  \n",
    "        conf['parman'].set_new_params(s);    \n",
    "        RAW.append(func())\n",
    "    RAW=np.array(RAW)\n",
    "    f =np.einsum('k,kif->if',MC['weights2'],RAW)\n",
    "    df=np.einsum('k,kif->if',MC['weights2'],(RAW-f)**2)**0.5\n",
    "    f=np.einsum('if->fi',f)\n",
    "    df=np.einsum('if->fi',df)\n",
    "    return {'f':f,'df':df}"
   ]
  },
  {
   "cell_type": "code",
   "execution_count": 29,
   "metadata": {},
   "outputs": [
    {
     "name": "stdout",
     "output_type": "stream",
     "text": [
      "974/974"
     ]
    }
   ],
   "source": [
    "X = np.linspace(0.01,0.999,100)\n",
    "bmu = calc(lambda : [conf['boermulders'].get_C(x,1,'p') for x in X])"
   ]
  },
  {
   "cell_type": "code",
   "execution_count": 31,
   "metadata": {},
   "outputs": [
    {
     "data": {
      "image/png": "[encoded data removed]",
      "text/plain": [
       "<Figure size 864x216 with 3 Axes>"
      ]
     },
     "metadata": {},
     "output_type": "display_data"
    }
   ],
   "source": [
    "fig = plt.figure(figsize=(12,3))\n",
    "\n",
    "ax = fig.add_subplot(1,3,1)\n",
    "ax.plot(X, bmu['f'][1,:], color='red')\n",
    "ax.fill_between(X, bmu['f'][1,:]-bmu['df'][1,:], bmu['f'][1,:]+bmu['df'][1,:],\n",
    "                alpha=0.35, color='red')\n",
    "ax.set_xlim([0.01, 1.0])\n",
    "ax.set_ylim([-0.2, 4.0])\n",
    "ax.set_title('u')\n",
    "\n",
    "ax = fig.add_subplot(1,3,2)\n",
    "ax.plot(X, bmu['f'][3,:], color='blue')\n",
    "ax.fill_between(X, bmu['f'][3,:]-bmu['df'][3,:], bmu['f'][3,:]+bmu['df'][3,:],\n",
    "                alpha=0.35, color='blue')\n",
    "ax.set_xlim([0.01, 1.0])\n",
    "ax.set_ylim([-0.2, 1.0])\n",
    "ax.set_title('d')\n",
    "\n",
    "\n",
    "ax = fig.add_subplot(1,3,3)\n",
    "ax.plot(X, bmu['f'][5,:], color='purple')\n",
    "ax.fill_between(X, bmu['f'][5,:]-bmu['df'][5,:], bmu['f'][5,:]+bmu['df'][5,:],\n",
    "                alpha=0.35, color='purple')\n",
    "ax.set_xlim([0.01, 1.0])\n",
    "ax.set_ylim([-0.2, 1.0])\n",
    "ax.set_title('ub, db, s, sb')\n",
    "\n",
    "fig.tight_layout()\n",
    "fig.savefig('/Users/davidriser/Pictures/boermulders-hermes.pdf', bbox_inches='tight')"
   ]
  },
  {
   "cell_type": "code",
   "execution_count": null,
   "metadata": {
    "collapsed": true
   },
   "outputs": [],
   "source": []
  }
 ],
 "metadata": {
  "kernelspec": {
   "display_name": "Python 2",
   "language": "python",
   "name": "python2"
  },
  "language_info": {
   "codemirror_mode": {
    "name": "ipython",
    "version": 2
   },
   "file_extension": ".py",
   "mimetype": "text/x-python",
   "name": "python",
   "nbconvert_exporter": "python",
   "pygments_lexer": "ipython2",
   "version": "2.7.13"
  }
 },
 "nbformat": 4,
 "nbformat_minor": 2
}
