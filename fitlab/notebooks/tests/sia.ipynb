{
 "cells": [
  {
   "cell_type": "markdown",
   "metadata": {},
   "source": [
    "# ALL Analysis"
   ]
  },
  {
   "cell_type": "code",
   "execution_count": 29,
   "metadata": {
    "collapsed": true
   },
   "outputs": [],
   "source": [
    "import sys\n",
    "import os;os.chdir('../..')\n",
    "import itertools as it\n",
    "import numpy as np\n",
    "import pandas as pd\n",
    "import pylab as py\n",
    "import matplotlib.pyplot as plt\n",
    "from  matplotlib import rc\n",
    "from matplotlib.colors import LogNorm\n",
    "%matplotlib inline\n",
    "from tools.tools import save,load,lprint\n",
    "from tools.config import load_config, conf\n",
    "from tools.bar import BAR\n",
    "from fitlab.resman import RESMAN\n",
    "from fitlab.parman import PARMAN\n",
    "rc('font',**{'family':'sans-serif','sans-serif':['Helvetica']})\n",
    "rc('text',usetex=True)"
   ]
  },
  {
   "cell_type": "code",
   "execution_count": 30,
   "metadata": {
    "collapsed": false
   },
   "outputs": [
    {
     "ename": "IOError",
     "evalue": "[Errno 2] No such file or directory: 'inputs/tests/sia.py'",
     "output_type": "error",
     "traceback": [
      "\u001b[0;31m---------------------------------------------------------------------------\u001b[0m",
      "\u001b[0;31mIOError\u001b[0m                                   Traceback (most recent call last)",
      "\u001b[0;32m<ipython-input-30-1f4f7033d709>\u001b[0m in \u001b[0;36m<module>\u001b[0;34m()\u001b[0m\n\u001b[0;32m----> 1\u001b[0;31m \u001b[0mload_config\u001b[0m\u001b[0;34m(\u001b[0m\u001b[0;34m'inputs/tests/sia.py'\u001b[0m\u001b[0;34m)\u001b[0m\u001b[0;34m\u001b[0m\u001b[0m\n\u001b[0m\u001b[1;32m      2\u001b[0m \u001b[0mconf\u001b[0m\u001b[0;34m[\u001b[0m\u001b[0;34m'resman'\u001b[0m\u001b[0;34m]\u001b[0m\u001b[0;34m=\u001b[0m\u001b[0mRESMAN\u001b[0m\u001b[0;34m(\u001b[0m\u001b[0;34m)\u001b[0m\u001b[0;34m\u001b[0m\u001b[0m\n\u001b[1;32m      3\u001b[0m \u001b[0mconf\u001b[0m\u001b[0;34m[\u001b[0m\u001b[0;34m'parman'\u001b[0m\u001b[0;34m]\u001b[0m\u001b[0;34m=\u001b[0m\u001b[0mPARMAN\u001b[0m\u001b[0;34m(\u001b[0m\u001b[0;34m)\u001b[0m\u001b[0;34m\u001b[0m\u001b[0m\n\u001b[1;32m      4\u001b[0m \u001b[0mconf\u001b[0m\u001b[0;34m[\u001b[0m\u001b[0;34m'resman'\u001b[0m\u001b[0;34m]\u001b[0m\u001b[0;34m.\u001b[0m\u001b[0mget_residuals\u001b[0m\u001b[0;34m(\u001b[0m\u001b[0mconf\u001b[0m\u001b[0;34m[\u001b[0m\u001b[0;34m'parman'\u001b[0m\u001b[0;34m]\u001b[0m\u001b[0;34m.\u001b[0m\u001b[0mpar\u001b[0m\u001b[0;34m)\u001b[0m\u001b[0;34m;\u001b[0m\u001b[0;34m\u001b[0m\u001b[0m\n",
      "\u001b[0;32m/Users/KML/Gaussian/fitpack/tools/config.pyc\u001b[0m in \u001b[0;36mload_config\u001b[0;34m(fname)\u001b[0m\n\u001b[1;32m      3\u001b[0m \u001b[0;34m\u001b[0m\u001b[0m\n\u001b[1;32m      4\u001b[0m \u001b[0;32mdef\u001b[0m \u001b[0mload_config\u001b[0m\u001b[0;34m(\u001b[0m\u001b[0mfname\u001b[0m\u001b[0;34m)\u001b[0m\u001b[0;34m:\u001b[0m\u001b[0;34m\u001b[0m\u001b[0m\n\u001b[0;32m----> 5\u001b[0;31m     \u001b[0mL\u001b[0m\u001b[0;34m=\u001b[0m\u001b[0mopen\u001b[0m\u001b[0;34m(\u001b[0m\u001b[0mfname\u001b[0m\u001b[0;34m)\u001b[0m\u001b[0;34m.\u001b[0m\u001b[0mreadlines\u001b[0m\u001b[0;34m(\u001b[0m\u001b[0;34m)\u001b[0m\u001b[0;34m\u001b[0m\u001b[0m\n\u001b[0m\u001b[1;32m      6\u001b[0m     \u001b[0mD\u001b[0m \u001b[0;34m=\u001b[0m \u001b[0;34m{\u001b[0m\u001b[0;34m}\u001b[0m\u001b[0;34m\u001b[0m\u001b[0m\n\u001b[1;32m      7\u001b[0m     \u001b[0;32mfor\u001b[0m \u001b[0ml\u001b[0m \u001b[0;32min\u001b[0m \u001b[0mL\u001b[0m\u001b[0;34m:\u001b[0m \u001b[0;32mexec\u001b[0m \u001b[0ml\u001b[0m\u001b[0;34m.\u001b[0m\u001b[0mreplace\u001b[0m\u001b[0;34m(\u001b[0m\u001b[0;34m'<<'\u001b[0m\u001b[0;34m,\u001b[0m\u001b[0;34m''\u001b[0m\u001b[0;34m)\u001b[0m\u001b[0;34m.\u001b[0m\u001b[0mreplace\u001b[0m\u001b[0;34m(\u001b[0m\u001b[0;34m'>>'\u001b[0m\u001b[0;34m,\u001b[0m\u001b[0;34m''\u001b[0m\u001b[0;34m)\u001b[0m \u001b[0;32min\u001b[0m \u001b[0mD\u001b[0m\u001b[0;34m\u001b[0m\u001b[0m\n",
      "\u001b[0;31mIOError\u001b[0m: [Errno 2] No such file or directory: 'inputs/tests/sia.py'"
     ]
    }
   ],
   "source": [
    "load_config('inputs/tests/sia.py')\n",
    "conf['resman']=RESMAN()\n",
    "conf['parman']=PARMAN()\n",
    "conf['resman'].get_residuals(conf['parman'].par);"
   ]
  },
  {
   "cell_type": "markdown",
   "metadata": {},
   "source": [
    "## Load Data from Files"
   ]
  },
  {
   "cell_type": "code",
   "execution_count": null,
   "metadata": {
    "collapsed": true
   },
   "outputs": [],
   "source": [
    "ALL_SIA=pd.concat([pd.DataFrame(conf['resman'].siares.tabs[idx]) \\\n",
    "              for idx in conf['resman'].siares.tabs.keys()])\n",
    "ALL=pd.concat([ALL_SIA])\n",
    "#ALL.columns"
   ]
  },
  {
   "cell_type": "markdown",
   "metadata": {},
   "source": [
    "## Split Data\n",
    "Organize data from different collaborations with different observables"
   ]
  },
  {
   "cell_type": "code",
   "execution_count": null,
   "metadata": {
    "collapsed": false
   },
   "outputs": [],
   "source": [
    "data = {}\n",
    "collaborations = np.unique(ALL.col)\n",
    "\n",
    "for collab in collaborations:\n",
    "    data[collab] = {}\n",
    "    \n",
    "    data_subset = ALL[ALL.col == collab]\n",
    "    observables = np.unique(data_subset.obs)\n",
    "    \n",
    "    for observable in observables:        \n",
    "        data[collab][observable] = data_subset[data_subset.obs == observable]        \n",
    "        print('Collaboration: %s, Observerable: %s, Points: %d' % (collab, observable, len(data[collab][observable])))"
   ]
  },
  {
   "cell_type": "markdown",
   "metadata": {},
   "source": [
    "## Start Plotting \n",
    "Below we plot the data vs. theory curves"
   ]
  },
  {
   "cell_type": "code",
   "execution_count": null,
   "metadata": {
    "collapsed": true
   },
   "outputs": [],
   "source": [
    "plt.rc('font', family='serif')\n",
    "plt.rc('font', size=16)"
   ]
  },
  {
   "cell_type": "code",
   "execution_count": null,
   "metadata": {
    "collapsed": true
   },
   "outputs": [],
   "source": [
    "# from the paper https://arxiv.org/pdf/1309.5278.pdf\n",
    "z1_bins = np.array([0.15, 0.2, 0.3, 0.4, 0.5, 0.7, 0.9])"
   ]
  },
  {
   "cell_type": "code",
   "execution_count": null,
   "metadata": {
    "collapsed": true
   },
   "outputs": [],
   "source": [
    "def plot(data):\n",
    "\n",
    "    n_col = 3\n",
    "    n_row = len(z1_bins)/n_col + 1\n",
    "\n",
    "    plt.figure(figsize=(4 *n_col, 3 *n_row))\n",
    "\n",
    "    for index in range(len(z1_bins)-1):\n",
    "        data_auc = data['AUC-0-PT-INT'].query('z1 > %f and z1 < %f' % (z1_bins[index], z1_bins[index+1]))\n",
    "        data_aul = data['AUL-0-PT-INT'].query('z1 > %f and z1 < %f' % (z1_bins[index], z1_bins[index+1]))\n",
    "\n",
    "        plt.subplot(n_row, n_col, index+1)\n",
    "        plt.errorbar(data_auc.z2, data_auc.value, data_auc.alpha, \n",
    "                    marker='o', linestyle='', color='red', label='$A_{UC}$')\n",
    "        plt.plot(data_auc.z2, data_auc.thy, linestyle='-', color='red')\n",
    "\n",
    "        plt.errorbar(data_aul.z2, data_aul.value, data_aul.alpha, \n",
    "                    marker='o', linestyle='', color='blue', label='$A_{UL}$')\n",
    "        plt.plot(data_aul.z2, data_aul.thy, linestyle='-', color='blue')\n",
    "        plt.xlim([0.0, 1.0])\n",
    "        plt.xlabel('$Z_2$')\n",
    "        plt.title('$Z_1 \\in [%.1f, %.1f]$' % (z1_bins[index], z1_bins[index+1]))\n",
    "        \n",
    "        # the legend has theory labels and I dont like them.\n",
    "        if len(data_auc) > 0 and len(data_aul) > 0:\n",
    "            handles, labels = plt.gca().get_legend_handles_labels()\n",
    "            good_handles = []\n",
    "            good_labels = []\n",
    "            for handle, label in zip(handles, labels):\n",
    "                if 'thy' not in label:\n",
    "                    good_handles.append(handle)\n",
    "                    good_labels.append(label)\n",
    "            \n",
    "            plt.legend(good_handles, good_labels, frameon=False, loc='topleft')\n",
    "        \n",
    "    plt.tight_layout()"
   ]
  },
  {
   "cell_type": "code",
   "execution_count": null,
   "metadata": {
    "collapsed": false
   },
   "outputs": [],
   "source": [
    "plot(data['BaBaR'])\n",
    "plt.savefig('sia_babar.pdf')"
   ]
  },
  {
   "cell_type": "code",
   "execution_count": null,
   "metadata": {
    "collapsed": false
   },
   "outputs": [],
   "source": [
    "plot(data['belle'])\n",
    "plt.savefig('sia_belle.pdf')"
   ]
  },
  {
   "cell_type": "code",
   "execution_count": null,
   "metadata": {
    "collapsed": false
   },
   "outputs": [],
   "source": [
    "def plot_ff(ax,iflav):\n",
    "    Z=np.linspace(0.1,1)\n",
    "    Q2=1\n",
    "    ZF=[conf['collins'].get_C(z,Q2,hadron='pi+')[iflav] for z in Z]\n",
    "    ax.plot(Z,Z*ZF)\n",
    "    if iflav==1: ax.set_title(r'${\\rm flav=u}$',size=20)\n",
    "    if iflav==3: ax.set_title(r'${\\rm flav=d}$',size=20)\n",
    "    if iflav==5: ax.set_title(r'${\\rm flav=s}$',size=20)\n",
    "    if iflav==2: ax.set_title(r'${\\rm flav=\\bar{u}}$',size=20)\n",
    "    if iflav==4: ax.set_title(r'${\\rm flav=\\bar{d}}$',size=20)\n",
    "    if iflav==6: ax.set_title(r'${\\rm flav=\\bar{s}}$',size=20)\n",
    "    ax.set_xlabel(r'$z$',size=20)\n",
    "    zmin=np.amin(data['BaBaR']['AUC-0-PT-INT'].z1)\n",
    "    zmax=np.amax(data['BaBaR']['AUC-0-PT-INT'].z1)\n",
    "    ymin,ymax=ax.get_ylim()\n",
    "    dy=ymax-ymin\n",
    "    ax.plot([zmin,zmax],[ymin+dy*0.1,ymin+dy*0.1],'g-')\n",
    "    ax.set_ylim(ymin,ymax)\n",
    "    \n",
    "nrows,ncols=2,3\n",
    "py.figure(figsize=(ncols*3,nrows*3))\n",
    "cnt=0\n",
    "for iflav in [1,3,5,2,4,6]:\n",
    "    cnt+=1\n",
    "    ax=py.subplot(nrows,ncols,cnt)\n",
    "    plot_ff(ax,iflav)\n",
    "py.tight_layout()"
   ]
  },
  {
   "cell_type": "code",
   "execution_count": null,
   "metadata": {
    "collapsed": true
   },
   "outputs": [],
   "source": []
  }
 ],
 "metadata": {
  "anaconda-cloud": {},
  "kernelspec": {
   "display_name": "Python [default]",
   "language": "python",
   "name": "python2"
  },
  "language_info": {
   "codemirror_mode": {
    "name": "ipython",
    "version": 2
   },
   "file_extension": ".py",
   "mimetype": "text/x-python",
   "name": "python",
   "nbconvert_exporter": "python",
   "pygments_lexer": "ipython2",
   "version": "2.7.12"
  }
 },
 "nbformat": 4,
 "nbformat_minor": 2
}
