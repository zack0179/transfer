{
 "cells": [
  {
   "cell_type": "markdown",
   "metadata": {},
   "source": [
    "# Pretzelosity Analysis"
   ]
  },
  {
   "cell_type": "code",
   "execution_count": 1,
   "metadata": {
    "collapsed": true
   },
   "outputs": [],
   "source": [
    "import sys\n",
    "import os;os.chdir('../')\n",
    "import itertools as it\n",
    "import numpy as np\n",
    "import pandas as pd\n",
    "import pylab as py\n",
    "from  matplotlib import rc\n",
    "from matplotlib.colors import LogNorm\n",
    "%matplotlib inline\n",
    "from tools.tools import save,load,lprint,load_config\n",
    "from tools.bar import BAR\n",
    "from fitlab.resman import RESMAN\n",
    "from fitlab.parman import PARMAN\n",
    "rc('font',**{'family':'sans-serif','sans-serif':['Helvetica']})\n",
    "rc('text',usetex=True)"
   ]
  },
  {
   "cell_type": "code",
   "execution_count": 2,
   "metadata": {
    "collapsed": false
   },
   "outputs": [
    {
     "name": "stdout",
     "output_type": "stream",
     "text": [
      "loading sidis data sets 9001"
     ]
    }
   ],
   "source": [
    "conf=load_config('inputs/a_ll.py')\n",
    "conf['resman']=RESMAN(conf)\n",
    "conf['resman'].get_residuals(conf['parman'].par);"
   ]
  },
  {
   "cell_type": "markdown",
   "metadata": {},
   "source": [
    "## Data vs Theory"
   ]
  },
  {
   "cell_type": "code",
   "execution_count": 3,
   "metadata": {
    "collapsed": true
   },
   "outputs": [],
   "source": [
    "tabs=pd.concat([pd.DataFrame(conf['resman'].sidisres.tabs[idx]) for idx in conf['resman'].sidisres.tabs.keys()])"
   ]
  },
  {
   "cell_type": "code",
   "execution_count": 6,
   "metadata": {
    "collapsed": false
   },
   "outputs": [
    {
     "data": {
      "image/png": "[encoded data removed]",
      "text/plain": [
       "<matplotlib.figure.Figure at 0x112a5bf90>"
      ]
     },
     "metadata": {},
     "output_type": "display_data"
    }
   ],
   "source": [
    "def plot(ax,axis,tar,had):\n",
    "    data=tabs.query('axis==\"%s\" and target==\"%s\" and hadron==\"%s\" '%(axis,tar,had))\n",
    "    if axis=='pt': axis='pT'\n",
    "    ax.errorbar(data[axis],data['value'],yerr=data['alpha'],fmt='k.')\n",
    "    ax.plot(data[axis],data['thy'],'r-')\n",
    "    if tar=='proton': star='p'\n",
    "    if tar=='neutron': star='n'\n",
    "    if tar=='deuteron': star='d'\n",
    "    if had=='pi+': shad=r'\\pi^+'\n",
    "    if had=='pi-': shad=r'\\pi^-'\n",
    "    ax.set_title(r'${\\rm target}=%s~~{\\rm had}=%s$'%(star,shad))\n",
    "    ax.set_xlabel(r'$%s$'%axis)\n",
    "    if axis=='x': ax.set_ylim(-0.15,0.15)\n",
    "\n",
    "nrows,ncols=4,4\n",
    "py.figure(figsize=(ncols*3,nrows*2))\n",
    "\n",
    "cnt=0\n",
    "for tar in ['proton']:\n",
    "    for had in ['pi+','pi-']:\n",
    "        for axis  in ['pT']:\n",
    "            cnt+=1\n",
    "            ax=py.subplot(nrows,ncols,cnt)\n",
    "            plot(ax,axis,tar,had)\n",
    "py.tight_layout()"
   ]
  },
  {
   "cell_type": "code",
   "execution_count": null,
   "metadata": {
    "collapsed": false
   },
   "outputs": [],
   "source": []
  },
  {
   "cell_type": "code",
   "execution_count": null,
   "metadata": {
    "collapsed": true
   },
   "outputs": [],
   "source": []
  }
 ],
 "metadata": {
  "anaconda-cloud": {},
  "kernelspec": {
   "display_name": "Python [default]",
   "language": "python",
   "name": "python2"
  },
  "language_info": {
   "codemirror_mode": {
    "name": "ipython",
    "version": 2
   },
   "file_extension": ".py",
   "mimetype": "text/x-python",
   "name": "python",
   "nbconvert_exporter": "python",
   "pygments_lexer": "ipython2",
   "version": "2.7.12"
  }
 },
 "nbformat": 4,
 "nbformat_minor": 2
}
