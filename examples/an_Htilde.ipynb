{
 "cells": [
  {
   "cell_type": "markdown",
   "metadata": {},
   "source": [
    "# AN Analysis"
   ]
  },
  {
   "cell_type": "code",
   "execution_count": 1,
   "metadata": {
    "collapsed": true
   },
   "outputs": [],
   "source": [
    "import sys\n",
    "import os;os.chdir('../')\n",
    "import itertools as it\n",
    "import numpy as np\n",
    "import pandas as pd\n",
    "import pylab as py\n",
    "import matplotlib.pyplot as plt\n",
    "from  matplotlib import rc\n",
    "from matplotlib.colors import LogNorm\n",
    "%matplotlib inline\n",
    "from tools.tools import save,load,lprint\n",
    "from tools.config import load_config, conf\n",
    "from tools.bar import BAR\n",
    "from fitlab.resman import RESMAN\n",
    "from fitlab.parman import PARMAN\n",
    "rc('font',**{'family':'sans-serif','sans-serif':['Helvetica']})\n",
    "rc('text',usetex=True)"
   ]
  },
  {
   "cell_type": "code",
   "execution_count": 2,
   "metadata": {},
   "outputs": [
    {
     "name": "stdout",
     "output_type": "stream",
     "text": [
      "loading AN data sets 2003\n",
      "multiprocess setup: ncpus=4 / observable\n"
     ]
    }
   ],
   "source": [
    "load_config('inputs/an_Htilde.py')\n",
    "conf['resman']=RESMAN()\n",
    "conf['parman']=PARMAN()\n",
    "conf['resman'].get_residuals(conf['parman'].par);"
   ]
  },
  {
   "cell_type": "markdown",
   "metadata": {},
   "source": [
    "## Load AN data from files"
   ]
  },
  {
   "cell_type": "code",
   "execution_count": 3,
   "metadata": {
    "scrolled": true
   },
   "outputs": [
    {
     "data": {
      "text/plain": [
       "Index([          u'N',       u'Shift',       u'alpha',         u'col',\n",
       "            u'hadron',         u'obs',          u'pT', u'r-residuals',\n",
       "         u'residuals',          u'rs',       u'shift',  u'stat_err_u',\n",
       "         u'sys_err_u',      u'target',         u'thy',       u'value',\n",
       "                u'xF'],\n",
       "      dtype='object')"
      ]
     },
     "execution_count": 3,
     "metadata": {},
     "output_type": "execute_result"
    }
   ],
   "source": [
    "ALL=pd.concat([pd.DataFrame(conf['resman'].ANres.tabs[idx]) \\\n",
    "              for idx in conf['resman'].ANres.tabs.keys()])\n",
    "\n",
    "ALL.columns"
   ]
  },
  {
   "cell_type": "markdown",
   "metadata": {},
   "source": [
    "## Organize data\n",
    "Organize data from different collaborations with different observables"
   ]
  },
  {
   "cell_type": "code",
   "execution_count": 4,
   "metadata": {},
   "outputs": [
    {
     "name": "stdout",
     "output_type": "stream",
     "text": [
      "Collaboration: BRAHMS, Observerable: AN, Points: 18\n",
      "Collaboration: STAR, Observerable: AN, Points: 42\n"
     ]
    }
   ],
   "source": [
    "data = {}\n",
    "collaborations = np.unique(ALL.col)\n",
    "\n",
    "for collab in collaborations:\n",
    "    data[collab] = {}\n",
    "    \n",
    "    data_subset = ALL[ALL.col == collab]\n",
    "    observables = np.unique(data_subset.obs)\n",
    "    \n",
    "    for observable in observables:        \n",
    "        data[collab][observable] = data_subset[data_subset.obs == observable]        \n",
    "        print('Collaboration: %s, Observerable: %s, Points: %d' % (collab, observable, len(data[collab][observable])))"
   ]
  },
  {
   "cell_type": "markdown",
   "metadata": {},
   "source": [
    "## Plot results \n",
    "Plot the data vs. theory curves"
   ]
  },
  {
   "cell_type": "code",
   "execution_count": 5,
   "metadata": {
    "collapsed": true
   },
   "outputs": [],
   "source": [
    "data = {}\n",
    "\n",
    "for key, value in conf['resman'].ANres.tabs.iteritems():\n",
    "    data[key] = pd.DataFrame(value)"
   ]
  },
  {
   "cell_type": "code",
   "execution_count": 6,
   "metadata": {
    "collapsed": true
   },
   "outputs": [],
   "source": [
    "plt.rc('font', family='serif')\n",
    "plt.rc('font', size=16)"
   ]
  },
  {
   "cell_type": "code",
   "execution_count": 7,
   "metadata": {},
   "outputs": [
    {
     "data": {
      "text/plain": [
       "Index([          u'N',       u'Shift',       u'alpha',         u'col',\n",
       "            u'hadron',         u'obs',          u'pT', u'r-residuals',\n",
       "         u'residuals',          u'rs',       u'shift',  u'stat_err_u',\n",
       "         u'sys_err_u',      u'target',         u'thy',       u'value',\n",
       "                u'xF'],\n",
       "      dtype='object')"
      ]
     },
     "execution_count": 7,
     "metadata": {},
     "output_type": "execute_result"
    }
   ],
   "source": [
    "ALL=pd.concat([pd.DataFrame(conf['resman'].ANres.tabs[idx]) \\\n",
    "              for idx in conf['resman'].ANres.tabs.keys()])\n",
    "\n",
    "ALL.columns"
   ]
  },
  {
   "cell_type": "code",
   "execution_count": 8,
   "metadata": {
    "collapsed": true
   },
   "outputs": [],
   "source": [
    "def plotBRAHMS(data1,data2,label1='dataset 1'):\n",
    "\n",
    "    data_sub1 = data1.query('xF > 0')\n",
    "    data_sub2 = data2.query('xF > 0')\n",
    "    \n",
    "    plt.errorbar(data_sub1.xF, data_sub1.value, data_sub1.alpha, \n",
    "                    marker='o', linestyle='', color='red', label=label1)\n",
    "    plt.plot(data_sub1.xF, data_sub1.thy, linestyle='-', color='red')\n",
    "    \n",
    "    plt.errorbar(data_sub2.xF, data_sub2.value, data_sub2.alpha, \n",
    "                    marker='o', linestyle='', color='blue', label=label1)\n",
    "    plt.plot(data_sub2.xF, data_sub2.thy, linestyle='-', color='blue')\n",
    "    \n",
    "    #plt.errorbar(data_sub3.xF, data_sub3.value, data_sub3.alpha, \n",
    "    #               marker='o', linestyle='', color='red', label=label3)\n",
    "    #plt.plot(data_sub3.xF, data_sub3.thy, linestyle='-', color='red')\n",
    "    \n",
    "    #plt.errorbar(data_sub4.xF, data_sub4.value, data_sub4.alpha, \n",
    "    #                marker='o', linestyle='', color='blue', label=label1)\n",
    "    #plt.plot(data_sub4.xF, data_sub4.thy, linestyle='-', color='blue')\n",
    "    \n",
    "    \n",
    "    plt.xlim([0.1, 0.35])\n",
    "    plt.xlabel('$x_F$')\n",
    "    plt.title(label1,loc='left')\n",
    "        \n",
    "    plt.tight_layout()"
   ]
  },
  {
   "cell_type": "code",
   "execution_count": 9,
   "metadata": {},
   "outputs": [
    {
     "data": {
      "image/png": "[encoded data removed]",
      "text/plain": [
       "<matplotlib.figure.Figure at 0x1129aff90>"
      ]
     },
     "metadata": {},
     "output_type": "display_data"
    }
   ],
   "source": [
    "plotBRAHMS(data[1000],data[1002],'$A_{N}^{\\pi^+}$')"
   ]
  },
  {
   "cell_type": "code",
   "execution_count": 10,
   "metadata": {},
   "outputs": [
    {
     "data": {
      "image/png": "[encoded data removed]",
      "text/plain": [
       "<matplotlib.figure.Figure at 0x112bc96d0>"
      ]
     },
     "metadata": {},
     "output_type": "display_data"
    }
   ],
   "source": [
    "plotBRAHMS(data[1001],data[1003],'$A_{N}^{\\pi^-}$')"
   ]
  },
  {
   "cell_type": "code",
   "execution_count": 11,
   "metadata": {
    "collapsed": true
   },
   "outputs": [],
   "source": [
    "def plotSTAR(data1,data2,data3,data4,label1='dataset 1'):\n",
    "\n",
    "    data = [data1,data2,data3,data4]\n",
    "    \n",
    "    plt.figure(figsize=(10,10))\n",
    "    \n",
    "    for k in range(len(data)):\n",
    "    \n",
    "        plt.subplot(2, 2, k+1)\n",
    "    \n",
    "        data_sub = data[k].query('xF > 0')\n",
    "    \n",
    "        plt.errorbar(data_sub.xF, data_sub.value, data_sub.alpha, \n",
    "                    marker='o', linestyle='', color='red', label=label1)\n",
    "        plt.plot(data_sub.xF, data_sub.thy, linestyle='-', color='red')\n",
    "    \n",
    "    \n",
    "        plt.xlim([0.1, 0.8])\n",
    "        plt.xlabel('$x_F$')\n",
    "        plt.title(label1,loc='left')\n",
    "        \n",
    "    plt.tight_layout()"
   ]
  },
  {
   "cell_type": "code",
   "execution_count": 12,
   "metadata": {},
   "outputs": [
    {
     "data": {
      "image/png": "[encoded data removed]",
      "text/plain": [
       "<matplotlib.figure.Figure at 0x112c686d0>"
      ]
     },
     "metadata": {},
     "output_type": "display_data"
    }
   ],
   "source": [
    "plotSTAR(data[2000],data[2001],data[2002],data[2003],'$A_{N}^{\\pi^0}$')"
   ]
  },
  {
   "cell_type": "code",
   "execution_count": null,
   "metadata": {
    "collapsed": true
   },
   "outputs": [],
   "source": []
  }
 ],
 "metadata": {
  "anaconda-cloud": {},
  "kernelspec": {
   "display_name": "Python 2",
   "language": "python",
   "name": "python2"
  },
  "language_info": {
   "codemirror_mode": {
    "name": "ipython",
    "version": 2
   },
   "file_extension": ".py",
   "mimetype": "text/x-python",
   "name": "python",
   "nbconvert_exporter": "python",
   "pygments_lexer": "ipython2",
   "version": "2.7.13"
  }
 },
 "nbformat": 4,
 "nbformat_minor": 2
}
