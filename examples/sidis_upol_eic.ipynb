{
 "cells": [
  {
   "cell_type": "markdown",
   "metadata": {},
   "source": [
    "# JAM FITTER"
   ]
  },
  {
   "cell_type": "code",
   "execution_count": 15,
   "metadata": {
    "collapsed": false
   },
   "outputs": [],
   "source": [
    "import sys,os\n",
    "from fitlab.resman import RESMAN\n",
    "from fitlab.mcsamp import MCSAMP\n",
    "from tools.config import load_config,conf\n",
    "from tools.tools import load, save,checkdir\n",
    "import pylab as py\n",
    "import numpy as np\n",
    "import pandas as pd\n",
    "import copy\n",
    "def lprint(msg):\n",
    "    sys.stdout.write('\\r')\n",
    "    sys.stdout.write('%s' %msg)\n",
    "    sys.stdout.flush()\n",
    "%matplotlib inline"
   ]
  },
  {
   "cell_type": "markdown",
   "metadata": {},
   "source": [
    "## setup path to store the results "
   ]
  },
  {
   "cell_type": "code",
   "execution_count": 16,
   "metadata": {
    "collapsed": true
   },
   "outputs": [],
   "source": [
    "path2results='sidis_upol_eic'\n",
    "checkdir(path2results)"
   ]
  },
  {
   "cell_type": "markdown",
   "metadata": {},
   "source": [
    "## data sets "
   ]
  },
  {
   "cell_type": "code",
   "execution_count": 17,
   "metadata": {
    "collapsed": true
   },
   "outputs": [],
   "source": [
    "conf['datasets']={}"
   ]
  },
  {
   "cell_type": "markdown",
   "metadata": {},
   "source": [
    "## SIDIS FUU "
   ]
  },
  {
   "cell_type": "code",
   "execution_count": 18,
   "metadata": {
    "collapsed": false
   },
   "outputs": [],
   "source": [
    "conf['datasets']['sidis']={}\n",
    "conf['datasets']['sidis']['filters']={}\n",
    "conf['datasets']['sidis']['filters'][0]={}\n",
    "conf['datasets']['sidis']['filters'][0]['idx']=[1000,1001,1004,1005,1002,1003,1006,1007]\n",
    "#conf['datasets']['sidis']['filters'][0]['filter']=\"z<0.6 and Q2>1.69 and pT>0.2 and pT<0.9 and dy > 3\"\n",
    "conf['datasets']['sidis']['filters'][0]['filter']=\"z<0.6 and Q2>1.69 and pT>0.2 and pT<0.9\"\n",
    "\n",
    "\n",
    "conf['datasets']['sidis']['xlsx']={}\n",
    "conf['datasets']['sidis']['xlsx'][1000]='sidis/expdata/1000.xlsx'  # |  proton   | pi+    | M_Hermes | hermes \n",
    "conf['datasets']['sidis']['xlsx'][1001]='sidis/expdata/1001.xlsx'  # |  proton   | pi-    | M_Hermes | hermes \n",
    "conf['datasets']['sidis']['xlsx'][1004]='sidis/expdata/1004.xlsx'  # |  deuteron | pi+    | M_Hermes | hermes \n",
    "conf['datasets']['sidis']['xlsx'][1005]='sidis/expdata/1005.xlsx'  # |  deuteron | pi-    | M_Hermes | hermes \n",
    "\n",
    "conf['datasets']['sidis']['xlsx'][9000]='sidis/expdata/9000.xlsx'  # EIC simulation \n",
    "\n",
    "conf['datasets']['sidis']['norm']={}\n",
    "for k in conf['datasets']['sidis']['xlsx']: conf['datasets']['sidis']['norm'][k]={'value':1,'fixed':True,'min':0,'max':1} \n"
   ]
  },
  {
   "cell_type": "markdown",
   "metadata": {},
   "source": [
    "## parameters"
   ]
  },
  {
   "cell_type": "code",
   "execution_count": 19,
   "metadata": {
    "collapsed": false
   },
   "outputs": [],
   "source": [
    "conf['params']={}"
   ]
  },
  {
   "cell_type": "markdown",
   "metadata": {},
   "source": [
    "### pion PDF parameters"
   ]
  },
  {
   "cell_type": "code",
   "execution_count": 20,
   "metadata": {
    "collapsed": true
   },
   "outputs": [],
   "source": [
    "conf['params']['pdf']={}\n",
    "conf['params']['pdf']['widths0 valence']  = {'value':0.5,'fixed':False,'min':0,'max':1}\n",
    "conf['params']['pdf']['widths0 sea']      = {'value':0.5,'fixed':False,'min':0,'max':1}"
   ]
  },
  {
   "cell_type": "code",
   "execution_count": 21,
   "metadata": {
    "collapsed": true
   },
   "outputs": [],
   "source": [
    "conf['params']['ff']={}\n",
    "conf['params']['ff']['widths0 pi+ fav']   = {'value':0.5,'fixed':False,'min':0,'max':1}\n",
    "conf['params']['ff']['widths0 pi+ unfav'] = {'value':0.5,'fixed':False,'min':0,'max':1}"
   ]
  },
  {
   "cell_type": "markdown",
   "metadata": {
    "collapsed": true
   },
   "source": [
    "## Nested Sampling"
   ]
  },
  {
   "cell_type": "markdown",
   "metadata": {},
   "source": [
    "### initialize fitpack libraries"
   ]
  },
  {
   "cell_type": "code",
   "execution_count": 22,
   "metadata": {
    "collapsed": false
   },
   "outputs": [
    {
     "name": "stdout",
     "output_type": "stream",
     "text": [
      "loading sidis data sets 9000\n",
      "multiprocess setup: ncpus=1 / observable\n"
     ]
    }
   ],
   "source": [
    "conf['resman'] = RESMAN()\n",
    "mcsamp=MCSAMP()"
   ]
  },
  {
   "cell_type": "markdown",
   "metadata": {
    "collapsed": true
   },
   "source": [
    "### start multiple NS runs\n",
    "- the code will start n independent runs specified by size"
   ]
  },
  {
   "cell_type": "code",
   "execution_count": 23,
   "metadata": {
    "collapsed": false
   },
   "outputs": [
    {
     "name": "stdout",
     "output_type": "stream",
     "text": [
      "iter=551  logz=-194.264 rel-err=9.810e-11  t-elapsed=4.537e+01  dchi2min=3.785e+02 dchi2max=3.785e+02"
     ]
    }
   ],
   "source": [
    "mcsamp.run(path2results,factor=5,size=10)"
   ]
  },
  {
   "cell_type": "markdown",
   "metadata": {},
   "source": [
    "### combine multiple runs into one big run"
   ]
  },
  {
   "cell_type": "code",
   "execution_count": 24,
   "metadata": {
    "collapsed": false
   },
   "outputs": [
    {
     "name": "stdout",
     "output_type": "stream",
     "text": [
      "runs max likelihoods\n",
      "189.239668211\n",
      "190.029891129\n",
      "189.239668267\n",
      "189.239668182\n",
      "189.239668357\n",
      "189.23966817\n",
      "189.239668222\n",
      "189.239668254\n",
      "189.23966813\n",
      "189.26896657\n",
      "189.239668152\n",
      "189.23966812\n",
      "189.239668151\n",
      "189.239668127\n",
      "189.239668239\n",
      "189.239668315\n",
      "189.239668201\n",
      "189.239668318\n",
      "189.644024505\n",
      "189.23966814\n",
      "sample  size= 7688\n",
      "sample2 size= 1835\n"
     ]
    }
   ],
   "source": [
    "MC=mcsamp.get_MC_samples(path2results+'/mcdata')"
   ]
  },
  {
   "cell_type": "markdown",
   "metadata": {},
   "source": [
    "### distribution of parameters"
   ]
  },
  {
   "cell_type": "code",
   "execution_count": 25,
   "metadata": {
    "collapsed": false
   },
   "outputs": [
    {
     "name": "stdout",
     "output_type": "stream",
     "text": [
      "     widths0 valence =    0.57030 +/-    0.00880\n",
      "         widths0 sea =    0.81756 +/-    0.05610\n",
      "     widths0 pi+ fav =    0.50183 +/-    0.26286\n",
      "   widths0 pi+ unfav =    0.35167 +/-    0.26485\n"
     ]
    },
    {
     "data": {
      "image/png": "[encoded data removed]",
      "text/plain": [
       "<matplotlib.figure.Figure at 0x115301310>"
      ]
     },
     "metadata": {},
     "output_type": "display_data"
    }
   ],
   "source": [
    "samples=MC['samples']\n",
    "samples2=MC['samples2']\n",
    "weights=MC['weights']\n",
    "weights2=MC['weights2']\n",
    "order=MC['order']\n",
    "runs=MC['runs']\n",
    "\n",
    "nrows,ncols=2,2\n",
    "fig = py.figure(figsize=(ncols*3,nrows*2))\n",
    "\n",
    "def get_idx(key,tag):\n",
    "    for i in range(len(order)):\n",
    "        if order[i][1]==key and order[i][2]==tag:\n",
    "            return i\n",
    "\n",
    "global cnt\n",
    "cnt=0\n",
    "def plot(tags):\n",
    "    global cnt\n",
    "    for i in range(1,len(tags)):\n",
    "        cnt+=1\n",
    "        if tags[i]==None: continue\n",
    "        idx=get_idx(tags[0],tags[i])\n",
    "        ax=py.subplot(nrows,ncols,cnt)\n",
    "        vmin=np.amin(samples2.T[idx])\n",
    "        vmax=np.amax(samples2.T[idx])\n",
    "        R=None#(vmin,vmax)\n",
    "        for k in runs:\n",
    "            ax.hist(runs[k]['samples'].T[idx],weights=runs[k]['weights'],bins=50,normed=True,range=R)\n",
    "        ax.hist(samples.T[idx],weights=weights,bins=50,color='k',normed=True,range=R)\n",
    "        ax.hist(samples2.T[idx],weights=weights2,bins=50,color='r',histtype='step',normed=True,range=R)\n",
    "        ax.set_title(tags[i])\n",
    "        mean=np.einsum('i,i',samples2.T[idx],weights2)\n",
    "        std=np.einsum('i,i',(samples2.T[idx]-mean)**2,weights2)**0.5\n",
    "        print '%20s = %10.5f +/- %10.5f'%(tags[i],mean,std)\n",
    "        #ax.set_xlim(vmin,vmax)\n",
    "    py.tight_layout()\n",
    "\n",
    "plot(['pdf','widths0 valence','widths0 sea'])\n",
    "plot(['ff','widths0 pi+ fav','widths0 pi+ unfav'])\n"
   ]
  },
  {
   "cell_type": "markdown",
   "metadata": {},
   "source": [
    "## data vs theory"
   ]
  },
  {
   "cell_type": "code",
   "execution_count": 26,
   "metadata": {
    "collapsed": false
   },
   "outputs": [
    {
     "name": "stdout",
     "output_type": "stream",
     "text": [
      "1835/1835"
     ]
    }
   ],
   "source": [
    "data={'weights':MC['weights2']}\n",
    "cnt=0\n",
    "for s in MC['samples2']:\n",
    "    cnt+=1    \n",
    "    lprint('%d/%d'%(cnt,len(MC['samples2'])))  \n",
    "    conf['resman'].get_residuals(s);\n",
    "    for k in conf['resman'].sidisres.tabs:\n",
    "        if k  not in data: data[k]=[]\n",
    "        thy=conf['resman'].sidisres.tabs[k]['thy']    \n",
    "        norm=conf['datasets']['sidis']['norm'][k]['value']\n",
    "        shift=conf['resman'].sidisres.tabs[k]['shift']        \n",
    "        data[k].append(shift+thy/norm)\n",
    "save(data,'%s/%s'%(path2results,'sidis.dat'))   "
   ]
  },
  {
   "cell_type": "markdown",
   "metadata": {
    "collapsed": true
   },
   "source": [
    "### compute averages and collect results"
   ]
  },
  {
   "cell_type": "code",
   "execution_count": 27,
   "metadata": {
    "collapsed": false
   },
   "outputs": [],
   "source": [
    "data=load('%s/%s'%(path2results,'sidis.dat'))   \n",
    "for k in data: data[k]=np.array(data[k])\n",
    "thy,dthy={},{}\n",
    "for k in data:\n",
    "    if k=='weights': continue\n",
    "    thy[k]=np.einsum('i,ik->k',data['weights'],data[k])\n",
    "    dthy[k]=np.einsum('i,ik->k',data['weights'],(data[k]-thy[k])**2)**0.5\n",
    "for k in thy: \n",
    "    conf['resman'].sidisres.tabs[k]['thy']=copy.copy(thy[k])\n",
    "    conf['resman'].sidisres.tabs[k]['dthy']=copy.copy(dthy[k])"
   ]
  },
  {
   "cell_type": "code",
   "execution_count": 28,
   "metadata": {
    "collapsed": false
   },
   "outputs": [
    {
     "ename": "TypeError",
     "evalue": "not enough arguments for format string",
     "output_type": "error",
     "traceback": [
      "\u001b[0;31m---------------------------------------------------------------------------\u001b[0m",
      "\u001b[0;31mTypeError\u001b[0m                                 Traceback (most recent call last)",
      "\u001b[0;32m<ipython-input-28-be8122ada772>\u001b[0m in \u001b[0;36m<module>\u001b[0;34m()\u001b[0m\n\u001b[0;32m----> 1\u001b[0;31m \u001b[0mreport\u001b[0m\u001b[0;34m=\u001b[0m\u001b[0mconf\u001b[0m\u001b[0;34m[\u001b[0m\u001b[0;34m'resman'\u001b[0m\u001b[0;34m]\u001b[0m\u001b[0;34m.\u001b[0m\u001b[0mgen_report\u001b[0m\u001b[0;34m(\u001b[0m\u001b[0mverb\u001b[0m\u001b[0;34m=\u001b[0m\u001b[0;36m0\u001b[0m\u001b[0;34m,\u001b[0m\u001b[0mlevel\u001b[0m\u001b[0;34m=\u001b[0m\u001b[0;36m1\u001b[0m\u001b[0;34m)\u001b[0m\u001b[0;34m\u001b[0m\u001b[0m\n\u001b[0m\u001b[1;32m      2\u001b[0m \u001b[0mdelimiters\u001b[0m\u001b[0;34m=\u001b[0m\u001b[0;34m[\u001b[0m\u001b[0;34m]\u001b[0m\u001b[0;34m\u001b[0m\u001b[0m\n\u001b[1;32m      3\u001b[0m \u001b[0;32mfor\u001b[0m \u001b[0mi\u001b[0m \u001b[0;32min\u001b[0m \u001b[0mrange\u001b[0m\u001b[0;34m(\u001b[0m\u001b[0mlen\u001b[0m\u001b[0;34m(\u001b[0m\u001b[0mreport\u001b[0m\u001b[0;34m)\u001b[0m\u001b[0;34m)\u001b[0m\u001b[0;34m:\u001b[0m\u001b[0;34m\u001b[0m\u001b[0m\n\u001b[1;32m      4\u001b[0m     \u001b[0;32mif\u001b[0m \u001b[0;34m'reaction:'\u001b[0m \u001b[0;32min\u001b[0m \u001b[0mreport\u001b[0m\u001b[0;34m[\u001b[0m\u001b[0mi\u001b[0m\u001b[0;34m]\u001b[0m\u001b[0;34m:\u001b[0m \u001b[0mdelimiters\u001b[0m\u001b[0;34m.\u001b[0m\u001b[0mappend\u001b[0m\u001b[0;34m(\u001b[0m\u001b[0mi\u001b[0m\u001b[0;34m)\u001b[0m\u001b[0;34m\u001b[0m\u001b[0m\n\u001b[1;32m      5\u001b[0m \u001b[0;34m\u001b[0m\u001b[0m\n",
      "\u001b[0;32m/Users/avp5627/GIT/TMD-PHENO/fitpack/fitlab/resman.pyc\u001b[0m in \u001b[0;36mgen_report\u001b[0;34m(self, verb, level)\u001b[0m\n\u001b[1;32m    114\u001b[0m   \u001b[0;32mdef\u001b[0m \u001b[0mgen_report\u001b[0m\u001b[0;34m(\u001b[0m\u001b[0mself\u001b[0m\u001b[0;34m,\u001b[0m\u001b[0mverb\u001b[0m\u001b[0;34m=\u001b[0m\u001b[0;36m0\u001b[0m\u001b[0;34m,\u001b[0m\u001b[0mlevel\u001b[0m\u001b[0;34m=\u001b[0m\u001b[0;36m0\u001b[0m\u001b[0;34m)\u001b[0m\u001b[0;34m:\u001b[0m\u001b[0;34m\u001b[0m\u001b[0m\n\u001b[1;32m    115\u001b[0m     \u001b[0mL\u001b[0m\u001b[0;34m=\u001b[0m\u001b[0;34m[\u001b[0m\u001b[0;34m]\u001b[0m\u001b[0;34m\u001b[0m\u001b[0m\n\u001b[0;32m--> 116\u001b[0;31m     \u001b[0;32mif\u001b[0m \u001b[0;34m'sidis'\u001b[0m   \u001b[0;32min\u001b[0m \u001b[0mconf\u001b[0m\u001b[0;34m[\u001b[0m\u001b[0;34m'datasets'\u001b[0m\u001b[0;34m]\u001b[0m\u001b[0;34m:\u001b[0m \u001b[0mL\u001b[0m\u001b[0;34m.\u001b[0m\u001b[0mextend\u001b[0m\u001b[0;34m(\u001b[0m\u001b[0mself\u001b[0m\u001b[0;34m.\u001b[0m\u001b[0msidisres\u001b[0m\u001b[0;34m.\u001b[0m\u001b[0mgen_report\u001b[0m\u001b[0;34m(\u001b[0m\u001b[0mverb\u001b[0m\u001b[0;34m,\u001b[0m\u001b[0mlevel\u001b[0m\u001b[0;34m)\u001b[0m\u001b[0;34m)\u001b[0m\u001b[0;34m\u001b[0m\u001b[0m\n\u001b[0m\u001b[1;32m    117\u001b[0m     \u001b[0;32mif\u001b[0m \u001b[0;34m'sia'\u001b[0m     \u001b[0;32min\u001b[0m \u001b[0mconf\u001b[0m\u001b[0;34m[\u001b[0m\u001b[0;34m'datasets'\u001b[0m\u001b[0;34m]\u001b[0m\u001b[0;34m:\u001b[0m \u001b[0mL\u001b[0m\u001b[0;34m.\u001b[0m\u001b[0mextend\u001b[0m\u001b[0;34m(\u001b[0m\u001b[0mself\u001b[0m\u001b[0;34m.\u001b[0m\u001b[0msiares\u001b[0m\u001b[0;34m.\u001b[0m\u001b[0mgen_report\u001b[0m\u001b[0;34m(\u001b[0m\u001b[0mverb\u001b[0m\u001b[0;34m,\u001b[0m\u001b[0mlevel\u001b[0m\u001b[0;34m)\u001b[0m\u001b[0;34m)\u001b[0m\u001b[0;34m\u001b[0m\u001b[0m\n\u001b[1;32m    118\u001b[0m     \u001b[0;32mif\u001b[0m \u001b[0;34m'moments'\u001b[0m \u001b[0;32min\u001b[0m \u001b[0mconf\u001b[0m\u001b[0;34m[\u001b[0m\u001b[0;34m'datasets'\u001b[0m\u001b[0;34m]\u001b[0m\u001b[0;34m:\u001b[0m \u001b[0mL\u001b[0m\u001b[0;34m.\u001b[0m\u001b[0mextend\u001b[0m\u001b[0;34m(\u001b[0m\u001b[0mself\u001b[0m\u001b[0;34m.\u001b[0m\u001b[0mmomres\u001b[0m\u001b[0;34m.\u001b[0m\u001b[0mgen_report\u001b[0m\u001b[0;34m(\u001b[0m\u001b[0mverb\u001b[0m\u001b[0;34m,\u001b[0m\u001b[0mlevel\u001b[0m\u001b[0;34m)\u001b[0m\u001b[0;34m)\u001b[0m\u001b[0;34m\u001b[0m\u001b[0m\n",
      "\u001b[0;32m/Users/avp5627/GIT/TMD-PHENO/fitpack/obslib/sidis/residuals.py\u001b[0m in \u001b[0;36mgen_report\u001b[0;34m(self, verb, level)\u001b[0m\n\u001b[1;32m    361\u001b[0m           \u001b[0mrow\u001b[0m\u001b[0;34m.\u001b[0m\u001b[0mappend\u001b[0m\u001b[0;34m(\u001b[0m\u001b[0mchi2\u001b[0m\u001b[0;34m)\u001b[0m\u001b[0;34m\u001b[0m\u001b[0m\n\u001b[1;32m    362\u001b[0m           \u001b[0mrow\u001b[0m\u001b[0;34m=\u001b[0m\u001b[0mtuple\u001b[0m\u001b[0;34m(\u001b[0m\u001b[0mrow\u001b[0m\u001b[0;34m)\u001b[0m\u001b[0;34m\u001b[0m\u001b[0m\n\u001b[0;32m--> 363\u001b[0;31m           \u001b[0mL\u001b[0m\u001b[0;34m.\u001b[0m\u001b[0mappend\u001b[0m\u001b[0;34m(\u001b[0m\u001b[0mmsg\u001b[0m\u001b[0;34m%\u001b[0m\u001b[0mrow\u001b[0m\u001b[0;34m)\u001b[0m\u001b[0;34m\u001b[0m\u001b[0m\n\u001b[0m\u001b[1;32m    364\u001b[0m \u001b[0;34m\u001b[0m\u001b[0m\n\u001b[1;32m    365\u001b[0m     \u001b[0;32mif\u001b[0m \u001b[0mverb\u001b[0m\u001b[0;34m==\u001b[0m\u001b[0;36m0\u001b[0m\u001b[0;34m:\u001b[0m\u001b[0;34m\u001b[0m\u001b[0m\n",
      "\u001b[0;31mTypeError\u001b[0m: not enough arguments for format string"
     ]
    }
   ],
   "source": [
    "report=conf['resman'].gen_report(verb=0,level=1)\n",
    "delimiters=[]\n",
    "for i in range(len(report)): \n",
    "    if 'reaction:' in report[i]: delimiters.append(i) \n",
    "\n",
    "data={}\n",
    "nlines=len(report)\n",
    "for i in range(len(delimiters)):\n",
    "    ini=delimiters[i]\n",
    "    if i==len(delimiters)-1: fin=len(report)\n",
    "    else: fin=delimiters[i+1]\n",
    "    reaction=report[ini].replace('reaction:','').strip()\n",
    "    data[reaction]={'raw data':report[ini:fin]}\n",
    "    \n",
    "for k in data:\n",
    "    print k\n",
    "    block=data[k]['raw data']\n",
    "    isep=[i for i in range(len(block)) if '--------' in block[i]][0]\n",
    "    data[k]['summary']=[block[i] for i in range(isep)]\n",
    "    data[k]['tables']=[block[i] for i in range(isep+1,len(block))]\n",
    "\n",
    "    tabs={}\n",
    "    for l in data[k]['tables']:\n",
    "        info=l.split(',')\n",
    "        col=[s for s in info if 'col' in s][0].split('=')[1].strip()\n",
    "        if col not in tabs: tabs[col]={}\n",
    "        info=[[ss.strip() for ss in s.split('=')] for s in info if 'col' not in info  if s.strip()!='']\n",
    "        \n",
    "        for s in info:\n",
    "            if s[0] not in tabs[col]: tabs[col][s[0]]=[]\n",
    "        \n",
    "        for s in info:\n",
    "            try:\n",
    "                value=float(s[1])\n",
    "            except:\n",
    "                value=s[1]\n",
    "            tabs[col][s[0]].append(value)        \n",
    "\n",
    "    data[k]['tabs']=tabs\n",
    "save(data,'%s/%s'%(path2results,'data_and_thy.dat'))  "
   ]
  },
  {
   "cell_type": "code",
   "execution_count": null,
   "metadata": {
    "collapsed": false
   },
   "outputs": [],
   "source": [
    "def summary():\n",
    "    for k in data:\n",
    "        print \"\"\n",
    "        for l in data[k]['summary']: print l\n",
    "summary()"
   ]
  },
  {
   "cell_type": "markdown",
   "metadata": {},
   "source": [
    "### plot data and theory"
   ]
  },
  {
   "cell_type": "code",
   "execution_count": null,
   "metadata": {
    "collapsed": true
   },
   "outputs": [],
   "source": [
    "data=load('%s/%s'%(path2results,'data_and_thy.dat'))"
   ]
  },
  {
   "cell_type": "markdown",
   "metadata": {},
   "source": [
    "### 1000"
   ]
  },
  {
   "cell_type": "code",
   "execution_count": null,
   "metadata": {
    "collapsed": false
   },
   "outputs": [],
   "source": [
    "tab=pd.DataFrame(data['sidis']['tabs']['hermes']).query('idx==1000')\n",
    "tab['xr']=[np.round(x,2) for x in tab.x]\n",
    "ZR=[[0.1,0.2],[0.2,0.25],[0.25,0.3],[0.3,0.4],[0.4,0.5],[0.5,1]]\n",
    "\n",
    "nrows,ncols=1,2\n",
    "fig = py.figure(figsize=(ncols*3,nrows*3))\n",
    "ax=py.subplot(nrows,ncols,1)\n",
    "ax.plot(tab['x'],tab['Q2'],'.'); ax.set_xlabel(r'$x$',size=20); ax.set_ylabel(r'$Q^2$',size=20)\n",
    "ax=py.subplot(nrows,ncols,2)\n",
    "ax.plot(tab['pT'],tab['z'],'.'); ax.set_xlabel(r'$p_T$',size=20); ax.set_ylabel(r'$z$',size=20);\n",
    "for zr in ZR: ax.axhline(y=zr[0]);\n",
    "py.tight_layout()"
   ]
  },
  {
   "cell_type": "code",
   "execution_count": null,
   "metadata": {
    "collapsed": false,
    "scrolled": false
   },
   "outputs": [],
   "source": [
    "nrows,ncols=6,6\n",
    "fig = py.figure(figsize=(ncols*3,nrows*2))\n",
    "cnt=0\n",
    "for xr in np.unique(tab['xr']):\n",
    "    tabx=tab.query('xr==%f'%xr)\n",
    "    for zr in ZR:\n",
    "        tabz=tabx.query('z>%f and z<%f'%(zr[0],zr[1]))\n",
    "        cnt+=1\n",
    "        ax=py.subplot(nrows,ncols,cnt)\n",
    "        ax.errorbar(tabz['pT'],tabz['exp'],yerr=tabz['alpha'],fmt='k.')\n",
    "        ax.fill_between(tabz['pT'],tabz['thy']-tabz['dthy'],tabz['thy']+tabz['dthy'])\n",
    "        \n",
    "py.tight_layout()"
   ]
  },
  {
   "cell_type": "markdown",
   "metadata": {},
   "source": [
    "### 1001"
   ]
  },
  {
   "cell_type": "code",
   "execution_count": null,
   "metadata": {
    "collapsed": false
   },
   "outputs": [],
   "source": [
    "tab=pd.DataFrame(data['sidis']['tabs']['hermes']).query('idx==1001')\n",
    "tab['xr']=[np.round(x,2) for x in tab.x]\n",
    "ZR=[[0.1,0.2],[0.2,0.25],[0.25,0.3],[0.3,0.4],[0.4,0.5],[0.5,1]]\n",
    "\n",
    "nrows,ncols=1,2\n",
    "fig = py.figure(figsize=(ncols*3,nrows*3))\n",
    "ax=py.subplot(nrows,ncols,1)\n",
    "ax.plot(tab['x'],tab['Q2'],'.'); ax.set_xlabel(r'$x$',size=20); ax.set_ylabel(r'$Q^2$',size=20)\n",
    "ax=py.subplot(nrows,ncols,2)\n",
    "ax.plot(tab['pT'],tab['z'],'.'); ax.set_xlabel(r'$p_T$',size=20); ax.set_ylabel(r'$z$',size=20);\n",
    "for zr in ZR: ax.axhline(y=zr[0]);\n",
    "py.tight_layout()"
   ]
  },
  {
   "cell_type": "code",
   "execution_count": null,
   "metadata": {
    "collapsed": false
   },
   "outputs": [],
   "source": [
    "nrows,ncols=6,6\n",
    "fig = py.figure(figsize=(ncols*3,nrows*2))\n",
    "cnt=0\n",
    "for xr in np.unique(tab['xr']):\n",
    "    tabx=tab.query('xr==%f'%xr)\n",
    "    for zr in ZR:\n",
    "        tabz=tabx.query('z>%f and z<%f'%(zr[0],zr[1]))\n",
    "        cnt+=1\n",
    "        ax=py.subplot(nrows,ncols,cnt)\n",
    "        ax.errorbar(tabz['pT'],tabz['exp'],yerr=tabz['alpha'],fmt='k.')\n",
    "        ax.fill_between(tabz['pT'],tabz['thy']-tabz['dthy'],tabz['thy']+tabz['dthy'])\n",
    "        \n",
    "py.tight_layout()"
   ]
  },
  {
   "cell_type": "markdown",
   "metadata": {},
   "source": [
    "### 1004"
   ]
  },
  {
   "cell_type": "code",
   "execution_count": null,
   "metadata": {
    "collapsed": false
   },
   "outputs": [],
   "source": [
    "tab=pd.DataFrame(data['sidis']['tabs']['hermes']).query('idx==1004')\n",
    "tab['xr']=[np.round(x,2) for x in tab.x]\n",
    "ZR=[[0.1,0.2],[0.2,0.25],[0.25,0.3],[0.3,0.4],[0.4,0.5],[0.5,1]]\n",
    "\n",
    "nrows,ncols=1,2\n",
    "fig = py.figure(figsize=(ncols*3,nrows*3))\n",
    "ax=py.subplot(nrows,ncols,1)\n",
    "ax.plot(tab['x'],tab['Q2'],'.'); ax.set_xlabel(r'$x$',size=20); ax.set_ylabel(r'$Q^2$',size=20)\n",
    "ax=py.subplot(nrows,ncols,2)\n",
    "ax.plot(tab['pT'],tab['z'],'.'); ax.set_xlabel(r'$p_T$',size=20); ax.set_ylabel(r'$z$',size=20);\n",
    "for zr in ZR: ax.axhline(y=zr[0]);\n",
    "py.tight_layout()"
   ]
  },
  {
   "cell_type": "code",
   "execution_count": null,
   "metadata": {
    "collapsed": false
   },
   "outputs": [],
   "source": [
    "nrows,ncols=6,6\n",
    "fig = py.figure(figsize=(ncols*3,nrows*2))\n",
    "cnt=0\n",
    "for xr in np.unique(tab['xr']):\n",
    "    tabx=tab.query('xr==%f'%xr)\n",
    "    for zr in ZR:\n",
    "        tabz=tabx.query('z>%f and z<%f'%(zr[0],zr[1]))\n",
    "        cnt+=1\n",
    "        ax=py.subplot(nrows,ncols,cnt)\n",
    "        ax.errorbar(tabz['pT'],tabz['exp'],yerr=tabz['alpha'],fmt='k.')\n",
    "        ax.fill_between(tabz['pT'],tabz['thy']-tabz['dthy'],tabz['thy']+tabz['dthy'])\n",
    "        \n",
    "py.tight_layout()"
   ]
  },
  {
   "cell_type": "markdown",
   "metadata": {
    "collapsed": true
   },
   "source": [
    "### 1005"
   ]
  },
  {
   "cell_type": "code",
   "execution_count": null,
   "metadata": {
    "collapsed": false
   },
   "outputs": [],
   "source": [
    "tab=pd.DataFrame(data['sidis']['tabs']['hermes']).query('idx==1005')\n",
    "tab['xr']=[np.round(x,2) for x in tab.x]\n",
    "ZR=[[0.1,0.2],[0.2,0.25],[0.25,0.3],[0.3,0.4],[0.4,0.5],[0.5,1]]\n",
    "\n",
    "nrows,ncols=1,2\n",
    "fig = py.figure(figsize=(ncols*3,nrows*3))\n",
    "ax=py.subplot(nrows,ncols,1)\n",
    "ax.plot(tab['x'],tab['Q2'],'.'); ax.set_xlabel(r'$x$',size=20); ax.set_ylabel(r'$Q^2$',size=20)\n",
    "ax=py.subplot(nrows,ncols,2)\n",
    "ax.plot(tab['pT'],tab['z'],'.'); ax.set_xlabel(r'$p_T$',size=20); ax.set_ylabel(r'$z$',size=20);\n",
    "for zr in ZR: ax.axhline(y=zr[0]);\n",
    "py.tight_layout()"
   ]
  },
  {
   "cell_type": "code",
   "execution_count": null,
   "metadata": {
    "collapsed": false
   },
   "outputs": [],
   "source": [
    "nrows,ncols=6,6\n",
    "fig = py.figure(figsize=(ncols*3,nrows*2))\n",
    "cnt=0\n",
    "for xr in np.unique(tab['xr']):\n",
    "    tabx=tab.query('xr==%f'%xr)\n",
    "    for zr in ZR:\n",
    "        tabz=tabx.query('z>%f and z<%f'%(zr[0],zr[1]))\n",
    "        cnt+=1\n",
    "        ax=py.subplot(nrows,ncols,cnt)\n",
    "        ax.errorbar(tabz['pT'],tabz['exp'],yerr=tabz['alpha'],fmt='k.')\n",
    "        ax.fill_between(tabz['pT'],tabz['thy']-tabz['dthy'],tabz['thy']+tabz['dthy'])\n",
    "        \n",
    "py.tight_layout()"
   ]
  },
  {
   "cell_type": "code",
   "execution_count": null,
   "metadata": {
    "collapsed": true
   },
   "outputs": [],
   "source": []
  },
  {
   "cell_type": "code",
   "execution_count": null,
   "metadata": {
    "collapsed": true
   },
   "outputs": [],
   "source": []
  }
 ],
 "metadata": {
  "anaconda-cloud": {},
  "kernelspec": {
   "display_name": "Python 2",
   "language": "python",
   "name": "python2"
  },
  "language_info": {
   "codemirror_mode": {
    "name": "ipython",
    "version": 2
   },
   "file_extension": ".py",
   "mimetype": "text/x-python",
   "name": "python",
   "nbconvert_exporter": "python",
   "pygments_lexer": "ipython2",
   "version": "2.7.13"
  }
 },
 "nbformat": 4,
 "nbformat_minor": 2
}
