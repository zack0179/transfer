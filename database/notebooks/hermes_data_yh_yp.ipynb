{
 "cells": [
  {
   "cell_type": "code",
   "execution_count": 1,
   "metadata": {
    "collapsed": true
   },
   "outputs": [],
   "source": [
    "import numpy as np\n",
    "import pandas as pd\n",
    "from qcdlib.rfilter import Rfilter\n"
   ]
  },
  {
   "cell_type": "markdown",
   "metadata": {},
   "source": [
    "We use Rfilter and calculate y_h, y_p, and W2 and add it to files"
   ]
  },
  {
   "cell_type": "code",
   "execution_count": 4,
   "metadata": {
    "collapsed": false
   },
   "outputs": [],
   "source": [
    "data_dir='../sidis/expdata/'\n",
    "files=('1000.xlsx', '1001.xlsx', '1002.xlsx', '1003.xlsx', '1004.xlsx', '1005.xlsx', '1006.xlsx', '1007.xlsx')\n",
    "# rFilter instance\n",
    "r0 = Rfilter(fudge=[0, 0])\n",
    "\n",
    "for file in files:\n",
    "    df=pd.read_excel(data_dir+file);    \n",
    "    # Add yp column\n",
    "    df[\"yp\"] = r0.get_yp(df[\"x\"], df[\"Q2\"])\n",
    "    # Add yh column\n",
    "    df[\"yh\"] = r0.get_yh(df[\"x\"], df[\"z\"], df[\"Q2\"], df[\"pT\"], df[\"hadron\"][0])\n",
    "    # Add W2 column\n",
    "    df[\"W2\"] = r0.get_W2(df[\"x\"], df[\"Q2\"])\n",
    "    #save file\n",
    "    df.to_excel(data_dir+file)"
   ]
  },
  {
   "cell_type": "code",
   "execution_count": null,
   "metadata": {
    "collapsed": true
   },
   "outputs": [],
   "source": []
  }
 ],
 "metadata": {
  "anaconda-cloud": {},
  "kernelspec": {
   "display_name": "Python [default]",
   "language": "python",
   "name": "python2"
  },
  "language_info": {
   "codemirror_mode": {
    "name": "ipython",
    "version": 2
   },
   "file_extension": ".py",
   "mimetype": "text/x-python",
   "name": "python",
   "nbconvert_exporter": "python",
   "pygments_lexer": "ipython2",
   "version": "2.7.12"
  }
 },
 "nbformat": 4,
 "nbformat_minor": 1
}
